{
 "cells": [
  {
   "cell_type": "code",
   "execution_count": 97,
   "metadata": {},
   "outputs": [
    {
     "name": "stderr",
     "output_type": "stream",
     "text": [
      "[nltk_data] Downloading package stopwords to\n",
      "[nltk_data]     /Users/salwaali/nltk_data...\n",
      "[nltk_data]   Package stopwords is already up-to-date!\n",
      "[nltk_data] Downloading package punkt to /Users/salwaali/nltk_data...\n",
      "[nltk_data]   Package punkt is already up-to-date!\n"
     ]
    }
   ],
   "source": [
    "import pandas as pd\n",
    "from bs4 import BeautifulSoup\n",
    "import csv\n",
    "from collections import defaultdict\n",
    "import numpy as np\n",
    "import math\n",
    "import io\n",
    "import os\n",
    "import plotly.graph_objects as go\n",
    "import string\n",
    "import nltk\n",
    "nltk.download('stopwords')\n",
    "nltk.download('punkt')\n",
    "from nltk.tokenize import RegexpTokenizer\n",
    "from nltk.corpus import stopwords\n",
    "from nltk.stem import PorterStemmer\n",
    "import re\n",
    "from nltk.stem import PorterStemmer\n",
    "from nltk.tokenize import sent_tokenize, word_tokenize\n",
    "from lxml import html\n",
    "import index_utils\n",
    "import heapq\n",
    "ps = PorterStemmer()\n",
    "import json"
   ]
  },
  {
   "cell_type": "markdown",
   "metadata": {},
   "source": [
    "# 1.3 Parse downloaded pages\n"
   ]
  },
  {
   "cell_type": "code",
   "execution_count": null,
   "metadata": {},
   "outputs": [],
   "source": [
    "# #### In the following lines of code we will extract all the valuable and needed information from the saved html files.  We need to extract the title, intro, plot of the movie as well as some ifobox information like director, producer, writter, stars starring in the film, music, release date, running time, country, language and budget.\n",
    "# #### In the following file you could find the parsing of the movies in movie2.html list. To parse the other files you can change the path directory.\n",
    "\n",
    "for i in range(10000):\n",
    "    #reading all the articles, the path changed according to the DS \n",
    "    movie = BeautifulSoup (open(r\"/Users/salwaali/Desktop/FINAL_ADM_HW3/movies/artical_%d.html\" %i, encoding=\"utf8\"), features=\"html\")\n",
    "    #movie = BeautifulSoup (open(r\"/Users/salwaali/Desktop/FINAL_ADM_HW3/movies_2/mov2/artical_%d.html\" %i, encoding=\"utf8\"), features=\"html\")\n",
    "    #movie = BeautifulSoup (open(r\"/Users/salwaali/Desktop/FINAL_ADM_HW3/movies_3/movies_3/article_%d.html\" %i, encoding=\"utf8\"), features=\"html\")\n",
    "\n",
    "\n",
    "    # =======================================================================================\n",
    "    # We have created a function so as to make the information more clear and remove the unicode codes that exist\n",
    "    def beau(word):\n",
    "        return(re.sub('[{1}[0-9]*]{1}', '',  word.strip('\\n').replace('\\xa0', ' ')).split('\\n'))\n",
    "    #=================================================================\n",
    "    #finding the title of the movie\n",
    "    for t in movie.select('title'):\n",
    "        title =(t.text).split(\" - \")[0]\n",
    "    title = \"\".join(beau(title))\n",
    "    # ================================================================\n",
    "    #finding the intro of the movie\n",
    "    intro = []\n",
    "    flagi = 0\n",
    "    # we go through the different layers of html and we search for the specific \n",
    "    # paragraph that corresponds to the intro\n",
    "    for div in movie.findAll(\"div\",{\"class\":\"mw-parser-output\"}):\n",
    "        for p in div.children:\n",
    "            if p.name == \"p\":\n",
    "                intro.append(p.text)\n",
    "            if p.name == \"h2\":\n",
    "                break\n",
    "    # since we didnt find an intro from the previous code, we will assign the value NaN to it \n",
    "    if intro == []:\n",
    "        intro = float(\"NaN\")\n",
    "        flagi = 1\n",
    "    # if the search for the intro was successful we will apply the function to erase any imperfection\n",
    "    if flagi == 0:\n",
    "        intro = \"\".join(beau(\"\".join(intro)))\n",
    "    # =================================================================\n",
    "    #finding the plot of the movie\n",
    "    par = []\n",
    "    itsin = 0\n",
    "    flagpp=0\n",
    "    # we go through the different layers of html and we search for the specific \n",
    "    # paragraph that corresponds to the plot(sometimes denoted as plot summary, Plot Summary, Story, Summary etc)\n",
    "    for section in movie.find_all('h2'):\n",
    "        for t in section.find_all(\"span\",{'id':'Plot'}):\n",
    "            itsin = 1\n",
    "            continue\n",
    "        for t in section.find_all(\"span\",{'id':'Plot_summary'}): \n",
    "            itsin = 1\n",
    "            continue\n",
    "        for t in section.find_all(\"span\",{'id':'Plot_Summary'}): \n",
    "            itsin = 1\n",
    "            continue\n",
    "        for t in section.find_all(\"span\",{'id':'Story'}): \n",
    "            itsin = 1\n",
    "            continue\n",
    "        for t in section.find_all(\"span\",{'id':'Summary'}): \n",
    "            itsin = 1\n",
    "            continue\n",
    "        for t in section.find_all(\"span\",{'id':'Premise'}): \n",
    "            itsin = 1\n",
    "            continue\n",
    "        for t in section.find_all(\"span\",{'id':'Synopsis'}): \n",
    "            itsin = 1\n",
    "            continue\n",
    "        for t in section.find_all(\"span\",{'id':'Storyline'}): \n",
    "            itsin = 1\n",
    "            continue\n",
    "        for t in section.find_all(\"span\",{'id':'Storylines'}): \n",
    "            itsin = 1\n",
    "            continue\n",
    "        # if we find the tag that has attribute \"Plot\" we follow that and it will lead us to the\n",
    "        # paragraphs containing the plot\n",
    "        if itsin == 1:\n",
    "            for p in section.find_next_siblings():\n",
    "                if p.name == 'h2':\n",
    "                    flagpp=1\n",
    "                    break\n",
    "                if p.name == \"p\":\n",
    "                    par.append(p.text)\n",
    "                if p.name == \"ol\":\n",
    "                    for l in p.find_all(\"li\"):\n",
    "                        par.append(l.text)\n",
    "            if flagpp == 1:\n",
    "                break\n",
    "    # if we dont find the plot in the previouw way , we try with the h3 way as follows\n",
    "    if flagpp == 0 and par == []:\n",
    "        for section in movie.find_all('h3'):\n",
    "            for t in section.find_all(\"span\",{'id':'Plot'}):\n",
    "                itsin = 1\n",
    "                continue\n",
    "            for p in section.find_next_siblings():\n",
    "                    if p.name == 'h2':\n",
    "                        flagpp=1\n",
    "                        break\n",
    "                    if p.name == \"p\":\n",
    "                        par.append(p.text)\n",
    "                    if p.name == \"ol\":\n",
    "                        for l in p.find_all(\"li\"):\n",
    "                            par.append(l.text)\n",
    "            if flagpp == 1:\n",
    "                break\n",
    "    # since we didnt find an plot from the previous code, we will assign the value NaN to it \n",
    "    if par == []:\n",
    "        par = float(\"NaN\")\n",
    "    else:\n",
    "        par = \"\".join(beau(\"\".join(par)))\n",
    "    #===================================================================\n",
    "    # I_N_F_O_B_O_X\n",
    "    d = defaultdict(list)\n",
    "    for div in movie.findAll(\"div\",{\"class\":\"mw-body\"}):\n",
    "        for div1 in div.findAll('div',{\"class\":\"mw-body-content\"}):\n",
    "            for div2 in div1.findAll('div',{\"class\":\"mw-content-ltr\"}):\n",
    "                for table in div2.findAll('table',{\"class\":\"infobox vevent\"}):\n",
    "                    for tr in table.findAll(\"tr\"):\n",
    "                        for th1 in tr.findAll(\"th\"):\n",
    "                            for td1 in tr.findAll(\"td\"):\n",
    "                                for j in range(len(td1.contents)):\n",
    "                                    attr = []\n",
    "    # we are creating a dictionary. the keys are the column that correctonds to \n",
    "    # Directed by, Produced by etc and the values are the corresponding answers like director, producer etc\n",
    "                                    try:\n",
    "                                        attr.append(td1.contents[j].text)\n",
    "                                        d[th1.text].append(attr)\n",
    "    # because sometimes the text nodes contain links we use try and except. we use the except part\n",
    "    # in case we cannot access the information with the try code\n",
    "                                    except AttributeError:\n",
    "                                        attr.append(td1.contents[j])\n",
    "                                        d[th1.text].append(attr)\n",
    "\n",
    "    # =============================================================================\n",
    "    # Get only the information that we need\n",
    "    final_info=[]\n",
    "    keys = [\"Directed by\", \"Produced by\", \"Written by\", \n",
    "       \"Starring\", \"Music by\", \"Release date\", \"Running time\", \n",
    "       \"Country\", \"Language\", \"Budget\"]\n",
    "    for ele in keys:\n",
    "        info = \"\"\n",
    "        if ele in d.keys():\n",
    "            if len(ele)>0:\n",
    "                for i_ in range(0,len(d[ele]),2):\n",
    "                    info = info  + \" \" + \"\".join(beau(d[ele][i_][0]))\n",
    "            else:\n",
    "                info = float(\"NaN\")\n",
    "        final_info.append(info.strip())\n",
    "    # ============================================================================\n",
    "    # Correct the unicode issues\n",
    "    final_info[3] = \" \".join(re.findall('[A-Z][^A-Z]*', final_info[3])) \n",
    "    # ===========================================================================\n",
    "    # In the written by place on the infobox there are the information about the original \n",
    "    # screenplay and screenplay.. We just summed up all the names\n",
    "    if \"Original screenplay\" or \"Screenplay\" in final_info[2]:\n",
    "        final_info[2] = final_info[2].replace(\"Original screenplay\" and \"Screenplay\", \"\")\n",
    "    # =====================================================================================\n",
    "    # All the empty elements are taking the value NaN\n",
    "    for k in range(len(final_info)):\n",
    "        if final_info[k] == \"\" or final_info[k] == ['N/A'] :\n",
    "            final_info[k] = float(\"NaN\")\n",
    "    # T_S_V\n",
    "    data=['Title', 'Intro', 'Plot', 'Directed by','Produced by','Written by','Starring','Music by',\n",
    "          'Release date','Running time','Country','Language','Budget']      \n",
    "    with open(r\"/Users/salwaali/Desktop/FINAL_ADM_HW3/Final_tsv/T_S_V_M_%d.tsv\" %i, 'wt', encoding = 'utf8') as f:\n",
    "        tsv_file = csv.writer(f, delimiter='\\t')\n",
    "        tsv_file.writerow(data)\n",
    "        tsv_file.writerow([title, intro, par, final_info[0], final_info[1], final_info[2], final_info[3], final_info[4],final_info[5], final_info[6], final_info[7], final_info[8], final_info[9]])"
   ]
  },
  {
   "cell_type": "markdown",
   "metadata": {},
   "source": [
    "# Combining the tsv files to one DF"
   ]
  },
  {
   "cell_type": "code",
   "execution_count": 56,
   "metadata": {},
   "outputs": [],
   "source": [
    "movies1 = BeautifulSoup (open(r\"/Users/salwaali/Desktop/FINAL_ADM_HW3/DS/movies1.html\"), features=\"html\")\n",
    "movies_links1 = []\n",
    "for url in movies1.find_all(\"a\"):\n",
    "    movies_links1.append(url.get(\"href\"))\n",
    "#====================\n",
    "movieDatabase1 = pd.read_csv(r\"/Users/salwaali/Desktop/FINAL_ADM_HW3/Final_tsv/T_S_V_M_0.tsv\", sep='\\t', header=0)\n",
    "movieDatabase1 = pd.read_csv(r\"/Users/salwaali/Desktop/FINAL_ADM_HW3/Final_tsv/T_S_V_M_0.tsv\", sep='\\t', header=0)\n",
    "for i in range(1,10000):\n",
    "    movieDatabase1 = movieDatabase1.append(pd.read_csv(r\"/Users/salwaali/Desktop/FINAL_ADM_HW3/Final_tsv/T_S_V_M_%d.tsv\"  %i, sep='\\t'), ignore_index=True)\n",
    "movieDatabase1[\"URL\"] = movies_links1\n",
    "#=================\n",
    "movies2 = BeautifulSoup (open(r\"/Users/salwaali/Desktop/FINAL_ADM_HW3/DS/movies2.html\"), features=\"html\")\n",
    "movies_links2 = []\n",
    "for url in movies2.find_all(\"a\"):\n",
    "    movies_links2.append(url.get(\"href\"))\n",
    "#========================\n",
    "for i in range(1,10000):\n",
    "    movieDatabase2 = movieDatabase2.append(pd.read_csv(r\"/Users/salwaali/Desktop/FINAL_ADM_HW3/Final_tsv_2/T_S_V_M_%d.tsv\"  %i, sep='\\t'), ignore_index=True)\n",
    "\n",
    "movieDatabase2[\"URL\"] = movies_links2\n",
    "movieDatabase2.head(3)\n",
    "#=====================\n",
    "movies3 = BeautifulSoup (open(r\"/Users/salwaali/Desktop/FINAL_ADM_HW3/DS/movies3.html\"), features=\"html\")\n",
    "movies_links3 = []\n",
    "for url in movies3.find_all(\"a\"):\n",
    "    movies_links3.append(url.get(\"href\"))\n",
    "movies_links3[0:3]\n",
    "#=======================\n",
    "movieDatabase3 = pd.read_csv(r\"/Users/salwaali/Desktop/FINAL_ADM_HW3/Final_tsv_3/T_S_V_M_0.tsv\", sep='\\t', header=0)\n",
    "for i in range(1,10000):\n",
    "    movieDatabase3 = movieDatabase3.append(pd.read_csv(r\"/Users/salwaali/Desktop/FINAL_ADM_HW3/Final_tsv_3/T_S_V_M_%d.tsv\"  %i, sep='\\t'), ignore_index=True)\n",
    "\n",
    "movieDatabase3[\"URL\"] = movies_links3\n",
    "movieDatabase3.head(3)"
   ]
  },
  {
   "cell_type": "code",
   "execution_count": 25,
   "metadata": {},
   "outputs": [],
   "source": [
    "movieDatabase=pd.concat([movieDatabase1,movieDatabase2,movieDatabase3], ignore_index=True)"
   ]
  },
  {
   "cell_type": "code",
   "execution_count": 26,
   "metadata": {},
   "outputs": [
    {
     "data": {
      "text/html": [
       "<div>\n",
       "<style scoped>\n",
       "    .dataframe tbody tr th:only-of-type {\n",
       "        vertical-align: middle;\n",
       "    }\n",
       "\n",
       "    .dataframe tbody tr th {\n",
       "        vertical-align: top;\n",
       "    }\n",
       "\n",
       "    .dataframe thead th {\n",
       "        text-align: right;\n",
       "    }\n",
       "</style>\n",
       "<table border=\"1\" class=\"dataframe\">\n",
       "  <thead>\n",
       "    <tr style=\"text-align: right;\">\n",
       "      <th></th>\n",
       "      <th>Title</th>\n",
       "      <th>Intro</th>\n",
       "      <th>Plot</th>\n",
       "      <th>Directed by</th>\n",
       "      <th>Produced by</th>\n",
       "      <th>Written by</th>\n",
       "      <th>Starring</th>\n",
       "      <th>Music by</th>\n",
       "      <th>Release date</th>\n",
       "      <th>Running time</th>\n",
       "      <th>Country</th>\n",
       "      <th>Language</th>\n",
       "      <th>Budget</th>\n",
       "      <th>URL</th>\n",
       "    </tr>\n",
       "  </thead>\n",
       "  <tbody>\n",
       "    <tr>\n",
       "      <th>0</th>\n",
       "      <td>Love by the Light of the Moon</td>\n",
       "      <td>Love by the Light of the Moon is a 1901 film b...</td>\n",
       "      <td>The moon, painted with a smiling face hangs ov...</td>\n",
       "      <td>Edwin S. Porter</td>\n",
       "      <td>NaN</td>\n",
       "      <td>NaN</td>\n",
       "      <td>NaN</td>\n",
       "      <td>NaN</td>\n",
       "      <td>1901 (1901)</td>\n",
       "      <td>NaN</td>\n",
       "      <td>United States</td>\n",
       "      <td>Silent</td>\n",
       "      <td>NaN</td>\n",
       "      <td>https://en.wikipedia.org/wiki/Love_by_the_Ligh...</td>\n",
       "    </tr>\n",
       "    <tr>\n",
       "      <th>1</th>\n",
       "      <td>The Martyred Presidents</td>\n",
       "      <td>The Martyred Presidents is a 1901 American fil...</td>\n",
       "      <td>The film, just over a minute long, is composed...</td>\n",
       "      <td>Edwin S. Porter</td>\n",
       "      <td>NaN</td>\n",
       "      <td>NaN</td>\n",
       "      <td>See below</td>\n",
       "      <td>NaN</td>\n",
       "      <td>1901</td>\n",
       "      <td>1 minutes</td>\n",
       "      <td>United States</td>\n",
       "      <td>English</td>\n",
       "      <td>NaN</td>\n",
       "      <td>https://en.wikipedia.org/wiki/The_Martyred_Pre...</td>\n",
       "    </tr>\n",
       "    <tr>\n",
       "      <th>2</th>\n",
       "      <td>Terrible Teddy, the Grizzly King</td>\n",
       "      <td>Terrible Teddy, the Grizzly King is a 1901 Ame...</td>\n",
       "      <td>Lasting just 61 seconds and consisting of two ...</td>\n",
       "      <td>NaN</td>\n",
       "      <td>NaN</td>\n",
       "      <td>NaN</td>\n",
       "      <td>NaN</td>\n",
       "      <td>NaN</td>\n",
       "      <td>NaN</td>\n",
       "      <td>NaN</td>\n",
       "      <td>NaN</td>\n",
       "      <td>NaN</td>\n",
       "      <td>NaN</td>\n",
       "      <td>https://en.wikipedia.org/wiki/Terrible_Teddy,_...</td>\n",
       "    </tr>\n",
       "    <tr>\n",
       "      <th>3</th>\n",
       "      <td>Jack and the Beanstalk (1902 film)</td>\n",
       "      <td>Jack and the Beanstalk is a 1902 American shor...</td>\n",
       "      <td>In this earliest known adaptation of the class...</td>\n",
       "      <td>George S. Fleming Edwin S. Porter</td>\n",
       "      <td>Edison Studios</td>\n",
       "      <td>NaN</td>\n",
       "      <td>See below</td>\n",
       "      <td>NaN</td>\n",
       "      <td>1902</td>\n",
       "      <td>10 minutes</td>\n",
       "      <td>United States</td>\n",
       "      <td>English</td>\n",
       "      <td>NaN</td>\n",
       "      <td>https://en.wikipedia.org/wiki/Jack_and_the_Bea...</td>\n",
       "    </tr>\n",
       "    <tr>\n",
       "      <th>4</th>\n",
       "      <td>Alice in Wonderland (1903 film)</td>\n",
       "      <td>Alice in Wonderland is a 1903 British silent f...</td>\n",
       "      <td>Alice follows a large white rabbit down a \"Rab...</td>\n",
       "      <td>Cecil Hepworth Percy Stow</td>\n",
       "      <td>Cecil M. Hepworth Herman Casler (exec. produce...</td>\n",
       "      <td>Lewis Carroll</td>\n",
       "      <td>May  Clark  Cecil  M.  Hepworth  Mrs.  Cecil  ...</td>\n",
       "      <td>NaN</td>\n",
       "      <td>17 October 1903 (1903-10-17)</td>\n",
       "      <td>approx. 8:19 minutes</td>\n",
       "      <td>United Kingdom</td>\n",
       "      <td>Silent</td>\n",
       "      <td>NaN</td>\n",
       "      <td>https://en.wikipedia.org/wiki/Alice_in_Wonderl...</td>\n",
       "    </tr>\n",
       "    <tr>\n",
       "      <th>5</th>\n",
       "      <td>The Great Train Robbery (1903 film)</td>\n",
       "      <td>The Great Train Robbery is a 1903 American sil...</td>\n",
       "      <td>The film opens with two bandits breaking into ...</td>\n",
       "      <td>Edwin S. Porter</td>\n",
       "      <td>Edwin S. Porter</td>\n",
       "      <td>NaN</td>\n",
       "      <td>Alfred  C.  Abadie  Broncho  Billy  Anderson  ...</td>\n",
       "      <td>NaN</td>\n",
       "      <td>December 1, 1903 (1903-12-01)</td>\n",
       "      <td>12 minutes (at 18 frame/s)</td>\n",
       "      <td>United States</td>\n",
       "      <td>Silent English</td>\n",
       "      <td>$</td>\n",
       "      <td>https://en.wikipedia.org/wiki/The_Great_Train_...</td>\n",
       "    </tr>\n",
       "    <tr>\n",
       "      <th>6</th>\n",
       "      <td>The Suburbanite</td>\n",
       "      <td>The Suburbanite is a 1904 American short comed...</td>\n",
       "      <td>The film is about a family who move to the sub...</td>\n",
       "      <td>Wallace McCutcheon</td>\n",
       "      <td>NaN</td>\n",
       "      <td>Frank Marion</td>\n",
       "      <td>John  Troiano</td>\n",
       "      <td>NaN</td>\n",
       "      <td>November 1904</td>\n",
       "      <td>NaN</td>\n",
       "      <td>United States</td>\n",
       "      <td>Silent</td>\n",
       "      <td>NaN</td>\n",
       "      <td>https://en.wikipedia.org/wiki/The_Suburbanite</td>\n",
       "    </tr>\n",
       "    <tr>\n",
       "      <th>7</th>\n",
       "      <td>The Little Train Robbery</td>\n",
       "      <td>The Little Train Robbery is a parodic sequel t...</td>\n",
       "      <td>The opening scene shows the interior of the ro...</td>\n",
       "      <td>NaN</td>\n",
       "      <td>NaN</td>\n",
       "      <td>NaN</td>\n",
       "      <td>NaN</td>\n",
       "      <td>NaN</td>\n",
       "      <td>NaN</td>\n",
       "      <td>NaN</td>\n",
       "      <td>NaN</td>\n",
       "      <td>NaN</td>\n",
       "      <td>NaN</td>\n",
       "      <td>https://en.wikipedia.org/wiki/The_Little_Train...</td>\n",
       "    </tr>\n",
       "    <tr>\n",
       "      <th>8</th>\n",
       "      <td>The Night Before Christmas (1905 film)</td>\n",
       "      <td>The Night Before Christmas is a 1905 American ...</td>\n",
       "      <td>Scenes are introduced using lines of the poem....</td>\n",
       "      <td>Edwin S. Porter</td>\n",
       "      <td>NaN</td>\n",
       "      <td>Clement Clarke Moore</td>\n",
       "      <td>NaN</td>\n",
       "      <td>NaN</td>\n",
       "      <td>December 16, 1905 (1905-12-16)</td>\n",
       "      <td>9:00</td>\n",
       "      <td>United States</td>\n",
       "      <td>English</td>\n",
       "      <td>NaN</td>\n",
       "      <td>https://en.wikipedia.org/wiki/The_Night_Before...</td>\n",
       "    </tr>\n",
       "    <tr>\n",
       "      <th>9</th>\n",
       "      <td>Dream of a Rarebit Fiend (1906 film)</td>\n",
       "      <td>Dream of a Rarebit Fiend is a 1906 American si...</td>\n",
       "      <td>The Rarebit Fiend gorges on Welsh rarebit at a...</td>\n",
       "      <td>Wallace McCutcheon Edwin S. Porter</td>\n",
       "      <td>NaN</td>\n",
       "      <td>Winsor McCay</td>\n",
       "      <td>Jack  Brawn</td>\n",
       "      <td>NaN</td>\n",
       "      <td>1906 (1906)</td>\n",
       "      <td>6 minutes</td>\n",
       "      <td>United States</td>\n",
       "      <td>Silent</td>\n",
       "      <td>NaN</td>\n",
       "      <td>https://en.wikipedia.org/wiki/Dream_of_a_Rareb...</td>\n",
       "    </tr>\n",
       "    <tr>\n",
       "      <th>10</th>\n",
       "      <td>From Leadville to Aspen: A Hold-Up in the Rockies</td>\n",
       "      <td>From Leadville to Aspen: A Hold-Up in the Rock...</td>\n",
       "      <td>The film features a train traveling through th...</td>\n",
       "      <td>NaN</td>\n",
       "      <td>NaN</td>\n",
       "      <td>NaN</td>\n",
       "      <td>NaN</td>\n",
       "      <td>NaN</td>\n",
       "      <td>NaN</td>\n",
       "      <td>NaN</td>\n",
       "      <td>NaN</td>\n",
       "      <td>NaN</td>\n",
       "      <td>NaN</td>\n",
       "      <td>https://en.wikipedia.org/wiki/From_Leadville_t...</td>\n",
       "    </tr>\n",
       "    <tr>\n",
       "      <th>11</th>\n",
       "      <td>Kathleen Mavourneen (1906 film)</td>\n",
       "      <td>Kathleen Mavourneen is a 1906 silent short fil...</td>\n",
       "      <td>Irish villager Kathleen is a tenant of Captain...</td>\n",
       "      <td>NaN</td>\n",
       "      <td>NaN</td>\n",
       "      <td>NaN</td>\n",
       "      <td>NaN</td>\n",
       "      <td>NaN</td>\n",
       "      <td>NaN</td>\n",
       "      <td>NaN</td>\n",
       "      <td>NaN</td>\n",
       "      <td>NaN</td>\n",
       "      <td>NaN</td>\n",
       "      <td>https://en.wikipedia.org/wiki/Kathleen_Mavourn...</td>\n",
       "    </tr>\n",
       "    <tr>\n",
       "      <th>12</th>\n",
       "      <td>Daniel Boone (1907 film)</td>\n",
       "      <td>Daniel Boone; or, Pioneer Days in America is a...</td>\n",
       "      <td>Boone's daughter befriends an Indian maiden as...</td>\n",
       "      <td>NaN</td>\n",
       "      <td>NaN</td>\n",
       "      <td>NaN</td>\n",
       "      <td>NaN</td>\n",
       "      <td>NaN</td>\n",
       "      <td>NaN</td>\n",
       "      <td>NaN</td>\n",
       "      <td>NaN</td>\n",
       "      <td>NaN</td>\n",
       "      <td>NaN</td>\n",
       "      <td>https://en.wikipedia.org/wiki/Daniel_Boone_(19...</td>\n",
       "    </tr>\n",
       "    <tr>\n",
       "      <th>13</th>\n",
       "      <td>How Brown Saw the Baseball Game</td>\n",
       "      <td>How Brown Saw the Baseball Game, also known as...</td>\n",
       "      <td>Before heading out to a baseball game at a nea...</td>\n",
       "      <td>NaN</td>\n",
       "      <td>NaN</td>\n",
       "      <td>NaN</td>\n",
       "      <td>NaN</td>\n",
       "      <td>NaN</td>\n",
       "      <td>November 16, 1907 (1907-11-16) (United States)</td>\n",
       "      <td>NaN</td>\n",
       "      <td>United States</td>\n",
       "      <td>Silent</td>\n",
       "      <td>NaN</td>\n",
       "      <td>https://en.wikipedia.org/wiki/How_Brown_Saw_th...</td>\n",
       "    </tr>\n",
       "    <tr>\n",
       "      <th>14</th>\n",
       "      <td>Laughing Gas (film)</td>\n",
       "      <td>Laughing Gas is the title of several American ...</td>\n",
       "      <td>The plot is that of a black woman going to the...</td>\n",
       "      <td>Edwin S. Porter</td>\n",
       "      <td>Abe Stern Julius Stern</td>\n",
       "      <td>Tom Buckingham</td>\n",
       "      <td>Bertha  Regustus  Edward  Boulden   Charles  D...</td>\n",
       "      <td>NaN</td>\n",
       "      <td>1907 (1907) December 8, 1920 (1920-12-08)</td>\n",
       "      <td>9 minutes</td>\n",
       "      <td>United States United States</td>\n",
       "      <td>Silent film   English intertitles English</td>\n",
       "      <td>NaN</td>\n",
       "      <td>https://en.wikipedia.org/wiki/Laughing_Gas_(fi...</td>\n",
       "    </tr>\n",
       "    <tr>\n",
       "      <th>15</th>\n",
       "      <td>The Adventures of Dollie</td>\n",
       "      <td>The Adventures of Dollie is a 1908 American si...</td>\n",
       "      <td>On a beautiful summer day a father and mother ...</td>\n",
       "      <td>D. W. Griffith G. W. Bitzer</td>\n",
       "      <td>NaN</td>\n",
       "      <td>Stanner E.V. Taylor</td>\n",
       "      <td>Arthur  V.  Johnson</td>\n",
       "      <td>NaN</td>\n",
       "      <td>July 14, 1908 (1908-07-14)</td>\n",
       "      <td>12 minutes</td>\n",
       "      <td>United States</td>\n",
       "      <td>Silent</td>\n",
       "      <td>NaN</td>\n",
       "      <td>https://en.wikipedia.org/wiki/The_Adventures_o...</td>\n",
       "    </tr>\n",
       "    <tr>\n",
       "      <th>16</th>\n",
       "      <td>The Black Viper</td>\n",
       "      <td>The Black Viper (aka La vipère noire in France...</td>\n",
       "      <td>A thug accosts a girl as she leaves her workpl...</td>\n",
       "      <td>D. W. Griffith Wallace McCutcheon</td>\n",
       "      <td>NaN</td>\n",
       "      <td>NaN</td>\n",
       "      <td>D.  W.  Griffith  Mack  Sennett  Anthony  O' S...</td>\n",
       "      <td>NaN</td>\n",
       "      <td>July 25, 1908 (1908-07-25)</td>\n",
       "      <td>approximately 6 minutes</td>\n",
       "      <td>United States</td>\n",
       "      <td>Silent English intertitles</td>\n",
       "      <td>NaN</td>\n",
       "      <td>https://en.wikipedia.org/wiki/The_Black_Viper</td>\n",
       "    </tr>\n",
       "    <tr>\n",
       "      <th>17</th>\n",
       "      <td>A Calamitous Elopement</td>\n",
       "      <td>A Calamitous Elopement is a 1908 American sile...</td>\n",
       "      <td>A young couple decides to elope after being ca...</td>\n",
       "      <td>D. W. Griffith</td>\n",
       "      <td>NaN</td>\n",
       "      <td>D. W. Griffith</td>\n",
       "      <td>Harry  Solter</td>\n",
       "      <td>NaN</td>\n",
       "      <td>August 7, 1908 (1908-08-07)</td>\n",
       "      <td>12 minutes (one  )</td>\n",
       "      <td>United States</td>\n",
       "      <td>Silent</td>\n",
       "      <td>NaN</td>\n",
       "      <td>https://en.wikipedia.org/wiki/A_Calamitous_Elo...</td>\n",
       "    </tr>\n",
       "    <tr>\n",
       "      <th>18</th>\n",
       "      <td>The Call of the Wild (1908 film)</td>\n",
       "      <td>The Call of the Wild is a 1908 American short ...</td>\n",
       "      <td>A white girl (Florence Lawrence) rejects a pro...</td>\n",
       "      <td>D. W. Griffith</td>\n",
       "      <td>NaN</td>\n",
       "      <td>D. W. Griffith</td>\n",
       "      <td>Charles  Inslee</td>\n",
       "      <td>NaN</td>\n",
       "      <td>October 27, 1908 (1908-10-27)</td>\n",
       "      <td>16 minutes (two  )</td>\n",
       "      <td>United States</td>\n",
       "      <td>Silent</td>\n",
       "      <td>NaN</td>\n",
       "      <td>https://en.wikipedia.org/wiki/The_Call_of_the_...</td>\n",
       "    </tr>\n",
       "    <tr>\n",
       "      <th>19</th>\n",
       "      <td>A Christmas Carol (1908 film)</td>\n",
       "      <td>A Christmas Carol is a 1908 silent film produc...</td>\n",
       "      <td>No prints of the first American film adaptatio...</td>\n",
       "      <td>NaN</td>\n",
       "      <td>NaN</td>\n",
       "      <td>Charles Dickens</td>\n",
       "      <td>Thomas  Ricketts</td>\n",
       "      <td>NaN</td>\n",
       "      <td>December 9, 1908 (1908-12-09)</td>\n",
       "      <td>15 minutes</td>\n",
       "      <td>United States</td>\n",
       "      <td>Silent film English intertitles</td>\n",
       "      <td>NaN</td>\n",
       "      <td>https://en.wikipedia.org/wiki/A_Christmas_Caro...</td>\n",
       "    </tr>\n",
       "    <tr>\n",
       "      <th>20</th>\n",
       "      <td>The Fight for Freedom</td>\n",
       "      <td>The Fight for Freedom is a 1908 Western film p...</td>\n",
       "      <td>The film opens in a town on the Mexican border...</td>\n",
       "      <td>D. W. Griffith</td>\n",
       "      <td>NaN</td>\n",
       "      <td>NaN</td>\n",
       "      <td>Florence  Auer</td>\n",
       "      <td>NaN</td>\n",
       "      <td>July 17, 1908 (1908-07-17)</td>\n",
       "      <td>NaN</td>\n",
       "      <td>United States</td>\n",
       "      <td>Silent English intertitles</td>\n",
       "      <td>NaN</td>\n",
       "      <td>https://en.wikipedia.org/wiki/The_Fight_for_Fr...</td>\n",
       "    </tr>\n",
       "    <tr>\n",
       "      <th>21</th>\n",
       "      <td>At the Altar</td>\n",
       "      <td>At the Altar is a 1909 American silent drama f...</td>\n",
       "      <td>A rejected admirer sets up a trap to kill his ...</td>\n",
       "      <td>D. W. Griffith</td>\n",
       "      <td>NaN</td>\n",
       "      <td>D. W. Griffith</td>\n",
       "      <td>Marion  Leonard</td>\n",
       "      <td>NaN</td>\n",
       "      <td>February 25, 1909 (1909-02-25)</td>\n",
       "      <td>11 minutes</td>\n",
       "      <td>United States</td>\n",
       "      <td>Silent</td>\n",
       "      <td>NaN</td>\n",
       "      <td>https://en.wikipedia.org/wiki/At_the_Altar</td>\n",
       "    </tr>\n",
       "    <tr>\n",
       "      <th>22</th>\n",
       "      <td>A Drunkard's Reformation</td>\n",
       "      <td>A Drunkard's Reformation is a 1909 American dr...</td>\n",
       "      <td>John Wharton, the husband of a true and trusti...</td>\n",
       "      <td>D. W. Griffith</td>\n",
       "      <td>NaN</td>\n",
       "      <td>D. W. Griffith</td>\n",
       "      <td>Arthur  V.  Johnson</td>\n",
       "      <td>NaN</td>\n",
       "      <td>April 1, 1909 (1909-04-01)</td>\n",
       "      <td>13 minutes</td>\n",
       "      <td>United States</td>\n",
       "      <td>Silent</td>\n",
       "      <td>NaN</td>\n",
       "      <td>https://en.wikipedia.org/wiki/A_Drunkard%27s_R...</td>\n",
       "    </tr>\n",
       "    <tr>\n",
       "      <th>23</th>\n",
       "      <td>The Golden Louis</td>\n",
       "      <td>The Golden Louis is a 1909 American short dram...</td>\n",
       "      <td>An old woman sends a girl begging in the stree...</td>\n",
       "      <td>D.W. Griffith</td>\n",
       "      <td>NaN</td>\n",
       "      <td>D.W. Griffith</td>\n",
       "      <td>NaN</td>\n",
       "      <td>NaN</td>\n",
       "      <td>February 22, 1909 (1909-02-22)</td>\n",
       "      <td>NaN</td>\n",
       "      <td>United States</td>\n",
       "      <td>English</td>\n",
       "      <td>NaN</td>\n",
       "      <td>https://en.wikipedia.org/wiki/The_Golden_Louis</td>\n",
       "    </tr>\n",
       "    <tr>\n",
       "      <th>24</th>\n",
       "      <td>The Lure of the Gown</td>\n",
       "      <td>The Lure of the Gown is a 1909 American silent...</td>\n",
       "      <td>The story as told by Moving Picture World reads:</td>\n",
       "      <td>D. W. Griffith</td>\n",
       "      <td>NaN</td>\n",
       "      <td>D. W. Griffith</td>\n",
       "      <td>Marion  Leonard</td>\n",
       "      <td>NaN</td>\n",
       "      <td>March 15, 1909 (1909-03-15)</td>\n",
       "      <td>6 minutes (one  )</td>\n",
       "      <td>United States</td>\n",
       "      <td>Silent</td>\n",
       "      <td>NaN</td>\n",
       "      <td>https://en.wikipedia.org/wiki/The_Lure_of_the_...</td>\n",
       "    </tr>\n",
       "    <tr>\n",
       "      <th>25</th>\n",
       "      <td>An Arcadian Maid</td>\n",
       "      <td>An Arcadian Maid is a 1910 American silent fil...</td>\n",
       "      <td>Mary Pickford plays Priscilla an unemployed ma...</td>\n",
       "      <td>D. W. Griffith</td>\n",
       "      <td>Biograph Company</td>\n",
       "      <td>Stanner E.V. Taylor</td>\n",
       "      <td>Mary  Pickford</td>\n",
       "      <td>NaN</td>\n",
       "      <td>August 1, 1910 (1910-08-01)</td>\n",
       "      <td>16 minutes (16 frame/s)</td>\n",
       "      <td>United States</td>\n",
       "      <td>Silent..English titles</td>\n",
       "      <td>NaN</td>\n",
       "      <td>https://en.wikipedia.org/wiki/An_Arcadian_Maid</td>\n",
       "    </tr>\n",
       "    <tr>\n",
       "      <th>26</th>\n",
       "      <td>A Christmas Carol (1910 film)</td>\n",
       "      <td>A Christmas Carol, is a 1910 silent short film...</td>\n",
       "      <td>The day before Christmas, Ebenezer Scrooge ref...</td>\n",
       "      <td>J. Searle Dawley</td>\n",
       "      <td>NaN</td>\n",
       "      <td>NaN</td>\n",
       "      <td>Marc  Mc Dermott   Charles  S.  Ogle</td>\n",
       "      <td>NaN</td>\n",
       "      <td>December 23, 1910 (1910-12-23)</td>\n",
       "      <td>13 minutes</td>\n",
       "      <td>United States</td>\n",
       "      <td>Silent film English intertitles</td>\n",
       "      <td>NaN</td>\n",
       "      <td>https://en.wikipedia.org/wiki/A_Christmas_Caro...</td>\n",
       "    </tr>\n",
       "    <tr>\n",
       "      <th>27</th>\n",
       "      <td>Frankenstein (1910 film)</td>\n",
       "      <td>Frankenstein is a 1910 film made by Edison Stu...</td>\n",
       "      <td>Described as \"a liberal adaptation of Mrs. She...</td>\n",
       "      <td>J. Searle Dawley</td>\n",
       "      <td>Thomas Edison</td>\n",
       "      <td>J. Searle Dawley</td>\n",
       "      <td>Augustus  Phillips  Charles  Ogle  Mary  Fuller</td>\n",
       "      <td>NaN</td>\n",
       "      <td>March 18, 1910 (1910-03-18)</td>\n",
       "      <td>14 minutes (975 feet)</td>\n",
       "      <td>United States</td>\n",
       "      <td>Silent with English</td>\n",
       "      <td>NaN</td>\n",
       "      <td>https://en.wikipedia.org/wiki/Frankenstein_(19...</td>\n",
       "    </tr>\n",
       "    <tr>\n",
       "      <th>28</th>\n",
       "      <td>Hemlock Hoax, the Detective</td>\n",
       "      <td>Hemlock Hoax, the Detective is an American sho...</td>\n",
       "      <td>Hemlock Hoax is a detective who has little res...</td>\n",
       "      <td>NaN</td>\n",
       "      <td>NaN</td>\n",
       "      <td>NaN</td>\n",
       "      <td>NaN</td>\n",
       "      <td>NaN</td>\n",
       "      <td>April 11, 1910 (1910-04-11) (United States)</td>\n",
       "      <td>NaN</td>\n",
       "      <td>United States</td>\n",
       "      <td>Silent</td>\n",
       "      <td>NaN</td>\n",
       "      <td>https://en.wikipedia.org/wiki/Hemlock_Hoax,_th...</td>\n",
       "    </tr>\n",
       "    <tr>\n",
       "      <th>29</th>\n",
       "      <td>The House with Closed Shutters</td>\n",
       "      <td>The House with Closed Shutters is a 1910 Ameri...</td>\n",
       "      <td>During the American Civil War a young soldier ...</td>\n",
       "      <td>D. W. Griffith</td>\n",
       "      <td>NaN</td>\n",
       "      <td>Emmett C. Hall</td>\n",
       "      <td>Henry  B.  Walthall</td>\n",
       "      <td>NaN</td>\n",
       "      <td>August 8, 1910 (1910-08-08)</td>\n",
       "      <td>16 minutes</td>\n",
       "      <td>United States</td>\n",
       "      <td>Silent</td>\n",
       "      <td>NaN</td>\n",
       "      <td>https://en.wikipedia.org/wiki/The_House_with_C...</td>\n",
       "    </tr>\n",
       "    <tr>\n",
       "      <th>...</th>\n",
       "      <td>...</td>\n",
       "      <td>...</td>\n",
       "      <td>...</td>\n",
       "      <td>...</td>\n",
       "      <td>...</td>\n",
       "      <td>...</td>\n",
       "      <td>...</td>\n",
       "      <td>...</td>\n",
       "      <td>...</td>\n",
       "      <td>...</td>\n",
       "      <td>...</td>\n",
       "      <td>...</td>\n",
       "      <td>...</td>\n",
       "      <td>...</td>\n",
       "    </tr>\n",
       "    <tr>\n",
       "      <th>29970</th>\n",
       "      <td>Virumbugiren</td>\n",
       "      <td>Virumbugiren is a 2002 Indian Tamil-language r...</td>\n",
       "      <td>Sivan (Prashanth) is an aspiring designer. His...</td>\n",
       "      <td>Susi Ganeshan</td>\n",
       "      <td>Mary Francis</td>\n",
       "      <td>Susi Ganeshan</td>\n",
       "      <td>Prashanth  Sneha  Nassar  Livingston  Easwari ...</td>\n",
       "      <td>Deva</td>\n",
       "      <td>21 December 2002</td>\n",
       "      <td>157 minutes</td>\n",
       "      <td>India</td>\n",
       "      <td>Tamil</td>\n",
       "      <td>NaN</td>\n",
       "      <td>https://en.wikipedia.org/wiki/Virumbugiren</td>\n",
       "    </tr>\n",
       "    <tr>\n",
       "      <th>29971</th>\n",
       "      <td>Nanba Nanba</td>\n",
       "      <td>Nanba Nanba (transl. Friend, my dear friend) i...</td>\n",
       "      <td>Lawrence (Chandrasekhar) and Joseph (Charle) a...</td>\n",
       "      <td>Jayabharathi</td>\n",
       "      <td>Raja Vaidyanathan</td>\n",
       "      <td>Ravindhran Ramamoorthy Jayabharathi</td>\n",
       "      <td>Charle  Chandrasekhar</td>\n",
       "      <td>Chittey Prakash</td>\n",
       "      <td>27 December 2002 (2002-12-27)</td>\n",
       "      <td>110 minutes</td>\n",
       "      <td>India</td>\n",
       "      <td>Tamil</td>\n",
       "      <td>NaN</td>\n",
       "      <td>https://en.wikipedia.org/wiki/Nanba_Nanba</td>\n",
       "    </tr>\n",
       "    <tr>\n",
       "      <th>29972</th>\n",
       "      <td>Dhool</td>\n",
       "      <td>Dhool (transl. Awesome) is a 2003 Indian Tamil...</td>\n",
       "      <td>Arumugam (Vikram) lives in a village and is a ...</td>\n",
       "      <td>Dharani</td>\n",
       "      <td>A. M. Rathnam</td>\n",
       "      <td>Bharathan (Dialogue)</td>\n",
       "      <td>Vikram  Jyothika  Reemma  Sen  Vivek  Sayaji  ...</td>\n",
       "      <td>Vidyasagar</td>\n",
       "      <td>11 January 2003 (2003-01-11)</td>\n",
       "      <td>172 minutes</td>\n",
       "      <td>India</td>\n",
       "      <td>Tamil</td>\n",
       "      <td>₹</td>\n",
       "      <td>https://en.wikipedia.org/wiki/Dhool</td>\n",
       "    </tr>\n",
       "    <tr>\n",
       "      <th>29973</th>\n",
       "      <td>Anbe Sivam</td>\n",
       "      <td>Anbe Sivam (transl. Love is God) is a 2003 Ind...</td>\n",
       "      <td>Two men waiting for a flight to Chennai at the...</td>\n",
       "      <td>Sundar C.</td>\n",
       "      <td>K. MuralitharanV. SwaminathanG. VenugopalSunda...</td>\n",
       "      <td>Kamal Haasan</td>\n",
       "      <td>Kamal  Haasan Madhavan Kiran  Rathod</td>\n",
       "      <td>Vidyasagar</td>\n",
       "      <td>15 January 2003 (2003-01-15)</td>\n",
       "      <td>160 minutes</td>\n",
       "      <td>India</td>\n",
       "      <td>Tamil</td>\n",
       "      <td>₹</td>\n",
       "      <td>https://en.wikipedia.org/wiki/Anbe_Sivam</td>\n",
       "    </tr>\n",
       "    <tr>\n",
       "      <th>29974</th>\n",
       "      <td>Ramachandra (film)</td>\n",
       "      <td>Ramachandra is a 2003 Indian Tamil film, direc...</td>\n",
       "      <td>Ramachandran (Sathyaraj) is a police inspector...</td>\n",
       "      <td>Raj Kapoor</td>\n",
       "      <td>S. Ramesh Babu</td>\n",
       "      <td>Raj Kapoor</td>\n",
       "      <td>Sathyaraj Pandiarajan Vijayalakshmi Ashish  Vi...</td>\n",
       "      <td>Deva</td>\n",
       "      <td>15 January 2003 (2003-01-15)</td>\n",
       "      <td>146 min</td>\n",
       "      <td>India</td>\n",
       "      <td>Tamil</td>\n",
       "      <td>NaN</td>\n",
       "      <td>https://en.wikipedia.org/wiki/Ramachandra_(film)</td>\n",
       "    </tr>\n",
       "    <tr>\n",
       "      <th>29975</th>\n",
       "      <td>Vaseegara (film)</td>\n",
       "      <td>Vaseegara (English: Magical Charmer) is a 2003...</td>\n",
       "      <td>Bhoopathy (Vijay) is a happy-go-lucky youth fr...</td>\n",
       "      <td>K. Selva Bharathy</td>\n",
       "      <td>Shots N' Stills Ltd</td>\n",
       "      <td>K. Selva Bharathy  (screenplay  &amp; Dialogue)</td>\n",
       "      <td>Vijay  Sneha  Gayatri  Jayaraman</td>\n",
       "      <td>S. A. Rajkumar</td>\n",
       "      <td>15 January 2003 (2003-01-15)</td>\n",
       "      <td>176 minutes</td>\n",
       "      <td>India</td>\n",
       "      <td>Tamil</td>\n",
       "      <td>NaN</td>\n",
       "      <td>https://en.wikipedia.org/wiki/Vaseegara_(film)</td>\n",
       "    </tr>\n",
       "    <tr>\n",
       "      <th>29976</th>\n",
       "      <td>Pop Corn (2003 film)</td>\n",
       "      <td>Pop Corn is a 2003 Tamil musical drama film wr...</td>\n",
       "      <td>Popular music director Vikramaditya (Mohanlal)...</td>\n",
       "      <td>Nassar</td>\n",
       "      <td>Kameela Nassar</td>\n",
       "      <td>S. Ramakrishnan (Dialogue)</td>\n",
       "      <td>Mohanlal Simran  Bagga Vadivelu Jyothi  Naval ...</td>\n",
       "      <td>Yuvan Shankar Raja</td>\n",
       "      <td>24 January 2003 (2003-01-24) (India)</td>\n",
       "      <td>127 minutes</td>\n",
       "      <td>India</td>\n",
       "      <td>Tamil</td>\n",
       "      <td>NaN</td>\n",
       "      <td>https://en.wikipedia.org/wiki/Pop_Carn_(2003_f...</td>\n",
       "    </tr>\n",
       "    <tr>\n",
       "      <th>29977</th>\n",
       "      <td>Aasai Aasaiyai</td>\n",
       "      <td>Aasai Aasaiyai is an Indian Tamil-language rom...</td>\n",
       "      <td>The story revolves around Vinod (Jiiva), who a...</td>\n",
       "      <td>Ravi Mariya</td>\n",
       "      <td>R. B. Choudary</td>\n",
       "      <td>Ravi Mariya</td>\n",
       "      <td>Jiiva  Sharmelee  Santhoshi  Livingston  Rames...</td>\n",
       "      <td>Mani Sharma</td>\n",
       "      <td>31 January 2003</td>\n",
       "      <td>NaN</td>\n",
       "      <td>India</td>\n",
       "      <td>Tamil</td>\n",
       "      <td>NaN</td>\n",
       "      <td>https://en.wikipedia.org/wiki/Aasai_Aasaiyai</td>\n",
       "    </tr>\n",
       "    <tr>\n",
       "      <th>29978</th>\n",
       "      <td>Julie Ganapathi</td>\n",
       "      <td>Julie Ganapathi is a 2003 Indian Tamil psychol...</td>\n",
       "      <td>Julie Ganapathi (Saritha) is a staunch fan of ...</td>\n",
       "      <td>Balu Mahendra</td>\n",
       "      <td>V. Gnanavelu V. Jayaprakash</td>\n",
       "      <td>Balu Mahendra</td>\n",
       "      <td>Saritha Jayaram Ramya  Krishnan</td>\n",
       "      <td>Ilaiyaraaja</td>\n",
       "      <td>14 February 2003 (2003-02-14)</td>\n",
       "      <td>NaN</td>\n",
       "      <td>India</td>\n",
       "      <td>Tamil</td>\n",
       "      <td>NaN</td>\n",
       "      <td>https://en.wikipedia.org/wiki/Julie_Ganapathi</td>\n",
       "    </tr>\n",
       "    <tr>\n",
       "      <th>29979</th>\n",
       "      <td>Kadhaludan</td>\n",
       "      <td>Kadhaludan (English: With Love) is a 2003 Indi...</td>\n",
       "      <td>Kalyan (Murali), a talented magician, works wi...</td>\n",
       "      <td>Rajakumaran</td>\n",
       "      <td>Devayani</td>\n",
       "      <td>Rajakumaran</td>\n",
       "      <td>Murali Devayani Abbas Ramesh  Khanna T.  S.  R...</td>\n",
       "      <td>S. A. Rajkumar</td>\n",
       "      <td>14 February 2003 (2003-02-14)</td>\n",
       "      <td>150 minutes</td>\n",
       "      <td>India</td>\n",
       "      <td>Tamil</td>\n",
       "      <td>NaN</td>\n",
       "      <td>https://en.wikipedia.org/wiki/Kadhaludan</td>\n",
       "    </tr>\n",
       "    <tr>\n",
       "      <th>29980</th>\n",
       "      <td>Military (film)</td>\n",
       "      <td>Military is a 2003 Indian Tamil film, directed...</td>\n",
       "      <td>Madhavan (Sathyaraj), locally known as Militar...</td>\n",
       "      <td>G. Sai Suresh</td>\n",
       "      <td>\"Metti Oli\" S. Siddiq</td>\n",
       "      <td>NaN</td>\n",
       "      <td>Sathyaraj  Rambha</td>\n",
       "      <td>Deva</td>\n",
       "      <td>28 February 2003 (2003-02-28)</td>\n",
       "      <td>142 min</td>\n",
       "      <td>India</td>\n",
       "      <td>Tamil</td>\n",
       "      <td>NaN</td>\n",
       "      <td>https://en.wikipedia.org/wiki/Military_(film)</td>\n",
       "    </tr>\n",
       "    <tr>\n",
       "      <th>29981</th>\n",
       "      <td>Manasellam</td>\n",
       "      <td>Manasellam (English : All over heart) is a 200...</td>\n",
       "      <td>On the way to Chennai, Bala's (Srikanth) bag a...</td>\n",
       "      <td>Santhosh</td>\n",
       "      <td>Viswanathan Ravichandran</td>\n",
       "      <td>Santhosh</td>\n",
       "      <td>Srikanth  Trisha</td>\n",
       "      <td>Ilaiyaraaja</td>\n",
       "      <td>21 March 2003 (2003-03-21)</td>\n",
       "      <td>165 minutes</td>\n",
       "      <td>India</td>\n",
       "      <td>Tamil</td>\n",
       "      <td>NaN</td>\n",
       "      <td>https://en.wikipedia.org/wiki/Manasellam</td>\n",
       "    </tr>\n",
       "    <tr>\n",
       "      <th>29982</th>\n",
       "      <td>Ennai Thalatta Varuvala</td>\n",
       "      <td>Ennai Thalatta Varuvala (English: Will She Com...</td>\n",
       "      <td>The film centers around Vennila's (Reshma) con...</td>\n",
       "      <td>K. S. Ravindran</td>\n",
       "      <td>P. M. Vedimuthu</td>\n",
       "      <td>NaN</td>\n",
       "      <td>Vignesh  Reshma</td>\n",
       "      <td>M. Abniram</td>\n",
       "      <td>21 March 2003 (2003-03-21)</td>\n",
       "      <td>NaN</td>\n",
       "      <td>India</td>\n",
       "      <td>Tamil</td>\n",
       "      <td>NaN</td>\n",
       "      <td>https://en.wikipedia.org/wiki/Ennai_Thalatta_V...</td>\n",
       "    </tr>\n",
       "    <tr>\n",
       "      <th>29983</th>\n",
       "      <td>Magic Magic 3D</td>\n",
       "      <td>Magic Magic 3D is a 2003 Indian Tamil language...</td>\n",
       "      <td>A group of children search for Indrajeet (Sura...</td>\n",
       "      <td>Jose Punnoose</td>\n",
       "      <td>Navodaya Appachan</td>\n",
       "      <td>Gokula Krishnan   (Telugu dialogues) Shammi Th...</td>\n",
       "      <td>Suraj  Balajee  S.  P.  Balasubrahmanyam  Tirl...</td>\n",
       "      <td>Sharreth</td>\n",
       "      <td>11 April 2003</td>\n",
       "      <td>105 minutes</td>\n",
       "      <td>India</td>\n",
       "      <td>Tamil</td>\n",
       "      <td>₹14 crore</td>\n",
       "      <td>https://en.wikipedia.org/wiki/Magic_Magic_3D</td>\n",
       "    </tr>\n",
       "    <tr>\n",
       "      <th>29984</th>\n",
       "      <td>Dum (2003 Tamil film)</td>\n",
       "      <td>Dum is a 2003 Indian Tamil action-romantic com...</td>\n",
       "      <td>Satya (Silambarasan) is the son of a police co...</td>\n",
       "      <td>A. Venkatesh</td>\n",
       "      <td>Rockline Venkatesh</td>\n",
       "      <td>Prasanna Kumar (dialogues)</td>\n",
       "      <td>Silambarasan  Rakshitha  Ashish  Vidyarthi</td>\n",
       "      <td>Deva</td>\n",
       "      <td>12 April 2003 (2003-04-12)</td>\n",
       "      <td>160 minutes</td>\n",
       "      <td>India</td>\n",
       "      <td>Tamil</td>\n",
       "      <td>NaN</td>\n",
       "      <td>https://en.wikipedia.org/wiki/Dum_(2003_Tamil_...</td>\n",
       "    </tr>\n",
       "    <tr>\n",
       "      <th>29985</th>\n",
       "      <td>Kadhal Sadugudu</td>\n",
       "      <td>Kadhal Sadugudu is a 2003 Indian Tamil-languag...</td>\n",
       "      <td>The film starts off by showing Chithambaram (P...</td>\n",
       "      <td>V. Z. Durai</td>\n",
       "      <td>S. S. Chakravarthy</td>\n",
       "      <td>Balakumaran (Dialogue)</td>\n",
       "      <td>Vikram  Priyanka  Trivedi  Prakash  Raj</td>\n",
       "      <td>Deva</td>\n",
       "      <td>11 April 2003</td>\n",
       "      <td>147 minutes</td>\n",
       "      <td>India</td>\n",
       "      <td>Tamil</td>\n",
       "      <td>NaN</td>\n",
       "      <td>https://en.wikipedia.org/wiki/Kadhal_Sadugudu</td>\n",
       "    </tr>\n",
       "    <tr>\n",
       "      <th>29986</th>\n",
       "      <td>Sena (film)</td>\n",
       "      <td>Sena is a 2003 Tamil crime film directed by Su...</td>\n",
       "      <td>Sena (Sathyaraj) took to rowdyism as a young b...</td>\n",
       "      <td>Sujeeth</td>\n",
       "      <td>P. Suneetha Anandakumar</td>\n",
       "      <td>Sujeeth M. Balu</td>\n",
       "      <td>Sathyaraj Aravind  Akash Charulatha Anandaraj ...</td>\n",
       "      <td>D. Imman</td>\n",
       "      <td>12 April 2003</td>\n",
       "      <td>155 minutes</td>\n",
       "      <td>India</td>\n",
       "      <td>Tamil</td>\n",
       "      <td>NaN</td>\n",
       "      <td>https://en.wikipedia.org/wiki/Sena_(film)</td>\n",
       "    </tr>\n",
       "    <tr>\n",
       "      <th>29987</th>\n",
       "      <td>Arasu (2003 film)</td>\n",
       "      <td>Arasu (Kingdom) is an Indian 2003 Tamil action...</td>\n",
       "      <td>The movie starts with Arasu (Sarathukumar) mur...</td>\n",
       "      <td>Suresh</td>\n",
       "      <td>Babu Raaja</td>\n",
       "      <td>Suresh</td>\n",
       "      <td>R.  Sarathkumar  Roja  Simran  Sai  Kumar  Vad...</td>\n",
       "      <td>NaN</td>\n",
       "      <td>14 April 2003</td>\n",
       "      <td>NaN</td>\n",
       "      <td>India</td>\n",
       "      <td>Tamil</td>\n",
       "      <td>NaN</td>\n",
       "      <td>https://en.wikipedia.org/wiki/Arasu_(Tamil_film)</td>\n",
       "    </tr>\n",
       "    <tr>\n",
       "      <th>29988</th>\n",
       "      <td>Banda Paramasivam</td>\n",
       "      <td>Banda Paramasivam is a 2003 Tamil film directe...</td>\n",
       "      <td>Pandiyan (Manivannan) and Cheran (Vinu Chakrav...</td>\n",
       "      <td>T. P. Gajendran</td>\n",
       "      <td>P. T. Selvakumar</td>\n",
       "      <td>G. K. Gopinath (dialogues)</td>\n",
       "      <td>Prabhu  Kalabhavan  Mani  Abbas  Rambha  Abhin...</td>\n",
       "      <td>Sirpy</td>\n",
       "      <td>14 April 2003 (2003-04-14)</td>\n",
       "      <td>NaN</td>\n",
       "      <td>India</td>\n",
       "      <td>Tamil</td>\n",
       "      <td>NaN</td>\n",
       "      <td>https://en.wikipedia.org/wiki/Banda_Paramasivam</td>\n",
       "    </tr>\n",
       "    <tr>\n",
       "      <th>29989</th>\n",
       "      <td>Saamy</td>\n",
       "      <td>Saamy is a 2003 Indian Tamil-language action f...</td>\n",
       "      <td>Aarusaamy  (Vikram) is the DCP of Tirunelveli ...</td>\n",
       "      <td>Hari</td>\n",
       "      <td>K. Balachander (Presenter) Pushpa Kandasamy</td>\n",
       "      <td>Hari</td>\n",
       "      <td>Vikram   Trisha   Vivek   Kota  Srinivasa  Rao...</td>\n",
       "      <td>Harris Jayaraj</td>\n",
       "      <td>1 May 2003 (2003-05-01)</td>\n",
       "      <td>161 minutes</td>\n",
       "      <td>India</td>\n",
       "      <td>Tamil</td>\n",
       "      <td>₹ est.</td>\n",
       "      <td>https://en.wikipedia.org/wiki/Saamy</td>\n",
       "    </tr>\n",
       "    <tr>\n",
       "      <th>29990</th>\n",
       "      <td>Pudhiya Geethai</td>\n",
       "      <td>Pudhiya Geethai (English: New Gita) is a 2003 ...</td>\n",
       "      <td>The movie starts with a polydactylic baby boy ...</td>\n",
       "      <td>K.P. Jagan</td>\n",
       "      <td>Viswaas Sundar</td>\n",
       "      <td>K.P. Jagan</td>\n",
       "      <td>Vijay  Meera  Jasmine  Ameesha  Patel</td>\n",
       "      <td>Yuvan Shankar Raja  (Songs)</td>\n",
       "      <td>8 May 2003 (2003-05-08)</td>\n",
       "      <td>NaN</td>\n",
       "      <td>India</td>\n",
       "      <td>Tamil</td>\n",
       "      <td>NaN</td>\n",
       "      <td>https://en.wikipedia.org/wiki/Pudhiya_Geethai</td>\n",
       "    </tr>\n",
       "    <tr>\n",
       "      <th>29991</th>\n",
       "      <td>Lesa Lesa</td>\n",
       "      <td>Lesa Lesa  (English: Lightly, Lightly), also r...</td>\n",
       "      <td>The story starts with Chandru (Vivek) cheating...</td>\n",
       "      <td>Priyadarshan</td>\n",
       "      <td>Vikram Singh</td>\n",
       "      <td>N. Prasanna Kumar (dialogues)</td>\n",
       "      <td>Shaam Trisha Vivek Radharavi Sreenivasan</td>\n",
       "      <td>Harris Jayaraj</td>\n",
       "      <td>16 May 2003 (2003-05-16)</td>\n",
       "      <td>154 minutes</td>\n",
       "      <td>India</td>\n",
       "      <td>Tamil</td>\n",
       "      <td>NaN</td>\n",
       "      <td>https://en.wikipedia.org/wiki/Lesa_Lesa</td>\n",
       "    </tr>\n",
       "    <tr>\n",
       "      <th>29992</th>\n",
       "      <td>Parthiban Kanavu (2003 film)</td>\n",
       "      <td>Parthiban Kanavu (English: Parthiban's Dream) ...</td>\n",
       "      <td>Parthiban (Srikanth) is a marketing executive ...</td>\n",
       "      <td>Karu Pazhaniappan</td>\n",
       "      <td>T. G. Thiyagarajan (Presenter) Selvi Thiyagara...</td>\n",
       "      <td>Karu Pazhaniappan</td>\n",
       "      <td>Srikanth</td>\n",
       "      <td>Vidyasagar</td>\n",
       "      <td>23 May 2003</td>\n",
       "      <td>172 minutes</td>\n",
       "      <td>India</td>\n",
       "      <td>Tamil</td>\n",
       "      <td>NaN</td>\n",
       "      <td>https://en.wikipedia.org/wiki/Parthiban_Kanavu...</td>\n",
       "    </tr>\n",
       "    <tr>\n",
       "      <th>29993</th>\n",
       "      <td>Parasuram (2003 film)</td>\n",
       "      <td>Parasuram is a 2003 Tamil action film directed...</td>\n",
       "      <td>The case is entrusted to Assistant Police Comm...</td>\n",
       "      <td>Arjun</td>\n",
       "      <td>K. Prabakaran</td>\n",
       "      <td>Arjun</td>\n",
       "      <td>Arjun  Abbas  Kiran  Rathod  Gayathri  Raghura...</td>\n",
       "      <td>A. R. Rahman (Songs) Pravin Mani (Background S...</td>\n",
       "      <td>30 May 2003 (2003-05-30)</td>\n",
       "      <td>155 minutes</td>\n",
       "      <td>India</td>\n",
       "      <td>Tamil</td>\n",
       "      <td>NaN</td>\n",
       "      <td>https://en.wikipedia.org/wiki/Parasuram_(film)</td>\n",
       "    </tr>\n",
       "    <tr>\n",
       "      <th>29994</th>\n",
       "      <td>Nala Damayanthi</td>\n",
       "      <td>Nala Damayanthi may refer to:</td>\n",
       "      <td>NaN</td>\n",
       "      <td>NaN</td>\n",
       "      <td>NaN</td>\n",
       "      <td>NaN</td>\n",
       "      <td>NaN</td>\n",
       "      <td>NaN</td>\n",
       "      <td>NaN</td>\n",
       "      <td>NaN</td>\n",
       "      <td>NaN</td>\n",
       "      <td>NaN</td>\n",
       "      <td>NaN</td>\n",
       "      <td>https://en.wikipedia.org/wiki/Nala_Damayanthi</td>\n",
       "    </tr>\n",
       "    <tr>\n",
       "      <th>29995</th>\n",
       "      <td>Paarai (film)</td>\n",
       "      <td>Paarai (The Rock) is a 2003 Indian Tamil-langu...</td>\n",
       "      <td>Durairaj (Sarath Kumar) is a lorry driver who ...</td>\n",
       "      <td>K.S.Ravikumar</td>\n",
       "      <td>S.S.Durairaj</td>\n",
       "      <td>NaN</td>\n",
       "      <td>Sarath  Kumar  Jayaram  Meena  Ramya  Krishnan</td>\n",
       "      <td>Sabesh Murali</td>\n",
       "      <td>13 June 2003 (2003-06-13)</td>\n",
       "      <td>170 minutes</td>\n",
       "      <td>India</td>\n",
       "      <td>Tamil</td>\n",
       "      <td>NaN</td>\n",
       "      <td>https://en.wikipedia.org/wiki/Paarai_(film)</td>\n",
       "    </tr>\n",
       "    <tr>\n",
       "      <th>29996</th>\n",
       "      <td>Jayam (2003 film)</td>\n",
       "      <td>Jayam (English: Victory) is a 2003 Indian Tami...</td>\n",
       "      <td>The story is centered in a village called Push...</td>\n",
       "      <td>M. Raja</td>\n",
       "      <td>M. Varalakshmi Editor Mohan</td>\n",
       "      <td>Prasanna Kumar (dialogues)</td>\n",
       "      <td>Ravi  Sadha  Gopichand</td>\n",
       "      <td>R. P. Patnaik</td>\n",
       "      <td>20 June 2003 (2003-06-20)</td>\n",
       "      <td>NaN</td>\n",
       "      <td>India</td>\n",
       "      <td>Tamil</td>\n",
       "      <td>NaN</td>\n",
       "      <td>https://en.wikipedia.org/wiki/Jayam_(2003_film)</td>\n",
       "    </tr>\n",
       "    <tr>\n",
       "      <th>29997</th>\n",
       "      <td>Kaadhal Kondein</td>\n",
       "      <td>Kaadhal Kondein (also spelled as Kadhal Konden...</td>\n",
       "      <td>Vinod (Dhanush), who has grown up under the ca...</td>\n",
       "      <td>Selvaraghavan</td>\n",
       "      <td>Dr. K. Vimalageetha</td>\n",
       "      <td>Selvaraghavan</td>\n",
       "      <td>Dhanush  Sonia  Agarwal  Nagesh  Sudeep  Saran...</td>\n",
       "      <td>Yuvan Shankar Raja</td>\n",
       "      <td>4 July 2003</td>\n",
       "      <td>185 minutes</td>\n",
       "      <td>India</td>\n",
       "      <td>Tamil</td>\n",
       "      <td>NaN</td>\n",
       "      <td>https://en.wikipedia.org/wiki/Kaadhal_Kondein</td>\n",
       "    </tr>\n",
       "    <tr>\n",
       "      <th>29998</th>\n",
       "      <td>Kovilpatti Veeralakshmi</td>\n",
       "      <td>Kovilpatti Veeralakshmi is a 2003 Indian Tamil...</td>\n",
       "      <td>The film is about a brave woman who is battlin...</td>\n",
       "      <td>K. Rajeshwar</td>\n",
       "      <td>NaN</td>\n",
       "      <td>K. Rajeshwar</td>\n",
       "      <td>Simran  Sherin  Sonu  Sood</td>\n",
       "      <td>Adithyan</td>\n",
       "      <td>4 July 2003 (2003-07-04)</td>\n",
       "      <td>192 minutes</td>\n",
       "      <td>India</td>\n",
       "      <td>Tamil</td>\n",
       "      <td>NaN</td>\n",
       "      <td>https://en.wikipedia.org/wiki/Kovilpatti_Veera...</td>\n",
       "    </tr>\n",
       "    <tr>\n",
       "      <th>29999</th>\n",
       "      <td>Whistle (2003 film)</td>\n",
       "      <td>Whistle is a 2003 Tamil slasher film directed ...</td>\n",
       "      <td>The film begins with SJ Arts and Science colle...</td>\n",
       "      <td>J.D. &amp; Jerry</td>\n",
       "      <td>Media Dreams</td>\n",
       "      <td>Sujatha (Dialogue)</td>\n",
       "      <td>Vikramaditya  Sherin  Gayathri  Raguram  Vivek...</td>\n",
       "      <td>D. Imman</td>\n",
       "      <td>4 July 2003</td>\n",
       "      <td>153 minutes</td>\n",
       "      <td>India</td>\n",
       "      <td>Tamil</td>\n",
       "      <td>NaN</td>\n",
       "      <td>https://en.wikipedia.org/wiki/Whistle_(2003_film)</td>\n",
       "    </tr>\n",
       "  </tbody>\n",
       "</table>\n",
       "<p>30000 rows × 14 columns</p>\n",
       "</div>"
      ],
      "text/plain": [
       "                                                   Title  \\\n",
       "0                          Love by the Light of the Moon   \n",
       "1                                The Martyred Presidents   \n",
       "2                       Terrible Teddy, the Grizzly King   \n",
       "3                     Jack and the Beanstalk (1902 film)   \n",
       "4                        Alice in Wonderland (1903 film)   \n",
       "5                    The Great Train Robbery (1903 film)   \n",
       "6                                        The Suburbanite   \n",
       "7                               The Little Train Robbery   \n",
       "8                 The Night Before Christmas (1905 film)   \n",
       "9                   Dream of a Rarebit Fiend (1906 film)   \n",
       "10     From Leadville to Aspen: A Hold-Up in the Rockies   \n",
       "11                       Kathleen Mavourneen (1906 film)   \n",
       "12                              Daniel Boone (1907 film)   \n",
       "13                       How Brown Saw the Baseball Game   \n",
       "14                                   Laughing Gas (film)   \n",
       "15                              The Adventures of Dollie   \n",
       "16                                       The Black Viper   \n",
       "17                                A Calamitous Elopement   \n",
       "18                      The Call of the Wild (1908 film)   \n",
       "19                         A Christmas Carol (1908 film)   \n",
       "20                                 The Fight for Freedom   \n",
       "21                                          At the Altar   \n",
       "22                              A Drunkard's Reformation   \n",
       "23                                      The Golden Louis   \n",
       "24                                  The Lure of the Gown   \n",
       "25                                      An Arcadian Maid   \n",
       "26                         A Christmas Carol (1910 film)   \n",
       "27                              Frankenstein (1910 film)   \n",
       "28                           Hemlock Hoax, the Detective   \n",
       "29                        The House with Closed Shutters   \n",
       "...                                                  ...   \n",
       "29970                                       Virumbugiren   \n",
       "29971                                        Nanba Nanba   \n",
       "29972                                              Dhool   \n",
       "29973                                         Anbe Sivam   \n",
       "29974                                 Ramachandra (film)   \n",
       "29975                                   Vaseegara (film)   \n",
       "29976                               Pop Corn (2003 film)   \n",
       "29977                                     Aasai Aasaiyai   \n",
       "29978                                    Julie Ganapathi   \n",
       "29979                                         Kadhaludan   \n",
       "29980                                    Military (film)   \n",
       "29981                                         Manasellam   \n",
       "29982                            Ennai Thalatta Varuvala   \n",
       "29983                                     Magic Magic 3D   \n",
       "29984                              Dum (2003 Tamil film)   \n",
       "29985                                    Kadhal Sadugudu   \n",
       "29986                                        Sena (film)   \n",
       "29987                                  Arasu (2003 film)   \n",
       "29988                                  Banda Paramasivam   \n",
       "29989                                              Saamy   \n",
       "29990                                    Pudhiya Geethai   \n",
       "29991                                          Lesa Lesa   \n",
       "29992                       Parthiban Kanavu (2003 film)   \n",
       "29993                              Parasuram (2003 film)   \n",
       "29994                                    Nala Damayanthi   \n",
       "29995                                      Paarai (film)   \n",
       "29996                                  Jayam (2003 film)   \n",
       "29997                                    Kaadhal Kondein   \n",
       "29998                            Kovilpatti Veeralakshmi   \n",
       "29999                                Whistle (2003 film)   \n",
       "\n",
       "                                                   Intro  \\\n",
       "0      Love by the Light of the Moon is a 1901 film b...   \n",
       "1      The Martyred Presidents is a 1901 American fil...   \n",
       "2      Terrible Teddy, the Grizzly King is a 1901 Ame...   \n",
       "3      Jack and the Beanstalk is a 1902 American shor...   \n",
       "4      Alice in Wonderland is a 1903 British silent f...   \n",
       "5      The Great Train Robbery is a 1903 American sil...   \n",
       "6      The Suburbanite is a 1904 American short comed...   \n",
       "7      The Little Train Robbery is a parodic sequel t...   \n",
       "8      The Night Before Christmas is a 1905 American ...   \n",
       "9      Dream of a Rarebit Fiend is a 1906 American si...   \n",
       "10     From Leadville to Aspen: A Hold-Up in the Rock...   \n",
       "11     Kathleen Mavourneen is a 1906 silent short fil...   \n",
       "12     Daniel Boone; or, Pioneer Days in America is a...   \n",
       "13     How Brown Saw the Baseball Game, also known as...   \n",
       "14     Laughing Gas is the title of several American ...   \n",
       "15     The Adventures of Dollie is a 1908 American si...   \n",
       "16     The Black Viper (aka La vipère noire in France...   \n",
       "17     A Calamitous Elopement is a 1908 American sile...   \n",
       "18     The Call of the Wild is a 1908 American short ...   \n",
       "19     A Christmas Carol is a 1908 silent film produc...   \n",
       "20     The Fight for Freedom is a 1908 Western film p...   \n",
       "21     At the Altar is a 1909 American silent drama f...   \n",
       "22     A Drunkard's Reformation is a 1909 American dr...   \n",
       "23     The Golden Louis is a 1909 American short dram...   \n",
       "24     The Lure of the Gown is a 1909 American silent...   \n",
       "25     An Arcadian Maid is a 1910 American silent fil...   \n",
       "26     A Christmas Carol, is a 1910 silent short film...   \n",
       "27     Frankenstein is a 1910 film made by Edison Stu...   \n",
       "28     Hemlock Hoax, the Detective is an American sho...   \n",
       "29     The House with Closed Shutters is a 1910 Ameri...   \n",
       "...                                                  ...   \n",
       "29970  Virumbugiren is a 2002 Indian Tamil-language r...   \n",
       "29971  Nanba Nanba (transl. Friend, my dear friend) i...   \n",
       "29972  Dhool (transl. Awesome) is a 2003 Indian Tamil...   \n",
       "29973  Anbe Sivam (transl. Love is God) is a 2003 Ind...   \n",
       "29974  Ramachandra is a 2003 Indian Tamil film, direc...   \n",
       "29975  Vaseegara (English: Magical Charmer) is a 2003...   \n",
       "29976  Pop Corn is a 2003 Tamil musical drama film wr...   \n",
       "29977  Aasai Aasaiyai is an Indian Tamil-language rom...   \n",
       "29978  Julie Ganapathi is a 2003 Indian Tamil psychol...   \n",
       "29979  Kadhaludan (English: With Love) is a 2003 Indi...   \n",
       "29980  Military is a 2003 Indian Tamil film, directed...   \n",
       "29981  Manasellam (English : All over heart) is a 200...   \n",
       "29982  Ennai Thalatta Varuvala (English: Will She Com...   \n",
       "29983  Magic Magic 3D is a 2003 Indian Tamil language...   \n",
       "29984  Dum is a 2003 Indian Tamil action-romantic com...   \n",
       "29985  Kadhal Sadugudu is a 2003 Indian Tamil-languag...   \n",
       "29986  Sena is a 2003 Tamil crime film directed by Su...   \n",
       "29987  Arasu (Kingdom) is an Indian 2003 Tamil action...   \n",
       "29988  Banda Paramasivam is a 2003 Tamil film directe...   \n",
       "29989  Saamy is a 2003 Indian Tamil-language action f...   \n",
       "29990  Pudhiya Geethai (English: New Gita) is a 2003 ...   \n",
       "29991  Lesa Lesa  (English: Lightly, Lightly), also r...   \n",
       "29992  Parthiban Kanavu (English: Parthiban's Dream) ...   \n",
       "29993  Parasuram is a 2003 Tamil action film directed...   \n",
       "29994                      Nala Damayanthi may refer to:   \n",
       "29995  Paarai (The Rock) is a 2003 Indian Tamil-langu...   \n",
       "29996  Jayam (English: Victory) is a 2003 Indian Tami...   \n",
       "29997  Kaadhal Kondein (also spelled as Kadhal Konden...   \n",
       "29998  Kovilpatti Veeralakshmi is a 2003 Indian Tamil...   \n",
       "29999  Whistle is a 2003 Tamil slasher film directed ...   \n",
       "\n",
       "                                                    Plot  \\\n",
       "0      The moon, painted with a smiling face hangs ov...   \n",
       "1      The film, just over a minute long, is composed...   \n",
       "2      Lasting just 61 seconds and consisting of two ...   \n",
       "3      In this earliest known adaptation of the class...   \n",
       "4      Alice follows a large white rabbit down a \"Rab...   \n",
       "5      The film opens with two bandits breaking into ...   \n",
       "6      The film is about a family who move to the sub...   \n",
       "7      The opening scene shows the interior of the ro...   \n",
       "8      Scenes are introduced using lines of the poem....   \n",
       "9      The Rarebit Fiend gorges on Welsh rarebit at a...   \n",
       "10     The film features a train traveling through th...   \n",
       "11     Irish villager Kathleen is a tenant of Captain...   \n",
       "12     Boone's daughter befriends an Indian maiden as...   \n",
       "13     Before heading out to a baseball game at a nea...   \n",
       "14     The plot is that of a black woman going to the...   \n",
       "15     On a beautiful summer day a father and mother ...   \n",
       "16     A thug accosts a girl as she leaves her workpl...   \n",
       "17     A young couple decides to elope after being ca...   \n",
       "18     A white girl (Florence Lawrence) rejects a pro...   \n",
       "19     No prints of the first American film adaptatio...   \n",
       "20     The film opens in a town on the Mexican border...   \n",
       "21     A rejected admirer sets up a trap to kill his ...   \n",
       "22     John Wharton, the husband of a true and trusti...   \n",
       "23     An old woman sends a girl begging in the stree...   \n",
       "24      The story as told by Moving Picture World reads:   \n",
       "25     Mary Pickford plays Priscilla an unemployed ma...   \n",
       "26     The day before Christmas, Ebenezer Scrooge ref...   \n",
       "27     Described as \"a liberal adaptation of Mrs. She...   \n",
       "28     Hemlock Hoax is a detective who has little res...   \n",
       "29     During the American Civil War a young soldier ...   \n",
       "...                                                  ...   \n",
       "29970  Sivan (Prashanth) is an aspiring designer. His...   \n",
       "29971  Lawrence (Chandrasekhar) and Joseph (Charle) a...   \n",
       "29972  Arumugam (Vikram) lives in a village and is a ...   \n",
       "29973  Two men waiting for a flight to Chennai at the...   \n",
       "29974  Ramachandran (Sathyaraj) is a police inspector...   \n",
       "29975  Bhoopathy (Vijay) is a happy-go-lucky youth fr...   \n",
       "29976  Popular music director Vikramaditya (Mohanlal)...   \n",
       "29977  The story revolves around Vinod (Jiiva), who a...   \n",
       "29978  Julie Ganapathi (Saritha) is a staunch fan of ...   \n",
       "29979  Kalyan (Murali), a talented magician, works wi...   \n",
       "29980  Madhavan (Sathyaraj), locally known as Militar...   \n",
       "29981  On the way to Chennai, Bala's (Srikanth) bag a...   \n",
       "29982  The film centers around Vennila's (Reshma) con...   \n",
       "29983  A group of children search for Indrajeet (Sura...   \n",
       "29984  Satya (Silambarasan) is the son of a police co...   \n",
       "29985  The film starts off by showing Chithambaram (P...   \n",
       "29986  Sena (Sathyaraj) took to rowdyism as a young b...   \n",
       "29987  The movie starts with Arasu (Sarathukumar) mur...   \n",
       "29988  Pandiyan (Manivannan) and Cheran (Vinu Chakrav...   \n",
       "29989  Aarusaamy  (Vikram) is the DCP of Tirunelveli ...   \n",
       "29990  The movie starts with a polydactylic baby boy ...   \n",
       "29991  The story starts with Chandru (Vivek) cheating...   \n",
       "29992  Parthiban (Srikanth) is a marketing executive ...   \n",
       "29993  The case is entrusted to Assistant Police Comm...   \n",
       "29994                                                NaN   \n",
       "29995  Durairaj (Sarath Kumar) is a lorry driver who ...   \n",
       "29996  The story is centered in a village called Push...   \n",
       "29997  Vinod (Dhanush), who has grown up under the ca...   \n",
       "29998  The film is about a brave woman who is battlin...   \n",
       "29999  The film begins with SJ Arts and Science colle...   \n",
       "\n",
       "                              Directed by  \\\n",
       "0                         Edwin S. Porter   \n",
       "1                         Edwin S. Porter   \n",
       "2                                     NaN   \n",
       "3       George S. Fleming Edwin S. Porter   \n",
       "4               Cecil Hepworth Percy Stow   \n",
       "5                         Edwin S. Porter   \n",
       "6                      Wallace McCutcheon   \n",
       "7                                     NaN   \n",
       "8                         Edwin S. Porter   \n",
       "9      Wallace McCutcheon Edwin S. Porter   \n",
       "10                                    NaN   \n",
       "11                                    NaN   \n",
       "12                                    NaN   \n",
       "13                                    NaN   \n",
       "14                        Edwin S. Porter   \n",
       "15            D. W. Griffith G. W. Bitzer   \n",
       "16      D. W. Griffith Wallace McCutcheon   \n",
       "17                         D. W. Griffith   \n",
       "18                         D. W. Griffith   \n",
       "19                                    NaN   \n",
       "20                         D. W. Griffith   \n",
       "21                         D. W. Griffith   \n",
       "22                         D. W. Griffith   \n",
       "23                          D.W. Griffith   \n",
       "24                         D. W. Griffith   \n",
       "25                         D. W. Griffith   \n",
       "26                       J. Searle Dawley   \n",
       "27                       J. Searle Dawley   \n",
       "28                                    NaN   \n",
       "29                         D. W. Griffith   \n",
       "...                                   ...   \n",
       "29970                       Susi Ganeshan   \n",
       "29971                        Jayabharathi   \n",
       "29972                             Dharani   \n",
       "29973                           Sundar C.   \n",
       "29974                          Raj Kapoor   \n",
       "29975                   K. Selva Bharathy   \n",
       "29976                              Nassar   \n",
       "29977                         Ravi Mariya   \n",
       "29978                       Balu Mahendra   \n",
       "29979                         Rajakumaran   \n",
       "29980                       G. Sai Suresh   \n",
       "29981                            Santhosh   \n",
       "29982                     K. S. Ravindran   \n",
       "29983                       Jose Punnoose   \n",
       "29984                        A. Venkatesh   \n",
       "29985                         V. Z. Durai   \n",
       "29986                             Sujeeth   \n",
       "29987                              Suresh   \n",
       "29988                     T. P. Gajendran   \n",
       "29989                                Hari   \n",
       "29990                          K.P. Jagan   \n",
       "29991                        Priyadarshan   \n",
       "29992                   Karu Pazhaniappan   \n",
       "29993                               Arjun   \n",
       "29994                                 NaN   \n",
       "29995                       K.S.Ravikumar   \n",
       "29996                             M. Raja   \n",
       "29997                       Selvaraghavan   \n",
       "29998                        K. Rajeshwar   \n",
       "29999                        J.D. & Jerry   \n",
       "\n",
       "                                             Produced by  \\\n",
       "0                                                    NaN   \n",
       "1                                                    NaN   \n",
       "2                                                    NaN   \n",
       "3                                         Edison Studios   \n",
       "4      Cecil M. Hepworth Herman Casler (exec. produce...   \n",
       "5                                        Edwin S. Porter   \n",
       "6                                                    NaN   \n",
       "7                                                    NaN   \n",
       "8                                                    NaN   \n",
       "9                                                    NaN   \n",
       "10                                                   NaN   \n",
       "11                                                   NaN   \n",
       "12                                                   NaN   \n",
       "13                                                   NaN   \n",
       "14                                Abe Stern Julius Stern   \n",
       "15                                                   NaN   \n",
       "16                                                   NaN   \n",
       "17                                                   NaN   \n",
       "18                                                   NaN   \n",
       "19                                                   NaN   \n",
       "20                                                   NaN   \n",
       "21                                                   NaN   \n",
       "22                                                   NaN   \n",
       "23                                                   NaN   \n",
       "24                                                   NaN   \n",
       "25                                      Biograph Company   \n",
       "26                                                   NaN   \n",
       "27                                         Thomas Edison   \n",
       "28                                                   NaN   \n",
       "29                                                   NaN   \n",
       "...                                                  ...   \n",
       "29970                                       Mary Francis   \n",
       "29971                                  Raja Vaidyanathan   \n",
       "29972                                      A. M. Rathnam   \n",
       "29973  K. MuralitharanV. SwaminathanG. VenugopalSunda...   \n",
       "29974                                     S. Ramesh Babu   \n",
       "29975                                Shots N' Stills Ltd   \n",
       "29976                                     Kameela Nassar   \n",
       "29977                                     R. B. Choudary   \n",
       "29978                        V. Gnanavelu V. Jayaprakash   \n",
       "29979                                           Devayani   \n",
       "29980                              \"Metti Oli\" S. Siddiq   \n",
       "29981                           Viswanathan Ravichandran   \n",
       "29982                                    P. M. Vedimuthu   \n",
       "29983                                  Navodaya Appachan   \n",
       "29984                                 Rockline Venkatesh   \n",
       "29985                                 S. S. Chakravarthy   \n",
       "29986                            P. Suneetha Anandakumar   \n",
       "29987                                         Babu Raaja   \n",
       "29988                                   P. T. Selvakumar   \n",
       "29989        K. Balachander (Presenter) Pushpa Kandasamy   \n",
       "29990                                     Viswaas Sundar   \n",
       "29991                                       Vikram Singh   \n",
       "29992  T. G. Thiyagarajan (Presenter) Selvi Thiyagara...   \n",
       "29993                                      K. Prabakaran   \n",
       "29994                                                NaN   \n",
       "29995                                       S.S.Durairaj   \n",
       "29996                        M. Varalakshmi Editor Mohan   \n",
       "29997                                Dr. K. Vimalageetha   \n",
       "29998                                                NaN   \n",
       "29999                                       Media Dreams   \n",
       "\n",
       "                                              Written by  \\\n",
       "0                                                    NaN   \n",
       "1                                                    NaN   \n",
       "2                                                    NaN   \n",
       "3                                                    NaN   \n",
       "4                                          Lewis Carroll   \n",
       "5                                                    NaN   \n",
       "6                                           Frank Marion   \n",
       "7                                                    NaN   \n",
       "8                                   Clement Clarke Moore   \n",
       "9                                           Winsor McCay   \n",
       "10                                                   NaN   \n",
       "11                                                   NaN   \n",
       "12                                                   NaN   \n",
       "13                                                   NaN   \n",
       "14                                        Tom Buckingham   \n",
       "15                                   Stanner E.V. Taylor   \n",
       "16                                                   NaN   \n",
       "17                                        D. W. Griffith   \n",
       "18                                        D. W. Griffith   \n",
       "19                                       Charles Dickens   \n",
       "20                                                   NaN   \n",
       "21                                        D. W. Griffith   \n",
       "22                                        D. W. Griffith   \n",
       "23                                         D.W. Griffith   \n",
       "24                                        D. W. Griffith   \n",
       "25                                   Stanner E.V. Taylor   \n",
       "26                                                   NaN   \n",
       "27                                      J. Searle Dawley   \n",
       "28                                                   NaN   \n",
       "29                                        Emmett C. Hall   \n",
       "...                                                  ...   \n",
       "29970                                      Susi Ganeshan   \n",
       "29971                Ravindhran Ramamoorthy Jayabharathi   \n",
       "29972                               Bharathan (Dialogue)   \n",
       "29973                                       Kamal Haasan   \n",
       "29974                                         Raj Kapoor   \n",
       "29975        K. Selva Bharathy  (screenplay  & Dialogue)   \n",
       "29976                         S. Ramakrishnan (Dialogue)   \n",
       "29977                                        Ravi Mariya   \n",
       "29978                                      Balu Mahendra   \n",
       "29979                                        Rajakumaran   \n",
       "29980                                                NaN   \n",
       "29981                                           Santhosh   \n",
       "29982                                                NaN   \n",
       "29983  Gokula Krishnan   (Telugu dialogues) Shammi Th...   \n",
       "29984                         Prasanna Kumar (dialogues)   \n",
       "29985                             Balakumaran (Dialogue)   \n",
       "29986                                    Sujeeth M. Balu   \n",
       "29987                                             Suresh   \n",
       "29988                         G. K. Gopinath (dialogues)   \n",
       "29989                                               Hari   \n",
       "29990                                         K.P. Jagan   \n",
       "29991                      N. Prasanna Kumar (dialogues)   \n",
       "29992                                  Karu Pazhaniappan   \n",
       "29993                                              Arjun   \n",
       "29994                                                NaN   \n",
       "29995                                                NaN   \n",
       "29996                         Prasanna Kumar (dialogues)   \n",
       "29997                                      Selvaraghavan   \n",
       "29998                                       K. Rajeshwar   \n",
       "29999                                 Sujatha (Dialogue)   \n",
       "\n",
       "                                                Starring  \\\n",
       "0                                                    NaN   \n",
       "1                                              See below   \n",
       "2                                                    NaN   \n",
       "3                                              See below   \n",
       "4      May  Clark  Cecil  M.  Hepworth  Mrs.  Cecil  ...   \n",
       "5      Alfred  C.  Abadie  Broncho  Billy  Anderson  ...   \n",
       "6                                          John  Troiano   \n",
       "7                                                    NaN   \n",
       "8                                                    NaN   \n",
       "9                                            Jack  Brawn   \n",
       "10                                                   NaN   \n",
       "11                                                   NaN   \n",
       "12                                                   NaN   \n",
       "13                                                   NaN   \n",
       "14     Bertha  Regustus  Edward  Boulden   Charles  D...   \n",
       "15                                   Arthur  V.  Johnson   \n",
       "16     D.  W.  Griffith  Mack  Sennett  Anthony  O' S...   \n",
       "17                                         Harry  Solter   \n",
       "18                                       Charles  Inslee   \n",
       "19                                      Thomas  Ricketts   \n",
       "20                                        Florence  Auer   \n",
       "21                                       Marion  Leonard   \n",
       "22                                   Arthur  V.  Johnson   \n",
       "23                                                   NaN   \n",
       "24                                       Marion  Leonard   \n",
       "25                                        Mary  Pickford   \n",
       "26                  Marc  Mc Dermott   Charles  S.  Ogle   \n",
       "27       Augustus  Phillips  Charles  Ogle  Mary  Fuller   \n",
       "28                                                   NaN   \n",
       "29                                   Henry  B.  Walthall   \n",
       "...                                                  ...   \n",
       "29970  Prashanth  Sneha  Nassar  Livingston  Easwari ...   \n",
       "29971                              Charle  Chandrasekhar   \n",
       "29972  Vikram  Jyothika  Reemma  Sen  Vivek  Sayaji  ...   \n",
       "29973               Kamal  Haasan Madhavan Kiran  Rathod   \n",
       "29974  Sathyaraj Pandiarajan Vijayalakshmi Ashish  Vi...   \n",
       "29975                   Vijay  Sneha  Gayatri  Jayaraman   \n",
       "29976  Mohanlal Simran  Bagga Vadivelu Jyothi  Naval ...   \n",
       "29977  Jiiva  Sharmelee  Santhoshi  Livingston  Rames...   \n",
       "29978                    Saritha Jayaram Ramya  Krishnan   \n",
       "29979  Murali Devayani Abbas Ramesh  Khanna T.  S.  R...   \n",
       "29980                                  Sathyaraj  Rambha   \n",
       "29981                                   Srikanth  Trisha   \n",
       "29982                                    Vignesh  Reshma   \n",
       "29983  Suraj  Balajee  S.  P.  Balasubrahmanyam  Tirl...   \n",
       "29984         Silambarasan  Rakshitha  Ashish  Vidyarthi   \n",
       "29985            Vikram  Priyanka  Trivedi  Prakash  Raj   \n",
       "29986  Sathyaraj Aravind  Akash Charulatha Anandaraj ...   \n",
       "29987  R.  Sarathkumar  Roja  Simran  Sai  Kumar  Vad...   \n",
       "29988  Prabhu  Kalabhavan  Mani  Abbas  Rambha  Abhin...   \n",
       "29989  Vikram   Trisha   Vivek   Kota  Srinivasa  Rao...   \n",
       "29990              Vijay  Meera  Jasmine  Ameesha  Patel   \n",
       "29991           Shaam Trisha Vivek Radharavi Sreenivasan   \n",
       "29992                                           Srikanth   \n",
       "29993  Arjun  Abbas  Kiran  Rathod  Gayathri  Raghura...   \n",
       "29994                                                NaN   \n",
       "29995     Sarath  Kumar  Jayaram  Meena  Ramya  Krishnan   \n",
       "29996                             Ravi  Sadha  Gopichand   \n",
       "29997  Dhanush  Sonia  Agarwal  Nagesh  Sudeep  Saran...   \n",
       "29998                         Simran  Sherin  Sonu  Sood   \n",
       "29999  Vikramaditya  Sherin  Gayathri  Raguram  Vivek...   \n",
       "\n",
       "                                                Music by  \\\n",
       "0                                                    NaN   \n",
       "1                                                    NaN   \n",
       "2                                                    NaN   \n",
       "3                                                    NaN   \n",
       "4                                                    NaN   \n",
       "5                                                    NaN   \n",
       "6                                                    NaN   \n",
       "7                                                    NaN   \n",
       "8                                                    NaN   \n",
       "9                                                    NaN   \n",
       "10                                                   NaN   \n",
       "11                                                   NaN   \n",
       "12                                                   NaN   \n",
       "13                                                   NaN   \n",
       "14                                                   NaN   \n",
       "15                                                   NaN   \n",
       "16                                                   NaN   \n",
       "17                                                   NaN   \n",
       "18                                                   NaN   \n",
       "19                                                   NaN   \n",
       "20                                                   NaN   \n",
       "21                                                   NaN   \n",
       "22                                                   NaN   \n",
       "23                                                   NaN   \n",
       "24                                                   NaN   \n",
       "25                                                   NaN   \n",
       "26                                                   NaN   \n",
       "27                                                   NaN   \n",
       "28                                                   NaN   \n",
       "29                                                   NaN   \n",
       "...                                                  ...   \n",
       "29970                                               Deva   \n",
       "29971                                    Chittey Prakash   \n",
       "29972                                         Vidyasagar   \n",
       "29973                                         Vidyasagar   \n",
       "29974                                               Deva   \n",
       "29975                                     S. A. Rajkumar   \n",
       "29976                                 Yuvan Shankar Raja   \n",
       "29977                                        Mani Sharma   \n",
       "29978                                        Ilaiyaraaja   \n",
       "29979                                     S. A. Rajkumar   \n",
       "29980                                               Deva   \n",
       "29981                                        Ilaiyaraaja   \n",
       "29982                                         M. Abniram   \n",
       "29983                                           Sharreth   \n",
       "29984                                               Deva   \n",
       "29985                                               Deva   \n",
       "29986                                           D. Imman   \n",
       "29987                                                NaN   \n",
       "29988                                              Sirpy   \n",
       "29989                                     Harris Jayaraj   \n",
       "29990                        Yuvan Shankar Raja  (Songs)   \n",
       "29991                                     Harris Jayaraj   \n",
       "29992                                         Vidyasagar   \n",
       "29993  A. R. Rahman (Songs) Pravin Mani (Background S...   \n",
       "29994                                                NaN   \n",
       "29995                                      Sabesh Murali   \n",
       "29996                                      R. P. Patnaik   \n",
       "29997                                 Yuvan Shankar Raja   \n",
       "29998                                           Adithyan   \n",
       "29999                                           D. Imman   \n",
       "\n",
       "                                         Release date  \\\n",
       "0                                         1901 (1901)   \n",
       "1                                                1901   \n",
       "2                                                 NaN   \n",
       "3                                                1902   \n",
       "4                        17 October 1903 (1903-10-17)   \n",
       "5                       December 1, 1903 (1903-12-01)   \n",
       "6                                       November 1904   \n",
       "7                                                 NaN   \n",
       "8                      December 16, 1905 (1905-12-16)   \n",
       "9                                         1906 (1906)   \n",
       "10                                                NaN   \n",
       "11                                                NaN   \n",
       "12                                                NaN   \n",
       "13     November 16, 1907 (1907-11-16) (United States)   \n",
       "14          1907 (1907) December 8, 1920 (1920-12-08)   \n",
       "15                         July 14, 1908 (1908-07-14)   \n",
       "16                         July 25, 1908 (1908-07-25)   \n",
       "17                        August 7, 1908 (1908-08-07)   \n",
       "18                      October 27, 1908 (1908-10-27)   \n",
       "19                      December 9, 1908 (1908-12-09)   \n",
       "20                         July 17, 1908 (1908-07-17)   \n",
       "21                     February 25, 1909 (1909-02-25)   \n",
       "22                         April 1, 1909 (1909-04-01)   \n",
       "23                     February 22, 1909 (1909-02-22)   \n",
       "24                        March 15, 1909 (1909-03-15)   \n",
       "25                        August 1, 1910 (1910-08-01)   \n",
       "26                     December 23, 1910 (1910-12-23)   \n",
       "27                        March 18, 1910 (1910-03-18)   \n",
       "28        April 11, 1910 (1910-04-11) (United States)   \n",
       "29                        August 8, 1910 (1910-08-08)   \n",
       "...                                               ...   \n",
       "29970                                21 December 2002   \n",
       "29971                   27 December 2002 (2002-12-27)   \n",
       "29972                    11 January 2003 (2003-01-11)   \n",
       "29973                    15 January 2003 (2003-01-15)   \n",
       "29974                    15 January 2003 (2003-01-15)   \n",
       "29975                    15 January 2003 (2003-01-15)   \n",
       "29976            24 January 2003 (2003-01-24) (India)   \n",
       "29977                                 31 January 2003   \n",
       "29978                   14 February 2003 (2003-02-14)   \n",
       "29979                   14 February 2003 (2003-02-14)   \n",
       "29980                   28 February 2003 (2003-02-28)   \n",
       "29981                      21 March 2003 (2003-03-21)   \n",
       "29982                      21 March 2003 (2003-03-21)   \n",
       "29983                                   11 April 2003   \n",
       "29984                      12 April 2003 (2003-04-12)   \n",
       "29985                                   11 April 2003   \n",
       "29986                                   12 April 2003   \n",
       "29987                                   14 April 2003   \n",
       "29988                      14 April 2003 (2003-04-14)   \n",
       "29989                         1 May 2003 (2003-05-01)   \n",
       "29990                         8 May 2003 (2003-05-08)   \n",
       "29991                        16 May 2003 (2003-05-16)   \n",
       "29992                                     23 May 2003   \n",
       "29993                        30 May 2003 (2003-05-30)   \n",
       "29994                                             NaN   \n",
       "29995                       13 June 2003 (2003-06-13)   \n",
       "29996                       20 June 2003 (2003-06-20)   \n",
       "29997                                     4 July 2003   \n",
       "29998                        4 July 2003 (2003-07-04)   \n",
       "29999                                     4 July 2003   \n",
       "\n",
       "                     Running time                      Country  \\\n",
       "0                             NaN                United States   \n",
       "1                       1 minutes                United States   \n",
       "2                             NaN                          NaN   \n",
       "3                      10 minutes                United States   \n",
       "4            approx. 8:19 minutes               United Kingdom   \n",
       "5      12 minutes (at 18 frame/s)                United States   \n",
       "6                             NaN                United States   \n",
       "7                             NaN                          NaN   \n",
       "8                            9:00                United States   \n",
       "9                       6 minutes                United States   \n",
       "10                            NaN                          NaN   \n",
       "11                            NaN                          NaN   \n",
       "12                            NaN                          NaN   \n",
       "13                            NaN                United States   \n",
       "14                      9 minutes  United States United States   \n",
       "15                     12 minutes                United States   \n",
       "16        approximately 6 minutes                United States   \n",
       "17             12 minutes (one  )                United States   \n",
       "18             16 minutes (two  )                United States   \n",
       "19                     15 minutes                United States   \n",
       "20                            NaN                United States   \n",
       "21                     11 minutes                United States   \n",
       "22                     13 minutes                United States   \n",
       "23                            NaN                United States   \n",
       "24              6 minutes (one  )                United States   \n",
       "25        16 minutes (16 frame/s)                United States   \n",
       "26                     13 minutes                United States   \n",
       "27          14 minutes (975 feet)                United States   \n",
       "28                            NaN                United States   \n",
       "29                     16 minutes                United States   \n",
       "...                           ...                          ...   \n",
       "29970                 157 minutes                        India   \n",
       "29971                 110 minutes                        India   \n",
       "29972                 172 minutes                        India   \n",
       "29973                 160 minutes                        India   \n",
       "29974                     146 min                        India   \n",
       "29975                 176 minutes                        India   \n",
       "29976                 127 minutes                        India   \n",
       "29977                         NaN                        India   \n",
       "29978                         NaN                        India   \n",
       "29979                 150 minutes                        India   \n",
       "29980                     142 min                        India   \n",
       "29981                 165 minutes                        India   \n",
       "29982                         NaN                        India   \n",
       "29983                 105 minutes                        India   \n",
       "29984                 160 minutes                        India   \n",
       "29985                 147 minutes                        India   \n",
       "29986                 155 minutes                        India   \n",
       "29987                         NaN                        India   \n",
       "29988                         NaN                        India   \n",
       "29989                 161 minutes                        India   \n",
       "29990                         NaN                        India   \n",
       "29991                 154 minutes                        India   \n",
       "29992                 172 minutes                        India   \n",
       "29993                 155 minutes                        India   \n",
       "29994                         NaN                          NaN   \n",
       "29995                 170 minutes                        India   \n",
       "29996                         NaN                        India   \n",
       "29997                 185 minutes                        India   \n",
       "29998                 192 minutes                        India   \n",
       "29999                 153 minutes                        India   \n",
       "\n",
       "                                        Language     Budget  \\\n",
       "0                                         Silent        NaN   \n",
       "1                                        English        NaN   \n",
       "2                                            NaN        NaN   \n",
       "3                                        English        NaN   \n",
       "4                                         Silent        NaN   \n",
       "5                                 Silent English          $   \n",
       "6                                         Silent        NaN   \n",
       "7                                            NaN        NaN   \n",
       "8                                        English        NaN   \n",
       "9                                         Silent        NaN   \n",
       "10                                           NaN        NaN   \n",
       "11                                           NaN        NaN   \n",
       "12                                           NaN        NaN   \n",
       "13                                        Silent        NaN   \n",
       "14     Silent film   English intertitles English        NaN   \n",
       "15                                        Silent        NaN   \n",
       "16                    Silent English intertitles        NaN   \n",
       "17                                        Silent        NaN   \n",
       "18                                        Silent        NaN   \n",
       "19               Silent film English intertitles        NaN   \n",
       "20                    Silent English intertitles        NaN   \n",
       "21                                        Silent        NaN   \n",
       "22                                        Silent        NaN   \n",
       "23                                       English        NaN   \n",
       "24                                        Silent        NaN   \n",
       "25                        Silent..English titles        NaN   \n",
       "26               Silent film English intertitles        NaN   \n",
       "27                           Silent with English        NaN   \n",
       "28                                        Silent        NaN   \n",
       "29                                        Silent        NaN   \n",
       "...                                          ...        ...   \n",
       "29970                                      Tamil        NaN   \n",
       "29971                                      Tamil        NaN   \n",
       "29972                                      Tamil          ₹   \n",
       "29973                                      Tamil          ₹   \n",
       "29974                                      Tamil        NaN   \n",
       "29975                                      Tamil        NaN   \n",
       "29976                                      Tamil        NaN   \n",
       "29977                                      Tamil        NaN   \n",
       "29978                                      Tamil        NaN   \n",
       "29979                                      Tamil        NaN   \n",
       "29980                                      Tamil        NaN   \n",
       "29981                                      Tamil        NaN   \n",
       "29982                                      Tamil        NaN   \n",
       "29983                                      Tamil  ₹14 crore   \n",
       "29984                                      Tamil        NaN   \n",
       "29985                                      Tamil        NaN   \n",
       "29986                                      Tamil        NaN   \n",
       "29987                                      Tamil        NaN   \n",
       "29988                                      Tamil        NaN   \n",
       "29989                                      Tamil     ₹ est.   \n",
       "29990                                      Tamil        NaN   \n",
       "29991                                      Tamil        NaN   \n",
       "29992                                      Tamil        NaN   \n",
       "29993                                      Tamil        NaN   \n",
       "29994                                        NaN        NaN   \n",
       "29995                                      Tamil        NaN   \n",
       "29996                                      Tamil        NaN   \n",
       "29997                                      Tamil        NaN   \n",
       "29998                                      Tamil        NaN   \n",
       "29999                                      Tamil        NaN   \n",
       "\n",
       "                                                     URL  \n",
       "0      https://en.wikipedia.org/wiki/Love_by_the_Ligh...  \n",
       "1      https://en.wikipedia.org/wiki/The_Martyred_Pre...  \n",
       "2      https://en.wikipedia.org/wiki/Terrible_Teddy,_...  \n",
       "3      https://en.wikipedia.org/wiki/Jack_and_the_Bea...  \n",
       "4      https://en.wikipedia.org/wiki/Alice_in_Wonderl...  \n",
       "5      https://en.wikipedia.org/wiki/The_Great_Train_...  \n",
       "6          https://en.wikipedia.org/wiki/The_Suburbanite  \n",
       "7      https://en.wikipedia.org/wiki/The_Little_Train...  \n",
       "8      https://en.wikipedia.org/wiki/The_Night_Before...  \n",
       "9      https://en.wikipedia.org/wiki/Dream_of_a_Rareb...  \n",
       "10     https://en.wikipedia.org/wiki/From_Leadville_t...  \n",
       "11     https://en.wikipedia.org/wiki/Kathleen_Mavourn...  \n",
       "12     https://en.wikipedia.org/wiki/Daniel_Boone_(19...  \n",
       "13     https://en.wikipedia.org/wiki/How_Brown_Saw_th...  \n",
       "14     https://en.wikipedia.org/wiki/Laughing_Gas_(fi...  \n",
       "15     https://en.wikipedia.org/wiki/The_Adventures_o...  \n",
       "16         https://en.wikipedia.org/wiki/The_Black_Viper  \n",
       "17     https://en.wikipedia.org/wiki/A_Calamitous_Elo...  \n",
       "18     https://en.wikipedia.org/wiki/The_Call_of_the_...  \n",
       "19     https://en.wikipedia.org/wiki/A_Christmas_Caro...  \n",
       "20     https://en.wikipedia.org/wiki/The_Fight_for_Fr...  \n",
       "21            https://en.wikipedia.org/wiki/At_the_Altar  \n",
       "22     https://en.wikipedia.org/wiki/A_Drunkard%27s_R...  \n",
       "23        https://en.wikipedia.org/wiki/The_Golden_Louis  \n",
       "24     https://en.wikipedia.org/wiki/The_Lure_of_the_...  \n",
       "25        https://en.wikipedia.org/wiki/An_Arcadian_Maid  \n",
       "26     https://en.wikipedia.org/wiki/A_Christmas_Caro...  \n",
       "27     https://en.wikipedia.org/wiki/Frankenstein_(19...  \n",
       "28     https://en.wikipedia.org/wiki/Hemlock_Hoax,_th...  \n",
       "29     https://en.wikipedia.org/wiki/The_House_with_C...  \n",
       "...                                                  ...  \n",
       "29970         https://en.wikipedia.org/wiki/Virumbugiren  \n",
       "29971          https://en.wikipedia.org/wiki/Nanba_Nanba  \n",
       "29972                https://en.wikipedia.org/wiki/Dhool  \n",
       "29973           https://en.wikipedia.org/wiki/Anbe_Sivam  \n",
       "29974   https://en.wikipedia.org/wiki/Ramachandra_(film)  \n",
       "29975     https://en.wikipedia.org/wiki/Vaseegara_(film)  \n",
       "29976  https://en.wikipedia.org/wiki/Pop_Carn_(2003_f...  \n",
       "29977       https://en.wikipedia.org/wiki/Aasai_Aasaiyai  \n",
       "29978      https://en.wikipedia.org/wiki/Julie_Ganapathi  \n",
       "29979           https://en.wikipedia.org/wiki/Kadhaludan  \n",
       "29980      https://en.wikipedia.org/wiki/Military_(film)  \n",
       "29981           https://en.wikipedia.org/wiki/Manasellam  \n",
       "29982  https://en.wikipedia.org/wiki/Ennai_Thalatta_V...  \n",
       "29983       https://en.wikipedia.org/wiki/Magic_Magic_3D  \n",
       "29984  https://en.wikipedia.org/wiki/Dum_(2003_Tamil_...  \n",
       "29985      https://en.wikipedia.org/wiki/Kadhal_Sadugudu  \n",
       "29986          https://en.wikipedia.org/wiki/Sena_(film)  \n",
       "29987   https://en.wikipedia.org/wiki/Arasu_(Tamil_film)  \n",
       "29988    https://en.wikipedia.org/wiki/Banda_Paramasivam  \n",
       "29989                https://en.wikipedia.org/wiki/Saamy  \n",
       "29990      https://en.wikipedia.org/wiki/Pudhiya_Geethai  \n",
       "29991            https://en.wikipedia.org/wiki/Lesa_Lesa  \n",
       "29992  https://en.wikipedia.org/wiki/Parthiban_Kanavu...  \n",
       "29993     https://en.wikipedia.org/wiki/Parasuram_(film)  \n",
       "29994      https://en.wikipedia.org/wiki/Nala_Damayanthi  \n",
       "29995        https://en.wikipedia.org/wiki/Paarai_(film)  \n",
       "29996    https://en.wikipedia.org/wiki/Jayam_(2003_film)  \n",
       "29997      https://en.wikipedia.org/wiki/Kaadhal_Kondein  \n",
       "29998  https://en.wikipedia.org/wiki/Kovilpatti_Veera...  \n",
       "29999  https://en.wikipedia.org/wiki/Whistle_(2003_film)  \n",
       "\n",
       "[30000 rows x 14 columns]"
      ]
     },
     "execution_count": 26,
     "metadata": {},
     "output_type": "execute_result"
    }
   ],
   "source": [
    "movieDatabase"
   ]
  },
  {
   "cell_type": "markdown",
   "metadata": {},
   "source": [
    "# Droping Null"
   ]
  },
  {
   "cell_type": "code",
   "execution_count": 27,
   "metadata": {},
   "outputs": [],
   "source": [
    "truth = []\n",
    "for i in range(len(movieDatabase)):\n",
    "    al = (movieDatabase.Plot[i] != movieDatabase.Plot[i] and \n",
    "          movieDatabase[\"Directed by\"][i] != movieDatabase[\"Directed by\"][i] and\n",
    "         movieDatabase[\"Produced by\"][i] != movieDatabase[\"Produced by\"][i] and\n",
    "         movieDatabase[\"Written by\"][i] != movieDatabase[\"Written by\"][i] and\n",
    "         movieDatabase[\"Starring\"][i] != movieDatabase[\"Starring\"][i])\n",
    "    truth.append(not(al))\n",
    "movieDatabase = movieDatabase[truth]"
   ]
  },
  {
   "cell_type": "markdown",
   "metadata": {},
   "source": [
    "# Save tha DS for further use "
   ]
  },
  {
   "cell_type": "code",
   "execution_count": 29,
   "metadata": {},
   "outputs": [],
   "source": [
    "new = movieDatabase[['Title', 'Intro', 'URL']].copy()\n",
    "new.to_csv(\"searchenginedata1.csv\", index=False )"
   ]
  },
  {
   "cell_type": "code",
   "execution_count": 30,
   "metadata": {},
   "outputs": [
    {
     "name": "stderr",
     "output_type": "stream",
     "text": [
      "/Users/salwaali/anaconda3/lib/python3.7/site-packages/pandas/core/frame.py:3940: SettingWithCopyWarning:\n",
      "\n",
      "\n",
      "A value is trying to be set on a copy of a slice from a DataFrame\n",
      "\n",
      "See the caveats in the documentation: http://pandas.pydata.org/pandas-docs/stable/indexing.html#indexing-view-versus-copy\n",
      "\n"
     ]
    }
   ],
   "source": [
    "movieDatabase.reset_index(inplace = True)\n",
    "movieDatabase.drop(columns = [\"index\"], inplace = True)"
   ]
  },
  {
   "cell_type": "markdown",
   "metadata": {},
   "source": [
    "# Clean our DS for our search engins "
   ]
  },
  {
   "cell_type": "code",
   "execution_count": 54,
   "metadata": {},
   "outputs": [],
   "source": [
    "def cleanQ(query):\n",
    "    query = query.lower()\n",
    "    tokenizer = RegexpTokenizer(r'\\w+')\n",
    "    tokens = tokenizer.tokenize(query)\n",
    "    stemmer=[ps.stem(i) for i in tokens]\n",
    "    filtered_Q = [w for w in stemmer if not w in stopwords.words('english')]\n",
    "    return filtered_Q"
   ]
  },
  {
   "cell_type": "code",
   "execution_count": 55,
   "metadata": {},
   "outputs": [],
   "source": [
    "tmp_intro = []\n",
    "tmp_title = []\n",
    "tmp_plot = []\n",
    "tmp_director = []\n",
    "tmp_producer = []\n",
    "tmp_writer = []\n",
    "tmp_starring = []\n",
    "tmp_music = []\n",
    "tmp_date = []\n",
    "tmp_country = []\n",
    "tmp_language = []\n",
    "tmp_time = []\n",
    "for i in range(len(movieDatabase)):\n",
    "    if movieDatabase[\"Intro\"][i] == movieDatabase[\"Intro\"][i]:\n",
    "            tmp_intro.append(cleanQ(movieDatabase[\"Intro\"][i]))\n",
    "    else:\n",
    "        tmp_intro.append(\"\")\n",
    "    if movieDatabase[\"Plot\"][i] == movieDatabase[\"Plot\"][i]:\n",
    "            tmp_plot.append(cleanQ(movieDatabase[\"Plot\"][i]))\n",
    "    else:\n",
    "        tmp_plot.append(\"\")\n",
    "    if movieDatabase[\"Title\"][i] == movieDatabase[\"Title\"][i]:\n",
    "        tmp_title.append(cleanQ(movieDatabase[\"Title\"][i]))\n",
    "    else:\n",
    "        tmp_title.append(\"\")\n",
    "    if movieDatabase[\"Directed by\"][i] == movieDatabase[\"Directed by\"][i]:\n",
    "        tmp_director.append(cleanQ(movieDatabase[\"Directed by\"][i]))\n",
    "    else:\n",
    "        tmp_director.append(\"\")\n",
    "    if movieDatabase[\"Produced by\"][i] == movieDatabase[\"Produced by\"][i]:\n",
    "        tmp_producer.append(cleanQ(movieDatabase[\"Produced by\"][i]))\n",
    "    else:\n",
    "        tmp_producer.append(\"\")\n",
    "    if movieDatabase[\"Written by\"][i] == movieDatabase[\"Written by\"][i]:\n",
    "        tmp_writer.append(cleanQ(movieDatabase[\"Written by\"][i]))\n",
    "    else:\n",
    "        tmp_writer.append(\"\")\n",
    "    if movieDatabase[\"Starring\"][i] == movieDatabase[\"Starring\"][i]:\n",
    "        tmp_starring.append(cleanQ(movieDatabase[\"Starring\"][i]))\n",
    "    else:\n",
    "        tmp_starring.append(\"\")\n",
    "    if movieDatabase[\"Music by\"][i] == movieDatabase[\"Music by\"][i]:\n",
    "        tmp_music.append(cleanQ(movieDatabase[\"Music by\"][i]))\n",
    "    else:\n",
    "        tmp_music.append(\"\")\n",
    "    if movieDatabase[\"Release date\"][i] == movieDatabase[\"Release date\"][i]:\n",
    "        tmp_date.append(cleanQ(str(movieDatabase[\"Release date\"][i])))\n",
    "    else:\n",
    "        tmp_date.append(\"\")\n",
    "    if movieDatabase[\"Country\"][i] == movieDatabase[\"Country\"][i]:\n",
    "        tmp_country.append(cleanQ(movieDatabase[\"Country\"][i]))\n",
    "    else:\n",
    "        tmp_country.append(\"\")\n",
    "    if movieDatabase[\"Language\"][i] == movieDatabase[\"Language\"][i]:\n",
    "        tmp_language.append(cleanQ(movieDatabase[\"Language\"][i]))\n",
    "    else:\n",
    "        tmp_language.append(\"\")"
   ]
  },
  {
   "cell_type": "markdown",
   "metadata": {},
   "source": [
    "#  We are going to find all the words in the documents... Merge them together... And for each row sum them up and make the vocabulary\n"
   ]
  },
  {
   "cell_type": "code",
   "execution_count": 57,
   "metadata": {},
   "outputs": [
    {
     "name": "stderr",
     "output_type": "stream",
     "text": [
      "/Users/salwaali/anaconda3/lib/python3.7/site-packages/ipykernel_launcher.py:33: SettingWithCopyWarning:\n",
      "\n",
      "\n",
      "A value is trying to be set on a copy of a slice from a DataFrame.\n",
      "Try using .loc[row_indexer,col_indexer] = value instead\n",
      "\n",
      "See the caveats in the documentation: http://pandas.pydata.org/pandas-docs/stable/indexing.html#indexing-view-versus-copy\n",
      "\n"
     ]
    },
    {
     "data": {
      "text/html": [
       "<div>\n",
       "<style scoped>\n",
       "    .dataframe tbody tr th:only-of-type {\n",
       "        vertical-align: middle;\n",
       "    }\n",
       "\n",
       "    .dataframe tbody tr th {\n",
       "        vertical-align: top;\n",
       "    }\n",
       "\n",
       "    .dataframe thead th {\n",
       "        text-align: right;\n",
       "    }\n",
       "</style>\n",
       "<table border=\"1\" class=\"dataframe\">\n",
       "  <thead>\n",
       "    <tr style=\"text-align: right;\">\n",
       "      <th></th>\n",
       "      <th>Title</th>\n",
       "      <th>Intro</th>\n",
       "      <th>Plot</th>\n",
       "      <th>Directed by</th>\n",
       "      <th>Produced by</th>\n",
       "      <th>Written by</th>\n",
       "      <th>Starring</th>\n",
       "      <th>Music by</th>\n",
       "      <th>Release date</th>\n",
       "      <th>Running time</th>\n",
       "      <th>Country</th>\n",
       "      <th>Language</th>\n",
       "      <th>Budget</th>\n",
       "      <th>URL</th>\n",
       "      <th>Clean All</th>\n",
       "    </tr>\n",
       "  </thead>\n",
       "  <tbody>\n",
       "    <tr>\n",
       "      <th>0</th>\n",
       "      <td>Love by the Light of the Moon</td>\n",
       "      <td>Love by the Light of the Moon is a 1901 film b...</td>\n",
       "      <td>The moon, painted with a smiling face hangs ov...</td>\n",
       "      <td>Edwin S. Porter</td>\n",
       "      <td>NaN</td>\n",
       "      <td>NaN</td>\n",
       "      <td>NaN</td>\n",
       "      <td>NaN</td>\n",
       "      <td>1901 (1901)</td>\n",
       "      <td>NaN</td>\n",
       "      <td>United States</td>\n",
       "      <td>Silent</td>\n",
       "      <td>NaN</td>\n",
       "      <td>https://en.wikipedia.org/wiki/Love_by_the_Ligh...</td>\n",
       "      <td>[moon, paint, smile, face, hang, park, night, ...</td>\n",
       "    </tr>\n",
       "    <tr>\n",
       "      <th>1</th>\n",
       "      <td>The Martyred Presidents</td>\n",
       "      <td>The Martyred Presidents is a 1901 American fil...</td>\n",
       "      <td>The film, just over a minute long, is composed...</td>\n",
       "      <td>Edwin S. Porter</td>\n",
       "      <td>NaN</td>\n",
       "      <td>NaN</td>\n",
       "      <td>See below</td>\n",
       "      <td>NaN</td>\n",
       "      <td>1901</td>\n",
       "      <td>1 minutes</td>\n",
       "      <td>United States</td>\n",
       "      <td>English</td>\n",
       "      <td>NaN</td>\n",
       "      <td>https://en.wikipedia.org/wiki/The_Martyred_Pre...</td>\n",
       "      <td>[film, minut, long, compos, two, shot, first, ...</td>\n",
       "    </tr>\n",
       "    <tr>\n",
       "      <th>2</th>\n",
       "      <td>Terrible Teddy, the Grizzly King</td>\n",
       "      <td>Terrible Teddy, the Grizzly King is a 1901 Ame...</td>\n",
       "      <td>Lasting just 61 seconds and consisting of two ...</td>\n",
       "      <td>NaN</td>\n",
       "      <td>NaN</td>\n",
       "      <td>NaN</td>\n",
       "      <td>NaN</td>\n",
       "      <td>NaN</td>\n",
       "      <td>NaN</td>\n",
       "      <td>NaN</td>\n",
       "      <td>NaN</td>\n",
       "      <td>NaN</td>\n",
       "      <td>NaN</td>\n",
       "      <td>https://en.wikipedia.org/wiki/Terrible_Teddy,_...</td>\n",
       "      <td>[last, 61, second, consist, two, shot, first, ...</td>\n",
       "    </tr>\n",
       "  </tbody>\n",
       "</table>\n",
       "</div>"
      ],
      "text/plain": [
       "                              Title  \\\n",
       "0     Love by the Light of the Moon   \n",
       "1           The Martyred Presidents   \n",
       "2  Terrible Teddy, the Grizzly King   \n",
       "\n",
       "                                               Intro  \\\n",
       "0  Love by the Light of the Moon is a 1901 film b...   \n",
       "1  The Martyred Presidents is a 1901 American fil...   \n",
       "2  Terrible Teddy, the Grizzly King is a 1901 Ame...   \n",
       "\n",
       "                                                Plot      Directed by  \\\n",
       "0  The moon, painted with a smiling face hangs ov...  Edwin S. Porter   \n",
       "1  The film, just over a minute long, is composed...  Edwin S. Porter   \n",
       "2  Lasting just 61 seconds and consisting of two ...              NaN   \n",
       "\n",
       "  Produced by Written by   Starring Music by Release date Running time  \\\n",
       "0         NaN        NaN        NaN      NaN  1901 (1901)          NaN   \n",
       "1         NaN        NaN  See below      NaN         1901    1 minutes   \n",
       "2         NaN        NaN        NaN      NaN          NaN          NaN   \n",
       "\n",
       "         Country Language Budget  \\\n",
       "0  United States   Silent    NaN   \n",
       "1  United States  English    NaN   \n",
       "2            NaN      NaN    NaN   \n",
       "\n",
       "                                                 URL  \\\n",
       "0  https://en.wikipedia.org/wiki/Love_by_the_Ligh...   \n",
       "1  https://en.wikipedia.org/wiki/The_Martyred_Pre...   \n",
       "2  https://en.wikipedia.org/wiki/Terrible_Teddy,_...   \n",
       "\n",
       "                                           Clean All  \n",
       "0  [moon, paint, smile, face, hang, park, night, ...  \n",
       "1  [film, minut, long, compos, two, shot, first, ...  \n",
       "2  [last, 61, second, consist, two, shot, first, ...  "
      ]
     },
     "execution_count": 57,
     "metadata": {},
     "output_type": "execute_result"
    }
   ],
   "source": [
    "words=[]  # We are going to use this for creating the vocabulary.\n",
    "clean_all = [] # This will be a new column with all the preprocessed words of the movie\n",
    "for i in range(len(movieDatabase)):\n",
    "    c_all = []\n",
    "    for wordPl in tmp_plot[i]:\n",
    "        words.append(wordPl)\n",
    "        c_all.append(wordPl)\n",
    "    for wordI in tmp_intro[i]:\n",
    "        words.append(wordI)\n",
    "        c_all.append(wordI)\n",
    "    for wordT in tmp_title[i]:\n",
    "        words.append(wordT)\n",
    "        c_all.append(wordT)\n",
    "    for wordD in tmp_director[i]:\n",
    "        words.append(wordD)\n",
    "        c_all.append(wordD)\n",
    "    for wordPr in tmp_producer[i]:\n",
    "        words.append(wordPr)\n",
    "        c_all.append(wordPr)\n",
    "    for wordW in tmp_writer[i]:\n",
    "        words.append(wordW)\n",
    "        c_all.append(wordW)\n",
    "    for wordM in tmp_music[i]:\n",
    "        words.append(wordM)\n",
    "        c_all.append(wordM)\n",
    "    for wordC in tmp_country[i]:\n",
    "        words.append(wordC)\n",
    "        c_all.append(wordC)\n",
    "    for wordL in tmp_language[i]:\n",
    "        words.append(wordL)\n",
    "        c_all.append(wordL)\n",
    "    clean_all.append(c_all)\n",
    "movieDatabase[\"Clean All\"] = pd.Series(clean_all)\n",
    "movieDatabase.head(3)"
   ]
  },
  {
   "cell_type": "markdown",
   "metadata": {},
   "source": [
    "# Now we create the vocabulary. In the vocalulary there are all the words, and they are accompagnied by an unique index\n",
    "# We are replacing the words in the column Clean All with the correponding index that it has on the vocabulary we've created\n",
    "\n"
   ]
  },
  {
   "cell_type": "code",
   "execution_count": 60,
   "metadata": {},
   "outputs": [],
   "source": [
    "words=set(words)\n",
    "words = list(words)\n",
    "vocab={}\n",
    "for i in range(len(words)):\n",
    "    vocab.update({words[i] : i })\n",
    "with open(\"vocabulary.json\", \"w\", encoding = \"utf8\") as v:\n",
    "    v.write(json.dumps(vocab))\n",
    "    \n",
    "# Replacing the words with it's ID in DF\n",
    "\n",
    "for i in range(len(movieDatabase)):\n",
    "    for j in range(len(movieDatabase[\"Clean All\"][i])):\n",
    "        if movieDatabase[\"Clean All\"][i][j] in vocab.keys():\n",
    "            movieDatabase[\"Clean All\"][i][j] = vocab[movieDatabase[\"Clean All\"][i][j]]"
   ]
  },
  {
   "cell_type": "markdown",
   "metadata": {},
   "source": [
    "# We are going to change the new col and replace it with a counter dictionary, where every key is a word and the values are the number of times the word apears on the document \n"
   ]
  },
  {
   "cell_type": "code",
   "execution_count": 67,
   "metadata": {},
   "outputs": [
    {
     "name": "stderr",
     "output_type": "stream",
     "text": [
      "/Users/salwaali/anaconda3/lib/python3.7/site-packages/ipykernel_launcher.py:2: SettingWithCopyWarning:\n",
      "\n",
      "\n",
      "A value is trying to be set on a copy of a slice from a DataFrame.\n",
      "Try using .loc[row_indexer,col_indexer] = value instead\n",
      "\n",
      "See the caveats in the documentation: http://pandas.pydata.org/pandas-docs/stable/indexing.html#indexing-view-versus-copy\n",
      "\n"
     ]
    }
   ],
   "source": [
    "from collections import Counter\n",
    "movieDatabase[\"Clean All\"] = movieDatabase[\"Clean All\"].apply(lambda x : Counter(x))"
   ]
  },
  {
   "cell_type": "markdown",
   "metadata": {},
   "source": [
    "# Computing the TF "
   ]
  },
  {
   "cell_type": "code",
   "execution_count": 68,
   "metadata": {},
   "outputs": [],
   "source": [
    "def computeTF(doc_words):\n",
    "    bow = 0\n",
    "    for k, v in doc_words.items():\n",
    "        bow = bow + v\n",
    "    tf_word = {}\n",
    "    for word, count in doc_words.items():\n",
    "        tf_word[word] = count / float(bow)\n",
    "    return tf_word"
   ]
  },
  {
   "cell_type": "code",
   "execution_count": 69,
   "metadata": {},
   "outputs": [
    {
     "name": "stderr",
     "output_type": "stream",
     "text": [
      "/Users/salwaali/anaconda3/lib/python3.7/site-packages/ipykernel_launcher.py:4: SettingWithCopyWarning:\n",
      "\n",
      "\n",
      "A value is trying to be set on a copy of a slice from a DataFrame.\n",
      "Try using .loc[row_indexer,col_indexer] = value instead\n",
      "\n",
      "See the caveats in the documentation: http://pandas.pydata.org/pandas-docs/stable/indexing.html#indexing-view-versus-copy\n",
      "\n"
     ]
    }
   ],
   "source": [
    "TF = []\n",
    "for i in range(len(movieDatabase[\"Clean All\"])):\n",
    "    TF.append(computeTF(movieDatabase[\"Clean All\"][i]))\n",
    "movieDatabase[\"TF\"] = TF"
   ]
  },
  {
   "cell_type": "code",
   "execution_count": 70,
   "metadata": {},
   "outputs": [
    {
     "data": {
      "text/html": [
       "<div>\n",
       "<style scoped>\n",
       "    .dataframe tbody tr th:only-of-type {\n",
       "        vertical-align: middle;\n",
       "    }\n",
       "\n",
       "    .dataframe tbody tr th {\n",
       "        vertical-align: top;\n",
       "    }\n",
       "\n",
       "    .dataframe thead th {\n",
       "        text-align: right;\n",
       "    }\n",
       "</style>\n",
       "<table border=\"1\" class=\"dataframe\">\n",
       "  <thead>\n",
       "    <tr style=\"text-align: right;\">\n",
       "      <th></th>\n",
       "      <th>Title</th>\n",
       "      <th>Intro</th>\n",
       "      <th>Plot</th>\n",
       "      <th>Directed by</th>\n",
       "      <th>Produced by</th>\n",
       "      <th>Written by</th>\n",
       "      <th>Starring</th>\n",
       "      <th>Music by</th>\n",
       "      <th>Release date</th>\n",
       "      <th>Running time</th>\n",
       "      <th>Country</th>\n",
       "      <th>Language</th>\n",
       "      <th>Budget</th>\n",
       "      <th>URL</th>\n",
       "      <th>Clean All</th>\n",
       "      <th>TF</th>\n",
       "    </tr>\n",
       "  </thead>\n",
       "  <tbody>\n",
       "    <tr>\n",
       "      <th>0</th>\n",
       "      <td>Love by the Light of the Moon</td>\n",
       "      <td>Love by the Light of the Moon is a 1901 film b...</td>\n",
       "      <td>The moon, painted with a smiling face hangs ov...</td>\n",
       "      <td>Edwin S. Porter</td>\n",
       "      <td>NaN</td>\n",
       "      <td>NaN</td>\n",
       "      <td>NaN</td>\n",
       "      <td>NaN</td>\n",
       "      <td>1901 (1901)</td>\n",
       "      <td>NaN</td>\n",
       "      <td>United States</td>\n",
       "      <td>Silent</td>\n",
       "      <td>NaN</td>\n",
       "      <td>https://en.wikipedia.org/wiki/Love_by_the_Ligh...</td>\n",
       "      <td>{38525: 9, 91446: 1, 32484: 3, 61054: 1, 74249...</td>\n",
       "      <td>{38525: 0.10843373493975904, 91446: 0.01204819...</td>\n",
       "    </tr>\n",
       "    <tr>\n",
       "      <th>1</th>\n",
       "      <td>The Martyred Presidents</td>\n",
       "      <td>The Martyred Presidents is a 1901 American fil...</td>\n",
       "      <td>The film, just over a minute long, is composed...</td>\n",
       "      <td>Edwin S. Porter</td>\n",
       "      <td>NaN</td>\n",
       "      <td>NaN</td>\n",
       "      <td>See below</td>\n",
       "      <td>NaN</td>\n",
       "      <td>1901</td>\n",
       "      <td>1 minutes</td>\n",
       "      <td>United States</td>\n",
       "      <td>English</td>\n",
       "      <td>NaN</td>\n",
       "      <td>https://en.wikipedia.org/wiki/The_Martyred_Pre...</td>\n",
       "      <td>{69768: 2, 26974: 1, 5376: 2, 100939: 1, 84397...</td>\n",
       "      <td>{69768: 0.034482758620689655, 26974: 0.0172413...</td>\n",
       "    </tr>\n",
       "    <tr>\n",
       "      <th>2</th>\n",
       "      <td>Terrible Teddy, the Grizzly King</td>\n",
       "      <td>Terrible Teddy, the Grizzly King is a 1901 Ame...</td>\n",
       "      <td>Lasting just 61 seconds and consisting of two ...</td>\n",
       "      <td>NaN</td>\n",
       "      <td>NaN</td>\n",
       "      <td>NaN</td>\n",
       "      <td>NaN</td>\n",
       "      <td>NaN</td>\n",
       "      <td>NaN</td>\n",
       "      <td>NaN</td>\n",
       "      <td>NaN</td>\n",
       "      <td>NaN</td>\n",
       "      <td>NaN</td>\n",
       "      <td>https://en.wikipedia.org/wiki/Terrible_Teddy,_...</td>\n",
       "      <td>{107333: 1, 81865: 1, 35021: 2, 104220: 1, 843...</td>\n",
       "      <td>{107333: 0.008064516129032258, 81865: 0.008064...</td>\n",
       "    </tr>\n",
       "  </tbody>\n",
       "</table>\n",
       "</div>"
      ],
      "text/plain": [
       "                              Title  \\\n",
       "0     Love by the Light of the Moon   \n",
       "1           The Martyred Presidents   \n",
       "2  Terrible Teddy, the Grizzly King   \n",
       "\n",
       "                                               Intro  \\\n",
       "0  Love by the Light of the Moon is a 1901 film b...   \n",
       "1  The Martyred Presidents is a 1901 American fil...   \n",
       "2  Terrible Teddy, the Grizzly King is a 1901 Ame...   \n",
       "\n",
       "                                                Plot      Directed by  \\\n",
       "0  The moon, painted with a smiling face hangs ov...  Edwin S. Porter   \n",
       "1  The film, just over a minute long, is composed...  Edwin S. Porter   \n",
       "2  Lasting just 61 seconds and consisting of two ...              NaN   \n",
       "\n",
       "  Produced by Written by   Starring Music by Release date Running time  \\\n",
       "0         NaN        NaN        NaN      NaN  1901 (1901)          NaN   \n",
       "1         NaN        NaN  See below      NaN         1901    1 minutes   \n",
       "2         NaN        NaN        NaN      NaN          NaN          NaN   \n",
       "\n",
       "         Country Language Budget  \\\n",
       "0  United States   Silent    NaN   \n",
       "1  United States  English    NaN   \n",
       "2            NaN      NaN    NaN   \n",
       "\n",
       "                                                 URL  \\\n",
       "0  https://en.wikipedia.org/wiki/Love_by_the_Ligh...   \n",
       "1  https://en.wikipedia.org/wiki/The_Martyred_Pre...   \n",
       "2  https://en.wikipedia.org/wiki/Terrible_Teddy,_...   \n",
       "\n",
       "                                           Clean All  \\\n",
       "0  {38525: 9, 91446: 1, 32484: 3, 61054: 1, 74249...   \n",
       "1  {69768: 2, 26974: 1, 5376: 2, 100939: 1, 84397...   \n",
       "2  {107333: 1, 81865: 1, 35021: 2, 104220: 1, 843...   \n",
       "\n",
       "                                                  TF  \n",
       "0  {38525: 0.10843373493975904, 91446: 0.01204819...  \n",
       "1  {69768: 0.034482758620689655, 26974: 0.0172413...  \n",
       "2  {107333: 0.008064516129032258, 81865: 0.008064...  "
      ]
     },
     "execution_count": 70,
     "metadata": {},
     "output_type": "execute_result"
    }
   ],
   "source": [
    "movieDatabase.head(3)"
   ]
  },
  {
   "cell_type": "markdown",
   "metadata": {},
   "source": [
    " # 2.1.1) Create your index!"
   ]
  },
  {
   "cell_type": "code",
   "execution_count": 62,
   "metadata": {},
   "outputs": [],
   "source": [
    "# This dictionary has keys the term ids and as corresponding values the list of documents where the term id exists\n",
    "# We save this dictionrary into a JSON file for future use\n",
    "\n",
    "inverted_index = defaultdict(list)\n",
    "for i in range(len(movieDatabase)):\n",
    "    for keys, values in movieDatabase[\"Clean All\"][i].items():\n",
    "        inverted_index[keys].append(i)\n",
    "        \n",
    "# We save this dictionrary into a JSON file for future use        \n",
    "with open(\"inverted_index.json\", \"w\", encoding = \"utf8\") as i_d:\n",
    "    i_d.write(json.dumps(inverted_index))\n"
   ]
  },
  {
   "cell_type": "markdown",
   "metadata": {},
   "source": [
    " # 2.2.1) Inverted Index\n"
   ]
  },
  {
   "cell_type": "code",
   "execution_count": 71,
   "metadata": {},
   "outputs": [
    {
     "name": "stderr",
     "output_type": "stream",
     "text": [
      "/Users/salwaali/anaconda3/lib/python3.7/site-packages/ipykernel_launcher.py:18: SettingWithCopyWarning:\n",
      "\n",
      "\n",
      "A value is trying to be set on a copy of a slice from a DataFrame.\n",
      "Try using .loc[row_indexer,col_indexer] = value instead\n",
      "\n",
      "See the caveats in the documentation: http://pandas.pydata.org/pandas-docs/stable/indexing.html#indexing-view-versus-copy\n",
      "\n"
     ]
    }
   ],
   "source": [
    "# We are creating a function to compute the tf_idf of a specific documents and a specific term\n",
    "# We save this dictionrary into a JSON file for future use\n",
    "idf = {}\n",
    "for k, v in vocab.items():\n",
    "    idf[v] = math.log(len(movieDatabase[\"Clean All\"])/len(inverted_index[v]), 10)\n",
    "with open(\"idf.json\", \"w\", encoding = \"utf8\") as i_d_f:\n",
    "    i_d_f.write(json.dumps(idf))\n",
    "\n",
    "# We are computing the norm of the tf_idfs for all the documents and terms that exist on those\n",
    "# movieDatabase[\"Clean All\"] has all the words that exists in the document with the corresponding frequencies\n",
    "# we store this information in a new column   \n",
    "the_norm = []\n",
    "for i in range(len(movieDatabase)):\n",
    "    suma = 0\n",
    "    for word in movieDatabase[\"Clean All\"][i].keys():\n",
    "        suma = suma + (movieDatabase[\"TF\"][i][word]*idf[word])**2\n",
    "    the_norm.append(suma**(1/2))\n",
    "movieDatabase[\"Norm\"] = the_norm"
   ]
  },
  {
   "cell_type": "markdown",
   "metadata": {},
   "source": [
    "# We are computing the norm of the tf_idfs for all the documents and terms that exist on those\n",
    "# movieDatabase[\"Clean All\"] has all the words that exists in the document with the corresponding frequencies\n",
    "# we store this information in a new column  "
   ]
  },
  {
   "cell_type": "code",
   "execution_count": 73,
   "metadata": {},
   "outputs": [],
   "source": [
    "the_norm = []\n",
    "for i in range(len(movieDatabase)):\n",
    "    suma = 0\n",
    "    for word in movieDatabase[\"Clean All\"][i].keys():\n",
    "        suma = suma + (movieDatabase[\"TF\"][i][word]*idf[word])**2\n",
    "    the_norm.append(suma**(1/2))\n",
    "movieDatabase[\"Norm\"] = the_norm"
   ]
  },
  {
   "cell_type": "markdown",
   "metadata": {},
   "source": [
    "# Calculated idf for all the terms in all the documents"
   ]
  },
  {
   "cell_type": "code",
   "execution_count": 74,
   "metadata": {},
   "outputs": [],
   "source": [
    "# We are creating idf for all the terms in all the documents and we save it for future use\n",
    "# We will need it for calculating the tf_idf for the query\n",
    "\n",
    "idf = {}\n",
    "for k, v in vocab.items():\n",
    "    idf[v] = math.log(len(movieDatabase[\"Clean All\"])/len(inverted_index[v]))\n",
    "with open(\"idf.json\", \"w\", encoding = \"utf8\") as i_d_f:\n",
    "    i_d_f.write(json.dumps(idf))\n",
    "\n",
    "\n",
    "\n",
    "# We create a function tf_idf so we can calculate the tfidf\n",
    "# INPUT: docid, termid\n",
    "# OUTPUT: tfidf for the input  \n",
    "\n",
    "def tf_idf(docid, termid):\n",
    "    return((movieDatabase[\"Clean All\"][docid][termid]*idf[termid])/sum(movieDatabase[\"Clean All\"][docid]))\n"
   ]
  },
  {
   "cell_type": "markdown",
   "metadata": {},
   "source": [
    "# We create a dictionary inverted_index_2."
   ]
  },
  {
   "cell_type": "code",
   "execution_count": 76,
   "metadata": {},
   "outputs": [],
   "source": [
    "# We create a dictionary inverted_index_2. This dictionary has keys the term ids and as corresponding values the list of tuples.\n",
    "# These tuples contain the documents where the term id exists and the corresponding NORMALIZED tf_idf\n",
    "\n",
    "inverted_index_2 = defaultdict(list)\n",
    "for k, v in inverted_index.items():\n",
    "    for l in v:\n",
    "        inverted_index_2[k].append((l, tf_idf(l,k)/movieDatabase[\"Norm\"][l]))\n",
    "        \n",
    "with open(\"inverted_index_2.json\", \"w\", encoding = \"utf8\") as i_d_2:\n",
    "    i_d_2.write(json.dumps(inverted_index_2))\n"
   ]
  },
  {
   "cell_type": "markdown",
   "metadata": {},
   "source": [
    "# 2.1.2) Execute the query"
   ]
  },
  {
   "cell_type": "code",
   "execution_count": 77,
   "metadata": {},
   "outputs": [],
   "source": [
    "def SearchEngine1():\n",
    "    movieDatabase = pd.read_csv(r\"/Users/salwaali/Desktop/FINAL_ADM_HW3/ADM-HW3-master/searchenginedata1.csv\", header=0)\n",
    "    query = input()\n",
    "    query=cleanQ(query)\n",
    "    vocab=json.loads(open(\"vocabulary.json\").read())\n",
    "    inverted_index = json.loads(open(\"inverted_index.json\").read())\n",
    "    the_title = []\n",
    "    the_intro = []\n",
    "    the_url = []\n",
    "    movies = range(len(movieDatabase))\n",
    "    movies = set(movies)\n",
    "    flag = 0\n",
    "    for word in query:\n",
    "        if word in vocab.keys():\n",
    "            term_id = vocab[word]\n",
    "            #print(term_id)\n",
    "            movies = movies.intersection(inverted_index[str(term_id)])\n",
    "            #print(movies)\n",
    "        else:\n",
    "            flag = 1\n",
    "            return(\"Not Found\")\n",
    "            break\n",
    "    if flag == 0:\n",
    "        for index in movies:\n",
    "            the_title.append(movieDatabase.Title[index])\n",
    "            the_intro.append(movieDatabase.Intro[index])\n",
    "            the_url.append(movieDatabase[\"URL\"][index])\n",
    "            \n",
    "        fig = go.Figure(data=[go.Table(header=dict(values=['Title', 'Intro', 'URL']),\n",
    "                 cells=dict(values=[the_title, the_intro, the_url]))\n",
    "                     ])\n",
    "        fig.update_layout(width=2000, height=1000)\n",
    "        fig.show()"
   ]
  },
  {
   "cell_type": "code",
   "execution_count": 87,
   "metadata": {},
   "outputs": [
    {
     "name": "stdout",
     "output_type": "stream",
     "text": [
      "zorba the greek cypriot\n"
     ]
    },
    {
     "data": {
      "application/vnd.plotly.v1+json": {
       "config": {
        "plotlyServerURL": "https://plot.ly"
       },
       "data": [
        {
         "cells": {
          "values": [
           [
            "Zorba the Greek (film)"
           ],
           [
            "Zorba the Greek (Greek: Αλέξης Ζορμπάς, Alexis Zorbas) is a 1964 British-Greek comedy-drama film written, produced, edited, and directed by Greek Cypriot Michael Cacoyannis and starring Anthony Quinn as the titular character. Based on the 1946 novel The Life And Times Of Alexis Zorba by Nikos Kazantzakis, the film's cast includes Alan Bates, Lila Kedrova, Irene Papas, and Sotiris Moustakas."
           ],
           [
            "https://en.wikipedia.org/wiki/Zorba_the_Greek_(film)"
           ]
          ]
         },
         "header": {
          "values": [
           "Title",
           "Intro",
           "URL"
          ]
         },
         "type": "table"
        }
       ],
       "layout": {
        "height": 1000,
        "template": {
         "data": {
          "bar": [
           {
            "error_x": {
             "color": "#2a3f5f"
            },
            "error_y": {
             "color": "#2a3f5f"
            },
            "marker": {
             "line": {
              "color": "#E5ECF6",
              "width": 0.5
             }
            },
            "type": "bar"
           }
          ],
          "barpolar": [
           {
            "marker": {
             "line": {
              "color": "#E5ECF6",
              "width": 0.5
             }
            },
            "type": "barpolar"
           }
          ],
          "carpet": [
           {
            "aaxis": {
             "endlinecolor": "#2a3f5f",
             "gridcolor": "white",
             "linecolor": "white",
             "minorgridcolor": "white",
             "startlinecolor": "#2a3f5f"
            },
            "baxis": {
             "endlinecolor": "#2a3f5f",
             "gridcolor": "white",
             "linecolor": "white",
             "minorgridcolor": "white",
             "startlinecolor": "#2a3f5f"
            },
            "type": "carpet"
           }
          ],
          "choropleth": [
           {
            "colorbar": {
             "outlinewidth": 0,
             "ticks": ""
            },
            "type": "choropleth"
           }
          ],
          "contour": [
           {
            "colorbar": {
             "outlinewidth": 0,
             "ticks": ""
            },
            "colorscale": [
             [
              0,
              "#0d0887"
             ],
             [
              0.1111111111111111,
              "#46039f"
             ],
             [
              0.2222222222222222,
              "#7201a8"
             ],
             [
              0.3333333333333333,
              "#9c179e"
             ],
             [
              0.4444444444444444,
              "#bd3786"
             ],
             [
              0.5555555555555556,
              "#d8576b"
             ],
             [
              0.6666666666666666,
              "#ed7953"
             ],
             [
              0.7777777777777778,
              "#fb9f3a"
             ],
             [
              0.8888888888888888,
              "#fdca26"
             ],
             [
              1,
              "#f0f921"
             ]
            ],
            "type": "contour"
           }
          ],
          "contourcarpet": [
           {
            "colorbar": {
             "outlinewidth": 0,
             "ticks": ""
            },
            "type": "contourcarpet"
           }
          ],
          "heatmap": [
           {
            "colorbar": {
             "outlinewidth": 0,
             "ticks": ""
            },
            "colorscale": [
             [
              0,
              "#0d0887"
             ],
             [
              0.1111111111111111,
              "#46039f"
             ],
             [
              0.2222222222222222,
              "#7201a8"
             ],
             [
              0.3333333333333333,
              "#9c179e"
             ],
             [
              0.4444444444444444,
              "#bd3786"
             ],
             [
              0.5555555555555556,
              "#d8576b"
             ],
             [
              0.6666666666666666,
              "#ed7953"
             ],
             [
              0.7777777777777778,
              "#fb9f3a"
             ],
             [
              0.8888888888888888,
              "#fdca26"
             ],
             [
              1,
              "#f0f921"
             ]
            ],
            "type": "heatmap"
           }
          ],
          "heatmapgl": [
           {
            "colorbar": {
             "outlinewidth": 0,
             "ticks": ""
            },
            "colorscale": [
             [
              0,
              "#0d0887"
             ],
             [
              0.1111111111111111,
              "#46039f"
             ],
             [
              0.2222222222222222,
              "#7201a8"
             ],
             [
              0.3333333333333333,
              "#9c179e"
             ],
             [
              0.4444444444444444,
              "#bd3786"
             ],
             [
              0.5555555555555556,
              "#d8576b"
             ],
             [
              0.6666666666666666,
              "#ed7953"
             ],
             [
              0.7777777777777778,
              "#fb9f3a"
             ],
             [
              0.8888888888888888,
              "#fdca26"
             ],
             [
              1,
              "#f0f921"
             ]
            ],
            "type": "heatmapgl"
           }
          ],
          "histogram": [
           {
            "marker": {
             "colorbar": {
              "outlinewidth": 0,
              "ticks": ""
             }
            },
            "type": "histogram"
           }
          ],
          "histogram2d": [
           {
            "colorbar": {
             "outlinewidth": 0,
             "ticks": ""
            },
            "colorscale": [
             [
              0,
              "#0d0887"
             ],
             [
              0.1111111111111111,
              "#46039f"
             ],
             [
              0.2222222222222222,
              "#7201a8"
             ],
             [
              0.3333333333333333,
              "#9c179e"
             ],
             [
              0.4444444444444444,
              "#bd3786"
             ],
             [
              0.5555555555555556,
              "#d8576b"
             ],
             [
              0.6666666666666666,
              "#ed7953"
             ],
             [
              0.7777777777777778,
              "#fb9f3a"
             ],
             [
              0.8888888888888888,
              "#fdca26"
             ],
             [
              1,
              "#f0f921"
             ]
            ],
            "type": "histogram2d"
           }
          ],
          "histogram2dcontour": [
           {
            "colorbar": {
             "outlinewidth": 0,
             "ticks": ""
            },
            "colorscale": [
             [
              0,
              "#0d0887"
             ],
             [
              0.1111111111111111,
              "#46039f"
             ],
             [
              0.2222222222222222,
              "#7201a8"
             ],
             [
              0.3333333333333333,
              "#9c179e"
             ],
             [
              0.4444444444444444,
              "#bd3786"
             ],
             [
              0.5555555555555556,
              "#d8576b"
             ],
             [
              0.6666666666666666,
              "#ed7953"
             ],
             [
              0.7777777777777778,
              "#fb9f3a"
             ],
             [
              0.8888888888888888,
              "#fdca26"
             ],
             [
              1,
              "#f0f921"
             ]
            ],
            "type": "histogram2dcontour"
           }
          ],
          "mesh3d": [
           {
            "colorbar": {
             "outlinewidth": 0,
             "ticks": ""
            },
            "type": "mesh3d"
           }
          ],
          "parcoords": [
           {
            "line": {
             "colorbar": {
              "outlinewidth": 0,
              "ticks": ""
             }
            },
            "type": "parcoords"
           }
          ],
          "pie": [
           {
            "automargin": true,
            "type": "pie"
           }
          ],
          "scatter": [
           {
            "marker": {
             "colorbar": {
              "outlinewidth": 0,
              "ticks": ""
             }
            },
            "type": "scatter"
           }
          ],
          "scatter3d": [
           {
            "line": {
             "colorbar": {
              "outlinewidth": 0,
              "ticks": ""
             }
            },
            "marker": {
             "colorbar": {
              "outlinewidth": 0,
              "ticks": ""
             }
            },
            "type": "scatter3d"
           }
          ],
          "scattercarpet": [
           {
            "marker": {
             "colorbar": {
              "outlinewidth": 0,
              "ticks": ""
             }
            },
            "type": "scattercarpet"
           }
          ],
          "scattergeo": [
           {
            "marker": {
             "colorbar": {
              "outlinewidth": 0,
              "ticks": ""
             }
            },
            "type": "scattergeo"
           }
          ],
          "scattergl": [
           {
            "marker": {
             "colorbar": {
              "outlinewidth": 0,
              "ticks": ""
             }
            },
            "type": "scattergl"
           }
          ],
          "scattermapbox": [
           {
            "marker": {
             "colorbar": {
              "outlinewidth": 0,
              "ticks": ""
             }
            },
            "type": "scattermapbox"
           }
          ],
          "scatterpolar": [
           {
            "marker": {
             "colorbar": {
              "outlinewidth": 0,
              "ticks": ""
             }
            },
            "type": "scatterpolar"
           }
          ],
          "scatterpolargl": [
           {
            "marker": {
             "colorbar": {
              "outlinewidth": 0,
              "ticks": ""
             }
            },
            "type": "scatterpolargl"
           }
          ],
          "scatterternary": [
           {
            "marker": {
             "colorbar": {
              "outlinewidth": 0,
              "ticks": ""
             }
            },
            "type": "scatterternary"
           }
          ],
          "surface": [
           {
            "colorbar": {
             "outlinewidth": 0,
             "ticks": ""
            },
            "colorscale": [
             [
              0,
              "#0d0887"
             ],
             [
              0.1111111111111111,
              "#46039f"
             ],
             [
              0.2222222222222222,
              "#7201a8"
             ],
             [
              0.3333333333333333,
              "#9c179e"
             ],
             [
              0.4444444444444444,
              "#bd3786"
             ],
             [
              0.5555555555555556,
              "#d8576b"
             ],
             [
              0.6666666666666666,
              "#ed7953"
             ],
             [
              0.7777777777777778,
              "#fb9f3a"
             ],
             [
              0.8888888888888888,
              "#fdca26"
             ],
             [
              1,
              "#f0f921"
             ]
            ],
            "type": "surface"
           }
          ],
          "table": [
           {
            "cells": {
             "fill": {
              "color": "#EBF0F8"
             },
             "line": {
              "color": "white"
             }
            },
            "header": {
             "fill": {
              "color": "#C8D4E3"
             },
             "line": {
              "color": "white"
             }
            },
            "type": "table"
           }
          ]
         },
         "layout": {
          "annotationdefaults": {
           "arrowcolor": "#2a3f5f",
           "arrowhead": 0,
           "arrowwidth": 1
          },
          "coloraxis": {
           "colorbar": {
            "outlinewidth": 0,
            "ticks": ""
           }
          },
          "colorscale": {
           "diverging": [
            [
             0,
             "#8e0152"
            ],
            [
             0.1,
             "#c51b7d"
            ],
            [
             0.2,
             "#de77ae"
            ],
            [
             0.3,
             "#f1b6da"
            ],
            [
             0.4,
             "#fde0ef"
            ],
            [
             0.5,
             "#f7f7f7"
            ],
            [
             0.6,
             "#e6f5d0"
            ],
            [
             0.7,
             "#b8e186"
            ],
            [
             0.8,
             "#7fbc41"
            ],
            [
             0.9,
             "#4d9221"
            ],
            [
             1,
             "#276419"
            ]
           ],
           "sequential": [
            [
             0,
             "#0d0887"
            ],
            [
             0.1111111111111111,
             "#46039f"
            ],
            [
             0.2222222222222222,
             "#7201a8"
            ],
            [
             0.3333333333333333,
             "#9c179e"
            ],
            [
             0.4444444444444444,
             "#bd3786"
            ],
            [
             0.5555555555555556,
             "#d8576b"
            ],
            [
             0.6666666666666666,
             "#ed7953"
            ],
            [
             0.7777777777777778,
             "#fb9f3a"
            ],
            [
             0.8888888888888888,
             "#fdca26"
            ],
            [
             1,
             "#f0f921"
            ]
           ],
           "sequentialminus": [
            [
             0,
             "#0d0887"
            ],
            [
             0.1111111111111111,
             "#46039f"
            ],
            [
             0.2222222222222222,
             "#7201a8"
            ],
            [
             0.3333333333333333,
             "#9c179e"
            ],
            [
             0.4444444444444444,
             "#bd3786"
            ],
            [
             0.5555555555555556,
             "#d8576b"
            ],
            [
             0.6666666666666666,
             "#ed7953"
            ],
            [
             0.7777777777777778,
             "#fb9f3a"
            ],
            [
             0.8888888888888888,
             "#fdca26"
            ],
            [
             1,
             "#f0f921"
            ]
           ]
          },
          "colorway": [
           "#636efa",
           "#EF553B",
           "#00cc96",
           "#ab63fa",
           "#FFA15A",
           "#19d3f3",
           "#FF6692",
           "#B6E880",
           "#FF97FF",
           "#FECB52"
          ],
          "font": {
           "color": "#2a3f5f"
          },
          "geo": {
           "bgcolor": "white",
           "lakecolor": "white",
           "landcolor": "#E5ECF6",
           "showlakes": true,
           "showland": true,
           "subunitcolor": "white"
          },
          "hoverlabel": {
           "align": "left"
          },
          "hovermode": "closest",
          "mapbox": {
           "style": "light"
          },
          "paper_bgcolor": "white",
          "plot_bgcolor": "#E5ECF6",
          "polar": {
           "angularaxis": {
            "gridcolor": "white",
            "linecolor": "white",
            "ticks": ""
           },
           "bgcolor": "#E5ECF6",
           "radialaxis": {
            "gridcolor": "white",
            "linecolor": "white",
            "ticks": ""
           }
          },
          "scene": {
           "xaxis": {
            "backgroundcolor": "#E5ECF6",
            "gridcolor": "white",
            "gridwidth": 2,
            "linecolor": "white",
            "showbackground": true,
            "ticks": "",
            "zerolinecolor": "white"
           },
           "yaxis": {
            "backgroundcolor": "#E5ECF6",
            "gridcolor": "white",
            "gridwidth": 2,
            "linecolor": "white",
            "showbackground": true,
            "ticks": "",
            "zerolinecolor": "white"
           },
           "zaxis": {
            "backgroundcolor": "#E5ECF6",
            "gridcolor": "white",
            "gridwidth": 2,
            "linecolor": "white",
            "showbackground": true,
            "ticks": "",
            "zerolinecolor": "white"
           }
          },
          "shapedefaults": {
           "line": {
            "color": "#2a3f5f"
           }
          },
          "ternary": {
           "aaxis": {
            "gridcolor": "white",
            "linecolor": "white",
            "ticks": ""
           },
           "baxis": {
            "gridcolor": "white",
            "linecolor": "white",
            "ticks": ""
           },
           "bgcolor": "#E5ECF6",
           "caxis": {
            "gridcolor": "white",
            "linecolor": "white",
            "ticks": ""
           }
          },
          "title": {
           "x": 0.05
          },
          "xaxis": {
           "automargin": true,
           "gridcolor": "white",
           "linecolor": "white",
           "ticks": "",
           "title": {
            "standoff": 15
           },
           "zerolinecolor": "white",
           "zerolinewidth": 2
          },
          "yaxis": {
           "automargin": true,
           "gridcolor": "white",
           "linecolor": "white",
           "ticks": "",
           "title": {
            "standoff": 15
           },
           "zerolinecolor": "white",
           "zerolinewidth": 2
          }
         }
        },
        "width": 2000
       }
      },
      "text/html": [
       "<div>\n",
       "        \n",
       "        \n",
       "            <div id=\"ea46c9c8-f555-446b-b3ba-506a48409d0f\" class=\"plotly-graph-div\" style=\"height:1000px; width:2000px;\"></div>\n",
       "            <script type=\"text/javascript\">\n",
       "                require([\"plotly\"], function(Plotly) {\n",
       "                    window.PLOTLYENV=window.PLOTLYENV || {};\n",
       "                    \n",
       "                if (document.getElementById(\"ea46c9c8-f555-446b-b3ba-506a48409d0f\")) {\n",
       "                    Plotly.newPlot(\n",
       "                        'ea46c9c8-f555-446b-b3ba-506a48409d0f',\n",
       "                        [{\"cells\": {\"values\": [[\"Zorba the Greek (film)\"], [\"Zorba the Greek (Greek: \\u0391\\u03bb\\u03ad\\u03be\\u03b7\\u03c2 \\u0396\\u03bf\\u03c1\\u03bc\\u03c0\\u03ac\\u03c2, Alexis Zorbas) is a 1964 British-Greek comedy-drama film written, produced, edited, and directed by Greek Cypriot Michael Cacoyannis and starring Anthony Quinn as the titular character. Based on the 1946 novel The Life And Times Of Alexis Zorba by Nikos Kazantzakis, the film's cast includes Alan Bates, Lila Kedrova, Irene Papas, and Sotiris Moustakas.\"], [\"https://en.wikipedia.org/wiki/Zorba_the_Greek_(film)\"]]}, \"header\": {\"values\": [\"Title\", \"Intro\", \"URL\"]}, \"type\": \"table\"}],\n",
       "                        {\"height\": 1000, \"template\": {\"data\": {\"bar\": [{\"error_x\": {\"color\": \"#2a3f5f\"}, \"error_y\": {\"color\": \"#2a3f5f\"}, \"marker\": {\"line\": {\"color\": \"#E5ECF6\", \"width\": 0.5}}, \"type\": \"bar\"}], \"barpolar\": [{\"marker\": {\"line\": {\"color\": \"#E5ECF6\", \"width\": 0.5}}, \"type\": \"barpolar\"}], \"carpet\": [{\"aaxis\": {\"endlinecolor\": \"#2a3f5f\", \"gridcolor\": \"white\", \"linecolor\": \"white\", \"minorgridcolor\": \"white\", \"startlinecolor\": \"#2a3f5f\"}, \"baxis\": {\"endlinecolor\": \"#2a3f5f\", \"gridcolor\": \"white\", \"linecolor\": \"white\", \"minorgridcolor\": \"white\", \"startlinecolor\": \"#2a3f5f\"}, \"type\": \"carpet\"}], \"choropleth\": [{\"colorbar\": {\"outlinewidth\": 0, \"ticks\": \"\"}, \"type\": \"choropleth\"}], \"contour\": [{\"colorbar\": {\"outlinewidth\": 0, \"ticks\": \"\"}, \"colorscale\": [[0.0, \"#0d0887\"], [0.1111111111111111, \"#46039f\"], [0.2222222222222222, \"#7201a8\"], [0.3333333333333333, \"#9c179e\"], [0.4444444444444444, \"#bd3786\"], [0.5555555555555556, \"#d8576b\"], [0.6666666666666666, \"#ed7953\"], [0.7777777777777778, \"#fb9f3a\"], [0.8888888888888888, \"#fdca26\"], [1.0, \"#f0f921\"]], \"type\": \"contour\"}], \"contourcarpet\": [{\"colorbar\": {\"outlinewidth\": 0, \"ticks\": \"\"}, \"type\": \"contourcarpet\"}], \"heatmap\": [{\"colorbar\": {\"outlinewidth\": 0, \"ticks\": \"\"}, \"colorscale\": [[0.0, \"#0d0887\"], [0.1111111111111111, \"#46039f\"], [0.2222222222222222, \"#7201a8\"], [0.3333333333333333, \"#9c179e\"], [0.4444444444444444, \"#bd3786\"], [0.5555555555555556, \"#d8576b\"], [0.6666666666666666, \"#ed7953\"], [0.7777777777777778, \"#fb9f3a\"], [0.8888888888888888, \"#fdca26\"], [1.0, \"#f0f921\"]], \"type\": \"heatmap\"}], \"heatmapgl\": [{\"colorbar\": {\"outlinewidth\": 0, \"ticks\": \"\"}, \"colorscale\": [[0.0, \"#0d0887\"], [0.1111111111111111, \"#46039f\"], [0.2222222222222222, \"#7201a8\"], [0.3333333333333333, \"#9c179e\"], [0.4444444444444444, \"#bd3786\"], [0.5555555555555556, \"#d8576b\"], [0.6666666666666666, \"#ed7953\"], [0.7777777777777778, \"#fb9f3a\"], [0.8888888888888888, \"#fdca26\"], [1.0, \"#f0f921\"]], \"type\": \"heatmapgl\"}], \"histogram\": [{\"marker\": {\"colorbar\": {\"outlinewidth\": 0, \"ticks\": \"\"}}, \"type\": \"histogram\"}], \"histogram2d\": [{\"colorbar\": {\"outlinewidth\": 0, \"ticks\": \"\"}, \"colorscale\": [[0.0, \"#0d0887\"], [0.1111111111111111, \"#46039f\"], [0.2222222222222222, \"#7201a8\"], [0.3333333333333333, \"#9c179e\"], [0.4444444444444444, \"#bd3786\"], [0.5555555555555556, \"#d8576b\"], [0.6666666666666666, \"#ed7953\"], [0.7777777777777778, \"#fb9f3a\"], [0.8888888888888888, \"#fdca26\"], [1.0, \"#f0f921\"]], \"type\": \"histogram2d\"}], \"histogram2dcontour\": [{\"colorbar\": {\"outlinewidth\": 0, \"ticks\": \"\"}, \"colorscale\": [[0.0, \"#0d0887\"], [0.1111111111111111, \"#46039f\"], [0.2222222222222222, \"#7201a8\"], [0.3333333333333333, \"#9c179e\"], [0.4444444444444444, \"#bd3786\"], [0.5555555555555556, \"#d8576b\"], [0.6666666666666666, \"#ed7953\"], [0.7777777777777778, \"#fb9f3a\"], [0.8888888888888888, \"#fdca26\"], [1.0, \"#f0f921\"]], \"type\": \"histogram2dcontour\"}], \"mesh3d\": [{\"colorbar\": {\"outlinewidth\": 0, \"ticks\": \"\"}, \"type\": \"mesh3d\"}], \"parcoords\": [{\"line\": {\"colorbar\": {\"outlinewidth\": 0, \"ticks\": \"\"}}, \"type\": \"parcoords\"}], \"pie\": [{\"automargin\": true, \"type\": \"pie\"}], \"scatter\": [{\"marker\": {\"colorbar\": {\"outlinewidth\": 0, \"ticks\": \"\"}}, \"type\": \"scatter\"}], \"scatter3d\": [{\"line\": {\"colorbar\": {\"outlinewidth\": 0, \"ticks\": \"\"}}, \"marker\": {\"colorbar\": {\"outlinewidth\": 0, \"ticks\": \"\"}}, \"type\": \"scatter3d\"}], \"scattercarpet\": [{\"marker\": {\"colorbar\": {\"outlinewidth\": 0, \"ticks\": \"\"}}, \"type\": \"scattercarpet\"}], \"scattergeo\": [{\"marker\": {\"colorbar\": {\"outlinewidth\": 0, \"ticks\": \"\"}}, \"type\": \"scattergeo\"}], \"scattergl\": [{\"marker\": {\"colorbar\": {\"outlinewidth\": 0, \"ticks\": \"\"}}, \"type\": \"scattergl\"}], \"scattermapbox\": [{\"marker\": {\"colorbar\": {\"outlinewidth\": 0, \"ticks\": \"\"}}, \"type\": \"scattermapbox\"}], \"scatterpolar\": [{\"marker\": {\"colorbar\": {\"outlinewidth\": 0, \"ticks\": \"\"}}, \"type\": \"scatterpolar\"}], \"scatterpolargl\": [{\"marker\": {\"colorbar\": {\"outlinewidth\": 0, \"ticks\": \"\"}}, \"type\": \"scatterpolargl\"}], \"scatterternary\": [{\"marker\": {\"colorbar\": {\"outlinewidth\": 0, \"ticks\": \"\"}}, \"type\": \"scatterternary\"}], \"surface\": [{\"colorbar\": {\"outlinewidth\": 0, \"ticks\": \"\"}, \"colorscale\": [[0.0, \"#0d0887\"], [0.1111111111111111, \"#46039f\"], [0.2222222222222222, \"#7201a8\"], [0.3333333333333333, \"#9c179e\"], [0.4444444444444444, \"#bd3786\"], [0.5555555555555556, \"#d8576b\"], [0.6666666666666666, \"#ed7953\"], [0.7777777777777778, \"#fb9f3a\"], [0.8888888888888888, \"#fdca26\"], [1.0, \"#f0f921\"]], \"type\": \"surface\"}], \"table\": [{\"cells\": {\"fill\": {\"color\": \"#EBF0F8\"}, \"line\": {\"color\": \"white\"}}, \"header\": {\"fill\": {\"color\": \"#C8D4E3\"}, \"line\": {\"color\": \"white\"}}, \"type\": \"table\"}]}, \"layout\": {\"annotationdefaults\": {\"arrowcolor\": \"#2a3f5f\", \"arrowhead\": 0, \"arrowwidth\": 1}, \"coloraxis\": {\"colorbar\": {\"outlinewidth\": 0, \"ticks\": \"\"}}, \"colorscale\": {\"diverging\": [[0, \"#8e0152\"], [0.1, \"#c51b7d\"], [0.2, \"#de77ae\"], [0.3, \"#f1b6da\"], [0.4, \"#fde0ef\"], [0.5, \"#f7f7f7\"], [0.6, \"#e6f5d0\"], [0.7, \"#b8e186\"], [0.8, \"#7fbc41\"], [0.9, \"#4d9221\"], [1, \"#276419\"]], \"sequential\": [[0.0, \"#0d0887\"], [0.1111111111111111, \"#46039f\"], [0.2222222222222222, \"#7201a8\"], [0.3333333333333333, \"#9c179e\"], [0.4444444444444444, \"#bd3786\"], [0.5555555555555556, \"#d8576b\"], [0.6666666666666666, \"#ed7953\"], [0.7777777777777778, \"#fb9f3a\"], [0.8888888888888888, \"#fdca26\"], [1.0, \"#f0f921\"]], \"sequentialminus\": [[0.0, \"#0d0887\"], [0.1111111111111111, \"#46039f\"], [0.2222222222222222, \"#7201a8\"], [0.3333333333333333, \"#9c179e\"], [0.4444444444444444, \"#bd3786\"], [0.5555555555555556, \"#d8576b\"], [0.6666666666666666, \"#ed7953\"], [0.7777777777777778, \"#fb9f3a\"], [0.8888888888888888, \"#fdca26\"], [1.0, \"#f0f921\"]]}, \"colorway\": [\"#636efa\", \"#EF553B\", \"#00cc96\", \"#ab63fa\", \"#FFA15A\", \"#19d3f3\", \"#FF6692\", \"#B6E880\", \"#FF97FF\", \"#FECB52\"], \"font\": {\"color\": \"#2a3f5f\"}, \"geo\": {\"bgcolor\": \"white\", \"lakecolor\": \"white\", \"landcolor\": \"#E5ECF6\", \"showlakes\": true, \"showland\": true, \"subunitcolor\": \"white\"}, \"hoverlabel\": {\"align\": \"left\"}, \"hovermode\": \"closest\", \"mapbox\": {\"style\": \"light\"}, \"paper_bgcolor\": \"white\", \"plot_bgcolor\": \"#E5ECF6\", \"polar\": {\"angularaxis\": {\"gridcolor\": \"white\", \"linecolor\": \"white\", \"ticks\": \"\"}, \"bgcolor\": \"#E5ECF6\", \"radialaxis\": {\"gridcolor\": \"white\", \"linecolor\": \"white\", \"ticks\": \"\"}}, \"scene\": {\"xaxis\": {\"backgroundcolor\": \"#E5ECF6\", \"gridcolor\": \"white\", \"gridwidth\": 2, \"linecolor\": \"white\", \"showbackground\": true, \"ticks\": \"\", \"zerolinecolor\": \"white\"}, \"yaxis\": {\"backgroundcolor\": \"#E5ECF6\", \"gridcolor\": \"white\", \"gridwidth\": 2, \"linecolor\": \"white\", \"showbackground\": true, \"ticks\": \"\", \"zerolinecolor\": \"white\"}, \"zaxis\": {\"backgroundcolor\": \"#E5ECF6\", \"gridcolor\": \"white\", \"gridwidth\": 2, \"linecolor\": \"white\", \"showbackground\": true, \"ticks\": \"\", \"zerolinecolor\": \"white\"}}, \"shapedefaults\": {\"line\": {\"color\": \"#2a3f5f\"}}, \"ternary\": {\"aaxis\": {\"gridcolor\": \"white\", \"linecolor\": \"white\", \"ticks\": \"\"}, \"baxis\": {\"gridcolor\": \"white\", \"linecolor\": \"white\", \"ticks\": \"\"}, \"bgcolor\": \"#E5ECF6\", \"caxis\": {\"gridcolor\": \"white\", \"linecolor\": \"white\", \"ticks\": \"\"}}, \"title\": {\"x\": 0.05}, \"xaxis\": {\"automargin\": true, \"gridcolor\": \"white\", \"linecolor\": \"white\", \"ticks\": \"\", \"title\": {\"standoff\": 15}, \"zerolinecolor\": \"white\", \"zerolinewidth\": 2}, \"yaxis\": {\"automargin\": true, \"gridcolor\": \"white\", \"linecolor\": \"white\", \"ticks\": \"\", \"title\": {\"standoff\": 15}, \"zerolinecolor\": \"white\", \"zerolinewidth\": 2}}}, \"width\": 2000},\n",
       "                        {\"responsive\": true}\n",
       "                    ).then(function(){\n",
       "                            \n",
       "var gd = document.getElementById('ea46c9c8-f555-446b-b3ba-506a48409d0f');\n",
       "var x = new MutationObserver(function (mutations, observer) {{\n",
       "        var display = window.getComputedStyle(gd).display;\n",
       "        if (!display || display === 'none') {{\n",
       "            console.log([gd, 'removed!']);\n",
       "            Plotly.purge(gd);\n",
       "            observer.disconnect();\n",
       "        }}\n",
       "}});\n",
       "\n",
       "// Listen for the removal of the full notebook cells\n",
       "var notebookContainer = gd.closest('#notebook-container');\n",
       "if (notebookContainer) {{\n",
       "    x.observe(notebookContainer, {childList: true});\n",
       "}}\n",
       "\n",
       "// Listen for the clearing of the current output cell\n",
       "var outputEl = gd.closest('.output');\n",
       "if (outputEl) {{\n",
       "    x.observe(outputEl, {childList: true});\n",
       "}}\n",
       "\n",
       "                        })\n",
       "                };\n",
       "                });\n",
       "            </script>\n",
       "        </div>"
      ]
     },
     "metadata": {},
     "output_type": "display_data"
    }
   ],
   "source": [
    "SearchEngine1()"
   ]
  },
  {
   "cell_type": "markdown",
   "metadata": {},
   "source": [
    "# Second search engin"
   ]
  },
  {
   "cell_type": "code",
   "execution_count": 98,
   "metadata": {},
   "outputs": [],
   "source": [
    "def SearchEngine2(data = pd.read_csv(r\"/Users/salwaali/Desktop/FINAL_ADM_HW3/ADM-HW3-master/searchenginedata1.csv\", header=0)):\n",
    "    query = input()\n",
    "    if query == \"\":\n",
    "        return(\"Get Out\")\n",
    "    query=cleanQ(query)\n",
    "    the_similarity=[]\n",
    "    the_title = []\n",
    "    the_intro = []\n",
    "    the_url = []\n",
    "    movies = list(data.index)\n",
    "    movies = set(movies)\n",
    "    # ==================================================================================\n",
    "    # I_M_P_O_R_T_I_N_G__A_L_L__T_H_E__N_E_C_E_S_S_A_R_Y__S_T_R_U_C_T_U_R_E_S__W_E__N_E_E_D\n",
    "    # We need the words and their corresponding index for converting the query into the index\n",
    "    vocab=json.loads(open(\"vocabulary.json\").read())\n",
    "    # We need the list of documents that have a specific word on it \n",
    "    inverted_index = json.loads(open(\"inverted_index.json\").read())\n",
    "    # We need the tf_idf of the doc i in respect to the term j\n",
    "    _2nd_inverted_index=json.loads(open(\"inverted_index_2.json\").read())\n",
    "    # We need as output the title, into and url from the movieDatabase that we've created                               \n",
    "    #movieDatabase = pd.read_csv(r\"C:\\Users\\HP\\Desktop\\ADM HW3\\searchenginedata1.csv\", header=0)\n",
    "    IDF = json.loads(open(\"idf.json\").read())\n",
    "    #data = pd.read_csv(r\"C:\\Users\\HP\\Desktop\\ADM HW3\\searchenginedata1.csv\", header=0)\n",
    "    #============================\n",
    "    def TF(doc_words):\n",
    "        bow = 0\n",
    "        for k, v in doc_words.items():\n",
    "            bow = bow + v\n",
    "        tf_word = {}\n",
    "        for word, count in doc_words.items():\n",
    "            tf_word[word] = count / float(bow)\n",
    "        return tf_word\n",
    "    # ========================================================\n",
    "    # C_R_E_A_T_E__T_H_E__V_E_C_T_O_R__F_O_R__T_H_E__Q_U_E_R_Y\n",
    "    # We are replacing the string with its corresponding integer\n",
    "    for word in query:\n",
    "        if word in vocab.keys():\n",
    "            query[query.index(word)]=(vocab[word])\n",
    "        else:\n",
    "            print(\"word Not found\")\n",
    "    query_vec = {}\n",
    "    # We are creating a vector that eack component corresponds to the tf_idf for a specific term of the query     \n",
    "    for word_ in query:\n",
    "        query_vec[word_]=  TF(Counter(query))[word_]*IDF[str(word_)]\n",
    "    ##=============================== \n",
    "    # C_R_E_A_T_E__T_H_E__V_E_C_T_O_R__F_O_R__E_A_C_H__D_O_C_U_M_E_N_T\n",
    "    # We are checking which movies have all the terms of the query and we keep only them \n",
    "    for word in query: \n",
    "        movies = movies.intersection(inverted_index[str(word)])\n",
    "    data = data.drop(index=data.index.difference(movies))\n",
    "    doc_vec = {}\n",
    "    for movie in movies:\n",
    "        vec = []\n",
    "        for word_ in query:\n",
    "            index = _2nd_inverted_index[str(word_)]\n",
    "            for i in range(len(index)):\n",
    "                if index[i][0] == movie:\n",
    "                    vec.append(index[i][1])\n",
    "        doc_vec[movie] = vec\n",
    "    def dot(vector_1, vector_2):\n",
    "        sum = 0\n",
    "        for i in range(len(vector_1)):\n",
    "            sum = sum + vector_1[i]*vector_2[i]\n",
    "        return(sum)\n",
    "    def norm(vector):\n",
    "        if len(vector) > 1:\n",
    "            add = 0\n",
    "            for i in range(len(vector)):\n",
    "                add = add + vector[i]**2\n",
    "            return add**(1/2)\n",
    "        else:\n",
    "            return(vector)\n",
    "    similarity = {}\n",
    "    for movie in movies:\n",
    "        if isinstance(norm(list(query_vec.values())), float):\n",
    "            similarity[movie] = dot(list(query_vec.values()),doc_vec[movie])/norm(list(query_vec.values()))\n",
    "        else:\n",
    "            similarity[movie] = dot(list(query_vec.values()),doc_vec[movie])/norm(list(query_vec.values()))[0]\n",
    "\n",
    "    the_col = []\n",
    "    for i in range(len(data)):\n",
    "        for k, v in similarity.items():\n",
    "            if data.index[i] == k:\n",
    "                the_col.append(similarity[k])\n",
    "    data[\"Similarity\"] = the_col\n",
    "    truth = []\n",
    "    for movie_d in movies:\n",
    "        if data[\"Similarity\"][movie_d] in heapq.nlargest(5,data[\"Similarity\"]):\n",
    "            truth.append(movie_d)\n",
    "    movieDatabase1 = data.drop(index=data.index.difference(truth))\n",
    "    for index in truth:\n",
    "            the_title.append(movieDatabase1.Title[index])\n",
    "            the_intro.append(movieDatabase1.Intro[index])\n",
    "            the_url.append(movieDatabase1[\"URL\"][index])\n",
    "            the_similarity.append(movieDatabase1[\"Similarity\"][index])\n",
    "    fig = go.Figure(data=[go.Table(header=dict(values=['Title', 'Intro', 'URL', 'Similarity']),\n",
    "                 cells=dict(values=[the_title, the_intro, the_url, the_similarity]))\n",
    "                     ])\n",
    "    fig.update_layout(width=2000, height=1000)\n",
    "    fig.show()\n",
    "    return(movieDatabase1)\n",
    "    \n",
    "\n",
    "    "
   ]
  },
  {
   "cell_type": "code",
   "execution_count": 99,
   "metadata": {},
   "outputs": [
    {
     "name": "stdout",
     "output_type": "stream",
     "text": [
      "love sex rock'n'roll\n"
     ]
    },
    {
     "data": {
      "application/vnd.plotly.v1+json": {
       "config": {
        "plotlyServerURL": "https://plot.ly"
       },
       "data": [
        {
         "cells": {
          "values": [
           [
            "Rock of Ages (2012 film)",
            "Shout (film)",
            "The Girl Can't Help It"
           ],
           [
            "Rock of Ages is a 2012 American musical comedy-drama film directed by Adam Shankman and based on the rock jukebox Broadway musical Rock of Ages by Chris D'Arienzo. Starring country singer Julianne Hough and Diego Boneta leading an ensemble cast that includes Russell Brand, Alec Baldwin, Paul Giamatti, Catherine Zeta-Jones, Malin Åkerman, Mary J. Blige, Bryan Cranston and Tom Cruise, the film features the music of many 1980s Rock and Glam Rock artists including Def Leppard, Journey, Scorpions, Poison, Foreigner, Guns N' Roses, Pat Benatar, Joan Jett, Bon Jovi, Twisted Sister, Whitesnake, REO Speedwagon, and others. The film's score was composed and conducted by Cliff Eidelman.Originally scheduled to enter production in summer 2009 for a 2011 release, it eventually commenced production in May 2011 and was released on June 15, 2012. The film received mixed critical reviews and grossed only $59 million worldwide. However, Cruise was particularly lauded for his performance of \"Pour Some Sugar on Me\" and \"Wanted Dead or Alive\". The related film soundtrack also did critically well, certified Gold in Canada.",
            "Shout is a 1991 American musical romance film directed by Jeffrey Hornaday and starring John Travolta as a music teacher who introduces rock and roll to a west Texas home for boys in 1955.The film also features James Walters, Heather Graham, Richard Jordan, Linda Fiorentino, Scott Coffey, Charles Taylor, and Glenn Quinn as well as an early role for Gwyneth Paltrow.",
            "The Girl Can't Help It is a 1956 musical comedy starring Jayne Mansfield in the titular role, Tom Ewell, Edmond O'Brien, Henry Jones, and Julie London.  The picture was produced and directed by Frank Tashlin, with a screenplay adapted by Tashlin and Herbert Baker from an uncredited 1955 novel, Do Re Mi by Garson Kanin. Filmed in DeLuxe Color, the production was originally intended as a vehicle for the American sex symbol Jayne Mansfield, with a satirical subplot involving teenagers and rock 'n' roll music. The unintended result has been called the \"most potent\" celebration of rock music ever captured on film.The original music score, including the title song performed by Little Richard, was by Bobby Troup, with an additional credit to Ray Anthony for the tune \"Big Band Boogie\". Tom Ewell had portrayed Marilyn Monroe's leading man in The Seven Year Itch the previous year."
           ],
           [
            "https://en.wikipedia.org/wiki/Rock_of_Ages_(2012_film)",
            "https://en.wikipedia.org/wiki/Shout_(film)",
            "https://en.wikipedia.org/wiki/The_Girl_Can%27t_Help_It"
           ],
           [
            9.361681512117021e-06,
            1.3693016007083426e-05,
            3.919131432903629e-06
           ]
          ]
         },
         "header": {
          "values": [
           "Title",
           "Intro",
           "URL",
           "Similarity"
          ]
         },
         "type": "table"
        }
       ],
       "layout": {
        "height": 1000,
        "template": {
         "data": {
          "bar": [
           {
            "error_x": {
             "color": "#2a3f5f"
            },
            "error_y": {
             "color": "#2a3f5f"
            },
            "marker": {
             "line": {
              "color": "#E5ECF6",
              "width": 0.5
             }
            },
            "type": "bar"
           }
          ],
          "barpolar": [
           {
            "marker": {
             "line": {
              "color": "#E5ECF6",
              "width": 0.5
             }
            },
            "type": "barpolar"
           }
          ],
          "carpet": [
           {
            "aaxis": {
             "endlinecolor": "#2a3f5f",
             "gridcolor": "white",
             "linecolor": "white",
             "minorgridcolor": "white",
             "startlinecolor": "#2a3f5f"
            },
            "baxis": {
             "endlinecolor": "#2a3f5f",
             "gridcolor": "white",
             "linecolor": "white",
             "minorgridcolor": "white",
             "startlinecolor": "#2a3f5f"
            },
            "type": "carpet"
           }
          ],
          "choropleth": [
           {
            "colorbar": {
             "outlinewidth": 0,
             "ticks": ""
            },
            "type": "choropleth"
           }
          ],
          "contour": [
           {
            "colorbar": {
             "outlinewidth": 0,
             "ticks": ""
            },
            "colorscale": [
             [
              0,
              "#0d0887"
             ],
             [
              0.1111111111111111,
              "#46039f"
             ],
             [
              0.2222222222222222,
              "#7201a8"
             ],
             [
              0.3333333333333333,
              "#9c179e"
             ],
             [
              0.4444444444444444,
              "#bd3786"
             ],
             [
              0.5555555555555556,
              "#d8576b"
             ],
             [
              0.6666666666666666,
              "#ed7953"
             ],
             [
              0.7777777777777778,
              "#fb9f3a"
             ],
             [
              0.8888888888888888,
              "#fdca26"
             ],
             [
              1,
              "#f0f921"
             ]
            ],
            "type": "contour"
           }
          ],
          "contourcarpet": [
           {
            "colorbar": {
             "outlinewidth": 0,
             "ticks": ""
            },
            "type": "contourcarpet"
           }
          ],
          "heatmap": [
           {
            "colorbar": {
             "outlinewidth": 0,
             "ticks": ""
            },
            "colorscale": [
             [
              0,
              "#0d0887"
             ],
             [
              0.1111111111111111,
              "#46039f"
             ],
             [
              0.2222222222222222,
              "#7201a8"
             ],
             [
              0.3333333333333333,
              "#9c179e"
             ],
             [
              0.4444444444444444,
              "#bd3786"
             ],
             [
              0.5555555555555556,
              "#d8576b"
             ],
             [
              0.6666666666666666,
              "#ed7953"
             ],
             [
              0.7777777777777778,
              "#fb9f3a"
             ],
             [
              0.8888888888888888,
              "#fdca26"
             ],
             [
              1,
              "#f0f921"
             ]
            ],
            "type": "heatmap"
           }
          ],
          "heatmapgl": [
           {
            "colorbar": {
             "outlinewidth": 0,
             "ticks": ""
            },
            "colorscale": [
             [
              0,
              "#0d0887"
             ],
             [
              0.1111111111111111,
              "#46039f"
             ],
             [
              0.2222222222222222,
              "#7201a8"
             ],
             [
              0.3333333333333333,
              "#9c179e"
             ],
             [
              0.4444444444444444,
              "#bd3786"
             ],
             [
              0.5555555555555556,
              "#d8576b"
             ],
             [
              0.6666666666666666,
              "#ed7953"
             ],
             [
              0.7777777777777778,
              "#fb9f3a"
             ],
             [
              0.8888888888888888,
              "#fdca26"
             ],
             [
              1,
              "#f0f921"
             ]
            ],
            "type": "heatmapgl"
           }
          ],
          "histogram": [
           {
            "marker": {
             "colorbar": {
              "outlinewidth": 0,
              "ticks": ""
             }
            },
            "type": "histogram"
           }
          ],
          "histogram2d": [
           {
            "colorbar": {
             "outlinewidth": 0,
             "ticks": ""
            },
            "colorscale": [
             [
              0,
              "#0d0887"
             ],
             [
              0.1111111111111111,
              "#46039f"
             ],
             [
              0.2222222222222222,
              "#7201a8"
             ],
             [
              0.3333333333333333,
              "#9c179e"
             ],
             [
              0.4444444444444444,
              "#bd3786"
             ],
             [
              0.5555555555555556,
              "#d8576b"
             ],
             [
              0.6666666666666666,
              "#ed7953"
             ],
             [
              0.7777777777777778,
              "#fb9f3a"
             ],
             [
              0.8888888888888888,
              "#fdca26"
             ],
             [
              1,
              "#f0f921"
             ]
            ],
            "type": "histogram2d"
           }
          ],
          "histogram2dcontour": [
           {
            "colorbar": {
             "outlinewidth": 0,
             "ticks": ""
            },
            "colorscale": [
             [
              0,
              "#0d0887"
             ],
             [
              0.1111111111111111,
              "#46039f"
             ],
             [
              0.2222222222222222,
              "#7201a8"
             ],
             [
              0.3333333333333333,
              "#9c179e"
             ],
             [
              0.4444444444444444,
              "#bd3786"
             ],
             [
              0.5555555555555556,
              "#d8576b"
             ],
             [
              0.6666666666666666,
              "#ed7953"
             ],
             [
              0.7777777777777778,
              "#fb9f3a"
             ],
             [
              0.8888888888888888,
              "#fdca26"
             ],
             [
              1,
              "#f0f921"
             ]
            ],
            "type": "histogram2dcontour"
           }
          ],
          "mesh3d": [
           {
            "colorbar": {
             "outlinewidth": 0,
             "ticks": ""
            },
            "type": "mesh3d"
           }
          ],
          "parcoords": [
           {
            "line": {
             "colorbar": {
              "outlinewidth": 0,
              "ticks": ""
             }
            },
            "type": "parcoords"
           }
          ],
          "pie": [
           {
            "automargin": true,
            "type": "pie"
           }
          ],
          "scatter": [
           {
            "marker": {
             "colorbar": {
              "outlinewidth": 0,
              "ticks": ""
             }
            },
            "type": "scatter"
           }
          ],
          "scatter3d": [
           {
            "line": {
             "colorbar": {
              "outlinewidth": 0,
              "ticks": ""
             }
            },
            "marker": {
             "colorbar": {
              "outlinewidth": 0,
              "ticks": ""
             }
            },
            "type": "scatter3d"
           }
          ],
          "scattercarpet": [
           {
            "marker": {
             "colorbar": {
              "outlinewidth": 0,
              "ticks": ""
             }
            },
            "type": "scattercarpet"
           }
          ],
          "scattergeo": [
           {
            "marker": {
             "colorbar": {
              "outlinewidth": 0,
              "ticks": ""
             }
            },
            "type": "scattergeo"
           }
          ],
          "scattergl": [
           {
            "marker": {
             "colorbar": {
              "outlinewidth": 0,
              "ticks": ""
             }
            },
            "type": "scattergl"
           }
          ],
          "scattermapbox": [
           {
            "marker": {
             "colorbar": {
              "outlinewidth": 0,
              "ticks": ""
             }
            },
            "type": "scattermapbox"
           }
          ],
          "scatterpolar": [
           {
            "marker": {
             "colorbar": {
              "outlinewidth": 0,
              "ticks": ""
             }
            },
            "type": "scatterpolar"
           }
          ],
          "scatterpolargl": [
           {
            "marker": {
             "colorbar": {
              "outlinewidth": 0,
              "ticks": ""
             }
            },
            "type": "scatterpolargl"
           }
          ],
          "scatterternary": [
           {
            "marker": {
             "colorbar": {
              "outlinewidth": 0,
              "ticks": ""
             }
            },
            "type": "scatterternary"
           }
          ],
          "surface": [
           {
            "colorbar": {
             "outlinewidth": 0,
             "ticks": ""
            },
            "colorscale": [
             [
              0,
              "#0d0887"
             ],
             [
              0.1111111111111111,
              "#46039f"
             ],
             [
              0.2222222222222222,
              "#7201a8"
             ],
             [
              0.3333333333333333,
              "#9c179e"
             ],
             [
              0.4444444444444444,
              "#bd3786"
             ],
             [
              0.5555555555555556,
              "#d8576b"
             ],
             [
              0.6666666666666666,
              "#ed7953"
             ],
             [
              0.7777777777777778,
              "#fb9f3a"
             ],
             [
              0.8888888888888888,
              "#fdca26"
             ],
             [
              1,
              "#f0f921"
             ]
            ],
            "type": "surface"
           }
          ],
          "table": [
           {
            "cells": {
             "fill": {
              "color": "#EBF0F8"
             },
             "line": {
              "color": "white"
             }
            },
            "header": {
             "fill": {
              "color": "#C8D4E3"
             },
             "line": {
              "color": "white"
             }
            },
            "type": "table"
           }
          ]
         },
         "layout": {
          "annotationdefaults": {
           "arrowcolor": "#2a3f5f",
           "arrowhead": 0,
           "arrowwidth": 1
          },
          "coloraxis": {
           "colorbar": {
            "outlinewidth": 0,
            "ticks": ""
           }
          },
          "colorscale": {
           "diverging": [
            [
             0,
             "#8e0152"
            ],
            [
             0.1,
             "#c51b7d"
            ],
            [
             0.2,
             "#de77ae"
            ],
            [
             0.3,
             "#f1b6da"
            ],
            [
             0.4,
             "#fde0ef"
            ],
            [
             0.5,
             "#f7f7f7"
            ],
            [
             0.6,
             "#e6f5d0"
            ],
            [
             0.7,
             "#b8e186"
            ],
            [
             0.8,
             "#7fbc41"
            ],
            [
             0.9,
             "#4d9221"
            ],
            [
             1,
             "#276419"
            ]
           ],
           "sequential": [
            [
             0,
             "#0d0887"
            ],
            [
             0.1111111111111111,
             "#46039f"
            ],
            [
             0.2222222222222222,
             "#7201a8"
            ],
            [
             0.3333333333333333,
             "#9c179e"
            ],
            [
             0.4444444444444444,
             "#bd3786"
            ],
            [
             0.5555555555555556,
             "#d8576b"
            ],
            [
             0.6666666666666666,
             "#ed7953"
            ],
            [
             0.7777777777777778,
             "#fb9f3a"
            ],
            [
             0.8888888888888888,
             "#fdca26"
            ],
            [
             1,
             "#f0f921"
            ]
           ],
           "sequentialminus": [
            [
             0,
             "#0d0887"
            ],
            [
             0.1111111111111111,
             "#46039f"
            ],
            [
             0.2222222222222222,
             "#7201a8"
            ],
            [
             0.3333333333333333,
             "#9c179e"
            ],
            [
             0.4444444444444444,
             "#bd3786"
            ],
            [
             0.5555555555555556,
             "#d8576b"
            ],
            [
             0.6666666666666666,
             "#ed7953"
            ],
            [
             0.7777777777777778,
             "#fb9f3a"
            ],
            [
             0.8888888888888888,
             "#fdca26"
            ],
            [
             1,
             "#f0f921"
            ]
           ]
          },
          "colorway": [
           "#636efa",
           "#EF553B",
           "#00cc96",
           "#ab63fa",
           "#FFA15A",
           "#19d3f3",
           "#FF6692",
           "#B6E880",
           "#FF97FF",
           "#FECB52"
          ],
          "font": {
           "color": "#2a3f5f"
          },
          "geo": {
           "bgcolor": "white",
           "lakecolor": "white",
           "landcolor": "#E5ECF6",
           "showlakes": true,
           "showland": true,
           "subunitcolor": "white"
          },
          "hoverlabel": {
           "align": "left"
          },
          "hovermode": "closest",
          "mapbox": {
           "style": "light"
          },
          "paper_bgcolor": "white",
          "plot_bgcolor": "#E5ECF6",
          "polar": {
           "angularaxis": {
            "gridcolor": "white",
            "linecolor": "white",
            "ticks": ""
           },
           "bgcolor": "#E5ECF6",
           "radialaxis": {
            "gridcolor": "white",
            "linecolor": "white",
            "ticks": ""
           }
          },
          "scene": {
           "xaxis": {
            "backgroundcolor": "#E5ECF6",
            "gridcolor": "white",
            "gridwidth": 2,
            "linecolor": "white",
            "showbackground": true,
            "ticks": "",
            "zerolinecolor": "white"
           },
           "yaxis": {
            "backgroundcolor": "#E5ECF6",
            "gridcolor": "white",
            "gridwidth": 2,
            "linecolor": "white",
            "showbackground": true,
            "ticks": "",
            "zerolinecolor": "white"
           },
           "zaxis": {
            "backgroundcolor": "#E5ECF6",
            "gridcolor": "white",
            "gridwidth": 2,
            "linecolor": "white",
            "showbackground": true,
            "ticks": "",
            "zerolinecolor": "white"
           }
          },
          "shapedefaults": {
           "line": {
            "color": "#2a3f5f"
           }
          },
          "ternary": {
           "aaxis": {
            "gridcolor": "white",
            "linecolor": "white",
            "ticks": ""
           },
           "baxis": {
            "gridcolor": "white",
            "linecolor": "white",
            "ticks": ""
           },
           "bgcolor": "#E5ECF6",
           "caxis": {
            "gridcolor": "white",
            "linecolor": "white",
            "ticks": ""
           }
          },
          "title": {
           "x": 0.05
          },
          "xaxis": {
           "automargin": true,
           "gridcolor": "white",
           "linecolor": "white",
           "ticks": "",
           "title": {
            "standoff": 15
           },
           "zerolinecolor": "white",
           "zerolinewidth": 2
          },
          "yaxis": {
           "automargin": true,
           "gridcolor": "white",
           "linecolor": "white",
           "ticks": "",
           "title": {
            "standoff": 15
           },
           "zerolinecolor": "white",
           "zerolinewidth": 2
          }
         }
        },
        "width": 2000
       }
      },
      "text/html": [
       "<div>\n",
       "        \n",
       "        \n",
       "            <div id=\"5bb4d6e8-e335-4a92-bd72-9fce47c30388\" class=\"plotly-graph-div\" style=\"height:1000px; width:2000px;\"></div>\n",
       "            <script type=\"text/javascript\">\n",
       "                require([\"plotly\"], function(Plotly) {\n",
       "                    window.PLOTLYENV=window.PLOTLYENV || {};\n",
       "                    \n",
       "                if (document.getElementById(\"5bb4d6e8-e335-4a92-bd72-9fce47c30388\")) {\n",
       "                    Plotly.newPlot(\n",
       "                        '5bb4d6e8-e335-4a92-bd72-9fce47c30388',\n",
       "                        [{\"cells\": {\"values\": [[\"Rock of Ages (2012 film)\", \"Shout (film)\", \"The Girl Can't Help It\"], [\"Rock of Ages is a 2012 American musical comedy-drama film directed by Adam Shankman and based on the rock jukebox Broadway musical Rock of Ages by Chris D'Arienzo. Starring country singer Julianne Hough and Diego Boneta leading an ensemble cast that includes Russell Brand, Alec Baldwin, Paul Giamatti, Catherine Zeta-Jones, Malin \\u00c5kerman, Mary J. Blige, Bryan Cranston and Tom Cruise, the film features the music of many 1980s Rock and Glam Rock artists including Def Leppard, Journey, Scorpions, Poison, Foreigner, Guns N' Roses, Pat Benatar, Joan Jett, Bon Jovi, Twisted Sister, Whitesnake, REO Speedwagon, and others. The film's score was composed and conducted by Cliff Eidelman.Originally scheduled to enter production in summer 2009 for a 2011 release, it eventually commenced production in May 2011 and was released on June 15, 2012. The film received mixed critical reviews and grossed only $59 million worldwide. However, Cruise was particularly lauded for his performance of \\\"Pour Some Sugar on Me\\\" and \\\"Wanted Dead or Alive\\\". The related film soundtrack also did critically well, certified Gold in Canada.\", \"Shout is a 1991 American musical romance film directed by Jeffrey Hornaday and starring John Travolta as a music teacher who introduces rock and roll to a west Texas home for boys in 1955.The film also features James Walters, Heather Graham, Richard Jordan, Linda Fiorentino, Scott Coffey, Charles Taylor, and Glenn Quinn as well as an early role for Gwyneth Paltrow.\", \"The Girl Can't Help It is a 1956 musical comedy starring Jayne Mansfield in the titular role, Tom Ewell, Edmond O'Brien, Henry Jones, and Julie London.  The picture was produced and directed by Frank Tashlin, with a screenplay adapted by Tashlin and Herbert Baker from an uncredited 1955 novel, Do Re Mi by Garson Kanin. Filmed in DeLuxe Color, the production was originally intended as a vehicle for the American sex symbol Jayne Mansfield, with a satirical subplot involving teenagers and rock 'n' roll music. The unintended result has been called the \\\"most potent\\\" celebration of rock music ever captured on film.The original music score, including the title song performed by Little Richard, was by Bobby Troup, with an additional credit to Ray Anthony for the tune \\\"Big Band Boogie\\\". Tom Ewell had portrayed Marilyn Monroe's leading man in The Seven Year Itch the previous year.\"], [\"https://en.wikipedia.org/wiki/Rock_of_Ages_(2012_film)\", \"https://en.wikipedia.org/wiki/Shout_(film)\", \"https://en.wikipedia.org/wiki/The_Girl_Can%27t_Help_It\"], [9.361681512117021e-06, 1.3693016007083426e-05, 3.919131432903629e-06]]}, \"header\": {\"values\": [\"Title\", \"Intro\", \"URL\", \"Similarity\"]}, \"type\": \"table\"}],\n",
       "                        {\"height\": 1000, \"template\": {\"data\": {\"bar\": [{\"error_x\": {\"color\": \"#2a3f5f\"}, \"error_y\": {\"color\": \"#2a3f5f\"}, \"marker\": {\"line\": {\"color\": \"#E5ECF6\", \"width\": 0.5}}, \"type\": \"bar\"}], \"barpolar\": [{\"marker\": {\"line\": {\"color\": \"#E5ECF6\", \"width\": 0.5}}, \"type\": \"barpolar\"}], \"carpet\": [{\"aaxis\": {\"endlinecolor\": \"#2a3f5f\", \"gridcolor\": \"white\", \"linecolor\": \"white\", \"minorgridcolor\": \"white\", \"startlinecolor\": \"#2a3f5f\"}, \"baxis\": {\"endlinecolor\": \"#2a3f5f\", \"gridcolor\": \"white\", \"linecolor\": \"white\", \"minorgridcolor\": \"white\", \"startlinecolor\": \"#2a3f5f\"}, \"type\": \"carpet\"}], \"choropleth\": [{\"colorbar\": {\"outlinewidth\": 0, \"ticks\": \"\"}, \"type\": \"choropleth\"}], \"contour\": [{\"colorbar\": {\"outlinewidth\": 0, \"ticks\": \"\"}, \"colorscale\": [[0.0, \"#0d0887\"], [0.1111111111111111, \"#46039f\"], [0.2222222222222222, \"#7201a8\"], [0.3333333333333333, \"#9c179e\"], [0.4444444444444444, \"#bd3786\"], [0.5555555555555556, \"#d8576b\"], [0.6666666666666666, \"#ed7953\"], [0.7777777777777778, \"#fb9f3a\"], [0.8888888888888888, \"#fdca26\"], [1.0, \"#f0f921\"]], \"type\": \"contour\"}], \"contourcarpet\": [{\"colorbar\": {\"outlinewidth\": 0, \"ticks\": \"\"}, \"type\": \"contourcarpet\"}], \"heatmap\": [{\"colorbar\": {\"outlinewidth\": 0, \"ticks\": \"\"}, \"colorscale\": [[0.0, \"#0d0887\"], [0.1111111111111111, \"#46039f\"], [0.2222222222222222, \"#7201a8\"], [0.3333333333333333, \"#9c179e\"], [0.4444444444444444, \"#bd3786\"], [0.5555555555555556, \"#d8576b\"], [0.6666666666666666, \"#ed7953\"], [0.7777777777777778, \"#fb9f3a\"], [0.8888888888888888, \"#fdca26\"], [1.0, \"#f0f921\"]], \"type\": \"heatmap\"}], \"heatmapgl\": [{\"colorbar\": {\"outlinewidth\": 0, \"ticks\": \"\"}, \"colorscale\": [[0.0, \"#0d0887\"], [0.1111111111111111, \"#46039f\"], [0.2222222222222222, \"#7201a8\"], [0.3333333333333333, \"#9c179e\"], [0.4444444444444444, \"#bd3786\"], [0.5555555555555556, \"#d8576b\"], [0.6666666666666666, \"#ed7953\"], [0.7777777777777778, \"#fb9f3a\"], [0.8888888888888888, \"#fdca26\"], [1.0, \"#f0f921\"]], \"type\": \"heatmapgl\"}], \"histogram\": [{\"marker\": {\"colorbar\": {\"outlinewidth\": 0, \"ticks\": \"\"}}, \"type\": \"histogram\"}], \"histogram2d\": [{\"colorbar\": {\"outlinewidth\": 0, \"ticks\": \"\"}, \"colorscale\": [[0.0, \"#0d0887\"], [0.1111111111111111, \"#46039f\"], [0.2222222222222222, \"#7201a8\"], [0.3333333333333333, \"#9c179e\"], [0.4444444444444444, \"#bd3786\"], [0.5555555555555556, \"#d8576b\"], [0.6666666666666666, \"#ed7953\"], [0.7777777777777778, \"#fb9f3a\"], [0.8888888888888888, \"#fdca26\"], [1.0, \"#f0f921\"]], \"type\": \"histogram2d\"}], \"histogram2dcontour\": [{\"colorbar\": {\"outlinewidth\": 0, \"ticks\": \"\"}, \"colorscale\": [[0.0, \"#0d0887\"], [0.1111111111111111, \"#46039f\"], [0.2222222222222222, \"#7201a8\"], [0.3333333333333333, \"#9c179e\"], [0.4444444444444444, \"#bd3786\"], [0.5555555555555556, \"#d8576b\"], [0.6666666666666666, \"#ed7953\"], [0.7777777777777778, \"#fb9f3a\"], [0.8888888888888888, \"#fdca26\"], [1.0, \"#f0f921\"]], \"type\": \"histogram2dcontour\"}], \"mesh3d\": [{\"colorbar\": {\"outlinewidth\": 0, \"ticks\": \"\"}, \"type\": \"mesh3d\"}], \"parcoords\": [{\"line\": {\"colorbar\": {\"outlinewidth\": 0, \"ticks\": \"\"}}, \"type\": \"parcoords\"}], \"pie\": [{\"automargin\": true, \"type\": \"pie\"}], \"scatter\": [{\"marker\": {\"colorbar\": {\"outlinewidth\": 0, \"ticks\": \"\"}}, \"type\": \"scatter\"}], \"scatter3d\": [{\"line\": {\"colorbar\": {\"outlinewidth\": 0, \"ticks\": \"\"}}, \"marker\": {\"colorbar\": {\"outlinewidth\": 0, \"ticks\": \"\"}}, \"type\": \"scatter3d\"}], \"scattercarpet\": [{\"marker\": {\"colorbar\": {\"outlinewidth\": 0, \"ticks\": \"\"}}, \"type\": \"scattercarpet\"}], \"scattergeo\": [{\"marker\": {\"colorbar\": {\"outlinewidth\": 0, \"ticks\": \"\"}}, \"type\": \"scattergeo\"}], \"scattergl\": [{\"marker\": {\"colorbar\": {\"outlinewidth\": 0, \"ticks\": \"\"}}, \"type\": \"scattergl\"}], \"scattermapbox\": [{\"marker\": {\"colorbar\": {\"outlinewidth\": 0, \"ticks\": \"\"}}, \"type\": \"scattermapbox\"}], \"scatterpolar\": [{\"marker\": {\"colorbar\": {\"outlinewidth\": 0, \"ticks\": \"\"}}, \"type\": \"scatterpolar\"}], \"scatterpolargl\": [{\"marker\": {\"colorbar\": {\"outlinewidth\": 0, \"ticks\": \"\"}}, \"type\": \"scatterpolargl\"}], \"scatterternary\": [{\"marker\": {\"colorbar\": {\"outlinewidth\": 0, \"ticks\": \"\"}}, \"type\": \"scatterternary\"}], \"surface\": [{\"colorbar\": {\"outlinewidth\": 0, \"ticks\": \"\"}, \"colorscale\": [[0.0, \"#0d0887\"], [0.1111111111111111, \"#46039f\"], [0.2222222222222222, \"#7201a8\"], [0.3333333333333333, \"#9c179e\"], [0.4444444444444444, \"#bd3786\"], [0.5555555555555556, \"#d8576b\"], [0.6666666666666666, \"#ed7953\"], [0.7777777777777778, \"#fb9f3a\"], [0.8888888888888888, \"#fdca26\"], [1.0, \"#f0f921\"]], \"type\": \"surface\"}], \"table\": [{\"cells\": {\"fill\": {\"color\": \"#EBF0F8\"}, \"line\": {\"color\": \"white\"}}, \"header\": {\"fill\": {\"color\": \"#C8D4E3\"}, \"line\": {\"color\": \"white\"}}, \"type\": \"table\"}]}, \"layout\": {\"annotationdefaults\": {\"arrowcolor\": \"#2a3f5f\", \"arrowhead\": 0, \"arrowwidth\": 1}, \"coloraxis\": {\"colorbar\": {\"outlinewidth\": 0, \"ticks\": \"\"}}, \"colorscale\": {\"diverging\": [[0, \"#8e0152\"], [0.1, \"#c51b7d\"], [0.2, \"#de77ae\"], [0.3, \"#f1b6da\"], [0.4, \"#fde0ef\"], [0.5, \"#f7f7f7\"], [0.6, \"#e6f5d0\"], [0.7, \"#b8e186\"], [0.8, \"#7fbc41\"], [0.9, \"#4d9221\"], [1, \"#276419\"]], \"sequential\": [[0.0, \"#0d0887\"], [0.1111111111111111, \"#46039f\"], [0.2222222222222222, \"#7201a8\"], [0.3333333333333333, \"#9c179e\"], [0.4444444444444444, \"#bd3786\"], [0.5555555555555556, \"#d8576b\"], [0.6666666666666666, \"#ed7953\"], [0.7777777777777778, \"#fb9f3a\"], [0.8888888888888888, \"#fdca26\"], [1.0, \"#f0f921\"]], \"sequentialminus\": [[0.0, \"#0d0887\"], [0.1111111111111111, \"#46039f\"], [0.2222222222222222, \"#7201a8\"], [0.3333333333333333, \"#9c179e\"], [0.4444444444444444, \"#bd3786\"], [0.5555555555555556, \"#d8576b\"], [0.6666666666666666, \"#ed7953\"], [0.7777777777777778, \"#fb9f3a\"], [0.8888888888888888, \"#fdca26\"], [1.0, \"#f0f921\"]]}, \"colorway\": [\"#636efa\", \"#EF553B\", \"#00cc96\", \"#ab63fa\", \"#FFA15A\", \"#19d3f3\", \"#FF6692\", \"#B6E880\", \"#FF97FF\", \"#FECB52\"], \"font\": {\"color\": \"#2a3f5f\"}, \"geo\": {\"bgcolor\": \"white\", \"lakecolor\": \"white\", \"landcolor\": \"#E5ECF6\", \"showlakes\": true, \"showland\": true, \"subunitcolor\": \"white\"}, \"hoverlabel\": {\"align\": \"left\"}, \"hovermode\": \"closest\", \"mapbox\": {\"style\": \"light\"}, \"paper_bgcolor\": \"white\", \"plot_bgcolor\": \"#E5ECF6\", \"polar\": {\"angularaxis\": {\"gridcolor\": \"white\", \"linecolor\": \"white\", \"ticks\": \"\"}, \"bgcolor\": \"#E5ECF6\", \"radialaxis\": {\"gridcolor\": \"white\", \"linecolor\": \"white\", \"ticks\": \"\"}}, \"scene\": {\"xaxis\": {\"backgroundcolor\": \"#E5ECF6\", \"gridcolor\": \"white\", \"gridwidth\": 2, \"linecolor\": \"white\", \"showbackground\": true, \"ticks\": \"\", \"zerolinecolor\": \"white\"}, \"yaxis\": {\"backgroundcolor\": \"#E5ECF6\", \"gridcolor\": \"white\", \"gridwidth\": 2, \"linecolor\": \"white\", \"showbackground\": true, \"ticks\": \"\", \"zerolinecolor\": \"white\"}, \"zaxis\": {\"backgroundcolor\": \"#E5ECF6\", \"gridcolor\": \"white\", \"gridwidth\": 2, \"linecolor\": \"white\", \"showbackground\": true, \"ticks\": \"\", \"zerolinecolor\": \"white\"}}, \"shapedefaults\": {\"line\": {\"color\": \"#2a3f5f\"}}, \"ternary\": {\"aaxis\": {\"gridcolor\": \"white\", \"linecolor\": \"white\", \"ticks\": \"\"}, \"baxis\": {\"gridcolor\": \"white\", \"linecolor\": \"white\", \"ticks\": \"\"}, \"bgcolor\": \"#E5ECF6\", \"caxis\": {\"gridcolor\": \"white\", \"linecolor\": \"white\", \"ticks\": \"\"}}, \"title\": {\"x\": 0.05}, \"xaxis\": {\"automargin\": true, \"gridcolor\": \"white\", \"linecolor\": \"white\", \"ticks\": \"\", \"title\": {\"standoff\": 15}, \"zerolinecolor\": \"white\", \"zerolinewidth\": 2}, \"yaxis\": {\"automargin\": true, \"gridcolor\": \"white\", \"linecolor\": \"white\", \"ticks\": \"\", \"title\": {\"standoff\": 15}, \"zerolinecolor\": \"white\", \"zerolinewidth\": 2}}}, \"width\": 2000},\n",
       "                        {\"responsive\": true}\n",
       "                    ).then(function(){\n",
       "                            \n",
       "var gd = document.getElementById('5bb4d6e8-e335-4a92-bd72-9fce47c30388');\n",
       "var x = new MutationObserver(function (mutations, observer) {{\n",
       "        var display = window.getComputedStyle(gd).display;\n",
       "        if (!display || display === 'none') {{\n",
       "            console.log([gd, 'removed!']);\n",
       "            Plotly.purge(gd);\n",
       "            observer.disconnect();\n",
       "        }}\n",
       "}});\n",
       "\n",
       "// Listen for the removal of the full notebook cells\n",
       "var notebookContainer = gd.closest('#notebook-container');\n",
       "if (notebookContainer) {{\n",
       "    x.observe(notebookContainer, {childList: true});\n",
       "}}\n",
       "\n",
       "// Listen for the clearing of the current output cell\n",
       "var outputEl = gd.closest('.output');\n",
       "if (outputEl) {{\n",
       "    x.observe(outputEl, {childList: true});\n",
       "}}\n",
       "\n",
       "                        })\n",
       "                };\n",
       "                });\n",
       "            </script>\n",
       "        </div>"
      ]
     },
     "metadata": {},
     "output_type": "display_data"
    },
    {
     "data": {
      "text/html": [
       "<div>\n",
       "<style scoped>\n",
       "    .dataframe tbody tr th:only-of-type {\n",
       "        vertical-align: middle;\n",
       "    }\n",
       "\n",
       "    .dataframe tbody tr th {\n",
       "        vertical-align: top;\n",
       "    }\n",
       "\n",
       "    .dataframe thead th {\n",
       "        text-align: right;\n",
       "    }\n",
       "</style>\n",
       "<table border=\"1\" class=\"dataframe\">\n",
       "  <thead>\n",
       "    <tr style=\"text-align: right;\">\n",
       "      <th></th>\n",
       "      <th>Title</th>\n",
       "      <th>Intro</th>\n",
       "      <th>URL</th>\n",
       "      <th>Similarity</th>\n",
       "    </tr>\n",
       "  </thead>\n",
       "  <tbody>\n",
       "    <tr>\n",
       "      <th>6334</th>\n",
       "      <td>The Girl Can't Help It</td>\n",
       "      <td>The Girl Can't Help It is a 1956 musical comed...</td>\n",
       "      <td>https://en.wikipedia.org/wiki/The_Girl_Can%27t...</td>\n",
       "      <td>0.000004</td>\n",
       "    </tr>\n",
       "    <tr>\n",
       "      <th>11377</th>\n",
       "      <td>Shout (film)</td>\n",
       "      <td>Shout is a 1991 American musical romance film ...</td>\n",
       "      <td>https://en.wikipedia.org/wiki/Shout_(film)</td>\n",
       "      <td>0.000014</td>\n",
       "    </tr>\n",
       "    <tr>\n",
       "      <th>15896</th>\n",
       "      <td>Rock of Ages (2012 film)</td>\n",
       "      <td>Rock of Ages is a 2012 American musical comedy...</td>\n",
       "      <td>https://en.wikipedia.org/wiki/Rock_of_Ages_(20...</td>\n",
       "      <td>0.000009</td>\n",
       "    </tr>\n",
       "  </tbody>\n",
       "</table>\n",
       "</div>"
      ],
      "text/plain": [
       "                          Title  \\\n",
       "6334     The Girl Can't Help It   \n",
       "11377              Shout (film)   \n",
       "15896  Rock of Ages (2012 film)   \n",
       "\n",
       "                                                   Intro  \\\n",
       "6334   The Girl Can't Help It is a 1956 musical comed...   \n",
       "11377  Shout is a 1991 American musical romance film ...   \n",
       "15896  Rock of Ages is a 2012 American musical comedy...   \n",
       "\n",
       "                                                     URL  Similarity  \n",
       "6334   https://en.wikipedia.org/wiki/The_Girl_Can%27t...    0.000004  \n",
       "11377         https://en.wikipedia.org/wiki/Shout_(film)    0.000014  \n",
       "15896  https://en.wikipedia.org/wiki/Rock_of_Ages_(20...    0.000009  "
      ]
     },
     "execution_count": 99,
     "metadata": {},
     "output_type": "execute_result"
    }
   ],
   "source": [
    "SearchEngine2()"
   ]
  },
  {
   "cell_type": "markdown",
   "metadata": {},
   "source": [
    "# Third Search Engine"
   ]
  },
  {
   "cell_type": "code",
   "execution_count": 102,
   "metadata": {},
   "outputs": [],
   "source": [
    "def SearchEngine3():\n",
    "    movie_first = SearchEngine2()\n",
    "    if isinstance(movie_first, str):\n",
    "        return(\"Sorry the search was unsuccessful\")\n",
    "    while True :\n",
    "        movie_last = movie_first\n",
    "        print(\"Refine your search. If you don't want to, press enter.\")\n",
    "        movie_first = SearchEngine2(data = movie_last)\n",
    "        if isinstance(movie_first, str):\n",
    "            break\n",
    "    return(movie_last)\n",
    "    "
   ]
  },
  {
   "cell_type": "code",
   "execution_count": 103,
   "metadata": {
    "scrolled": false
   },
   "outputs": [
    {
     "name": "stdout",
     "output_type": "stream",
     "text": [
      "love sex rock'n'roll\n"
     ]
    },
    {
     "data": {
      "application/vnd.plotly.v1+json": {
       "config": {
        "plotlyServerURL": "https://plot.ly"
       },
       "data": [
        {
         "cells": {
          "values": [
           [
            "Rock of Ages (2012 film)",
            "Shout (film)",
            "The Girl Can't Help It"
           ],
           [
            "Rock of Ages is a 2012 American musical comedy-drama film directed by Adam Shankman and based on the rock jukebox Broadway musical Rock of Ages by Chris D'Arienzo. Starring country singer Julianne Hough and Diego Boneta leading an ensemble cast that includes Russell Brand, Alec Baldwin, Paul Giamatti, Catherine Zeta-Jones, Malin Åkerman, Mary J. Blige, Bryan Cranston and Tom Cruise, the film features the music of many 1980s Rock and Glam Rock artists including Def Leppard, Journey, Scorpions, Poison, Foreigner, Guns N' Roses, Pat Benatar, Joan Jett, Bon Jovi, Twisted Sister, Whitesnake, REO Speedwagon, and others. The film's score was composed and conducted by Cliff Eidelman.Originally scheduled to enter production in summer 2009 for a 2011 release, it eventually commenced production in May 2011 and was released on June 15, 2012. The film received mixed critical reviews and grossed only $59 million worldwide. However, Cruise was particularly lauded for his performance of \"Pour Some Sugar on Me\" and \"Wanted Dead or Alive\". The related film soundtrack also did critically well, certified Gold in Canada.",
            "Shout is a 1991 American musical romance film directed by Jeffrey Hornaday and starring John Travolta as a music teacher who introduces rock and roll to a west Texas home for boys in 1955.The film also features James Walters, Heather Graham, Richard Jordan, Linda Fiorentino, Scott Coffey, Charles Taylor, and Glenn Quinn as well as an early role for Gwyneth Paltrow.",
            "The Girl Can't Help It is a 1956 musical comedy starring Jayne Mansfield in the titular role, Tom Ewell, Edmond O'Brien, Henry Jones, and Julie London.  The picture was produced and directed by Frank Tashlin, with a screenplay adapted by Tashlin and Herbert Baker from an uncredited 1955 novel, Do Re Mi by Garson Kanin. Filmed in DeLuxe Color, the production was originally intended as a vehicle for the American sex symbol Jayne Mansfield, with a satirical subplot involving teenagers and rock 'n' roll music. The unintended result has been called the \"most potent\" celebration of rock music ever captured on film.The original music score, including the title song performed by Little Richard, was by Bobby Troup, with an additional credit to Ray Anthony for the tune \"Big Band Boogie\". Tom Ewell had portrayed Marilyn Monroe's leading man in The Seven Year Itch the previous year."
           ],
           [
            "https://en.wikipedia.org/wiki/Rock_of_Ages_(2012_film)",
            "https://en.wikipedia.org/wiki/Shout_(film)",
            "https://en.wikipedia.org/wiki/The_Girl_Can%27t_Help_It"
           ],
           [
            9.361681512117021e-06,
            1.3693016007083426e-05,
            3.919131432903629e-06
           ]
          ]
         },
         "header": {
          "values": [
           "Title",
           "Intro",
           "URL",
           "Similarity"
          ]
         },
         "type": "table"
        }
       ],
       "layout": {
        "height": 1000,
        "template": {
         "data": {
          "bar": [
           {
            "error_x": {
             "color": "#2a3f5f"
            },
            "error_y": {
             "color": "#2a3f5f"
            },
            "marker": {
             "line": {
              "color": "#E5ECF6",
              "width": 0.5
             }
            },
            "type": "bar"
           }
          ],
          "barpolar": [
           {
            "marker": {
             "line": {
              "color": "#E5ECF6",
              "width": 0.5
             }
            },
            "type": "barpolar"
           }
          ],
          "carpet": [
           {
            "aaxis": {
             "endlinecolor": "#2a3f5f",
             "gridcolor": "white",
             "linecolor": "white",
             "minorgridcolor": "white",
             "startlinecolor": "#2a3f5f"
            },
            "baxis": {
             "endlinecolor": "#2a3f5f",
             "gridcolor": "white",
             "linecolor": "white",
             "minorgridcolor": "white",
             "startlinecolor": "#2a3f5f"
            },
            "type": "carpet"
           }
          ],
          "choropleth": [
           {
            "colorbar": {
             "outlinewidth": 0,
             "ticks": ""
            },
            "type": "choropleth"
           }
          ],
          "contour": [
           {
            "colorbar": {
             "outlinewidth": 0,
             "ticks": ""
            },
            "colorscale": [
             [
              0,
              "#0d0887"
             ],
             [
              0.1111111111111111,
              "#46039f"
             ],
             [
              0.2222222222222222,
              "#7201a8"
             ],
             [
              0.3333333333333333,
              "#9c179e"
             ],
             [
              0.4444444444444444,
              "#bd3786"
             ],
             [
              0.5555555555555556,
              "#d8576b"
             ],
             [
              0.6666666666666666,
              "#ed7953"
             ],
             [
              0.7777777777777778,
              "#fb9f3a"
             ],
             [
              0.8888888888888888,
              "#fdca26"
             ],
             [
              1,
              "#f0f921"
             ]
            ],
            "type": "contour"
           }
          ],
          "contourcarpet": [
           {
            "colorbar": {
             "outlinewidth": 0,
             "ticks": ""
            },
            "type": "contourcarpet"
           }
          ],
          "heatmap": [
           {
            "colorbar": {
             "outlinewidth": 0,
             "ticks": ""
            },
            "colorscale": [
             [
              0,
              "#0d0887"
             ],
             [
              0.1111111111111111,
              "#46039f"
             ],
             [
              0.2222222222222222,
              "#7201a8"
             ],
             [
              0.3333333333333333,
              "#9c179e"
             ],
             [
              0.4444444444444444,
              "#bd3786"
             ],
             [
              0.5555555555555556,
              "#d8576b"
             ],
             [
              0.6666666666666666,
              "#ed7953"
             ],
             [
              0.7777777777777778,
              "#fb9f3a"
             ],
             [
              0.8888888888888888,
              "#fdca26"
             ],
             [
              1,
              "#f0f921"
             ]
            ],
            "type": "heatmap"
           }
          ],
          "heatmapgl": [
           {
            "colorbar": {
             "outlinewidth": 0,
             "ticks": ""
            },
            "colorscale": [
             [
              0,
              "#0d0887"
             ],
             [
              0.1111111111111111,
              "#46039f"
             ],
             [
              0.2222222222222222,
              "#7201a8"
             ],
             [
              0.3333333333333333,
              "#9c179e"
             ],
             [
              0.4444444444444444,
              "#bd3786"
             ],
             [
              0.5555555555555556,
              "#d8576b"
             ],
             [
              0.6666666666666666,
              "#ed7953"
             ],
             [
              0.7777777777777778,
              "#fb9f3a"
             ],
             [
              0.8888888888888888,
              "#fdca26"
             ],
             [
              1,
              "#f0f921"
             ]
            ],
            "type": "heatmapgl"
           }
          ],
          "histogram": [
           {
            "marker": {
             "colorbar": {
              "outlinewidth": 0,
              "ticks": ""
             }
            },
            "type": "histogram"
           }
          ],
          "histogram2d": [
           {
            "colorbar": {
             "outlinewidth": 0,
             "ticks": ""
            },
            "colorscale": [
             [
              0,
              "#0d0887"
             ],
             [
              0.1111111111111111,
              "#46039f"
             ],
             [
              0.2222222222222222,
              "#7201a8"
             ],
             [
              0.3333333333333333,
              "#9c179e"
             ],
             [
              0.4444444444444444,
              "#bd3786"
             ],
             [
              0.5555555555555556,
              "#d8576b"
             ],
             [
              0.6666666666666666,
              "#ed7953"
             ],
             [
              0.7777777777777778,
              "#fb9f3a"
             ],
             [
              0.8888888888888888,
              "#fdca26"
             ],
             [
              1,
              "#f0f921"
             ]
            ],
            "type": "histogram2d"
           }
          ],
          "histogram2dcontour": [
           {
            "colorbar": {
             "outlinewidth": 0,
             "ticks": ""
            },
            "colorscale": [
             [
              0,
              "#0d0887"
             ],
             [
              0.1111111111111111,
              "#46039f"
             ],
             [
              0.2222222222222222,
              "#7201a8"
             ],
             [
              0.3333333333333333,
              "#9c179e"
             ],
             [
              0.4444444444444444,
              "#bd3786"
             ],
             [
              0.5555555555555556,
              "#d8576b"
             ],
             [
              0.6666666666666666,
              "#ed7953"
             ],
             [
              0.7777777777777778,
              "#fb9f3a"
             ],
             [
              0.8888888888888888,
              "#fdca26"
             ],
             [
              1,
              "#f0f921"
             ]
            ],
            "type": "histogram2dcontour"
           }
          ],
          "mesh3d": [
           {
            "colorbar": {
             "outlinewidth": 0,
             "ticks": ""
            },
            "type": "mesh3d"
           }
          ],
          "parcoords": [
           {
            "line": {
             "colorbar": {
              "outlinewidth": 0,
              "ticks": ""
             }
            },
            "type": "parcoords"
           }
          ],
          "pie": [
           {
            "automargin": true,
            "type": "pie"
           }
          ],
          "scatter": [
           {
            "marker": {
             "colorbar": {
              "outlinewidth": 0,
              "ticks": ""
             }
            },
            "type": "scatter"
           }
          ],
          "scatter3d": [
           {
            "line": {
             "colorbar": {
              "outlinewidth": 0,
              "ticks": ""
             }
            },
            "marker": {
             "colorbar": {
              "outlinewidth": 0,
              "ticks": ""
             }
            },
            "type": "scatter3d"
           }
          ],
          "scattercarpet": [
           {
            "marker": {
             "colorbar": {
              "outlinewidth": 0,
              "ticks": ""
             }
            },
            "type": "scattercarpet"
           }
          ],
          "scattergeo": [
           {
            "marker": {
             "colorbar": {
              "outlinewidth": 0,
              "ticks": ""
             }
            },
            "type": "scattergeo"
           }
          ],
          "scattergl": [
           {
            "marker": {
             "colorbar": {
              "outlinewidth": 0,
              "ticks": ""
             }
            },
            "type": "scattergl"
           }
          ],
          "scattermapbox": [
           {
            "marker": {
             "colorbar": {
              "outlinewidth": 0,
              "ticks": ""
             }
            },
            "type": "scattermapbox"
           }
          ],
          "scatterpolar": [
           {
            "marker": {
             "colorbar": {
              "outlinewidth": 0,
              "ticks": ""
             }
            },
            "type": "scatterpolar"
           }
          ],
          "scatterpolargl": [
           {
            "marker": {
             "colorbar": {
              "outlinewidth": 0,
              "ticks": ""
             }
            },
            "type": "scatterpolargl"
           }
          ],
          "scatterternary": [
           {
            "marker": {
             "colorbar": {
              "outlinewidth": 0,
              "ticks": ""
             }
            },
            "type": "scatterternary"
           }
          ],
          "surface": [
           {
            "colorbar": {
             "outlinewidth": 0,
             "ticks": ""
            },
            "colorscale": [
             [
              0,
              "#0d0887"
             ],
             [
              0.1111111111111111,
              "#46039f"
             ],
             [
              0.2222222222222222,
              "#7201a8"
             ],
             [
              0.3333333333333333,
              "#9c179e"
             ],
             [
              0.4444444444444444,
              "#bd3786"
             ],
             [
              0.5555555555555556,
              "#d8576b"
             ],
             [
              0.6666666666666666,
              "#ed7953"
             ],
             [
              0.7777777777777778,
              "#fb9f3a"
             ],
             [
              0.8888888888888888,
              "#fdca26"
             ],
             [
              1,
              "#f0f921"
             ]
            ],
            "type": "surface"
           }
          ],
          "table": [
           {
            "cells": {
             "fill": {
              "color": "#EBF0F8"
             },
             "line": {
              "color": "white"
             }
            },
            "header": {
             "fill": {
              "color": "#C8D4E3"
             },
             "line": {
              "color": "white"
             }
            },
            "type": "table"
           }
          ]
         },
         "layout": {
          "annotationdefaults": {
           "arrowcolor": "#2a3f5f",
           "arrowhead": 0,
           "arrowwidth": 1
          },
          "coloraxis": {
           "colorbar": {
            "outlinewidth": 0,
            "ticks": ""
           }
          },
          "colorscale": {
           "diverging": [
            [
             0,
             "#8e0152"
            ],
            [
             0.1,
             "#c51b7d"
            ],
            [
             0.2,
             "#de77ae"
            ],
            [
             0.3,
             "#f1b6da"
            ],
            [
             0.4,
             "#fde0ef"
            ],
            [
             0.5,
             "#f7f7f7"
            ],
            [
             0.6,
             "#e6f5d0"
            ],
            [
             0.7,
             "#b8e186"
            ],
            [
             0.8,
             "#7fbc41"
            ],
            [
             0.9,
             "#4d9221"
            ],
            [
             1,
             "#276419"
            ]
           ],
           "sequential": [
            [
             0,
             "#0d0887"
            ],
            [
             0.1111111111111111,
             "#46039f"
            ],
            [
             0.2222222222222222,
             "#7201a8"
            ],
            [
             0.3333333333333333,
             "#9c179e"
            ],
            [
             0.4444444444444444,
             "#bd3786"
            ],
            [
             0.5555555555555556,
             "#d8576b"
            ],
            [
             0.6666666666666666,
             "#ed7953"
            ],
            [
             0.7777777777777778,
             "#fb9f3a"
            ],
            [
             0.8888888888888888,
             "#fdca26"
            ],
            [
             1,
             "#f0f921"
            ]
           ],
           "sequentialminus": [
            [
             0,
             "#0d0887"
            ],
            [
             0.1111111111111111,
             "#46039f"
            ],
            [
             0.2222222222222222,
             "#7201a8"
            ],
            [
             0.3333333333333333,
             "#9c179e"
            ],
            [
             0.4444444444444444,
             "#bd3786"
            ],
            [
             0.5555555555555556,
             "#d8576b"
            ],
            [
             0.6666666666666666,
             "#ed7953"
            ],
            [
             0.7777777777777778,
             "#fb9f3a"
            ],
            [
             0.8888888888888888,
             "#fdca26"
            ],
            [
             1,
             "#f0f921"
            ]
           ]
          },
          "colorway": [
           "#636efa",
           "#EF553B",
           "#00cc96",
           "#ab63fa",
           "#FFA15A",
           "#19d3f3",
           "#FF6692",
           "#B6E880",
           "#FF97FF",
           "#FECB52"
          ],
          "font": {
           "color": "#2a3f5f"
          },
          "geo": {
           "bgcolor": "white",
           "lakecolor": "white",
           "landcolor": "#E5ECF6",
           "showlakes": true,
           "showland": true,
           "subunitcolor": "white"
          },
          "hoverlabel": {
           "align": "left"
          },
          "hovermode": "closest",
          "mapbox": {
           "style": "light"
          },
          "paper_bgcolor": "white",
          "plot_bgcolor": "#E5ECF6",
          "polar": {
           "angularaxis": {
            "gridcolor": "white",
            "linecolor": "white",
            "ticks": ""
           },
           "bgcolor": "#E5ECF6",
           "radialaxis": {
            "gridcolor": "white",
            "linecolor": "white",
            "ticks": ""
           }
          },
          "scene": {
           "xaxis": {
            "backgroundcolor": "#E5ECF6",
            "gridcolor": "white",
            "gridwidth": 2,
            "linecolor": "white",
            "showbackground": true,
            "ticks": "",
            "zerolinecolor": "white"
           },
           "yaxis": {
            "backgroundcolor": "#E5ECF6",
            "gridcolor": "white",
            "gridwidth": 2,
            "linecolor": "white",
            "showbackground": true,
            "ticks": "",
            "zerolinecolor": "white"
           },
           "zaxis": {
            "backgroundcolor": "#E5ECF6",
            "gridcolor": "white",
            "gridwidth": 2,
            "linecolor": "white",
            "showbackground": true,
            "ticks": "",
            "zerolinecolor": "white"
           }
          },
          "shapedefaults": {
           "line": {
            "color": "#2a3f5f"
           }
          },
          "ternary": {
           "aaxis": {
            "gridcolor": "white",
            "linecolor": "white",
            "ticks": ""
           },
           "baxis": {
            "gridcolor": "white",
            "linecolor": "white",
            "ticks": ""
           },
           "bgcolor": "#E5ECF6",
           "caxis": {
            "gridcolor": "white",
            "linecolor": "white",
            "ticks": ""
           }
          },
          "title": {
           "x": 0.05
          },
          "xaxis": {
           "automargin": true,
           "gridcolor": "white",
           "linecolor": "white",
           "ticks": "",
           "title": {
            "standoff": 15
           },
           "zerolinecolor": "white",
           "zerolinewidth": 2
          },
          "yaxis": {
           "automargin": true,
           "gridcolor": "white",
           "linecolor": "white",
           "ticks": "",
           "title": {
            "standoff": 15
           },
           "zerolinecolor": "white",
           "zerolinewidth": 2
          }
         }
        },
        "width": 2000
       }
      },
      "text/html": [
       "<div>\n",
       "        \n",
       "        \n",
       "            <div id=\"527b16fa-37e4-4018-9bdd-6fbe655dd8b4\" class=\"plotly-graph-div\" style=\"height:1000px; width:2000px;\"></div>\n",
       "            <script type=\"text/javascript\">\n",
       "                require([\"plotly\"], function(Plotly) {\n",
       "                    window.PLOTLYENV=window.PLOTLYENV || {};\n",
       "                    \n",
       "                if (document.getElementById(\"527b16fa-37e4-4018-9bdd-6fbe655dd8b4\")) {\n",
       "                    Plotly.newPlot(\n",
       "                        '527b16fa-37e4-4018-9bdd-6fbe655dd8b4',\n",
       "                        [{\"cells\": {\"values\": [[\"Rock of Ages (2012 film)\", \"Shout (film)\", \"The Girl Can't Help It\"], [\"Rock of Ages is a 2012 American musical comedy-drama film directed by Adam Shankman and based on the rock jukebox Broadway musical Rock of Ages by Chris D'Arienzo. Starring country singer Julianne Hough and Diego Boneta leading an ensemble cast that includes Russell Brand, Alec Baldwin, Paul Giamatti, Catherine Zeta-Jones, Malin \\u00c5kerman, Mary J. Blige, Bryan Cranston and Tom Cruise, the film features the music of many 1980s Rock and Glam Rock artists including Def Leppard, Journey, Scorpions, Poison, Foreigner, Guns N' Roses, Pat Benatar, Joan Jett, Bon Jovi, Twisted Sister, Whitesnake, REO Speedwagon, and others. The film's score was composed and conducted by Cliff Eidelman.Originally scheduled to enter production in summer 2009 for a 2011 release, it eventually commenced production in May 2011 and was released on June 15, 2012. The film received mixed critical reviews and grossed only $59 million worldwide. However, Cruise was particularly lauded for his performance of \\\"Pour Some Sugar on Me\\\" and \\\"Wanted Dead or Alive\\\". The related film soundtrack also did critically well, certified Gold in Canada.\", \"Shout is a 1991 American musical romance film directed by Jeffrey Hornaday and starring John Travolta as a music teacher who introduces rock and roll to a west Texas home for boys in 1955.The film also features James Walters, Heather Graham, Richard Jordan, Linda Fiorentino, Scott Coffey, Charles Taylor, and Glenn Quinn as well as an early role for Gwyneth Paltrow.\", \"The Girl Can't Help It is a 1956 musical comedy starring Jayne Mansfield in the titular role, Tom Ewell, Edmond O'Brien, Henry Jones, and Julie London.  The picture was produced and directed by Frank Tashlin, with a screenplay adapted by Tashlin and Herbert Baker from an uncredited 1955 novel, Do Re Mi by Garson Kanin. Filmed in DeLuxe Color, the production was originally intended as a vehicle for the American sex symbol Jayne Mansfield, with a satirical subplot involving teenagers and rock 'n' roll music. The unintended result has been called the \\\"most potent\\\" celebration of rock music ever captured on film.The original music score, including the title song performed by Little Richard, was by Bobby Troup, with an additional credit to Ray Anthony for the tune \\\"Big Band Boogie\\\". Tom Ewell had portrayed Marilyn Monroe's leading man in The Seven Year Itch the previous year.\"], [\"https://en.wikipedia.org/wiki/Rock_of_Ages_(2012_film)\", \"https://en.wikipedia.org/wiki/Shout_(film)\", \"https://en.wikipedia.org/wiki/The_Girl_Can%27t_Help_It\"], [9.361681512117021e-06, 1.3693016007083426e-05, 3.919131432903629e-06]]}, \"header\": {\"values\": [\"Title\", \"Intro\", \"URL\", \"Similarity\"]}, \"type\": \"table\"}],\n",
       "                        {\"height\": 1000, \"template\": {\"data\": {\"bar\": [{\"error_x\": {\"color\": \"#2a3f5f\"}, \"error_y\": {\"color\": \"#2a3f5f\"}, \"marker\": {\"line\": {\"color\": \"#E5ECF6\", \"width\": 0.5}}, \"type\": \"bar\"}], \"barpolar\": [{\"marker\": {\"line\": {\"color\": \"#E5ECF6\", \"width\": 0.5}}, \"type\": \"barpolar\"}], \"carpet\": [{\"aaxis\": {\"endlinecolor\": \"#2a3f5f\", \"gridcolor\": \"white\", \"linecolor\": \"white\", \"minorgridcolor\": \"white\", \"startlinecolor\": \"#2a3f5f\"}, \"baxis\": {\"endlinecolor\": \"#2a3f5f\", \"gridcolor\": \"white\", \"linecolor\": \"white\", \"minorgridcolor\": \"white\", \"startlinecolor\": \"#2a3f5f\"}, \"type\": \"carpet\"}], \"choropleth\": [{\"colorbar\": {\"outlinewidth\": 0, \"ticks\": \"\"}, \"type\": \"choropleth\"}], \"contour\": [{\"colorbar\": {\"outlinewidth\": 0, \"ticks\": \"\"}, \"colorscale\": [[0.0, \"#0d0887\"], [0.1111111111111111, \"#46039f\"], [0.2222222222222222, \"#7201a8\"], [0.3333333333333333, \"#9c179e\"], [0.4444444444444444, \"#bd3786\"], [0.5555555555555556, \"#d8576b\"], [0.6666666666666666, \"#ed7953\"], [0.7777777777777778, \"#fb9f3a\"], [0.8888888888888888, \"#fdca26\"], [1.0, \"#f0f921\"]], \"type\": \"contour\"}], \"contourcarpet\": [{\"colorbar\": {\"outlinewidth\": 0, \"ticks\": \"\"}, \"type\": \"contourcarpet\"}], \"heatmap\": [{\"colorbar\": {\"outlinewidth\": 0, \"ticks\": \"\"}, \"colorscale\": [[0.0, \"#0d0887\"], [0.1111111111111111, \"#46039f\"], [0.2222222222222222, \"#7201a8\"], [0.3333333333333333, \"#9c179e\"], [0.4444444444444444, \"#bd3786\"], [0.5555555555555556, \"#d8576b\"], [0.6666666666666666, \"#ed7953\"], [0.7777777777777778, \"#fb9f3a\"], [0.8888888888888888, \"#fdca26\"], [1.0, \"#f0f921\"]], \"type\": \"heatmap\"}], \"heatmapgl\": [{\"colorbar\": {\"outlinewidth\": 0, \"ticks\": \"\"}, \"colorscale\": [[0.0, \"#0d0887\"], [0.1111111111111111, \"#46039f\"], [0.2222222222222222, \"#7201a8\"], [0.3333333333333333, \"#9c179e\"], [0.4444444444444444, \"#bd3786\"], [0.5555555555555556, \"#d8576b\"], [0.6666666666666666, \"#ed7953\"], [0.7777777777777778, \"#fb9f3a\"], [0.8888888888888888, \"#fdca26\"], [1.0, \"#f0f921\"]], \"type\": \"heatmapgl\"}], \"histogram\": [{\"marker\": {\"colorbar\": {\"outlinewidth\": 0, \"ticks\": \"\"}}, \"type\": \"histogram\"}], \"histogram2d\": [{\"colorbar\": {\"outlinewidth\": 0, \"ticks\": \"\"}, \"colorscale\": [[0.0, \"#0d0887\"], [0.1111111111111111, \"#46039f\"], [0.2222222222222222, \"#7201a8\"], [0.3333333333333333, \"#9c179e\"], [0.4444444444444444, \"#bd3786\"], [0.5555555555555556, \"#d8576b\"], [0.6666666666666666, \"#ed7953\"], [0.7777777777777778, \"#fb9f3a\"], [0.8888888888888888, \"#fdca26\"], [1.0, \"#f0f921\"]], \"type\": \"histogram2d\"}], \"histogram2dcontour\": [{\"colorbar\": {\"outlinewidth\": 0, \"ticks\": \"\"}, \"colorscale\": [[0.0, \"#0d0887\"], [0.1111111111111111, \"#46039f\"], [0.2222222222222222, \"#7201a8\"], [0.3333333333333333, \"#9c179e\"], [0.4444444444444444, \"#bd3786\"], [0.5555555555555556, \"#d8576b\"], [0.6666666666666666, \"#ed7953\"], [0.7777777777777778, \"#fb9f3a\"], [0.8888888888888888, \"#fdca26\"], [1.0, \"#f0f921\"]], \"type\": \"histogram2dcontour\"}], \"mesh3d\": [{\"colorbar\": {\"outlinewidth\": 0, \"ticks\": \"\"}, \"type\": \"mesh3d\"}], \"parcoords\": [{\"line\": {\"colorbar\": {\"outlinewidth\": 0, \"ticks\": \"\"}}, \"type\": \"parcoords\"}], \"pie\": [{\"automargin\": true, \"type\": \"pie\"}], \"scatter\": [{\"marker\": {\"colorbar\": {\"outlinewidth\": 0, \"ticks\": \"\"}}, \"type\": \"scatter\"}], \"scatter3d\": [{\"line\": {\"colorbar\": {\"outlinewidth\": 0, \"ticks\": \"\"}}, \"marker\": {\"colorbar\": {\"outlinewidth\": 0, \"ticks\": \"\"}}, \"type\": \"scatter3d\"}], \"scattercarpet\": [{\"marker\": {\"colorbar\": {\"outlinewidth\": 0, \"ticks\": \"\"}}, \"type\": \"scattercarpet\"}], \"scattergeo\": [{\"marker\": {\"colorbar\": {\"outlinewidth\": 0, \"ticks\": \"\"}}, \"type\": \"scattergeo\"}], \"scattergl\": [{\"marker\": {\"colorbar\": {\"outlinewidth\": 0, \"ticks\": \"\"}}, \"type\": \"scattergl\"}], \"scattermapbox\": [{\"marker\": {\"colorbar\": {\"outlinewidth\": 0, \"ticks\": \"\"}}, \"type\": \"scattermapbox\"}], \"scatterpolar\": [{\"marker\": {\"colorbar\": {\"outlinewidth\": 0, \"ticks\": \"\"}}, \"type\": \"scatterpolar\"}], \"scatterpolargl\": [{\"marker\": {\"colorbar\": {\"outlinewidth\": 0, \"ticks\": \"\"}}, \"type\": \"scatterpolargl\"}], \"scatterternary\": [{\"marker\": {\"colorbar\": {\"outlinewidth\": 0, \"ticks\": \"\"}}, \"type\": \"scatterternary\"}], \"surface\": [{\"colorbar\": {\"outlinewidth\": 0, \"ticks\": \"\"}, \"colorscale\": [[0.0, \"#0d0887\"], [0.1111111111111111, \"#46039f\"], [0.2222222222222222, \"#7201a8\"], [0.3333333333333333, \"#9c179e\"], [0.4444444444444444, \"#bd3786\"], [0.5555555555555556, \"#d8576b\"], [0.6666666666666666, \"#ed7953\"], [0.7777777777777778, \"#fb9f3a\"], [0.8888888888888888, \"#fdca26\"], [1.0, \"#f0f921\"]], \"type\": \"surface\"}], \"table\": [{\"cells\": {\"fill\": {\"color\": \"#EBF0F8\"}, \"line\": {\"color\": \"white\"}}, \"header\": {\"fill\": {\"color\": \"#C8D4E3\"}, \"line\": {\"color\": \"white\"}}, \"type\": \"table\"}]}, \"layout\": {\"annotationdefaults\": {\"arrowcolor\": \"#2a3f5f\", \"arrowhead\": 0, \"arrowwidth\": 1}, \"coloraxis\": {\"colorbar\": {\"outlinewidth\": 0, \"ticks\": \"\"}}, \"colorscale\": {\"diverging\": [[0, \"#8e0152\"], [0.1, \"#c51b7d\"], [0.2, \"#de77ae\"], [0.3, \"#f1b6da\"], [0.4, \"#fde0ef\"], [0.5, \"#f7f7f7\"], [0.6, \"#e6f5d0\"], [0.7, \"#b8e186\"], [0.8, \"#7fbc41\"], [0.9, \"#4d9221\"], [1, \"#276419\"]], \"sequential\": [[0.0, \"#0d0887\"], [0.1111111111111111, \"#46039f\"], [0.2222222222222222, \"#7201a8\"], [0.3333333333333333, \"#9c179e\"], [0.4444444444444444, \"#bd3786\"], [0.5555555555555556, \"#d8576b\"], [0.6666666666666666, \"#ed7953\"], [0.7777777777777778, \"#fb9f3a\"], [0.8888888888888888, \"#fdca26\"], [1.0, \"#f0f921\"]], \"sequentialminus\": [[0.0, \"#0d0887\"], [0.1111111111111111, \"#46039f\"], [0.2222222222222222, \"#7201a8\"], [0.3333333333333333, \"#9c179e\"], [0.4444444444444444, \"#bd3786\"], [0.5555555555555556, \"#d8576b\"], [0.6666666666666666, \"#ed7953\"], [0.7777777777777778, \"#fb9f3a\"], [0.8888888888888888, \"#fdca26\"], [1.0, \"#f0f921\"]]}, \"colorway\": [\"#636efa\", \"#EF553B\", \"#00cc96\", \"#ab63fa\", \"#FFA15A\", \"#19d3f3\", \"#FF6692\", \"#B6E880\", \"#FF97FF\", \"#FECB52\"], \"font\": {\"color\": \"#2a3f5f\"}, \"geo\": {\"bgcolor\": \"white\", \"lakecolor\": \"white\", \"landcolor\": \"#E5ECF6\", \"showlakes\": true, \"showland\": true, \"subunitcolor\": \"white\"}, \"hoverlabel\": {\"align\": \"left\"}, \"hovermode\": \"closest\", \"mapbox\": {\"style\": \"light\"}, \"paper_bgcolor\": \"white\", \"plot_bgcolor\": \"#E5ECF6\", \"polar\": {\"angularaxis\": {\"gridcolor\": \"white\", \"linecolor\": \"white\", \"ticks\": \"\"}, \"bgcolor\": \"#E5ECF6\", \"radialaxis\": {\"gridcolor\": \"white\", \"linecolor\": \"white\", \"ticks\": \"\"}}, \"scene\": {\"xaxis\": {\"backgroundcolor\": \"#E5ECF6\", \"gridcolor\": \"white\", \"gridwidth\": 2, \"linecolor\": \"white\", \"showbackground\": true, \"ticks\": \"\", \"zerolinecolor\": \"white\"}, \"yaxis\": {\"backgroundcolor\": \"#E5ECF6\", \"gridcolor\": \"white\", \"gridwidth\": 2, \"linecolor\": \"white\", \"showbackground\": true, \"ticks\": \"\", \"zerolinecolor\": \"white\"}, \"zaxis\": {\"backgroundcolor\": \"#E5ECF6\", \"gridcolor\": \"white\", \"gridwidth\": 2, \"linecolor\": \"white\", \"showbackground\": true, \"ticks\": \"\", \"zerolinecolor\": \"white\"}}, \"shapedefaults\": {\"line\": {\"color\": \"#2a3f5f\"}}, \"ternary\": {\"aaxis\": {\"gridcolor\": \"white\", \"linecolor\": \"white\", \"ticks\": \"\"}, \"baxis\": {\"gridcolor\": \"white\", \"linecolor\": \"white\", \"ticks\": \"\"}, \"bgcolor\": \"#E5ECF6\", \"caxis\": {\"gridcolor\": \"white\", \"linecolor\": \"white\", \"ticks\": \"\"}}, \"title\": {\"x\": 0.05}, \"xaxis\": {\"automargin\": true, \"gridcolor\": \"white\", \"linecolor\": \"white\", \"ticks\": \"\", \"title\": {\"standoff\": 15}, \"zerolinecolor\": \"white\", \"zerolinewidth\": 2}, \"yaxis\": {\"automargin\": true, \"gridcolor\": \"white\", \"linecolor\": \"white\", \"ticks\": \"\", \"title\": {\"standoff\": 15}, \"zerolinecolor\": \"white\", \"zerolinewidth\": 2}}}, \"width\": 2000},\n",
       "                        {\"responsive\": true}\n",
       "                    ).then(function(){\n",
       "                            \n",
       "var gd = document.getElementById('527b16fa-37e4-4018-9bdd-6fbe655dd8b4');\n",
       "var x = new MutationObserver(function (mutations, observer) {{\n",
       "        var display = window.getComputedStyle(gd).display;\n",
       "        if (!display || display === 'none') {{\n",
       "            console.log([gd, 'removed!']);\n",
       "            Plotly.purge(gd);\n",
       "            observer.disconnect();\n",
       "        }}\n",
       "}});\n",
       "\n",
       "// Listen for the removal of the full notebook cells\n",
       "var notebookContainer = gd.closest('#notebook-container');\n",
       "if (notebookContainer) {{\n",
       "    x.observe(notebookContainer, {childList: true});\n",
       "}}\n",
       "\n",
       "// Listen for the clearing of the current output cell\n",
       "var outputEl = gd.closest('.output');\n",
       "if (outputEl) {{\n",
       "    x.observe(outputEl, {childList: true});\n",
       "}}\n",
       "\n",
       "                        })\n",
       "                };\n",
       "                });\n",
       "            </script>\n",
       "        </div>"
      ]
     },
     "metadata": {},
     "output_type": "display_data"
    },
    {
     "name": "stdout",
     "output_type": "stream",
     "text": [
      "Refine your search. If you don't want to, press enter.\n",
      "jukebox\n"
     ]
    },
    {
     "data": {
      "application/vnd.plotly.v1+json": {
       "config": {
        "plotlyServerURL": "https://plot.ly"
       },
       "data": [
        {
         "cells": {
          "values": [
           [
            "Rock of Ages (2012 film)",
            "The Girl Can't Help It"
           ],
           [
            "Rock of Ages is a 2012 American musical comedy-drama film directed by Adam Shankman and based on the rock jukebox Broadway musical Rock of Ages by Chris D'Arienzo. Starring country singer Julianne Hough and Diego Boneta leading an ensemble cast that includes Russell Brand, Alec Baldwin, Paul Giamatti, Catherine Zeta-Jones, Malin Åkerman, Mary J. Blige, Bryan Cranston and Tom Cruise, the film features the music of many 1980s Rock and Glam Rock artists including Def Leppard, Journey, Scorpions, Poison, Foreigner, Guns N' Roses, Pat Benatar, Joan Jett, Bon Jovi, Twisted Sister, Whitesnake, REO Speedwagon, and others. The film's score was composed and conducted by Cliff Eidelman.Originally scheduled to enter production in summer 2009 for a 2011 release, it eventually commenced production in May 2011 and was released on June 15, 2012. The film received mixed critical reviews and grossed only $59 million worldwide. However, Cruise was particularly lauded for his performance of \"Pour Some Sugar on Me\" and \"Wanted Dead or Alive\". The related film soundtrack also did critically well, certified Gold in Canada.",
            "The Girl Can't Help It is a 1956 musical comedy starring Jayne Mansfield in the titular role, Tom Ewell, Edmond O'Brien, Henry Jones, and Julie London.  The picture was produced and directed by Frank Tashlin, with a screenplay adapted by Tashlin and Herbert Baker from an uncredited 1955 novel, Do Re Mi by Garson Kanin. Filmed in DeLuxe Color, the production was originally intended as a vehicle for the American sex symbol Jayne Mansfield, with a satirical subplot involving teenagers and rock 'n' roll music. The unintended result has been called the \"most potent\" celebration of rock music ever captured on film.The original music score, including the title song performed by Little Richard, was by Bobby Troup, with an additional credit to Ray Anthony for the tune \"Big Band Boogie\". Tom Ewell had portrayed Marilyn Monroe's leading man in The Seven Year Itch the previous year."
           ],
           [
            "https://en.wikipedia.org/wiki/Rock_of_Ages_(2012_film)",
            "https://en.wikipedia.org/wiki/The_Girl_Can%27t_Help_It"
           ],
           [
            1.5281053474151891e-06,
            3.543694346086957e-06
           ]
          ]
         },
         "header": {
          "values": [
           "Title",
           "Intro",
           "URL",
           "Similarity"
          ]
         },
         "type": "table"
        }
       ],
       "layout": {
        "height": 1000,
        "template": {
         "data": {
          "bar": [
           {
            "error_x": {
             "color": "#2a3f5f"
            },
            "error_y": {
             "color": "#2a3f5f"
            },
            "marker": {
             "line": {
              "color": "#E5ECF6",
              "width": 0.5
             }
            },
            "type": "bar"
           }
          ],
          "barpolar": [
           {
            "marker": {
             "line": {
              "color": "#E5ECF6",
              "width": 0.5
             }
            },
            "type": "barpolar"
           }
          ],
          "carpet": [
           {
            "aaxis": {
             "endlinecolor": "#2a3f5f",
             "gridcolor": "white",
             "linecolor": "white",
             "minorgridcolor": "white",
             "startlinecolor": "#2a3f5f"
            },
            "baxis": {
             "endlinecolor": "#2a3f5f",
             "gridcolor": "white",
             "linecolor": "white",
             "minorgridcolor": "white",
             "startlinecolor": "#2a3f5f"
            },
            "type": "carpet"
           }
          ],
          "choropleth": [
           {
            "colorbar": {
             "outlinewidth": 0,
             "ticks": ""
            },
            "type": "choropleth"
           }
          ],
          "contour": [
           {
            "colorbar": {
             "outlinewidth": 0,
             "ticks": ""
            },
            "colorscale": [
             [
              0,
              "#0d0887"
             ],
             [
              0.1111111111111111,
              "#46039f"
             ],
             [
              0.2222222222222222,
              "#7201a8"
             ],
             [
              0.3333333333333333,
              "#9c179e"
             ],
             [
              0.4444444444444444,
              "#bd3786"
             ],
             [
              0.5555555555555556,
              "#d8576b"
             ],
             [
              0.6666666666666666,
              "#ed7953"
             ],
             [
              0.7777777777777778,
              "#fb9f3a"
             ],
             [
              0.8888888888888888,
              "#fdca26"
             ],
             [
              1,
              "#f0f921"
             ]
            ],
            "type": "contour"
           }
          ],
          "contourcarpet": [
           {
            "colorbar": {
             "outlinewidth": 0,
             "ticks": ""
            },
            "type": "contourcarpet"
           }
          ],
          "heatmap": [
           {
            "colorbar": {
             "outlinewidth": 0,
             "ticks": ""
            },
            "colorscale": [
             [
              0,
              "#0d0887"
             ],
             [
              0.1111111111111111,
              "#46039f"
             ],
             [
              0.2222222222222222,
              "#7201a8"
             ],
             [
              0.3333333333333333,
              "#9c179e"
             ],
             [
              0.4444444444444444,
              "#bd3786"
             ],
             [
              0.5555555555555556,
              "#d8576b"
             ],
             [
              0.6666666666666666,
              "#ed7953"
             ],
             [
              0.7777777777777778,
              "#fb9f3a"
             ],
             [
              0.8888888888888888,
              "#fdca26"
             ],
             [
              1,
              "#f0f921"
             ]
            ],
            "type": "heatmap"
           }
          ],
          "heatmapgl": [
           {
            "colorbar": {
             "outlinewidth": 0,
             "ticks": ""
            },
            "colorscale": [
             [
              0,
              "#0d0887"
             ],
             [
              0.1111111111111111,
              "#46039f"
             ],
             [
              0.2222222222222222,
              "#7201a8"
             ],
             [
              0.3333333333333333,
              "#9c179e"
             ],
             [
              0.4444444444444444,
              "#bd3786"
             ],
             [
              0.5555555555555556,
              "#d8576b"
             ],
             [
              0.6666666666666666,
              "#ed7953"
             ],
             [
              0.7777777777777778,
              "#fb9f3a"
             ],
             [
              0.8888888888888888,
              "#fdca26"
             ],
             [
              1,
              "#f0f921"
             ]
            ],
            "type": "heatmapgl"
           }
          ],
          "histogram": [
           {
            "marker": {
             "colorbar": {
              "outlinewidth": 0,
              "ticks": ""
             }
            },
            "type": "histogram"
           }
          ],
          "histogram2d": [
           {
            "colorbar": {
             "outlinewidth": 0,
             "ticks": ""
            },
            "colorscale": [
             [
              0,
              "#0d0887"
             ],
             [
              0.1111111111111111,
              "#46039f"
             ],
             [
              0.2222222222222222,
              "#7201a8"
             ],
             [
              0.3333333333333333,
              "#9c179e"
             ],
             [
              0.4444444444444444,
              "#bd3786"
             ],
             [
              0.5555555555555556,
              "#d8576b"
             ],
             [
              0.6666666666666666,
              "#ed7953"
             ],
             [
              0.7777777777777778,
              "#fb9f3a"
             ],
             [
              0.8888888888888888,
              "#fdca26"
             ],
             [
              1,
              "#f0f921"
             ]
            ],
            "type": "histogram2d"
           }
          ],
          "histogram2dcontour": [
           {
            "colorbar": {
             "outlinewidth": 0,
             "ticks": ""
            },
            "colorscale": [
             [
              0,
              "#0d0887"
             ],
             [
              0.1111111111111111,
              "#46039f"
             ],
             [
              0.2222222222222222,
              "#7201a8"
             ],
             [
              0.3333333333333333,
              "#9c179e"
             ],
             [
              0.4444444444444444,
              "#bd3786"
             ],
             [
              0.5555555555555556,
              "#d8576b"
             ],
             [
              0.6666666666666666,
              "#ed7953"
             ],
             [
              0.7777777777777778,
              "#fb9f3a"
             ],
             [
              0.8888888888888888,
              "#fdca26"
             ],
             [
              1,
              "#f0f921"
             ]
            ],
            "type": "histogram2dcontour"
           }
          ],
          "mesh3d": [
           {
            "colorbar": {
             "outlinewidth": 0,
             "ticks": ""
            },
            "type": "mesh3d"
           }
          ],
          "parcoords": [
           {
            "line": {
             "colorbar": {
              "outlinewidth": 0,
              "ticks": ""
             }
            },
            "type": "parcoords"
           }
          ],
          "pie": [
           {
            "automargin": true,
            "type": "pie"
           }
          ],
          "scatter": [
           {
            "marker": {
             "colorbar": {
              "outlinewidth": 0,
              "ticks": ""
             }
            },
            "type": "scatter"
           }
          ],
          "scatter3d": [
           {
            "line": {
             "colorbar": {
              "outlinewidth": 0,
              "ticks": ""
             }
            },
            "marker": {
             "colorbar": {
              "outlinewidth": 0,
              "ticks": ""
             }
            },
            "type": "scatter3d"
           }
          ],
          "scattercarpet": [
           {
            "marker": {
             "colorbar": {
              "outlinewidth": 0,
              "ticks": ""
             }
            },
            "type": "scattercarpet"
           }
          ],
          "scattergeo": [
           {
            "marker": {
             "colorbar": {
              "outlinewidth": 0,
              "ticks": ""
             }
            },
            "type": "scattergeo"
           }
          ],
          "scattergl": [
           {
            "marker": {
             "colorbar": {
              "outlinewidth": 0,
              "ticks": ""
             }
            },
            "type": "scattergl"
           }
          ],
          "scattermapbox": [
           {
            "marker": {
             "colorbar": {
              "outlinewidth": 0,
              "ticks": ""
             }
            },
            "type": "scattermapbox"
           }
          ],
          "scatterpolar": [
           {
            "marker": {
             "colorbar": {
              "outlinewidth": 0,
              "ticks": ""
             }
            },
            "type": "scatterpolar"
           }
          ],
          "scatterpolargl": [
           {
            "marker": {
             "colorbar": {
              "outlinewidth": 0,
              "ticks": ""
             }
            },
            "type": "scatterpolargl"
           }
          ],
          "scatterternary": [
           {
            "marker": {
             "colorbar": {
              "outlinewidth": 0,
              "ticks": ""
             }
            },
            "type": "scatterternary"
           }
          ],
          "surface": [
           {
            "colorbar": {
             "outlinewidth": 0,
             "ticks": ""
            },
            "colorscale": [
             [
              0,
              "#0d0887"
             ],
             [
              0.1111111111111111,
              "#46039f"
             ],
             [
              0.2222222222222222,
              "#7201a8"
             ],
             [
              0.3333333333333333,
              "#9c179e"
             ],
             [
              0.4444444444444444,
              "#bd3786"
             ],
             [
              0.5555555555555556,
              "#d8576b"
             ],
             [
              0.6666666666666666,
              "#ed7953"
             ],
             [
              0.7777777777777778,
              "#fb9f3a"
             ],
             [
              0.8888888888888888,
              "#fdca26"
             ],
             [
              1,
              "#f0f921"
             ]
            ],
            "type": "surface"
           }
          ],
          "table": [
           {
            "cells": {
             "fill": {
              "color": "#EBF0F8"
             },
             "line": {
              "color": "white"
             }
            },
            "header": {
             "fill": {
              "color": "#C8D4E3"
             },
             "line": {
              "color": "white"
             }
            },
            "type": "table"
           }
          ]
         },
         "layout": {
          "annotationdefaults": {
           "arrowcolor": "#2a3f5f",
           "arrowhead": 0,
           "arrowwidth": 1
          },
          "coloraxis": {
           "colorbar": {
            "outlinewidth": 0,
            "ticks": ""
           }
          },
          "colorscale": {
           "diverging": [
            [
             0,
             "#8e0152"
            ],
            [
             0.1,
             "#c51b7d"
            ],
            [
             0.2,
             "#de77ae"
            ],
            [
             0.3,
             "#f1b6da"
            ],
            [
             0.4,
             "#fde0ef"
            ],
            [
             0.5,
             "#f7f7f7"
            ],
            [
             0.6,
             "#e6f5d0"
            ],
            [
             0.7,
             "#b8e186"
            ],
            [
             0.8,
             "#7fbc41"
            ],
            [
             0.9,
             "#4d9221"
            ],
            [
             1,
             "#276419"
            ]
           ],
           "sequential": [
            [
             0,
             "#0d0887"
            ],
            [
             0.1111111111111111,
             "#46039f"
            ],
            [
             0.2222222222222222,
             "#7201a8"
            ],
            [
             0.3333333333333333,
             "#9c179e"
            ],
            [
             0.4444444444444444,
             "#bd3786"
            ],
            [
             0.5555555555555556,
             "#d8576b"
            ],
            [
             0.6666666666666666,
             "#ed7953"
            ],
            [
             0.7777777777777778,
             "#fb9f3a"
            ],
            [
             0.8888888888888888,
             "#fdca26"
            ],
            [
             1,
             "#f0f921"
            ]
           ],
           "sequentialminus": [
            [
             0,
             "#0d0887"
            ],
            [
             0.1111111111111111,
             "#46039f"
            ],
            [
             0.2222222222222222,
             "#7201a8"
            ],
            [
             0.3333333333333333,
             "#9c179e"
            ],
            [
             0.4444444444444444,
             "#bd3786"
            ],
            [
             0.5555555555555556,
             "#d8576b"
            ],
            [
             0.6666666666666666,
             "#ed7953"
            ],
            [
             0.7777777777777778,
             "#fb9f3a"
            ],
            [
             0.8888888888888888,
             "#fdca26"
            ],
            [
             1,
             "#f0f921"
            ]
           ]
          },
          "colorway": [
           "#636efa",
           "#EF553B",
           "#00cc96",
           "#ab63fa",
           "#FFA15A",
           "#19d3f3",
           "#FF6692",
           "#B6E880",
           "#FF97FF",
           "#FECB52"
          ],
          "font": {
           "color": "#2a3f5f"
          },
          "geo": {
           "bgcolor": "white",
           "lakecolor": "white",
           "landcolor": "#E5ECF6",
           "showlakes": true,
           "showland": true,
           "subunitcolor": "white"
          },
          "hoverlabel": {
           "align": "left"
          },
          "hovermode": "closest",
          "mapbox": {
           "style": "light"
          },
          "paper_bgcolor": "white",
          "plot_bgcolor": "#E5ECF6",
          "polar": {
           "angularaxis": {
            "gridcolor": "white",
            "linecolor": "white",
            "ticks": ""
           },
           "bgcolor": "#E5ECF6",
           "radialaxis": {
            "gridcolor": "white",
            "linecolor": "white",
            "ticks": ""
           }
          },
          "scene": {
           "xaxis": {
            "backgroundcolor": "#E5ECF6",
            "gridcolor": "white",
            "gridwidth": 2,
            "linecolor": "white",
            "showbackground": true,
            "ticks": "",
            "zerolinecolor": "white"
           },
           "yaxis": {
            "backgroundcolor": "#E5ECF6",
            "gridcolor": "white",
            "gridwidth": 2,
            "linecolor": "white",
            "showbackground": true,
            "ticks": "",
            "zerolinecolor": "white"
           },
           "zaxis": {
            "backgroundcolor": "#E5ECF6",
            "gridcolor": "white",
            "gridwidth": 2,
            "linecolor": "white",
            "showbackground": true,
            "ticks": "",
            "zerolinecolor": "white"
           }
          },
          "shapedefaults": {
           "line": {
            "color": "#2a3f5f"
           }
          },
          "ternary": {
           "aaxis": {
            "gridcolor": "white",
            "linecolor": "white",
            "ticks": ""
           },
           "baxis": {
            "gridcolor": "white",
            "linecolor": "white",
            "ticks": ""
           },
           "bgcolor": "#E5ECF6",
           "caxis": {
            "gridcolor": "white",
            "linecolor": "white",
            "ticks": ""
           }
          },
          "title": {
           "x": 0.05
          },
          "xaxis": {
           "automargin": true,
           "gridcolor": "white",
           "linecolor": "white",
           "ticks": "",
           "title": {
            "standoff": 15
           },
           "zerolinecolor": "white",
           "zerolinewidth": 2
          },
          "yaxis": {
           "automargin": true,
           "gridcolor": "white",
           "linecolor": "white",
           "ticks": "",
           "title": {
            "standoff": 15
           },
           "zerolinecolor": "white",
           "zerolinewidth": 2
          }
         }
        },
        "width": 2000
       }
      },
      "text/html": [
       "<div>\n",
       "        \n",
       "        \n",
       "            <div id=\"94addf16-0c88-42be-92b2-44298f5c1f6e\" class=\"plotly-graph-div\" style=\"height:1000px; width:2000px;\"></div>\n",
       "            <script type=\"text/javascript\">\n",
       "                require([\"plotly\"], function(Plotly) {\n",
       "                    window.PLOTLYENV=window.PLOTLYENV || {};\n",
       "                    \n",
       "                if (document.getElementById(\"94addf16-0c88-42be-92b2-44298f5c1f6e\")) {\n",
       "                    Plotly.newPlot(\n",
       "                        '94addf16-0c88-42be-92b2-44298f5c1f6e',\n",
       "                        [{\"cells\": {\"values\": [[\"Rock of Ages (2012 film)\", \"The Girl Can't Help It\"], [\"Rock of Ages is a 2012 American musical comedy-drama film directed by Adam Shankman and based on the rock jukebox Broadway musical Rock of Ages by Chris D'Arienzo. Starring country singer Julianne Hough and Diego Boneta leading an ensemble cast that includes Russell Brand, Alec Baldwin, Paul Giamatti, Catherine Zeta-Jones, Malin \\u00c5kerman, Mary J. Blige, Bryan Cranston and Tom Cruise, the film features the music of many 1980s Rock and Glam Rock artists including Def Leppard, Journey, Scorpions, Poison, Foreigner, Guns N' Roses, Pat Benatar, Joan Jett, Bon Jovi, Twisted Sister, Whitesnake, REO Speedwagon, and others. The film's score was composed and conducted by Cliff Eidelman.Originally scheduled to enter production in summer 2009 for a 2011 release, it eventually commenced production in May 2011 and was released on June 15, 2012. The film received mixed critical reviews and grossed only $59 million worldwide. However, Cruise was particularly lauded for his performance of \\\"Pour Some Sugar on Me\\\" and \\\"Wanted Dead or Alive\\\". The related film soundtrack also did critically well, certified Gold in Canada.\", \"The Girl Can't Help It is a 1956 musical comedy starring Jayne Mansfield in the titular role, Tom Ewell, Edmond O'Brien, Henry Jones, and Julie London.  The picture was produced and directed by Frank Tashlin, with a screenplay adapted by Tashlin and Herbert Baker from an uncredited 1955 novel, Do Re Mi by Garson Kanin. Filmed in DeLuxe Color, the production was originally intended as a vehicle for the American sex symbol Jayne Mansfield, with a satirical subplot involving teenagers and rock 'n' roll music. The unintended result has been called the \\\"most potent\\\" celebration of rock music ever captured on film.The original music score, including the title song performed by Little Richard, was by Bobby Troup, with an additional credit to Ray Anthony for the tune \\\"Big Band Boogie\\\". Tom Ewell had portrayed Marilyn Monroe's leading man in The Seven Year Itch the previous year.\"], [\"https://en.wikipedia.org/wiki/Rock_of_Ages_(2012_film)\", \"https://en.wikipedia.org/wiki/The_Girl_Can%27t_Help_It\"], [1.5281053474151891e-06, 3.543694346086957e-06]]}, \"header\": {\"values\": [\"Title\", \"Intro\", \"URL\", \"Similarity\"]}, \"type\": \"table\"}],\n",
       "                        {\"height\": 1000, \"template\": {\"data\": {\"bar\": [{\"error_x\": {\"color\": \"#2a3f5f\"}, \"error_y\": {\"color\": \"#2a3f5f\"}, \"marker\": {\"line\": {\"color\": \"#E5ECF6\", \"width\": 0.5}}, \"type\": \"bar\"}], \"barpolar\": [{\"marker\": {\"line\": {\"color\": \"#E5ECF6\", \"width\": 0.5}}, \"type\": \"barpolar\"}], \"carpet\": [{\"aaxis\": {\"endlinecolor\": \"#2a3f5f\", \"gridcolor\": \"white\", \"linecolor\": \"white\", \"minorgridcolor\": \"white\", \"startlinecolor\": \"#2a3f5f\"}, \"baxis\": {\"endlinecolor\": \"#2a3f5f\", \"gridcolor\": \"white\", \"linecolor\": \"white\", \"minorgridcolor\": \"white\", \"startlinecolor\": \"#2a3f5f\"}, \"type\": \"carpet\"}], \"choropleth\": [{\"colorbar\": {\"outlinewidth\": 0, \"ticks\": \"\"}, \"type\": \"choropleth\"}], \"contour\": [{\"colorbar\": {\"outlinewidth\": 0, \"ticks\": \"\"}, \"colorscale\": [[0.0, \"#0d0887\"], [0.1111111111111111, \"#46039f\"], [0.2222222222222222, \"#7201a8\"], [0.3333333333333333, \"#9c179e\"], [0.4444444444444444, \"#bd3786\"], [0.5555555555555556, \"#d8576b\"], [0.6666666666666666, \"#ed7953\"], [0.7777777777777778, \"#fb9f3a\"], [0.8888888888888888, \"#fdca26\"], [1.0, \"#f0f921\"]], \"type\": \"contour\"}], \"contourcarpet\": [{\"colorbar\": {\"outlinewidth\": 0, \"ticks\": \"\"}, \"type\": \"contourcarpet\"}], \"heatmap\": [{\"colorbar\": {\"outlinewidth\": 0, \"ticks\": \"\"}, \"colorscale\": [[0.0, \"#0d0887\"], [0.1111111111111111, \"#46039f\"], [0.2222222222222222, \"#7201a8\"], [0.3333333333333333, \"#9c179e\"], [0.4444444444444444, \"#bd3786\"], [0.5555555555555556, \"#d8576b\"], [0.6666666666666666, \"#ed7953\"], [0.7777777777777778, \"#fb9f3a\"], [0.8888888888888888, \"#fdca26\"], [1.0, \"#f0f921\"]], \"type\": \"heatmap\"}], \"heatmapgl\": [{\"colorbar\": {\"outlinewidth\": 0, \"ticks\": \"\"}, \"colorscale\": [[0.0, \"#0d0887\"], [0.1111111111111111, \"#46039f\"], [0.2222222222222222, \"#7201a8\"], [0.3333333333333333, \"#9c179e\"], [0.4444444444444444, \"#bd3786\"], [0.5555555555555556, \"#d8576b\"], [0.6666666666666666, \"#ed7953\"], [0.7777777777777778, \"#fb9f3a\"], [0.8888888888888888, \"#fdca26\"], [1.0, \"#f0f921\"]], \"type\": \"heatmapgl\"}], \"histogram\": [{\"marker\": {\"colorbar\": {\"outlinewidth\": 0, \"ticks\": \"\"}}, \"type\": \"histogram\"}], \"histogram2d\": [{\"colorbar\": {\"outlinewidth\": 0, \"ticks\": \"\"}, \"colorscale\": [[0.0, \"#0d0887\"], [0.1111111111111111, \"#46039f\"], [0.2222222222222222, \"#7201a8\"], [0.3333333333333333, \"#9c179e\"], [0.4444444444444444, \"#bd3786\"], [0.5555555555555556, \"#d8576b\"], [0.6666666666666666, \"#ed7953\"], [0.7777777777777778, \"#fb9f3a\"], [0.8888888888888888, \"#fdca26\"], [1.0, \"#f0f921\"]], \"type\": \"histogram2d\"}], \"histogram2dcontour\": [{\"colorbar\": {\"outlinewidth\": 0, \"ticks\": \"\"}, \"colorscale\": [[0.0, \"#0d0887\"], [0.1111111111111111, \"#46039f\"], [0.2222222222222222, \"#7201a8\"], [0.3333333333333333, \"#9c179e\"], [0.4444444444444444, \"#bd3786\"], [0.5555555555555556, \"#d8576b\"], [0.6666666666666666, \"#ed7953\"], [0.7777777777777778, \"#fb9f3a\"], [0.8888888888888888, \"#fdca26\"], [1.0, \"#f0f921\"]], \"type\": \"histogram2dcontour\"}], \"mesh3d\": [{\"colorbar\": {\"outlinewidth\": 0, \"ticks\": \"\"}, \"type\": \"mesh3d\"}], \"parcoords\": [{\"line\": {\"colorbar\": {\"outlinewidth\": 0, \"ticks\": \"\"}}, \"type\": \"parcoords\"}], \"pie\": [{\"automargin\": true, \"type\": \"pie\"}], \"scatter\": [{\"marker\": {\"colorbar\": {\"outlinewidth\": 0, \"ticks\": \"\"}}, \"type\": \"scatter\"}], \"scatter3d\": [{\"line\": {\"colorbar\": {\"outlinewidth\": 0, \"ticks\": \"\"}}, \"marker\": {\"colorbar\": {\"outlinewidth\": 0, \"ticks\": \"\"}}, \"type\": \"scatter3d\"}], \"scattercarpet\": [{\"marker\": {\"colorbar\": {\"outlinewidth\": 0, \"ticks\": \"\"}}, \"type\": \"scattercarpet\"}], \"scattergeo\": [{\"marker\": {\"colorbar\": {\"outlinewidth\": 0, \"ticks\": \"\"}}, \"type\": \"scattergeo\"}], \"scattergl\": [{\"marker\": {\"colorbar\": {\"outlinewidth\": 0, \"ticks\": \"\"}}, \"type\": \"scattergl\"}], \"scattermapbox\": [{\"marker\": {\"colorbar\": {\"outlinewidth\": 0, \"ticks\": \"\"}}, \"type\": \"scattermapbox\"}], \"scatterpolar\": [{\"marker\": {\"colorbar\": {\"outlinewidth\": 0, \"ticks\": \"\"}}, \"type\": \"scatterpolar\"}], \"scatterpolargl\": [{\"marker\": {\"colorbar\": {\"outlinewidth\": 0, \"ticks\": \"\"}}, \"type\": \"scatterpolargl\"}], \"scatterternary\": [{\"marker\": {\"colorbar\": {\"outlinewidth\": 0, \"ticks\": \"\"}}, \"type\": \"scatterternary\"}], \"surface\": [{\"colorbar\": {\"outlinewidth\": 0, \"ticks\": \"\"}, \"colorscale\": [[0.0, \"#0d0887\"], [0.1111111111111111, \"#46039f\"], [0.2222222222222222, \"#7201a8\"], [0.3333333333333333, \"#9c179e\"], [0.4444444444444444, \"#bd3786\"], [0.5555555555555556, \"#d8576b\"], [0.6666666666666666, \"#ed7953\"], [0.7777777777777778, \"#fb9f3a\"], [0.8888888888888888, \"#fdca26\"], [1.0, \"#f0f921\"]], \"type\": \"surface\"}], \"table\": [{\"cells\": {\"fill\": {\"color\": \"#EBF0F8\"}, \"line\": {\"color\": \"white\"}}, \"header\": {\"fill\": {\"color\": \"#C8D4E3\"}, \"line\": {\"color\": \"white\"}}, \"type\": \"table\"}]}, \"layout\": {\"annotationdefaults\": {\"arrowcolor\": \"#2a3f5f\", \"arrowhead\": 0, \"arrowwidth\": 1}, \"coloraxis\": {\"colorbar\": {\"outlinewidth\": 0, \"ticks\": \"\"}}, \"colorscale\": {\"diverging\": [[0, \"#8e0152\"], [0.1, \"#c51b7d\"], [0.2, \"#de77ae\"], [0.3, \"#f1b6da\"], [0.4, \"#fde0ef\"], [0.5, \"#f7f7f7\"], [0.6, \"#e6f5d0\"], [0.7, \"#b8e186\"], [0.8, \"#7fbc41\"], [0.9, \"#4d9221\"], [1, \"#276419\"]], \"sequential\": [[0.0, \"#0d0887\"], [0.1111111111111111, \"#46039f\"], [0.2222222222222222, \"#7201a8\"], [0.3333333333333333, \"#9c179e\"], [0.4444444444444444, \"#bd3786\"], [0.5555555555555556, \"#d8576b\"], [0.6666666666666666, \"#ed7953\"], [0.7777777777777778, \"#fb9f3a\"], [0.8888888888888888, \"#fdca26\"], [1.0, \"#f0f921\"]], \"sequentialminus\": [[0.0, \"#0d0887\"], [0.1111111111111111, \"#46039f\"], [0.2222222222222222, \"#7201a8\"], [0.3333333333333333, \"#9c179e\"], [0.4444444444444444, \"#bd3786\"], [0.5555555555555556, \"#d8576b\"], [0.6666666666666666, \"#ed7953\"], [0.7777777777777778, \"#fb9f3a\"], [0.8888888888888888, \"#fdca26\"], [1.0, \"#f0f921\"]]}, \"colorway\": [\"#636efa\", \"#EF553B\", \"#00cc96\", \"#ab63fa\", \"#FFA15A\", \"#19d3f3\", \"#FF6692\", \"#B6E880\", \"#FF97FF\", \"#FECB52\"], \"font\": {\"color\": \"#2a3f5f\"}, \"geo\": {\"bgcolor\": \"white\", \"lakecolor\": \"white\", \"landcolor\": \"#E5ECF6\", \"showlakes\": true, \"showland\": true, \"subunitcolor\": \"white\"}, \"hoverlabel\": {\"align\": \"left\"}, \"hovermode\": \"closest\", \"mapbox\": {\"style\": \"light\"}, \"paper_bgcolor\": \"white\", \"plot_bgcolor\": \"#E5ECF6\", \"polar\": {\"angularaxis\": {\"gridcolor\": \"white\", \"linecolor\": \"white\", \"ticks\": \"\"}, \"bgcolor\": \"#E5ECF6\", \"radialaxis\": {\"gridcolor\": \"white\", \"linecolor\": \"white\", \"ticks\": \"\"}}, \"scene\": {\"xaxis\": {\"backgroundcolor\": \"#E5ECF6\", \"gridcolor\": \"white\", \"gridwidth\": 2, \"linecolor\": \"white\", \"showbackground\": true, \"ticks\": \"\", \"zerolinecolor\": \"white\"}, \"yaxis\": {\"backgroundcolor\": \"#E5ECF6\", \"gridcolor\": \"white\", \"gridwidth\": 2, \"linecolor\": \"white\", \"showbackground\": true, \"ticks\": \"\", \"zerolinecolor\": \"white\"}, \"zaxis\": {\"backgroundcolor\": \"#E5ECF6\", \"gridcolor\": \"white\", \"gridwidth\": 2, \"linecolor\": \"white\", \"showbackground\": true, \"ticks\": \"\", \"zerolinecolor\": \"white\"}}, \"shapedefaults\": {\"line\": {\"color\": \"#2a3f5f\"}}, \"ternary\": {\"aaxis\": {\"gridcolor\": \"white\", \"linecolor\": \"white\", \"ticks\": \"\"}, \"baxis\": {\"gridcolor\": \"white\", \"linecolor\": \"white\", \"ticks\": \"\"}, \"bgcolor\": \"#E5ECF6\", \"caxis\": {\"gridcolor\": \"white\", \"linecolor\": \"white\", \"ticks\": \"\"}}, \"title\": {\"x\": 0.05}, \"xaxis\": {\"automargin\": true, \"gridcolor\": \"white\", \"linecolor\": \"white\", \"ticks\": \"\", \"title\": {\"standoff\": 15}, \"zerolinecolor\": \"white\", \"zerolinewidth\": 2}, \"yaxis\": {\"automargin\": true, \"gridcolor\": \"white\", \"linecolor\": \"white\", \"ticks\": \"\", \"title\": {\"standoff\": 15}, \"zerolinecolor\": \"white\", \"zerolinewidth\": 2}}}, \"width\": 2000},\n",
       "                        {\"responsive\": true}\n",
       "                    ).then(function(){\n",
       "                            \n",
       "var gd = document.getElementById('94addf16-0c88-42be-92b2-44298f5c1f6e');\n",
       "var x = new MutationObserver(function (mutations, observer) {{\n",
       "        var display = window.getComputedStyle(gd).display;\n",
       "        if (!display || display === 'none') {{\n",
       "            console.log([gd, 'removed!']);\n",
       "            Plotly.purge(gd);\n",
       "            observer.disconnect();\n",
       "        }}\n",
       "}});\n",
       "\n",
       "// Listen for the removal of the full notebook cells\n",
       "var notebookContainer = gd.closest('#notebook-container');\n",
       "if (notebookContainer) {{\n",
       "    x.observe(notebookContainer, {childList: true});\n",
       "}}\n",
       "\n",
       "// Listen for the clearing of the current output cell\n",
       "var outputEl = gd.closest('.output');\n",
       "if (outputEl) {{\n",
       "    x.observe(outputEl, {childList: true});\n",
       "}}\n",
       "\n",
       "                        })\n",
       "                };\n",
       "                });\n",
       "            </script>\n",
       "        </div>"
      ]
     },
     "metadata": {},
     "output_type": "display_data"
    },
    {
     "name": "stdout",
     "output_type": "stream",
     "text": [
      "Refine your search. If you don't want to, press enter.\n",
      "jayne\n"
     ]
    },
    {
     "data": {
      "application/vnd.plotly.v1+json": {
       "config": {
        "plotlyServerURL": "https://plot.ly"
       },
       "data": [
        {
         "cells": {
          "values": [
           [
            "The Girl Can't Help It"
           ],
           [
            "The Girl Can't Help It is a 1956 musical comedy starring Jayne Mansfield in the titular role, Tom Ewell, Edmond O'Brien, Henry Jones, and Julie London.  The picture was produced and directed by Frank Tashlin, with a screenplay adapted by Tashlin and Herbert Baker from an uncredited 1955 novel, Do Re Mi by Garson Kanin. Filmed in DeLuxe Color, the production was originally intended as a vehicle for the American sex symbol Jayne Mansfield, with a satirical subplot involving teenagers and rock 'n' roll music. The unintended result has been called the \"most potent\" celebration of rock music ever captured on film.The original music score, including the title song performed by Little Richard, was by Bobby Troup, with an additional credit to Ray Anthony for the tune \"Big Band Boogie\". Tom Ewell had portrayed Marilyn Monroe's leading man in The Seven Year Itch the previous year."
           ],
           [
            "https://en.wikipedia.org/wiki/The_Girl_Can%27t_Help_It"
           ],
           [
            5.210140230383734e-06
           ]
          ]
         },
         "header": {
          "values": [
           "Title",
           "Intro",
           "URL",
           "Similarity"
          ]
         },
         "type": "table"
        }
       ],
       "layout": {
        "height": 1000,
        "template": {
         "data": {
          "bar": [
           {
            "error_x": {
             "color": "#2a3f5f"
            },
            "error_y": {
             "color": "#2a3f5f"
            },
            "marker": {
             "line": {
              "color": "#E5ECF6",
              "width": 0.5
             }
            },
            "type": "bar"
           }
          ],
          "barpolar": [
           {
            "marker": {
             "line": {
              "color": "#E5ECF6",
              "width": 0.5
             }
            },
            "type": "barpolar"
           }
          ],
          "carpet": [
           {
            "aaxis": {
             "endlinecolor": "#2a3f5f",
             "gridcolor": "white",
             "linecolor": "white",
             "minorgridcolor": "white",
             "startlinecolor": "#2a3f5f"
            },
            "baxis": {
             "endlinecolor": "#2a3f5f",
             "gridcolor": "white",
             "linecolor": "white",
             "minorgridcolor": "white",
             "startlinecolor": "#2a3f5f"
            },
            "type": "carpet"
           }
          ],
          "choropleth": [
           {
            "colorbar": {
             "outlinewidth": 0,
             "ticks": ""
            },
            "type": "choropleth"
           }
          ],
          "contour": [
           {
            "colorbar": {
             "outlinewidth": 0,
             "ticks": ""
            },
            "colorscale": [
             [
              0,
              "#0d0887"
             ],
             [
              0.1111111111111111,
              "#46039f"
             ],
             [
              0.2222222222222222,
              "#7201a8"
             ],
             [
              0.3333333333333333,
              "#9c179e"
             ],
             [
              0.4444444444444444,
              "#bd3786"
             ],
             [
              0.5555555555555556,
              "#d8576b"
             ],
             [
              0.6666666666666666,
              "#ed7953"
             ],
             [
              0.7777777777777778,
              "#fb9f3a"
             ],
             [
              0.8888888888888888,
              "#fdca26"
             ],
             [
              1,
              "#f0f921"
             ]
            ],
            "type": "contour"
           }
          ],
          "contourcarpet": [
           {
            "colorbar": {
             "outlinewidth": 0,
             "ticks": ""
            },
            "type": "contourcarpet"
           }
          ],
          "heatmap": [
           {
            "colorbar": {
             "outlinewidth": 0,
             "ticks": ""
            },
            "colorscale": [
             [
              0,
              "#0d0887"
             ],
             [
              0.1111111111111111,
              "#46039f"
             ],
             [
              0.2222222222222222,
              "#7201a8"
             ],
             [
              0.3333333333333333,
              "#9c179e"
             ],
             [
              0.4444444444444444,
              "#bd3786"
             ],
             [
              0.5555555555555556,
              "#d8576b"
             ],
             [
              0.6666666666666666,
              "#ed7953"
             ],
             [
              0.7777777777777778,
              "#fb9f3a"
             ],
             [
              0.8888888888888888,
              "#fdca26"
             ],
             [
              1,
              "#f0f921"
             ]
            ],
            "type": "heatmap"
           }
          ],
          "heatmapgl": [
           {
            "colorbar": {
             "outlinewidth": 0,
             "ticks": ""
            },
            "colorscale": [
             [
              0,
              "#0d0887"
             ],
             [
              0.1111111111111111,
              "#46039f"
             ],
             [
              0.2222222222222222,
              "#7201a8"
             ],
             [
              0.3333333333333333,
              "#9c179e"
             ],
             [
              0.4444444444444444,
              "#bd3786"
             ],
             [
              0.5555555555555556,
              "#d8576b"
             ],
             [
              0.6666666666666666,
              "#ed7953"
             ],
             [
              0.7777777777777778,
              "#fb9f3a"
             ],
             [
              0.8888888888888888,
              "#fdca26"
             ],
             [
              1,
              "#f0f921"
             ]
            ],
            "type": "heatmapgl"
           }
          ],
          "histogram": [
           {
            "marker": {
             "colorbar": {
              "outlinewidth": 0,
              "ticks": ""
             }
            },
            "type": "histogram"
           }
          ],
          "histogram2d": [
           {
            "colorbar": {
             "outlinewidth": 0,
             "ticks": ""
            },
            "colorscale": [
             [
              0,
              "#0d0887"
             ],
             [
              0.1111111111111111,
              "#46039f"
             ],
             [
              0.2222222222222222,
              "#7201a8"
             ],
             [
              0.3333333333333333,
              "#9c179e"
             ],
             [
              0.4444444444444444,
              "#bd3786"
             ],
             [
              0.5555555555555556,
              "#d8576b"
             ],
             [
              0.6666666666666666,
              "#ed7953"
             ],
             [
              0.7777777777777778,
              "#fb9f3a"
             ],
             [
              0.8888888888888888,
              "#fdca26"
             ],
             [
              1,
              "#f0f921"
             ]
            ],
            "type": "histogram2d"
           }
          ],
          "histogram2dcontour": [
           {
            "colorbar": {
             "outlinewidth": 0,
             "ticks": ""
            },
            "colorscale": [
             [
              0,
              "#0d0887"
             ],
             [
              0.1111111111111111,
              "#46039f"
             ],
             [
              0.2222222222222222,
              "#7201a8"
             ],
             [
              0.3333333333333333,
              "#9c179e"
             ],
             [
              0.4444444444444444,
              "#bd3786"
             ],
             [
              0.5555555555555556,
              "#d8576b"
             ],
             [
              0.6666666666666666,
              "#ed7953"
             ],
             [
              0.7777777777777778,
              "#fb9f3a"
             ],
             [
              0.8888888888888888,
              "#fdca26"
             ],
             [
              1,
              "#f0f921"
             ]
            ],
            "type": "histogram2dcontour"
           }
          ],
          "mesh3d": [
           {
            "colorbar": {
             "outlinewidth": 0,
             "ticks": ""
            },
            "type": "mesh3d"
           }
          ],
          "parcoords": [
           {
            "line": {
             "colorbar": {
              "outlinewidth": 0,
              "ticks": ""
             }
            },
            "type": "parcoords"
           }
          ],
          "pie": [
           {
            "automargin": true,
            "type": "pie"
           }
          ],
          "scatter": [
           {
            "marker": {
             "colorbar": {
              "outlinewidth": 0,
              "ticks": ""
             }
            },
            "type": "scatter"
           }
          ],
          "scatter3d": [
           {
            "line": {
             "colorbar": {
              "outlinewidth": 0,
              "ticks": ""
             }
            },
            "marker": {
             "colorbar": {
              "outlinewidth": 0,
              "ticks": ""
             }
            },
            "type": "scatter3d"
           }
          ],
          "scattercarpet": [
           {
            "marker": {
             "colorbar": {
              "outlinewidth": 0,
              "ticks": ""
             }
            },
            "type": "scattercarpet"
           }
          ],
          "scattergeo": [
           {
            "marker": {
             "colorbar": {
              "outlinewidth": 0,
              "ticks": ""
             }
            },
            "type": "scattergeo"
           }
          ],
          "scattergl": [
           {
            "marker": {
             "colorbar": {
              "outlinewidth": 0,
              "ticks": ""
             }
            },
            "type": "scattergl"
           }
          ],
          "scattermapbox": [
           {
            "marker": {
             "colorbar": {
              "outlinewidth": 0,
              "ticks": ""
             }
            },
            "type": "scattermapbox"
           }
          ],
          "scatterpolar": [
           {
            "marker": {
             "colorbar": {
              "outlinewidth": 0,
              "ticks": ""
             }
            },
            "type": "scatterpolar"
           }
          ],
          "scatterpolargl": [
           {
            "marker": {
             "colorbar": {
              "outlinewidth": 0,
              "ticks": ""
             }
            },
            "type": "scatterpolargl"
           }
          ],
          "scatterternary": [
           {
            "marker": {
             "colorbar": {
              "outlinewidth": 0,
              "ticks": ""
             }
            },
            "type": "scatterternary"
           }
          ],
          "surface": [
           {
            "colorbar": {
             "outlinewidth": 0,
             "ticks": ""
            },
            "colorscale": [
             [
              0,
              "#0d0887"
             ],
             [
              0.1111111111111111,
              "#46039f"
             ],
             [
              0.2222222222222222,
              "#7201a8"
             ],
             [
              0.3333333333333333,
              "#9c179e"
             ],
             [
              0.4444444444444444,
              "#bd3786"
             ],
             [
              0.5555555555555556,
              "#d8576b"
             ],
             [
              0.6666666666666666,
              "#ed7953"
             ],
             [
              0.7777777777777778,
              "#fb9f3a"
             ],
             [
              0.8888888888888888,
              "#fdca26"
             ],
             [
              1,
              "#f0f921"
             ]
            ],
            "type": "surface"
           }
          ],
          "table": [
           {
            "cells": {
             "fill": {
              "color": "#EBF0F8"
             },
             "line": {
              "color": "white"
             }
            },
            "header": {
             "fill": {
              "color": "#C8D4E3"
             },
             "line": {
              "color": "white"
             }
            },
            "type": "table"
           }
          ]
         },
         "layout": {
          "annotationdefaults": {
           "arrowcolor": "#2a3f5f",
           "arrowhead": 0,
           "arrowwidth": 1
          },
          "coloraxis": {
           "colorbar": {
            "outlinewidth": 0,
            "ticks": ""
           }
          },
          "colorscale": {
           "diverging": [
            [
             0,
             "#8e0152"
            ],
            [
             0.1,
             "#c51b7d"
            ],
            [
             0.2,
             "#de77ae"
            ],
            [
             0.3,
             "#f1b6da"
            ],
            [
             0.4,
             "#fde0ef"
            ],
            [
             0.5,
             "#f7f7f7"
            ],
            [
             0.6,
             "#e6f5d0"
            ],
            [
             0.7,
             "#b8e186"
            ],
            [
             0.8,
             "#7fbc41"
            ],
            [
             0.9,
             "#4d9221"
            ],
            [
             1,
             "#276419"
            ]
           ],
           "sequential": [
            [
             0,
             "#0d0887"
            ],
            [
             0.1111111111111111,
             "#46039f"
            ],
            [
             0.2222222222222222,
             "#7201a8"
            ],
            [
             0.3333333333333333,
             "#9c179e"
            ],
            [
             0.4444444444444444,
             "#bd3786"
            ],
            [
             0.5555555555555556,
             "#d8576b"
            ],
            [
             0.6666666666666666,
             "#ed7953"
            ],
            [
             0.7777777777777778,
             "#fb9f3a"
            ],
            [
             0.8888888888888888,
             "#fdca26"
            ],
            [
             1,
             "#f0f921"
            ]
           ],
           "sequentialminus": [
            [
             0,
             "#0d0887"
            ],
            [
             0.1111111111111111,
             "#46039f"
            ],
            [
             0.2222222222222222,
             "#7201a8"
            ],
            [
             0.3333333333333333,
             "#9c179e"
            ],
            [
             0.4444444444444444,
             "#bd3786"
            ],
            [
             0.5555555555555556,
             "#d8576b"
            ],
            [
             0.6666666666666666,
             "#ed7953"
            ],
            [
             0.7777777777777778,
             "#fb9f3a"
            ],
            [
             0.8888888888888888,
             "#fdca26"
            ],
            [
             1,
             "#f0f921"
            ]
           ]
          },
          "colorway": [
           "#636efa",
           "#EF553B",
           "#00cc96",
           "#ab63fa",
           "#FFA15A",
           "#19d3f3",
           "#FF6692",
           "#B6E880",
           "#FF97FF",
           "#FECB52"
          ],
          "font": {
           "color": "#2a3f5f"
          },
          "geo": {
           "bgcolor": "white",
           "lakecolor": "white",
           "landcolor": "#E5ECF6",
           "showlakes": true,
           "showland": true,
           "subunitcolor": "white"
          },
          "hoverlabel": {
           "align": "left"
          },
          "hovermode": "closest",
          "mapbox": {
           "style": "light"
          },
          "paper_bgcolor": "white",
          "plot_bgcolor": "#E5ECF6",
          "polar": {
           "angularaxis": {
            "gridcolor": "white",
            "linecolor": "white",
            "ticks": ""
           },
           "bgcolor": "#E5ECF6",
           "radialaxis": {
            "gridcolor": "white",
            "linecolor": "white",
            "ticks": ""
           }
          },
          "scene": {
           "xaxis": {
            "backgroundcolor": "#E5ECF6",
            "gridcolor": "white",
            "gridwidth": 2,
            "linecolor": "white",
            "showbackground": true,
            "ticks": "",
            "zerolinecolor": "white"
           },
           "yaxis": {
            "backgroundcolor": "#E5ECF6",
            "gridcolor": "white",
            "gridwidth": 2,
            "linecolor": "white",
            "showbackground": true,
            "ticks": "",
            "zerolinecolor": "white"
           },
           "zaxis": {
            "backgroundcolor": "#E5ECF6",
            "gridcolor": "white",
            "gridwidth": 2,
            "linecolor": "white",
            "showbackground": true,
            "ticks": "",
            "zerolinecolor": "white"
           }
          },
          "shapedefaults": {
           "line": {
            "color": "#2a3f5f"
           }
          },
          "ternary": {
           "aaxis": {
            "gridcolor": "white",
            "linecolor": "white",
            "ticks": ""
           },
           "baxis": {
            "gridcolor": "white",
            "linecolor": "white",
            "ticks": ""
           },
           "bgcolor": "#E5ECF6",
           "caxis": {
            "gridcolor": "white",
            "linecolor": "white",
            "ticks": ""
           }
          },
          "title": {
           "x": 0.05
          },
          "xaxis": {
           "automargin": true,
           "gridcolor": "white",
           "linecolor": "white",
           "ticks": "",
           "title": {
            "standoff": 15
           },
           "zerolinecolor": "white",
           "zerolinewidth": 2
          },
          "yaxis": {
           "automargin": true,
           "gridcolor": "white",
           "linecolor": "white",
           "ticks": "",
           "title": {
            "standoff": 15
           },
           "zerolinecolor": "white",
           "zerolinewidth": 2
          }
         }
        },
        "width": 2000
       }
      },
      "text/html": [
       "<div>\n",
       "        \n",
       "        \n",
       "            <div id=\"38b16885-285e-4b62-a98e-1ff4835454f3\" class=\"plotly-graph-div\" style=\"height:1000px; width:2000px;\"></div>\n",
       "            <script type=\"text/javascript\">\n",
       "                require([\"plotly\"], function(Plotly) {\n",
       "                    window.PLOTLYENV=window.PLOTLYENV || {};\n",
       "                    \n",
       "                if (document.getElementById(\"38b16885-285e-4b62-a98e-1ff4835454f3\")) {\n",
       "                    Plotly.newPlot(\n",
       "                        '38b16885-285e-4b62-a98e-1ff4835454f3',\n",
       "                        [{\"cells\": {\"values\": [[\"The Girl Can't Help It\"], [\"The Girl Can't Help It is a 1956 musical comedy starring Jayne Mansfield in the titular role, Tom Ewell, Edmond O'Brien, Henry Jones, and Julie London.  The picture was produced and directed by Frank Tashlin, with a screenplay adapted by Tashlin and Herbert Baker from an uncredited 1955 novel, Do Re Mi by Garson Kanin. Filmed in DeLuxe Color, the production was originally intended as a vehicle for the American sex symbol Jayne Mansfield, with a satirical subplot involving teenagers and rock 'n' roll music. The unintended result has been called the \\\"most potent\\\" celebration of rock music ever captured on film.The original music score, including the title song performed by Little Richard, was by Bobby Troup, with an additional credit to Ray Anthony for the tune \\\"Big Band Boogie\\\". Tom Ewell had portrayed Marilyn Monroe's leading man in The Seven Year Itch the previous year.\"], [\"https://en.wikipedia.org/wiki/The_Girl_Can%27t_Help_It\"], [5.210140230383734e-06]]}, \"header\": {\"values\": [\"Title\", \"Intro\", \"URL\", \"Similarity\"]}, \"type\": \"table\"}],\n",
       "                        {\"height\": 1000, \"template\": {\"data\": {\"bar\": [{\"error_x\": {\"color\": \"#2a3f5f\"}, \"error_y\": {\"color\": \"#2a3f5f\"}, \"marker\": {\"line\": {\"color\": \"#E5ECF6\", \"width\": 0.5}}, \"type\": \"bar\"}], \"barpolar\": [{\"marker\": {\"line\": {\"color\": \"#E5ECF6\", \"width\": 0.5}}, \"type\": \"barpolar\"}], \"carpet\": [{\"aaxis\": {\"endlinecolor\": \"#2a3f5f\", \"gridcolor\": \"white\", \"linecolor\": \"white\", \"minorgridcolor\": \"white\", \"startlinecolor\": \"#2a3f5f\"}, \"baxis\": {\"endlinecolor\": \"#2a3f5f\", \"gridcolor\": \"white\", \"linecolor\": \"white\", \"minorgridcolor\": \"white\", \"startlinecolor\": \"#2a3f5f\"}, \"type\": \"carpet\"}], \"choropleth\": [{\"colorbar\": {\"outlinewidth\": 0, \"ticks\": \"\"}, \"type\": \"choropleth\"}], \"contour\": [{\"colorbar\": {\"outlinewidth\": 0, \"ticks\": \"\"}, \"colorscale\": [[0.0, \"#0d0887\"], [0.1111111111111111, \"#46039f\"], [0.2222222222222222, \"#7201a8\"], [0.3333333333333333, \"#9c179e\"], [0.4444444444444444, \"#bd3786\"], [0.5555555555555556, \"#d8576b\"], [0.6666666666666666, \"#ed7953\"], [0.7777777777777778, \"#fb9f3a\"], [0.8888888888888888, \"#fdca26\"], [1.0, \"#f0f921\"]], \"type\": \"contour\"}], \"contourcarpet\": [{\"colorbar\": {\"outlinewidth\": 0, \"ticks\": \"\"}, \"type\": \"contourcarpet\"}], \"heatmap\": [{\"colorbar\": {\"outlinewidth\": 0, \"ticks\": \"\"}, \"colorscale\": [[0.0, \"#0d0887\"], [0.1111111111111111, \"#46039f\"], [0.2222222222222222, \"#7201a8\"], [0.3333333333333333, \"#9c179e\"], [0.4444444444444444, \"#bd3786\"], [0.5555555555555556, \"#d8576b\"], [0.6666666666666666, \"#ed7953\"], [0.7777777777777778, \"#fb9f3a\"], [0.8888888888888888, \"#fdca26\"], [1.0, \"#f0f921\"]], \"type\": \"heatmap\"}], \"heatmapgl\": [{\"colorbar\": {\"outlinewidth\": 0, \"ticks\": \"\"}, \"colorscale\": [[0.0, \"#0d0887\"], [0.1111111111111111, \"#46039f\"], [0.2222222222222222, \"#7201a8\"], [0.3333333333333333, \"#9c179e\"], [0.4444444444444444, \"#bd3786\"], [0.5555555555555556, \"#d8576b\"], [0.6666666666666666, \"#ed7953\"], [0.7777777777777778, \"#fb9f3a\"], [0.8888888888888888, \"#fdca26\"], [1.0, \"#f0f921\"]], \"type\": \"heatmapgl\"}], \"histogram\": [{\"marker\": {\"colorbar\": {\"outlinewidth\": 0, \"ticks\": \"\"}}, \"type\": \"histogram\"}], \"histogram2d\": [{\"colorbar\": {\"outlinewidth\": 0, \"ticks\": \"\"}, \"colorscale\": [[0.0, \"#0d0887\"], [0.1111111111111111, \"#46039f\"], [0.2222222222222222, \"#7201a8\"], [0.3333333333333333, \"#9c179e\"], [0.4444444444444444, \"#bd3786\"], [0.5555555555555556, \"#d8576b\"], [0.6666666666666666, \"#ed7953\"], [0.7777777777777778, \"#fb9f3a\"], [0.8888888888888888, \"#fdca26\"], [1.0, \"#f0f921\"]], \"type\": \"histogram2d\"}], \"histogram2dcontour\": [{\"colorbar\": {\"outlinewidth\": 0, \"ticks\": \"\"}, \"colorscale\": [[0.0, \"#0d0887\"], [0.1111111111111111, \"#46039f\"], [0.2222222222222222, \"#7201a8\"], [0.3333333333333333, \"#9c179e\"], [0.4444444444444444, \"#bd3786\"], [0.5555555555555556, \"#d8576b\"], [0.6666666666666666, \"#ed7953\"], [0.7777777777777778, \"#fb9f3a\"], [0.8888888888888888, \"#fdca26\"], [1.0, \"#f0f921\"]], \"type\": \"histogram2dcontour\"}], \"mesh3d\": [{\"colorbar\": {\"outlinewidth\": 0, \"ticks\": \"\"}, \"type\": \"mesh3d\"}], \"parcoords\": [{\"line\": {\"colorbar\": {\"outlinewidth\": 0, \"ticks\": \"\"}}, \"type\": \"parcoords\"}], \"pie\": [{\"automargin\": true, \"type\": \"pie\"}], \"scatter\": [{\"marker\": {\"colorbar\": {\"outlinewidth\": 0, \"ticks\": \"\"}}, \"type\": \"scatter\"}], \"scatter3d\": [{\"line\": {\"colorbar\": {\"outlinewidth\": 0, \"ticks\": \"\"}}, \"marker\": {\"colorbar\": {\"outlinewidth\": 0, \"ticks\": \"\"}}, \"type\": \"scatter3d\"}], \"scattercarpet\": [{\"marker\": {\"colorbar\": {\"outlinewidth\": 0, \"ticks\": \"\"}}, \"type\": \"scattercarpet\"}], \"scattergeo\": [{\"marker\": {\"colorbar\": {\"outlinewidth\": 0, \"ticks\": \"\"}}, \"type\": \"scattergeo\"}], \"scattergl\": [{\"marker\": {\"colorbar\": {\"outlinewidth\": 0, \"ticks\": \"\"}}, \"type\": \"scattergl\"}], \"scattermapbox\": [{\"marker\": {\"colorbar\": {\"outlinewidth\": 0, \"ticks\": \"\"}}, \"type\": \"scattermapbox\"}], \"scatterpolar\": [{\"marker\": {\"colorbar\": {\"outlinewidth\": 0, \"ticks\": \"\"}}, \"type\": \"scatterpolar\"}], \"scatterpolargl\": [{\"marker\": {\"colorbar\": {\"outlinewidth\": 0, \"ticks\": \"\"}}, \"type\": \"scatterpolargl\"}], \"scatterternary\": [{\"marker\": {\"colorbar\": {\"outlinewidth\": 0, \"ticks\": \"\"}}, \"type\": \"scatterternary\"}], \"surface\": [{\"colorbar\": {\"outlinewidth\": 0, \"ticks\": \"\"}, \"colorscale\": [[0.0, \"#0d0887\"], [0.1111111111111111, \"#46039f\"], [0.2222222222222222, \"#7201a8\"], [0.3333333333333333, \"#9c179e\"], [0.4444444444444444, \"#bd3786\"], [0.5555555555555556, \"#d8576b\"], [0.6666666666666666, \"#ed7953\"], [0.7777777777777778, \"#fb9f3a\"], [0.8888888888888888, \"#fdca26\"], [1.0, \"#f0f921\"]], \"type\": \"surface\"}], \"table\": [{\"cells\": {\"fill\": {\"color\": \"#EBF0F8\"}, \"line\": {\"color\": \"white\"}}, \"header\": {\"fill\": {\"color\": \"#C8D4E3\"}, \"line\": {\"color\": \"white\"}}, \"type\": \"table\"}]}, \"layout\": {\"annotationdefaults\": {\"arrowcolor\": \"#2a3f5f\", \"arrowhead\": 0, \"arrowwidth\": 1}, \"coloraxis\": {\"colorbar\": {\"outlinewidth\": 0, \"ticks\": \"\"}}, \"colorscale\": {\"diverging\": [[0, \"#8e0152\"], [0.1, \"#c51b7d\"], [0.2, \"#de77ae\"], [0.3, \"#f1b6da\"], [0.4, \"#fde0ef\"], [0.5, \"#f7f7f7\"], [0.6, \"#e6f5d0\"], [0.7, \"#b8e186\"], [0.8, \"#7fbc41\"], [0.9, \"#4d9221\"], [1, \"#276419\"]], \"sequential\": [[0.0, \"#0d0887\"], [0.1111111111111111, \"#46039f\"], [0.2222222222222222, \"#7201a8\"], [0.3333333333333333, \"#9c179e\"], [0.4444444444444444, \"#bd3786\"], [0.5555555555555556, \"#d8576b\"], [0.6666666666666666, \"#ed7953\"], [0.7777777777777778, \"#fb9f3a\"], [0.8888888888888888, \"#fdca26\"], [1.0, \"#f0f921\"]], \"sequentialminus\": [[0.0, \"#0d0887\"], [0.1111111111111111, \"#46039f\"], [0.2222222222222222, \"#7201a8\"], [0.3333333333333333, \"#9c179e\"], [0.4444444444444444, \"#bd3786\"], [0.5555555555555556, \"#d8576b\"], [0.6666666666666666, \"#ed7953\"], [0.7777777777777778, \"#fb9f3a\"], [0.8888888888888888, \"#fdca26\"], [1.0, \"#f0f921\"]]}, \"colorway\": [\"#636efa\", \"#EF553B\", \"#00cc96\", \"#ab63fa\", \"#FFA15A\", \"#19d3f3\", \"#FF6692\", \"#B6E880\", \"#FF97FF\", \"#FECB52\"], \"font\": {\"color\": \"#2a3f5f\"}, \"geo\": {\"bgcolor\": \"white\", \"lakecolor\": \"white\", \"landcolor\": \"#E5ECF6\", \"showlakes\": true, \"showland\": true, \"subunitcolor\": \"white\"}, \"hoverlabel\": {\"align\": \"left\"}, \"hovermode\": \"closest\", \"mapbox\": {\"style\": \"light\"}, \"paper_bgcolor\": \"white\", \"plot_bgcolor\": \"#E5ECF6\", \"polar\": {\"angularaxis\": {\"gridcolor\": \"white\", \"linecolor\": \"white\", \"ticks\": \"\"}, \"bgcolor\": \"#E5ECF6\", \"radialaxis\": {\"gridcolor\": \"white\", \"linecolor\": \"white\", \"ticks\": \"\"}}, \"scene\": {\"xaxis\": {\"backgroundcolor\": \"#E5ECF6\", \"gridcolor\": \"white\", \"gridwidth\": 2, \"linecolor\": \"white\", \"showbackground\": true, \"ticks\": \"\", \"zerolinecolor\": \"white\"}, \"yaxis\": {\"backgroundcolor\": \"#E5ECF6\", \"gridcolor\": \"white\", \"gridwidth\": 2, \"linecolor\": \"white\", \"showbackground\": true, \"ticks\": \"\", \"zerolinecolor\": \"white\"}, \"zaxis\": {\"backgroundcolor\": \"#E5ECF6\", \"gridcolor\": \"white\", \"gridwidth\": 2, \"linecolor\": \"white\", \"showbackground\": true, \"ticks\": \"\", \"zerolinecolor\": \"white\"}}, \"shapedefaults\": {\"line\": {\"color\": \"#2a3f5f\"}}, \"ternary\": {\"aaxis\": {\"gridcolor\": \"white\", \"linecolor\": \"white\", \"ticks\": \"\"}, \"baxis\": {\"gridcolor\": \"white\", \"linecolor\": \"white\", \"ticks\": \"\"}, \"bgcolor\": \"#E5ECF6\", \"caxis\": {\"gridcolor\": \"white\", \"linecolor\": \"white\", \"ticks\": \"\"}}, \"title\": {\"x\": 0.05}, \"xaxis\": {\"automargin\": true, \"gridcolor\": \"white\", \"linecolor\": \"white\", \"ticks\": \"\", \"title\": {\"standoff\": 15}, \"zerolinecolor\": \"white\", \"zerolinewidth\": 2}, \"yaxis\": {\"automargin\": true, \"gridcolor\": \"white\", \"linecolor\": \"white\", \"ticks\": \"\", \"title\": {\"standoff\": 15}, \"zerolinecolor\": \"white\", \"zerolinewidth\": 2}}}, \"width\": 2000},\n",
       "                        {\"responsive\": true}\n",
       "                    ).then(function(){\n",
       "                            \n",
       "var gd = document.getElementById('38b16885-285e-4b62-a98e-1ff4835454f3');\n",
       "var x = new MutationObserver(function (mutations, observer) {{\n",
       "        var display = window.getComputedStyle(gd).display;\n",
       "        if (!display || display === 'none') {{\n",
       "            console.log([gd, 'removed!']);\n",
       "            Plotly.purge(gd);\n",
       "            observer.disconnect();\n",
       "        }}\n",
       "}});\n",
       "\n",
       "// Listen for the removal of the full notebook cells\n",
       "var notebookContainer = gd.closest('#notebook-container');\n",
       "if (notebookContainer) {{\n",
       "    x.observe(notebookContainer, {childList: true});\n",
       "}}\n",
       "\n",
       "// Listen for the clearing of the current output cell\n",
       "var outputEl = gd.closest('.output');\n",
       "if (outputEl) {{\n",
       "    x.observe(outputEl, {childList: true});\n",
       "}}\n",
       "\n",
       "                        })\n",
       "                };\n",
       "                });\n",
       "            </script>\n",
       "        </div>"
      ]
     },
     "metadata": {},
     "output_type": "display_data"
    },
    {
     "name": "stdout",
     "output_type": "stream",
     "text": [
      "Refine your search. If you don't want to, press enter.\n",
      "\n"
     ]
    },
    {
     "data": {
      "text/html": [
       "<div>\n",
       "<style scoped>\n",
       "    .dataframe tbody tr th:only-of-type {\n",
       "        vertical-align: middle;\n",
       "    }\n",
       "\n",
       "    .dataframe tbody tr th {\n",
       "        vertical-align: top;\n",
       "    }\n",
       "\n",
       "    .dataframe thead th {\n",
       "        text-align: right;\n",
       "    }\n",
       "</style>\n",
       "<table border=\"1\" class=\"dataframe\">\n",
       "  <thead>\n",
       "    <tr style=\"text-align: right;\">\n",
       "      <th></th>\n",
       "      <th>Title</th>\n",
       "      <th>Intro</th>\n",
       "      <th>URL</th>\n",
       "      <th>Similarity</th>\n",
       "    </tr>\n",
       "  </thead>\n",
       "  <tbody>\n",
       "    <tr>\n",
       "      <th>6334</th>\n",
       "      <td>The Girl Can't Help It</td>\n",
       "      <td>The Girl Can't Help It is a 1956 musical comed...</td>\n",
       "      <td>https://en.wikipedia.org/wiki/The_Girl_Can%27t...</td>\n",
       "      <td>0.000005</td>\n",
       "    </tr>\n",
       "  </tbody>\n",
       "</table>\n",
       "</div>"
      ],
      "text/plain": [
       "                       Title  \\\n",
       "6334  The Girl Can't Help It   \n",
       "\n",
       "                                                  Intro  \\\n",
       "6334  The Girl Can't Help It is a 1956 musical comed...   \n",
       "\n",
       "                                                    URL  Similarity  \n",
       "6334  https://en.wikipedia.org/wiki/The_Girl_Can%27t...    0.000005  "
      ]
     },
     "execution_count": 103,
     "metadata": {},
     "output_type": "execute_result"
    }
   ],
   "source": [
    "SearchEngine3()"
   ]
  },
  {
   "cell_type": "code",
   "execution_count": 105,
   "metadata": {
    "scrolled": false
   },
   "outputs": [
    {
     "name": "stdout",
     "output_type": "stream",
     "text": [
      "stanley kubrick\n"
     ]
    },
    {
     "data": {
      "application/vnd.plotly.v1+json": {
       "config": {
        "plotlyServerURL": "https://plot.ly"
       },
       "data": [
        {
         "cells": {
          "values": [
           [
            "Eyes Wide Shut",
            "Fear and Desire",
            "Colour Me Kubrick",
            "A.I. Artificial Intelligence",
            "Killer's Kiss"
           ],
           [
            "Eyes Wide Shut is a 1999 erotic mystery psychological drama film directed, produced and co-written by Stanley Kubrick. Based on the 1926 novella Traumnovelle (Dream Story) by Arthur Schnitzler, the story is transferred from early 20th-century Vienna to 1990s New York City. The film follows the sexually charged adventures of Dr. Bill Harford, who is shocked when his wife, Alice, reveals that she had contemplated having  an affair a year earlier. He embarks on a night-long adventure, during which he infiltrates a massive masked orgy of an unnamed secret society.Kubrick obtained the filming rights for Dream Story in the 1960s, considering it a perfect text for a film adaptation about sexual relations. He revived the project in the 1990s when he hired writer Frederic Raphael to help him with the adaptation. The film, which was mostly shot in the United Kingdom, apart from some exterior establishing shots, includes a detailed recreation of exterior Greenwich Village street scenes made at Pinewood Studios. The film's production, at 400 days, holds the Guinness World Record for the longest continuous film shoot.Kubrick died six days after showing his final cut to Warner Bros. Pictures, making this the final film he directed. In order to ensure a theatrical R rating in the United States, Warner Bros. digitally altered several sexually explicit scenes during post-production. This version was released on July 16, 1999 to moderately positive reactions from film critics. Box office receipts for the film worldwide were about $162 million. The uncut version has since been released in DVD, HD DVD and Blu-ray Disc formats.",
            "Fear and Desire is a 1953 American anti-war film directed, produced, and edited by Stanley Kubrick, and written by Howard Sackler. With a production team of only fifteen people, the film was Kubrick's feature directorial debut. Though the film is not about any specific war, it was produced and released during the height of the Korean War.",
            "Colour Me Kubrick: A True...ish Story (released in the US as Color Me Kubrick) is a Franco-British comedy-drama film directed by Brian W. Cook and released in 2005. The film stars John Malkovich as Alan Conway, a man who had been impersonating director Stanley Kubrick since the early 1990s. The film follows the exploits of Conway as he goes from person to person, convincing them to give out money, liquor and sexual favours for the promise of a part in \"Kubrick's\" next film. The soundtrack, Colour Me Kubrick: The Original Soundtrack featured five songs co-written by Bryan Adams.",
            "A.I. Artificial Intelligence, also known as A.I., is a 2001 American science fiction drama film written and  directed by Steven Spielberg, from a screen story by Ian Watson. This was loosely based on the 1969 short story \"Supertoys Last All Summer Long\" by Brian Aldiss. The film was produced by Kathleen Kennedy, Spielberg and Bonnie Curtis. It stars Haley Joel Osment, Jude Law, Frances O'Connor, Brendan Gleeson and William Hurt. Set in a futuristic post-climate change society, A.I. tells the story of David (Osment), a childlike android uniquely programmed with the ability to love.Development of A.I. originally began with producer-director Stanley Kubrick, after he acquired the rights to Aldiss' story in the early 1970s. Kubrick hired a series of writers until the mid-1990s, including Brian Aldiss, Bob Shaw, Ian Watson, and Sara Maitland. The film languished in protracted development for years, partly because Kubrick felt computer-generated imagery was not advanced enough to create the David character, whom he believed no child actor would convincingly portray. In 1995, Kubrick handed A.I. to Spielberg, but the film did not gain momentum until Kubrick's death in 1999. Spielberg remained close to Watson's film treatment for the screenplay.The film received positive reviews, and grossed approximately $235 million. The film was nominated for two Academy Awards at the 74th Academy Awards, for Best Visual Effects and Best Original Score (by John Williams).In a 2016 BBC poll of 177 critics around the world, Steven Spielberg's A.I. Artificial Intelligence was voted the eighty-third-greatest film since 2000. A.I. is dedicated to Stanley Kubrick.",
            "Killer's Kiss is a 1955 American crime film noir directed by Stanley Kubrick and written by Kubrick and Howard Sackler. It is the second feature film directed by Kubrick, the first being his 1953 debut feature Fear and Desire. The film stars Jamie Smith, Irene Kane, and Frank Silvera."
           ],
           [
            "https://en.wikipedia.org/wiki/Eyes_Wide_Shut",
            "https://en.wikipedia.org/wiki/Fear_and_Desire",
            "https://en.wikipedia.org/wiki/Colour_Me_Kubrick",
            "https://en.wikipedia.org/wiki/A.I._Artificial_Intelligence",
            "https://en.wikipedia.org/wiki/Killer%27s_Kiss"
           ],
           [
            1.294441602509412e-05,
            2.0195761018074037e-05,
            3.304233731187248e-05,
            1.3918411710405835e-05,
            2.9190172271021125e-05
           ]
          ]
         },
         "header": {
          "values": [
           "Title",
           "Intro",
           "URL",
           "Similarity"
          ]
         },
         "type": "table"
        }
       ],
       "layout": {
        "height": 1000,
        "template": {
         "data": {
          "bar": [
           {
            "error_x": {
             "color": "#2a3f5f"
            },
            "error_y": {
             "color": "#2a3f5f"
            },
            "marker": {
             "line": {
              "color": "#E5ECF6",
              "width": 0.5
             }
            },
            "type": "bar"
           }
          ],
          "barpolar": [
           {
            "marker": {
             "line": {
              "color": "#E5ECF6",
              "width": 0.5
             }
            },
            "type": "barpolar"
           }
          ],
          "carpet": [
           {
            "aaxis": {
             "endlinecolor": "#2a3f5f",
             "gridcolor": "white",
             "linecolor": "white",
             "minorgridcolor": "white",
             "startlinecolor": "#2a3f5f"
            },
            "baxis": {
             "endlinecolor": "#2a3f5f",
             "gridcolor": "white",
             "linecolor": "white",
             "minorgridcolor": "white",
             "startlinecolor": "#2a3f5f"
            },
            "type": "carpet"
           }
          ],
          "choropleth": [
           {
            "colorbar": {
             "outlinewidth": 0,
             "ticks": ""
            },
            "type": "choropleth"
           }
          ],
          "contour": [
           {
            "colorbar": {
             "outlinewidth": 0,
             "ticks": ""
            },
            "colorscale": [
             [
              0,
              "#0d0887"
             ],
             [
              0.1111111111111111,
              "#46039f"
             ],
             [
              0.2222222222222222,
              "#7201a8"
             ],
             [
              0.3333333333333333,
              "#9c179e"
             ],
             [
              0.4444444444444444,
              "#bd3786"
             ],
             [
              0.5555555555555556,
              "#d8576b"
             ],
             [
              0.6666666666666666,
              "#ed7953"
             ],
             [
              0.7777777777777778,
              "#fb9f3a"
             ],
             [
              0.8888888888888888,
              "#fdca26"
             ],
             [
              1,
              "#f0f921"
             ]
            ],
            "type": "contour"
           }
          ],
          "contourcarpet": [
           {
            "colorbar": {
             "outlinewidth": 0,
             "ticks": ""
            },
            "type": "contourcarpet"
           }
          ],
          "heatmap": [
           {
            "colorbar": {
             "outlinewidth": 0,
             "ticks": ""
            },
            "colorscale": [
             [
              0,
              "#0d0887"
             ],
             [
              0.1111111111111111,
              "#46039f"
             ],
             [
              0.2222222222222222,
              "#7201a8"
             ],
             [
              0.3333333333333333,
              "#9c179e"
             ],
             [
              0.4444444444444444,
              "#bd3786"
             ],
             [
              0.5555555555555556,
              "#d8576b"
             ],
             [
              0.6666666666666666,
              "#ed7953"
             ],
             [
              0.7777777777777778,
              "#fb9f3a"
             ],
             [
              0.8888888888888888,
              "#fdca26"
             ],
             [
              1,
              "#f0f921"
             ]
            ],
            "type": "heatmap"
           }
          ],
          "heatmapgl": [
           {
            "colorbar": {
             "outlinewidth": 0,
             "ticks": ""
            },
            "colorscale": [
             [
              0,
              "#0d0887"
             ],
             [
              0.1111111111111111,
              "#46039f"
             ],
             [
              0.2222222222222222,
              "#7201a8"
             ],
             [
              0.3333333333333333,
              "#9c179e"
             ],
             [
              0.4444444444444444,
              "#bd3786"
             ],
             [
              0.5555555555555556,
              "#d8576b"
             ],
             [
              0.6666666666666666,
              "#ed7953"
             ],
             [
              0.7777777777777778,
              "#fb9f3a"
             ],
             [
              0.8888888888888888,
              "#fdca26"
             ],
             [
              1,
              "#f0f921"
             ]
            ],
            "type": "heatmapgl"
           }
          ],
          "histogram": [
           {
            "marker": {
             "colorbar": {
              "outlinewidth": 0,
              "ticks": ""
             }
            },
            "type": "histogram"
           }
          ],
          "histogram2d": [
           {
            "colorbar": {
             "outlinewidth": 0,
             "ticks": ""
            },
            "colorscale": [
             [
              0,
              "#0d0887"
             ],
             [
              0.1111111111111111,
              "#46039f"
             ],
             [
              0.2222222222222222,
              "#7201a8"
             ],
             [
              0.3333333333333333,
              "#9c179e"
             ],
             [
              0.4444444444444444,
              "#bd3786"
             ],
             [
              0.5555555555555556,
              "#d8576b"
             ],
             [
              0.6666666666666666,
              "#ed7953"
             ],
             [
              0.7777777777777778,
              "#fb9f3a"
             ],
             [
              0.8888888888888888,
              "#fdca26"
             ],
             [
              1,
              "#f0f921"
             ]
            ],
            "type": "histogram2d"
           }
          ],
          "histogram2dcontour": [
           {
            "colorbar": {
             "outlinewidth": 0,
             "ticks": ""
            },
            "colorscale": [
             [
              0,
              "#0d0887"
             ],
             [
              0.1111111111111111,
              "#46039f"
             ],
             [
              0.2222222222222222,
              "#7201a8"
             ],
             [
              0.3333333333333333,
              "#9c179e"
             ],
             [
              0.4444444444444444,
              "#bd3786"
             ],
             [
              0.5555555555555556,
              "#d8576b"
             ],
             [
              0.6666666666666666,
              "#ed7953"
             ],
             [
              0.7777777777777778,
              "#fb9f3a"
             ],
             [
              0.8888888888888888,
              "#fdca26"
             ],
             [
              1,
              "#f0f921"
             ]
            ],
            "type": "histogram2dcontour"
           }
          ],
          "mesh3d": [
           {
            "colorbar": {
             "outlinewidth": 0,
             "ticks": ""
            },
            "type": "mesh3d"
           }
          ],
          "parcoords": [
           {
            "line": {
             "colorbar": {
              "outlinewidth": 0,
              "ticks": ""
             }
            },
            "type": "parcoords"
           }
          ],
          "pie": [
           {
            "automargin": true,
            "type": "pie"
           }
          ],
          "scatter": [
           {
            "marker": {
             "colorbar": {
              "outlinewidth": 0,
              "ticks": ""
             }
            },
            "type": "scatter"
           }
          ],
          "scatter3d": [
           {
            "line": {
             "colorbar": {
              "outlinewidth": 0,
              "ticks": ""
             }
            },
            "marker": {
             "colorbar": {
              "outlinewidth": 0,
              "ticks": ""
             }
            },
            "type": "scatter3d"
           }
          ],
          "scattercarpet": [
           {
            "marker": {
             "colorbar": {
              "outlinewidth": 0,
              "ticks": ""
             }
            },
            "type": "scattercarpet"
           }
          ],
          "scattergeo": [
           {
            "marker": {
             "colorbar": {
              "outlinewidth": 0,
              "ticks": ""
             }
            },
            "type": "scattergeo"
           }
          ],
          "scattergl": [
           {
            "marker": {
             "colorbar": {
              "outlinewidth": 0,
              "ticks": ""
             }
            },
            "type": "scattergl"
           }
          ],
          "scattermapbox": [
           {
            "marker": {
             "colorbar": {
              "outlinewidth": 0,
              "ticks": ""
             }
            },
            "type": "scattermapbox"
           }
          ],
          "scatterpolar": [
           {
            "marker": {
             "colorbar": {
              "outlinewidth": 0,
              "ticks": ""
             }
            },
            "type": "scatterpolar"
           }
          ],
          "scatterpolargl": [
           {
            "marker": {
             "colorbar": {
              "outlinewidth": 0,
              "ticks": ""
             }
            },
            "type": "scatterpolargl"
           }
          ],
          "scatterternary": [
           {
            "marker": {
             "colorbar": {
              "outlinewidth": 0,
              "ticks": ""
             }
            },
            "type": "scatterternary"
           }
          ],
          "surface": [
           {
            "colorbar": {
             "outlinewidth": 0,
             "ticks": ""
            },
            "colorscale": [
             [
              0,
              "#0d0887"
             ],
             [
              0.1111111111111111,
              "#46039f"
             ],
             [
              0.2222222222222222,
              "#7201a8"
             ],
             [
              0.3333333333333333,
              "#9c179e"
             ],
             [
              0.4444444444444444,
              "#bd3786"
             ],
             [
              0.5555555555555556,
              "#d8576b"
             ],
             [
              0.6666666666666666,
              "#ed7953"
             ],
             [
              0.7777777777777778,
              "#fb9f3a"
             ],
             [
              0.8888888888888888,
              "#fdca26"
             ],
             [
              1,
              "#f0f921"
             ]
            ],
            "type": "surface"
           }
          ],
          "table": [
           {
            "cells": {
             "fill": {
              "color": "#EBF0F8"
             },
             "line": {
              "color": "white"
             }
            },
            "header": {
             "fill": {
              "color": "#C8D4E3"
             },
             "line": {
              "color": "white"
             }
            },
            "type": "table"
           }
          ]
         },
         "layout": {
          "annotationdefaults": {
           "arrowcolor": "#2a3f5f",
           "arrowhead": 0,
           "arrowwidth": 1
          },
          "coloraxis": {
           "colorbar": {
            "outlinewidth": 0,
            "ticks": ""
           }
          },
          "colorscale": {
           "diverging": [
            [
             0,
             "#8e0152"
            ],
            [
             0.1,
             "#c51b7d"
            ],
            [
             0.2,
             "#de77ae"
            ],
            [
             0.3,
             "#f1b6da"
            ],
            [
             0.4,
             "#fde0ef"
            ],
            [
             0.5,
             "#f7f7f7"
            ],
            [
             0.6,
             "#e6f5d0"
            ],
            [
             0.7,
             "#b8e186"
            ],
            [
             0.8,
             "#7fbc41"
            ],
            [
             0.9,
             "#4d9221"
            ],
            [
             1,
             "#276419"
            ]
           ],
           "sequential": [
            [
             0,
             "#0d0887"
            ],
            [
             0.1111111111111111,
             "#46039f"
            ],
            [
             0.2222222222222222,
             "#7201a8"
            ],
            [
             0.3333333333333333,
             "#9c179e"
            ],
            [
             0.4444444444444444,
             "#bd3786"
            ],
            [
             0.5555555555555556,
             "#d8576b"
            ],
            [
             0.6666666666666666,
             "#ed7953"
            ],
            [
             0.7777777777777778,
             "#fb9f3a"
            ],
            [
             0.8888888888888888,
             "#fdca26"
            ],
            [
             1,
             "#f0f921"
            ]
           ],
           "sequentialminus": [
            [
             0,
             "#0d0887"
            ],
            [
             0.1111111111111111,
             "#46039f"
            ],
            [
             0.2222222222222222,
             "#7201a8"
            ],
            [
             0.3333333333333333,
             "#9c179e"
            ],
            [
             0.4444444444444444,
             "#bd3786"
            ],
            [
             0.5555555555555556,
             "#d8576b"
            ],
            [
             0.6666666666666666,
             "#ed7953"
            ],
            [
             0.7777777777777778,
             "#fb9f3a"
            ],
            [
             0.8888888888888888,
             "#fdca26"
            ],
            [
             1,
             "#f0f921"
            ]
           ]
          },
          "colorway": [
           "#636efa",
           "#EF553B",
           "#00cc96",
           "#ab63fa",
           "#FFA15A",
           "#19d3f3",
           "#FF6692",
           "#B6E880",
           "#FF97FF",
           "#FECB52"
          ],
          "font": {
           "color": "#2a3f5f"
          },
          "geo": {
           "bgcolor": "white",
           "lakecolor": "white",
           "landcolor": "#E5ECF6",
           "showlakes": true,
           "showland": true,
           "subunitcolor": "white"
          },
          "hoverlabel": {
           "align": "left"
          },
          "hovermode": "closest",
          "mapbox": {
           "style": "light"
          },
          "paper_bgcolor": "white",
          "plot_bgcolor": "#E5ECF6",
          "polar": {
           "angularaxis": {
            "gridcolor": "white",
            "linecolor": "white",
            "ticks": ""
           },
           "bgcolor": "#E5ECF6",
           "radialaxis": {
            "gridcolor": "white",
            "linecolor": "white",
            "ticks": ""
           }
          },
          "scene": {
           "xaxis": {
            "backgroundcolor": "#E5ECF6",
            "gridcolor": "white",
            "gridwidth": 2,
            "linecolor": "white",
            "showbackground": true,
            "ticks": "",
            "zerolinecolor": "white"
           },
           "yaxis": {
            "backgroundcolor": "#E5ECF6",
            "gridcolor": "white",
            "gridwidth": 2,
            "linecolor": "white",
            "showbackground": true,
            "ticks": "",
            "zerolinecolor": "white"
           },
           "zaxis": {
            "backgroundcolor": "#E5ECF6",
            "gridcolor": "white",
            "gridwidth": 2,
            "linecolor": "white",
            "showbackground": true,
            "ticks": "",
            "zerolinecolor": "white"
           }
          },
          "shapedefaults": {
           "line": {
            "color": "#2a3f5f"
           }
          },
          "ternary": {
           "aaxis": {
            "gridcolor": "white",
            "linecolor": "white",
            "ticks": ""
           },
           "baxis": {
            "gridcolor": "white",
            "linecolor": "white",
            "ticks": ""
           },
           "bgcolor": "#E5ECF6",
           "caxis": {
            "gridcolor": "white",
            "linecolor": "white",
            "ticks": ""
           }
          },
          "title": {
           "x": 0.05
          },
          "xaxis": {
           "automargin": true,
           "gridcolor": "white",
           "linecolor": "white",
           "ticks": "",
           "title": {
            "standoff": 15
           },
           "zerolinecolor": "white",
           "zerolinewidth": 2
          },
          "yaxis": {
           "automargin": true,
           "gridcolor": "white",
           "linecolor": "white",
           "ticks": "",
           "title": {
            "standoff": 15
           },
           "zerolinecolor": "white",
           "zerolinewidth": 2
          }
         }
        },
        "width": 2000
       }
      },
      "text/html": [
       "<div>\n",
       "        \n",
       "        \n",
       "            <div id=\"240f98fe-7cfb-4892-840d-902abb1bce8c\" class=\"plotly-graph-div\" style=\"height:1000px; width:2000px;\"></div>\n",
       "            <script type=\"text/javascript\">\n",
       "                require([\"plotly\"], function(Plotly) {\n",
       "                    window.PLOTLYENV=window.PLOTLYENV || {};\n",
       "                    \n",
       "                if (document.getElementById(\"240f98fe-7cfb-4892-840d-902abb1bce8c\")) {\n",
       "                    Plotly.newPlot(\n",
       "                        '240f98fe-7cfb-4892-840d-902abb1bce8c',\n",
       "                        [{\"cells\": {\"values\": [[\"Eyes Wide Shut\", \"Fear and Desire\", \"Colour Me Kubrick\", \"A.I. Artificial Intelligence\", \"Killer's Kiss\"], [\"Eyes Wide Shut is a 1999 erotic mystery psychological drama film directed, produced and co-written by Stanley Kubrick. Based on the 1926 novella Traumnovelle (Dream Story) by Arthur Schnitzler, the story is transferred from early 20th-century Vienna to 1990s New York City. The film follows the sexually charged adventures of Dr. Bill Harford, who is shocked when his wife, Alice, reveals that she had contemplated having  an affair a year earlier. He embarks on a night-long adventure, during which he infiltrates a massive masked orgy of an unnamed secret society.Kubrick obtained the filming rights for Dream Story in the 1960s, considering it a perfect text for a film adaptation about sexual relations. He revived the project in the 1990s when he hired writer Frederic Raphael to help him with the adaptation. The film, which was mostly shot in the United Kingdom, apart from some exterior establishing shots, includes a detailed recreation of exterior Greenwich Village street scenes made at Pinewood Studios. The film's production, at 400 days, holds the Guinness World Record for the longest continuous film shoot.Kubrick died six days after showing his final cut to Warner Bros. Pictures, making this the final film he directed. In order to ensure a theatrical R rating in the United States, Warner Bros. digitally altered several sexually explicit scenes during post-production. This version was released on July 16, 1999 to moderately positive reactions from film critics. Box office receipts for the film worldwide were about $162 million. The uncut version has since been released in DVD, HD DVD and Blu-ray Disc formats.\", \"Fear and Desire is a 1953 American anti-war film directed, produced, and edited by Stanley Kubrick, and written by Howard Sackler. With a production team of only fifteen people, the film was Kubrick's feature directorial debut. Though the film is not about any specific war, it was produced and released during the height of the Korean War.\", \"Colour Me Kubrick: A True...ish Story (released in the US as Color Me Kubrick) is a Franco-British comedy-drama film directed by Brian W. Cook and released in 2005. The film stars John Malkovich as Alan Conway, a man who had been impersonating director Stanley Kubrick since the early 1990s. The film follows the exploits of Conway as he goes from person to person, convincing them to give out money, liquor and sexual favours for the promise of a part in \\\"Kubrick's\\\" next film. The soundtrack, Colour Me Kubrick: The Original Soundtrack featured five songs co-written by Bryan Adams.\", \"A.I. Artificial Intelligence, also known as A.I., is a 2001 American science fiction drama film written and  directed by Steven Spielberg, from a screen story by Ian Watson. This was loosely based on the 1969 short story \\\"Supertoys Last All Summer Long\\\" by Brian Aldiss. The film was produced by Kathleen Kennedy, Spielberg and Bonnie Curtis. It stars Haley Joel Osment, Jude Law, Frances O'Connor, Brendan Gleeson and William Hurt. Set in a futuristic post-climate change society, A.I. tells the story of David (Osment), a childlike android uniquely programmed with the ability to love.Development of A.I. originally began with producer-director Stanley Kubrick, after he acquired the rights to Aldiss' story in the early 1970s. Kubrick hired a series of writers until the mid-1990s, including Brian Aldiss, Bob Shaw, Ian Watson, and Sara Maitland. The film languished in protracted development for years, partly because Kubrick felt computer-generated imagery was not advanced enough to create the David character, whom he believed no child actor would convincingly portray. In 1995, Kubrick handed A.I. to Spielberg, but the film did not gain momentum until Kubrick's death in 1999. Spielberg remained close to Watson's film treatment for the screenplay.The film received positive reviews, and grossed approximately $235 million. The film was nominated for two Academy Awards at the 74th Academy Awards, for Best Visual Effects and Best Original Score (by John Williams).In a 2016 BBC poll of 177 critics around the world, Steven Spielberg's A.I. Artificial Intelligence was voted the eighty-third-greatest film since 2000. A.I. is dedicated to Stanley Kubrick.\", \"Killer's Kiss is a 1955 American crime film noir directed by Stanley Kubrick and written by Kubrick and Howard Sackler. It is the second feature film directed by Kubrick, the first being his 1953 debut feature Fear and Desire. The film stars Jamie Smith, Irene Kane, and Frank Silvera.\"], [\"https://en.wikipedia.org/wiki/Eyes_Wide_Shut\", \"https://en.wikipedia.org/wiki/Fear_and_Desire\", \"https://en.wikipedia.org/wiki/Colour_Me_Kubrick\", \"https://en.wikipedia.org/wiki/A.I._Artificial_Intelligence\", \"https://en.wikipedia.org/wiki/Killer%27s_Kiss\"], [1.294441602509412e-05, 2.0195761018074037e-05, 3.304233731187248e-05, 1.3918411710405835e-05, 2.9190172271021125e-05]]}, \"header\": {\"values\": [\"Title\", \"Intro\", \"URL\", \"Similarity\"]}, \"type\": \"table\"}],\n",
       "                        {\"height\": 1000, \"template\": {\"data\": {\"bar\": [{\"error_x\": {\"color\": \"#2a3f5f\"}, \"error_y\": {\"color\": \"#2a3f5f\"}, \"marker\": {\"line\": {\"color\": \"#E5ECF6\", \"width\": 0.5}}, \"type\": \"bar\"}], \"barpolar\": [{\"marker\": {\"line\": {\"color\": \"#E5ECF6\", \"width\": 0.5}}, \"type\": \"barpolar\"}], \"carpet\": [{\"aaxis\": {\"endlinecolor\": \"#2a3f5f\", \"gridcolor\": \"white\", \"linecolor\": \"white\", \"minorgridcolor\": \"white\", \"startlinecolor\": \"#2a3f5f\"}, \"baxis\": {\"endlinecolor\": \"#2a3f5f\", \"gridcolor\": \"white\", \"linecolor\": \"white\", \"minorgridcolor\": \"white\", \"startlinecolor\": \"#2a3f5f\"}, \"type\": \"carpet\"}], \"choropleth\": [{\"colorbar\": {\"outlinewidth\": 0, \"ticks\": \"\"}, \"type\": \"choropleth\"}], \"contour\": [{\"colorbar\": {\"outlinewidth\": 0, \"ticks\": \"\"}, \"colorscale\": [[0.0, \"#0d0887\"], [0.1111111111111111, \"#46039f\"], [0.2222222222222222, \"#7201a8\"], [0.3333333333333333, \"#9c179e\"], [0.4444444444444444, \"#bd3786\"], [0.5555555555555556, \"#d8576b\"], [0.6666666666666666, \"#ed7953\"], [0.7777777777777778, \"#fb9f3a\"], [0.8888888888888888, \"#fdca26\"], [1.0, \"#f0f921\"]], \"type\": \"contour\"}], \"contourcarpet\": [{\"colorbar\": {\"outlinewidth\": 0, \"ticks\": \"\"}, \"type\": \"contourcarpet\"}], \"heatmap\": [{\"colorbar\": {\"outlinewidth\": 0, \"ticks\": \"\"}, \"colorscale\": [[0.0, \"#0d0887\"], [0.1111111111111111, \"#46039f\"], [0.2222222222222222, \"#7201a8\"], [0.3333333333333333, \"#9c179e\"], [0.4444444444444444, \"#bd3786\"], [0.5555555555555556, \"#d8576b\"], [0.6666666666666666, \"#ed7953\"], [0.7777777777777778, \"#fb9f3a\"], [0.8888888888888888, \"#fdca26\"], [1.0, \"#f0f921\"]], \"type\": \"heatmap\"}], \"heatmapgl\": [{\"colorbar\": {\"outlinewidth\": 0, \"ticks\": \"\"}, \"colorscale\": [[0.0, \"#0d0887\"], [0.1111111111111111, \"#46039f\"], [0.2222222222222222, \"#7201a8\"], [0.3333333333333333, \"#9c179e\"], [0.4444444444444444, \"#bd3786\"], [0.5555555555555556, \"#d8576b\"], [0.6666666666666666, \"#ed7953\"], [0.7777777777777778, \"#fb9f3a\"], [0.8888888888888888, \"#fdca26\"], [1.0, \"#f0f921\"]], \"type\": \"heatmapgl\"}], \"histogram\": [{\"marker\": {\"colorbar\": {\"outlinewidth\": 0, \"ticks\": \"\"}}, \"type\": \"histogram\"}], \"histogram2d\": [{\"colorbar\": {\"outlinewidth\": 0, \"ticks\": \"\"}, \"colorscale\": [[0.0, \"#0d0887\"], [0.1111111111111111, \"#46039f\"], [0.2222222222222222, \"#7201a8\"], [0.3333333333333333, \"#9c179e\"], [0.4444444444444444, \"#bd3786\"], [0.5555555555555556, \"#d8576b\"], [0.6666666666666666, \"#ed7953\"], [0.7777777777777778, \"#fb9f3a\"], [0.8888888888888888, \"#fdca26\"], [1.0, \"#f0f921\"]], \"type\": \"histogram2d\"}], \"histogram2dcontour\": [{\"colorbar\": {\"outlinewidth\": 0, \"ticks\": \"\"}, \"colorscale\": [[0.0, \"#0d0887\"], [0.1111111111111111, \"#46039f\"], [0.2222222222222222, \"#7201a8\"], [0.3333333333333333, \"#9c179e\"], [0.4444444444444444, \"#bd3786\"], [0.5555555555555556, \"#d8576b\"], [0.6666666666666666, \"#ed7953\"], [0.7777777777777778, \"#fb9f3a\"], [0.8888888888888888, \"#fdca26\"], [1.0, \"#f0f921\"]], \"type\": \"histogram2dcontour\"}], \"mesh3d\": [{\"colorbar\": {\"outlinewidth\": 0, \"ticks\": \"\"}, \"type\": \"mesh3d\"}], \"parcoords\": [{\"line\": {\"colorbar\": {\"outlinewidth\": 0, \"ticks\": \"\"}}, \"type\": \"parcoords\"}], \"pie\": [{\"automargin\": true, \"type\": \"pie\"}], \"scatter\": [{\"marker\": {\"colorbar\": {\"outlinewidth\": 0, \"ticks\": \"\"}}, \"type\": \"scatter\"}], \"scatter3d\": [{\"line\": {\"colorbar\": {\"outlinewidth\": 0, \"ticks\": \"\"}}, \"marker\": {\"colorbar\": {\"outlinewidth\": 0, \"ticks\": \"\"}}, \"type\": \"scatter3d\"}], \"scattercarpet\": [{\"marker\": {\"colorbar\": {\"outlinewidth\": 0, \"ticks\": \"\"}}, \"type\": \"scattercarpet\"}], \"scattergeo\": [{\"marker\": {\"colorbar\": {\"outlinewidth\": 0, \"ticks\": \"\"}}, \"type\": \"scattergeo\"}], \"scattergl\": [{\"marker\": {\"colorbar\": {\"outlinewidth\": 0, \"ticks\": \"\"}}, \"type\": \"scattergl\"}], \"scattermapbox\": [{\"marker\": {\"colorbar\": {\"outlinewidth\": 0, \"ticks\": \"\"}}, \"type\": \"scattermapbox\"}], \"scatterpolar\": [{\"marker\": {\"colorbar\": {\"outlinewidth\": 0, \"ticks\": \"\"}}, \"type\": \"scatterpolar\"}], \"scatterpolargl\": [{\"marker\": {\"colorbar\": {\"outlinewidth\": 0, \"ticks\": \"\"}}, \"type\": \"scatterpolargl\"}], \"scatterternary\": [{\"marker\": {\"colorbar\": {\"outlinewidth\": 0, \"ticks\": \"\"}}, \"type\": \"scatterternary\"}], \"surface\": [{\"colorbar\": {\"outlinewidth\": 0, \"ticks\": \"\"}, \"colorscale\": [[0.0, \"#0d0887\"], [0.1111111111111111, \"#46039f\"], [0.2222222222222222, \"#7201a8\"], [0.3333333333333333, \"#9c179e\"], [0.4444444444444444, \"#bd3786\"], [0.5555555555555556, \"#d8576b\"], [0.6666666666666666, \"#ed7953\"], [0.7777777777777778, \"#fb9f3a\"], [0.8888888888888888, \"#fdca26\"], [1.0, \"#f0f921\"]], \"type\": \"surface\"}], \"table\": [{\"cells\": {\"fill\": {\"color\": \"#EBF0F8\"}, \"line\": {\"color\": \"white\"}}, \"header\": {\"fill\": {\"color\": \"#C8D4E3\"}, \"line\": {\"color\": \"white\"}}, \"type\": \"table\"}]}, \"layout\": {\"annotationdefaults\": {\"arrowcolor\": \"#2a3f5f\", \"arrowhead\": 0, \"arrowwidth\": 1}, \"coloraxis\": {\"colorbar\": {\"outlinewidth\": 0, \"ticks\": \"\"}}, \"colorscale\": {\"diverging\": [[0, \"#8e0152\"], [0.1, \"#c51b7d\"], [0.2, \"#de77ae\"], [0.3, \"#f1b6da\"], [0.4, \"#fde0ef\"], [0.5, \"#f7f7f7\"], [0.6, \"#e6f5d0\"], [0.7, \"#b8e186\"], [0.8, \"#7fbc41\"], [0.9, \"#4d9221\"], [1, \"#276419\"]], \"sequential\": [[0.0, \"#0d0887\"], [0.1111111111111111, \"#46039f\"], [0.2222222222222222, \"#7201a8\"], [0.3333333333333333, \"#9c179e\"], [0.4444444444444444, \"#bd3786\"], [0.5555555555555556, \"#d8576b\"], [0.6666666666666666, \"#ed7953\"], [0.7777777777777778, \"#fb9f3a\"], [0.8888888888888888, \"#fdca26\"], [1.0, \"#f0f921\"]], \"sequentialminus\": [[0.0, \"#0d0887\"], [0.1111111111111111, \"#46039f\"], [0.2222222222222222, \"#7201a8\"], [0.3333333333333333, \"#9c179e\"], [0.4444444444444444, \"#bd3786\"], [0.5555555555555556, \"#d8576b\"], [0.6666666666666666, \"#ed7953\"], [0.7777777777777778, \"#fb9f3a\"], [0.8888888888888888, \"#fdca26\"], [1.0, \"#f0f921\"]]}, \"colorway\": [\"#636efa\", \"#EF553B\", \"#00cc96\", \"#ab63fa\", \"#FFA15A\", \"#19d3f3\", \"#FF6692\", \"#B6E880\", \"#FF97FF\", \"#FECB52\"], \"font\": {\"color\": \"#2a3f5f\"}, \"geo\": {\"bgcolor\": \"white\", \"lakecolor\": \"white\", \"landcolor\": \"#E5ECF6\", \"showlakes\": true, \"showland\": true, \"subunitcolor\": \"white\"}, \"hoverlabel\": {\"align\": \"left\"}, \"hovermode\": \"closest\", \"mapbox\": {\"style\": \"light\"}, \"paper_bgcolor\": \"white\", \"plot_bgcolor\": \"#E5ECF6\", \"polar\": {\"angularaxis\": {\"gridcolor\": \"white\", \"linecolor\": \"white\", \"ticks\": \"\"}, \"bgcolor\": \"#E5ECF6\", \"radialaxis\": {\"gridcolor\": \"white\", \"linecolor\": \"white\", \"ticks\": \"\"}}, \"scene\": {\"xaxis\": {\"backgroundcolor\": \"#E5ECF6\", \"gridcolor\": \"white\", \"gridwidth\": 2, \"linecolor\": \"white\", \"showbackground\": true, \"ticks\": \"\", \"zerolinecolor\": \"white\"}, \"yaxis\": {\"backgroundcolor\": \"#E5ECF6\", \"gridcolor\": \"white\", \"gridwidth\": 2, \"linecolor\": \"white\", \"showbackground\": true, \"ticks\": \"\", \"zerolinecolor\": \"white\"}, \"zaxis\": {\"backgroundcolor\": \"#E5ECF6\", \"gridcolor\": \"white\", \"gridwidth\": 2, \"linecolor\": \"white\", \"showbackground\": true, \"ticks\": \"\", \"zerolinecolor\": \"white\"}}, \"shapedefaults\": {\"line\": {\"color\": \"#2a3f5f\"}}, \"ternary\": {\"aaxis\": {\"gridcolor\": \"white\", \"linecolor\": \"white\", \"ticks\": \"\"}, \"baxis\": {\"gridcolor\": \"white\", \"linecolor\": \"white\", \"ticks\": \"\"}, \"bgcolor\": \"#E5ECF6\", \"caxis\": {\"gridcolor\": \"white\", \"linecolor\": \"white\", \"ticks\": \"\"}}, \"title\": {\"x\": 0.05}, \"xaxis\": {\"automargin\": true, \"gridcolor\": \"white\", \"linecolor\": \"white\", \"ticks\": \"\", \"title\": {\"standoff\": 15}, \"zerolinecolor\": \"white\", \"zerolinewidth\": 2}, \"yaxis\": {\"automargin\": true, \"gridcolor\": \"white\", \"linecolor\": \"white\", \"ticks\": \"\", \"title\": {\"standoff\": 15}, \"zerolinecolor\": \"white\", \"zerolinewidth\": 2}}}, \"width\": 2000},\n",
       "                        {\"responsive\": true}\n",
       "                    ).then(function(){\n",
       "                            \n",
       "var gd = document.getElementById('240f98fe-7cfb-4892-840d-902abb1bce8c');\n",
       "var x = new MutationObserver(function (mutations, observer) {{\n",
       "        var display = window.getComputedStyle(gd).display;\n",
       "        if (!display || display === 'none') {{\n",
       "            console.log([gd, 'removed!']);\n",
       "            Plotly.purge(gd);\n",
       "            observer.disconnect();\n",
       "        }}\n",
       "}});\n",
       "\n",
       "// Listen for the removal of the full notebook cells\n",
       "var notebookContainer = gd.closest('#notebook-container');\n",
       "if (notebookContainer) {{\n",
       "    x.observe(notebookContainer, {childList: true});\n",
       "}}\n",
       "\n",
       "// Listen for the clearing of the current output cell\n",
       "var outputEl = gd.closest('.output');\n",
       "if (outputEl) {{\n",
       "    x.observe(outputEl, {childList: true});\n",
       "}}\n",
       "\n",
       "                        })\n",
       "                };\n",
       "                });\n",
       "            </script>\n",
       "        </div>"
      ]
     },
     "metadata": {},
     "output_type": "display_data"
    },
    {
     "name": "stdout",
     "output_type": "stream",
     "text": [
      "Refine your search. If you don't want to, press enter.\n",
      "awards\n"
     ]
    },
    {
     "data": {
      "application/vnd.plotly.v1+json": {
       "config": {
        "plotlyServerURL": "https://plot.ly"
       },
       "data": [
        {
         "cells": {
          "values": [
           [
            "A.I. Artificial Intelligence"
           ],
           [
            "A.I. Artificial Intelligence, also known as A.I., is a 2001 American science fiction drama film written and  directed by Steven Spielberg, from a screen story by Ian Watson. This was loosely based on the 1969 short story \"Supertoys Last All Summer Long\" by Brian Aldiss. The film was produced by Kathleen Kennedy, Spielberg and Bonnie Curtis. It stars Haley Joel Osment, Jude Law, Frances O'Connor, Brendan Gleeson and William Hurt. Set in a futuristic post-climate change society, A.I. tells the story of David (Osment), a childlike android uniquely programmed with the ability to love.Development of A.I. originally began with producer-director Stanley Kubrick, after he acquired the rights to Aldiss' story in the early 1970s. Kubrick hired a series of writers until the mid-1990s, including Brian Aldiss, Bob Shaw, Ian Watson, and Sara Maitland. The film languished in protracted development for years, partly because Kubrick felt computer-generated imagery was not advanced enough to create the David character, whom he believed no child actor would convincingly portray. In 1995, Kubrick handed A.I. to Spielberg, but the film did not gain momentum until Kubrick's death in 1999. Spielberg remained close to Watson's film treatment for the screenplay.The film received positive reviews, and grossed approximately $235 million. The film was nominated for two Academy Awards at the 74th Academy Awards, for Best Visual Effects and Best Original Score (by John Williams).In a 2016 BBC poll of 177 critics around the world, Steven Spielberg's A.I. Artificial Intelligence was voted the eighty-third-greatest film since 2000. A.I. is dedicated to Stanley Kubrick."
           ],
           [
            "https://en.wikipedia.org/wiki/A.I._Artificial_Intelligence"
           ],
           [
            1.3935310285594976e-06
           ]
          ]
         },
         "header": {
          "values": [
           "Title",
           "Intro",
           "URL",
           "Similarity"
          ]
         },
         "type": "table"
        }
       ],
       "layout": {
        "height": 1000,
        "template": {
         "data": {
          "bar": [
           {
            "error_x": {
             "color": "#2a3f5f"
            },
            "error_y": {
             "color": "#2a3f5f"
            },
            "marker": {
             "line": {
              "color": "#E5ECF6",
              "width": 0.5
             }
            },
            "type": "bar"
           }
          ],
          "barpolar": [
           {
            "marker": {
             "line": {
              "color": "#E5ECF6",
              "width": 0.5
             }
            },
            "type": "barpolar"
           }
          ],
          "carpet": [
           {
            "aaxis": {
             "endlinecolor": "#2a3f5f",
             "gridcolor": "white",
             "linecolor": "white",
             "minorgridcolor": "white",
             "startlinecolor": "#2a3f5f"
            },
            "baxis": {
             "endlinecolor": "#2a3f5f",
             "gridcolor": "white",
             "linecolor": "white",
             "minorgridcolor": "white",
             "startlinecolor": "#2a3f5f"
            },
            "type": "carpet"
           }
          ],
          "choropleth": [
           {
            "colorbar": {
             "outlinewidth": 0,
             "ticks": ""
            },
            "type": "choropleth"
           }
          ],
          "contour": [
           {
            "colorbar": {
             "outlinewidth": 0,
             "ticks": ""
            },
            "colorscale": [
             [
              0,
              "#0d0887"
             ],
             [
              0.1111111111111111,
              "#46039f"
             ],
             [
              0.2222222222222222,
              "#7201a8"
             ],
             [
              0.3333333333333333,
              "#9c179e"
             ],
             [
              0.4444444444444444,
              "#bd3786"
             ],
             [
              0.5555555555555556,
              "#d8576b"
             ],
             [
              0.6666666666666666,
              "#ed7953"
             ],
             [
              0.7777777777777778,
              "#fb9f3a"
             ],
             [
              0.8888888888888888,
              "#fdca26"
             ],
             [
              1,
              "#f0f921"
             ]
            ],
            "type": "contour"
           }
          ],
          "contourcarpet": [
           {
            "colorbar": {
             "outlinewidth": 0,
             "ticks": ""
            },
            "type": "contourcarpet"
           }
          ],
          "heatmap": [
           {
            "colorbar": {
             "outlinewidth": 0,
             "ticks": ""
            },
            "colorscale": [
             [
              0,
              "#0d0887"
             ],
             [
              0.1111111111111111,
              "#46039f"
             ],
             [
              0.2222222222222222,
              "#7201a8"
             ],
             [
              0.3333333333333333,
              "#9c179e"
             ],
             [
              0.4444444444444444,
              "#bd3786"
             ],
             [
              0.5555555555555556,
              "#d8576b"
             ],
             [
              0.6666666666666666,
              "#ed7953"
             ],
             [
              0.7777777777777778,
              "#fb9f3a"
             ],
             [
              0.8888888888888888,
              "#fdca26"
             ],
             [
              1,
              "#f0f921"
             ]
            ],
            "type": "heatmap"
           }
          ],
          "heatmapgl": [
           {
            "colorbar": {
             "outlinewidth": 0,
             "ticks": ""
            },
            "colorscale": [
             [
              0,
              "#0d0887"
             ],
             [
              0.1111111111111111,
              "#46039f"
             ],
             [
              0.2222222222222222,
              "#7201a8"
             ],
             [
              0.3333333333333333,
              "#9c179e"
             ],
             [
              0.4444444444444444,
              "#bd3786"
             ],
             [
              0.5555555555555556,
              "#d8576b"
             ],
             [
              0.6666666666666666,
              "#ed7953"
             ],
             [
              0.7777777777777778,
              "#fb9f3a"
             ],
             [
              0.8888888888888888,
              "#fdca26"
             ],
             [
              1,
              "#f0f921"
             ]
            ],
            "type": "heatmapgl"
           }
          ],
          "histogram": [
           {
            "marker": {
             "colorbar": {
              "outlinewidth": 0,
              "ticks": ""
             }
            },
            "type": "histogram"
           }
          ],
          "histogram2d": [
           {
            "colorbar": {
             "outlinewidth": 0,
             "ticks": ""
            },
            "colorscale": [
             [
              0,
              "#0d0887"
             ],
             [
              0.1111111111111111,
              "#46039f"
             ],
             [
              0.2222222222222222,
              "#7201a8"
             ],
             [
              0.3333333333333333,
              "#9c179e"
             ],
             [
              0.4444444444444444,
              "#bd3786"
             ],
             [
              0.5555555555555556,
              "#d8576b"
             ],
             [
              0.6666666666666666,
              "#ed7953"
             ],
             [
              0.7777777777777778,
              "#fb9f3a"
             ],
             [
              0.8888888888888888,
              "#fdca26"
             ],
             [
              1,
              "#f0f921"
             ]
            ],
            "type": "histogram2d"
           }
          ],
          "histogram2dcontour": [
           {
            "colorbar": {
             "outlinewidth": 0,
             "ticks": ""
            },
            "colorscale": [
             [
              0,
              "#0d0887"
             ],
             [
              0.1111111111111111,
              "#46039f"
             ],
             [
              0.2222222222222222,
              "#7201a8"
             ],
             [
              0.3333333333333333,
              "#9c179e"
             ],
             [
              0.4444444444444444,
              "#bd3786"
             ],
             [
              0.5555555555555556,
              "#d8576b"
             ],
             [
              0.6666666666666666,
              "#ed7953"
             ],
             [
              0.7777777777777778,
              "#fb9f3a"
             ],
             [
              0.8888888888888888,
              "#fdca26"
             ],
             [
              1,
              "#f0f921"
             ]
            ],
            "type": "histogram2dcontour"
           }
          ],
          "mesh3d": [
           {
            "colorbar": {
             "outlinewidth": 0,
             "ticks": ""
            },
            "type": "mesh3d"
           }
          ],
          "parcoords": [
           {
            "line": {
             "colorbar": {
              "outlinewidth": 0,
              "ticks": ""
             }
            },
            "type": "parcoords"
           }
          ],
          "pie": [
           {
            "automargin": true,
            "type": "pie"
           }
          ],
          "scatter": [
           {
            "marker": {
             "colorbar": {
              "outlinewidth": 0,
              "ticks": ""
             }
            },
            "type": "scatter"
           }
          ],
          "scatter3d": [
           {
            "line": {
             "colorbar": {
              "outlinewidth": 0,
              "ticks": ""
             }
            },
            "marker": {
             "colorbar": {
              "outlinewidth": 0,
              "ticks": ""
             }
            },
            "type": "scatter3d"
           }
          ],
          "scattercarpet": [
           {
            "marker": {
             "colorbar": {
              "outlinewidth": 0,
              "ticks": ""
             }
            },
            "type": "scattercarpet"
           }
          ],
          "scattergeo": [
           {
            "marker": {
             "colorbar": {
              "outlinewidth": 0,
              "ticks": ""
             }
            },
            "type": "scattergeo"
           }
          ],
          "scattergl": [
           {
            "marker": {
             "colorbar": {
              "outlinewidth": 0,
              "ticks": ""
             }
            },
            "type": "scattergl"
           }
          ],
          "scattermapbox": [
           {
            "marker": {
             "colorbar": {
              "outlinewidth": 0,
              "ticks": ""
             }
            },
            "type": "scattermapbox"
           }
          ],
          "scatterpolar": [
           {
            "marker": {
             "colorbar": {
              "outlinewidth": 0,
              "ticks": ""
             }
            },
            "type": "scatterpolar"
           }
          ],
          "scatterpolargl": [
           {
            "marker": {
             "colorbar": {
              "outlinewidth": 0,
              "ticks": ""
             }
            },
            "type": "scatterpolargl"
           }
          ],
          "scatterternary": [
           {
            "marker": {
             "colorbar": {
              "outlinewidth": 0,
              "ticks": ""
             }
            },
            "type": "scatterternary"
           }
          ],
          "surface": [
           {
            "colorbar": {
             "outlinewidth": 0,
             "ticks": ""
            },
            "colorscale": [
             [
              0,
              "#0d0887"
             ],
             [
              0.1111111111111111,
              "#46039f"
             ],
             [
              0.2222222222222222,
              "#7201a8"
             ],
             [
              0.3333333333333333,
              "#9c179e"
             ],
             [
              0.4444444444444444,
              "#bd3786"
             ],
             [
              0.5555555555555556,
              "#d8576b"
             ],
             [
              0.6666666666666666,
              "#ed7953"
             ],
             [
              0.7777777777777778,
              "#fb9f3a"
             ],
             [
              0.8888888888888888,
              "#fdca26"
             ],
             [
              1,
              "#f0f921"
             ]
            ],
            "type": "surface"
           }
          ],
          "table": [
           {
            "cells": {
             "fill": {
              "color": "#EBF0F8"
             },
             "line": {
              "color": "white"
             }
            },
            "header": {
             "fill": {
              "color": "#C8D4E3"
             },
             "line": {
              "color": "white"
             }
            },
            "type": "table"
           }
          ]
         },
         "layout": {
          "annotationdefaults": {
           "arrowcolor": "#2a3f5f",
           "arrowhead": 0,
           "arrowwidth": 1
          },
          "coloraxis": {
           "colorbar": {
            "outlinewidth": 0,
            "ticks": ""
           }
          },
          "colorscale": {
           "diverging": [
            [
             0,
             "#8e0152"
            ],
            [
             0.1,
             "#c51b7d"
            ],
            [
             0.2,
             "#de77ae"
            ],
            [
             0.3,
             "#f1b6da"
            ],
            [
             0.4,
             "#fde0ef"
            ],
            [
             0.5,
             "#f7f7f7"
            ],
            [
             0.6,
             "#e6f5d0"
            ],
            [
             0.7,
             "#b8e186"
            ],
            [
             0.8,
             "#7fbc41"
            ],
            [
             0.9,
             "#4d9221"
            ],
            [
             1,
             "#276419"
            ]
           ],
           "sequential": [
            [
             0,
             "#0d0887"
            ],
            [
             0.1111111111111111,
             "#46039f"
            ],
            [
             0.2222222222222222,
             "#7201a8"
            ],
            [
             0.3333333333333333,
             "#9c179e"
            ],
            [
             0.4444444444444444,
             "#bd3786"
            ],
            [
             0.5555555555555556,
             "#d8576b"
            ],
            [
             0.6666666666666666,
             "#ed7953"
            ],
            [
             0.7777777777777778,
             "#fb9f3a"
            ],
            [
             0.8888888888888888,
             "#fdca26"
            ],
            [
             1,
             "#f0f921"
            ]
           ],
           "sequentialminus": [
            [
             0,
             "#0d0887"
            ],
            [
             0.1111111111111111,
             "#46039f"
            ],
            [
             0.2222222222222222,
             "#7201a8"
            ],
            [
             0.3333333333333333,
             "#9c179e"
            ],
            [
             0.4444444444444444,
             "#bd3786"
            ],
            [
             0.5555555555555556,
             "#d8576b"
            ],
            [
             0.6666666666666666,
             "#ed7953"
            ],
            [
             0.7777777777777778,
             "#fb9f3a"
            ],
            [
             0.8888888888888888,
             "#fdca26"
            ],
            [
             1,
             "#f0f921"
            ]
           ]
          },
          "colorway": [
           "#636efa",
           "#EF553B",
           "#00cc96",
           "#ab63fa",
           "#FFA15A",
           "#19d3f3",
           "#FF6692",
           "#B6E880",
           "#FF97FF",
           "#FECB52"
          ],
          "font": {
           "color": "#2a3f5f"
          },
          "geo": {
           "bgcolor": "white",
           "lakecolor": "white",
           "landcolor": "#E5ECF6",
           "showlakes": true,
           "showland": true,
           "subunitcolor": "white"
          },
          "hoverlabel": {
           "align": "left"
          },
          "hovermode": "closest",
          "mapbox": {
           "style": "light"
          },
          "paper_bgcolor": "white",
          "plot_bgcolor": "#E5ECF6",
          "polar": {
           "angularaxis": {
            "gridcolor": "white",
            "linecolor": "white",
            "ticks": ""
           },
           "bgcolor": "#E5ECF6",
           "radialaxis": {
            "gridcolor": "white",
            "linecolor": "white",
            "ticks": ""
           }
          },
          "scene": {
           "xaxis": {
            "backgroundcolor": "#E5ECF6",
            "gridcolor": "white",
            "gridwidth": 2,
            "linecolor": "white",
            "showbackground": true,
            "ticks": "",
            "zerolinecolor": "white"
           },
           "yaxis": {
            "backgroundcolor": "#E5ECF6",
            "gridcolor": "white",
            "gridwidth": 2,
            "linecolor": "white",
            "showbackground": true,
            "ticks": "",
            "zerolinecolor": "white"
           },
           "zaxis": {
            "backgroundcolor": "#E5ECF6",
            "gridcolor": "white",
            "gridwidth": 2,
            "linecolor": "white",
            "showbackground": true,
            "ticks": "",
            "zerolinecolor": "white"
           }
          },
          "shapedefaults": {
           "line": {
            "color": "#2a3f5f"
           }
          },
          "ternary": {
           "aaxis": {
            "gridcolor": "white",
            "linecolor": "white",
            "ticks": ""
           },
           "baxis": {
            "gridcolor": "white",
            "linecolor": "white",
            "ticks": ""
           },
           "bgcolor": "#E5ECF6",
           "caxis": {
            "gridcolor": "white",
            "linecolor": "white",
            "ticks": ""
           }
          },
          "title": {
           "x": 0.05
          },
          "xaxis": {
           "automargin": true,
           "gridcolor": "white",
           "linecolor": "white",
           "ticks": "",
           "title": {
            "standoff": 15
           },
           "zerolinecolor": "white",
           "zerolinewidth": 2
          },
          "yaxis": {
           "automargin": true,
           "gridcolor": "white",
           "linecolor": "white",
           "ticks": "",
           "title": {
            "standoff": 15
           },
           "zerolinecolor": "white",
           "zerolinewidth": 2
          }
         }
        },
        "width": 2000
       }
      },
      "text/html": [
       "<div>\n",
       "        \n",
       "        \n",
       "            <div id=\"f5a5633b-231f-45e3-81ad-3ccb89280b99\" class=\"plotly-graph-div\" style=\"height:1000px; width:2000px;\"></div>\n",
       "            <script type=\"text/javascript\">\n",
       "                require([\"plotly\"], function(Plotly) {\n",
       "                    window.PLOTLYENV=window.PLOTLYENV || {};\n",
       "                    \n",
       "                if (document.getElementById(\"f5a5633b-231f-45e3-81ad-3ccb89280b99\")) {\n",
       "                    Plotly.newPlot(\n",
       "                        'f5a5633b-231f-45e3-81ad-3ccb89280b99',\n",
       "                        [{\"cells\": {\"values\": [[\"A.I. Artificial Intelligence\"], [\"A.I. Artificial Intelligence, also known as A.I., is a 2001 American science fiction drama film written and  directed by Steven Spielberg, from a screen story by Ian Watson. This was loosely based on the 1969 short story \\\"Supertoys Last All Summer Long\\\" by Brian Aldiss. The film was produced by Kathleen Kennedy, Spielberg and Bonnie Curtis. It stars Haley Joel Osment, Jude Law, Frances O'Connor, Brendan Gleeson and William Hurt. Set in a futuristic post-climate change society, A.I. tells the story of David (Osment), a childlike android uniquely programmed with the ability to love.Development of A.I. originally began with producer-director Stanley Kubrick, after he acquired the rights to Aldiss' story in the early 1970s. Kubrick hired a series of writers until the mid-1990s, including Brian Aldiss, Bob Shaw, Ian Watson, and Sara Maitland. The film languished in protracted development for years, partly because Kubrick felt computer-generated imagery was not advanced enough to create the David character, whom he believed no child actor would convincingly portray. In 1995, Kubrick handed A.I. to Spielberg, but the film did not gain momentum until Kubrick's death in 1999. Spielberg remained close to Watson's film treatment for the screenplay.The film received positive reviews, and grossed approximately $235 million. The film was nominated for two Academy Awards at the 74th Academy Awards, for Best Visual Effects and Best Original Score (by John Williams).In a 2016 BBC poll of 177 critics around the world, Steven Spielberg's A.I. Artificial Intelligence was voted the eighty-third-greatest film since 2000. A.I. is dedicated to Stanley Kubrick.\"], [\"https://en.wikipedia.org/wiki/A.I._Artificial_Intelligence\"], [1.3935310285594976e-06]]}, \"header\": {\"values\": [\"Title\", \"Intro\", \"URL\", \"Similarity\"]}, \"type\": \"table\"}],\n",
       "                        {\"height\": 1000, \"template\": {\"data\": {\"bar\": [{\"error_x\": {\"color\": \"#2a3f5f\"}, \"error_y\": {\"color\": \"#2a3f5f\"}, \"marker\": {\"line\": {\"color\": \"#E5ECF6\", \"width\": 0.5}}, \"type\": \"bar\"}], \"barpolar\": [{\"marker\": {\"line\": {\"color\": \"#E5ECF6\", \"width\": 0.5}}, \"type\": \"barpolar\"}], \"carpet\": [{\"aaxis\": {\"endlinecolor\": \"#2a3f5f\", \"gridcolor\": \"white\", \"linecolor\": \"white\", \"minorgridcolor\": \"white\", \"startlinecolor\": \"#2a3f5f\"}, \"baxis\": {\"endlinecolor\": \"#2a3f5f\", \"gridcolor\": \"white\", \"linecolor\": \"white\", \"minorgridcolor\": \"white\", \"startlinecolor\": \"#2a3f5f\"}, \"type\": \"carpet\"}], \"choropleth\": [{\"colorbar\": {\"outlinewidth\": 0, \"ticks\": \"\"}, \"type\": \"choropleth\"}], \"contour\": [{\"colorbar\": {\"outlinewidth\": 0, \"ticks\": \"\"}, \"colorscale\": [[0.0, \"#0d0887\"], [0.1111111111111111, \"#46039f\"], [0.2222222222222222, \"#7201a8\"], [0.3333333333333333, \"#9c179e\"], [0.4444444444444444, \"#bd3786\"], [0.5555555555555556, \"#d8576b\"], [0.6666666666666666, \"#ed7953\"], [0.7777777777777778, \"#fb9f3a\"], [0.8888888888888888, \"#fdca26\"], [1.0, \"#f0f921\"]], \"type\": \"contour\"}], \"contourcarpet\": [{\"colorbar\": {\"outlinewidth\": 0, \"ticks\": \"\"}, \"type\": \"contourcarpet\"}], \"heatmap\": [{\"colorbar\": {\"outlinewidth\": 0, \"ticks\": \"\"}, \"colorscale\": [[0.0, \"#0d0887\"], [0.1111111111111111, \"#46039f\"], [0.2222222222222222, \"#7201a8\"], [0.3333333333333333, \"#9c179e\"], [0.4444444444444444, \"#bd3786\"], [0.5555555555555556, \"#d8576b\"], [0.6666666666666666, \"#ed7953\"], [0.7777777777777778, \"#fb9f3a\"], [0.8888888888888888, \"#fdca26\"], [1.0, \"#f0f921\"]], \"type\": \"heatmap\"}], \"heatmapgl\": [{\"colorbar\": {\"outlinewidth\": 0, \"ticks\": \"\"}, \"colorscale\": [[0.0, \"#0d0887\"], [0.1111111111111111, \"#46039f\"], [0.2222222222222222, \"#7201a8\"], [0.3333333333333333, \"#9c179e\"], [0.4444444444444444, \"#bd3786\"], [0.5555555555555556, \"#d8576b\"], [0.6666666666666666, \"#ed7953\"], [0.7777777777777778, \"#fb9f3a\"], [0.8888888888888888, \"#fdca26\"], [1.0, \"#f0f921\"]], \"type\": \"heatmapgl\"}], \"histogram\": [{\"marker\": {\"colorbar\": {\"outlinewidth\": 0, \"ticks\": \"\"}}, \"type\": \"histogram\"}], \"histogram2d\": [{\"colorbar\": {\"outlinewidth\": 0, \"ticks\": \"\"}, \"colorscale\": [[0.0, \"#0d0887\"], [0.1111111111111111, \"#46039f\"], [0.2222222222222222, \"#7201a8\"], [0.3333333333333333, \"#9c179e\"], [0.4444444444444444, \"#bd3786\"], [0.5555555555555556, \"#d8576b\"], [0.6666666666666666, \"#ed7953\"], [0.7777777777777778, \"#fb9f3a\"], [0.8888888888888888, \"#fdca26\"], [1.0, \"#f0f921\"]], \"type\": \"histogram2d\"}], \"histogram2dcontour\": [{\"colorbar\": {\"outlinewidth\": 0, \"ticks\": \"\"}, \"colorscale\": [[0.0, \"#0d0887\"], [0.1111111111111111, \"#46039f\"], [0.2222222222222222, \"#7201a8\"], [0.3333333333333333, \"#9c179e\"], [0.4444444444444444, \"#bd3786\"], [0.5555555555555556, \"#d8576b\"], [0.6666666666666666, \"#ed7953\"], [0.7777777777777778, \"#fb9f3a\"], [0.8888888888888888, \"#fdca26\"], [1.0, \"#f0f921\"]], \"type\": \"histogram2dcontour\"}], \"mesh3d\": [{\"colorbar\": {\"outlinewidth\": 0, \"ticks\": \"\"}, \"type\": \"mesh3d\"}], \"parcoords\": [{\"line\": {\"colorbar\": {\"outlinewidth\": 0, \"ticks\": \"\"}}, \"type\": \"parcoords\"}], \"pie\": [{\"automargin\": true, \"type\": \"pie\"}], \"scatter\": [{\"marker\": {\"colorbar\": {\"outlinewidth\": 0, \"ticks\": \"\"}}, \"type\": \"scatter\"}], \"scatter3d\": [{\"line\": {\"colorbar\": {\"outlinewidth\": 0, \"ticks\": \"\"}}, \"marker\": {\"colorbar\": {\"outlinewidth\": 0, \"ticks\": \"\"}}, \"type\": \"scatter3d\"}], \"scattercarpet\": [{\"marker\": {\"colorbar\": {\"outlinewidth\": 0, \"ticks\": \"\"}}, \"type\": \"scattercarpet\"}], \"scattergeo\": [{\"marker\": {\"colorbar\": {\"outlinewidth\": 0, \"ticks\": \"\"}}, \"type\": \"scattergeo\"}], \"scattergl\": [{\"marker\": {\"colorbar\": {\"outlinewidth\": 0, \"ticks\": \"\"}}, \"type\": \"scattergl\"}], \"scattermapbox\": [{\"marker\": {\"colorbar\": {\"outlinewidth\": 0, \"ticks\": \"\"}}, \"type\": \"scattermapbox\"}], \"scatterpolar\": [{\"marker\": {\"colorbar\": {\"outlinewidth\": 0, \"ticks\": \"\"}}, \"type\": \"scatterpolar\"}], \"scatterpolargl\": [{\"marker\": {\"colorbar\": {\"outlinewidth\": 0, \"ticks\": \"\"}}, \"type\": \"scatterpolargl\"}], \"scatterternary\": [{\"marker\": {\"colorbar\": {\"outlinewidth\": 0, \"ticks\": \"\"}}, \"type\": \"scatterternary\"}], \"surface\": [{\"colorbar\": {\"outlinewidth\": 0, \"ticks\": \"\"}, \"colorscale\": [[0.0, \"#0d0887\"], [0.1111111111111111, \"#46039f\"], [0.2222222222222222, \"#7201a8\"], [0.3333333333333333, \"#9c179e\"], [0.4444444444444444, \"#bd3786\"], [0.5555555555555556, \"#d8576b\"], [0.6666666666666666, \"#ed7953\"], [0.7777777777777778, \"#fb9f3a\"], [0.8888888888888888, \"#fdca26\"], [1.0, \"#f0f921\"]], \"type\": \"surface\"}], \"table\": [{\"cells\": {\"fill\": {\"color\": \"#EBF0F8\"}, \"line\": {\"color\": \"white\"}}, \"header\": {\"fill\": {\"color\": \"#C8D4E3\"}, \"line\": {\"color\": \"white\"}}, \"type\": \"table\"}]}, \"layout\": {\"annotationdefaults\": {\"arrowcolor\": \"#2a3f5f\", \"arrowhead\": 0, \"arrowwidth\": 1}, \"coloraxis\": {\"colorbar\": {\"outlinewidth\": 0, \"ticks\": \"\"}}, \"colorscale\": {\"diverging\": [[0, \"#8e0152\"], [0.1, \"#c51b7d\"], [0.2, \"#de77ae\"], [0.3, \"#f1b6da\"], [0.4, \"#fde0ef\"], [0.5, \"#f7f7f7\"], [0.6, \"#e6f5d0\"], [0.7, \"#b8e186\"], [0.8, \"#7fbc41\"], [0.9, \"#4d9221\"], [1, \"#276419\"]], \"sequential\": [[0.0, \"#0d0887\"], [0.1111111111111111, \"#46039f\"], [0.2222222222222222, \"#7201a8\"], [0.3333333333333333, \"#9c179e\"], [0.4444444444444444, \"#bd3786\"], [0.5555555555555556, \"#d8576b\"], [0.6666666666666666, \"#ed7953\"], [0.7777777777777778, \"#fb9f3a\"], [0.8888888888888888, \"#fdca26\"], [1.0, \"#f0f921\"]], \"sequentialminus\": [[0.0, \"#0d0887\"], [0.1111111111111111, \"#46039f\"], [0.2222222222222222, \"#7201a8\"], [0.3333333333333333, \"#9c179e\"], [0.4444444444444444, \"#bd3786\"], [0.5555555555555556, \"#d8576b\"], [0.6666666666666666, \"#ed7953\"], [0.7777777777777778, \"#fb9f3a\"], [0.8888888888888888, \"#fdca26\"], [1.0, \"#f0f921\"]]}, \"colorway\": [\"#636efa\", \"#EF553B\", \"#00cc96\", \"#ab63fa\", \"#FFA15A\", \"#19d3f3\", \"#FF6692\", \"#B6E880\", \"#FF97FF\", \"#FECB52\"], \"font\": {\"color\": \"#2a3f5f\"}, \"geo\": {\"bgcolor\": \"white\", \"lakecolor\": \"white\", \"landcolor\": \"#E5ECF6\", \"showlakes\": true, \"showland\": true, \"subunitcolor\": \"white\"}, \"hoverlabel\": {\"align\": \"left\"}, \"hovermode\": \"closest\", \"mapbox\": {\"style\": \"light\"}, \"paper_bgcolor\": \"white\", \"plot_bgcolor\": \"#E5ECF6\", \"polar\": {\"angularaxis\": {\"gridcolor\": \"white\", \"linecolor\": \"white\", \"ticks\": \"\"}, \"bgcolor\": \"#E5ECF6\", \"radialaxis\": {\"gridcolor\": \"white\", \"linecolor\": \"white\", \"ticks\": \"\"}}, \"scene\": {\"xaxis\": {\"backgroundcolor\": \"#E5ECF6\", \"gridcolor\": \"white\", \"gridwidth\": 2, \"linecolor\": \"white\", \"showbackground\": true, \"ticks\": \"\", \"zerolinecolor\": \"white\"}, \"yaxis\": {\"backgroundcolor\": \"#E5ECF6\", \"gridcolor\": \"white\", \"gridwidth\": 2, \"linecolor\": \"white\", \"showbackground\": true, \"ticks\": \"\", \"zerolinecolor\": \"white\"}, \"zaxis\": {\"backgroundcolor\": \"#E5ECF6\", \"gridcolor\": \"white\", \"gridwidth\": 2, \"linecolor\": \"white\", \"showbackground\": true, \"ticks\": \"\", \"zerolinecolor\": \"white\"}}, \"shapedefaults\": {\"line\": {\"color\": \"#2a3f5f\"}}, \"ternary\": {\"aaxis\": {\"gridcolor\": \"white\", \"linecolor\": \"white\", \"ticks\": \"\"}, \"baxis\": {\"gridcolor\": \"white\", \"linecolor\": \"white\", \"ticks\": \"\"}, \"bgcolor\": \"#E5ECF6\", \"caxis\": {\"gridcolor\": \"white\", \"linecolor\": \"white\", \"ticks\": \"\"}}, \"title\": {\"x\": 0.05}, \"xaxis\": {\"automargin\": true, \"gridcolor\": \"white\", \"linecolor\": \"white\", \"ticks\": \"\", \"title\": {\"standoff\": 15}, \"zerolinecolor\": \"white\", \"zerolinewidth\": 2}, \"yaxis\": {\"automargin\": true, \"gridcolor\": \"white\", \"linecolor\": \"white\", \"ticks\": \"\", \"title\": {\"standoff\": 15}, \"zerolinecolor\": \"white\", \"zerolinewidth\": 2}}}, \"width\": 2000},\n",
       "                        {\"responsive\": true}\n",
       "                    ).then(function(){\n",
       "                            \n",
       "var gd = document.getElementById('f5a5633b-231f-45e3-81ad-3ccb89280b99');\n",
       "var x = new MutationObserver(function (mutations, observer) {{\n",
       "        var display = window.getComputedStyle(gd).display;\n",
       "        if (!display || display === 'none') {{\n",
       "            console.log([gd, 'removed!']);\n",
       "            Plotly.purge(gd);\n",
       "            observer.disconnect();\n",
       "        }}\n",
       "}});\n",
       "\n",
       "// Listen for the removal of the full notebook cells\n",
       "var notebookContainer = gd.closest('#notebook-container');\n",
       "if (notebookContainer) {{\n",
       "    x.observe(notebookContainer, {childList: true});\n",
       "}}\n",
       "\n",
       "// Listen for the clearing of the current output cell\n",
       "var outputEl = gd.closest('.output');\n",
       "if (outputEl) {{\n",
       "    x.observe(outputEl, {childList: true});\n",
       "}}\n",
       "\n",
       "                        })\n",
       "                };\n",
       "                });\n",
       "            </script>\n",
       "        </div>"
      ]
     },
     "metadata": {},
     "output_type": "display_data"
    },
    {
     "name": "stdout",
     "output_type": "stream",
     "text": [
      "Refine your search. If you don't want to, press enter.\n",
      "\n"
     ]
    },
    {
     "data": {
      "text/html": [
       "<div>\n",
       "<style scoped>\n",
       "    .dataframe tbody tr th:only-of-type {\n",
       "        vertical-align: middle;\n",
       "    }\n",
       "\n",
       "    .dataframe tbody tr th {\n",
       "        vertical-align: top;\n",
       "    }\n",
       "\n",
       "    .dataframe thead th {\n",
       "        text-align: right;\n",
       "    }\n",
       "</style>\n",
       "<table border=\"1\" class=\"dataframe\">\n",
       "  <thead>\n",
       "    <tr style=\"text-align: right;\">\n",
       "      <th></th>\n",
       "      <th>Title</th>\n",
       "      <th>Intro</th>\n",
       "      <th>URL</th>\n",
       "      <th>Similarity</th>\n",
       "    </tr>\n",
       "  </thead>\n",
       "  <tbody>\n",
       "    <tr>\n",
       "      <th>13375</th>\n",
       "      <td>A.I. Artificial Intelligence</td>\n",
       "      <td>A.I. Artificial Intelligence, also known as A....</td>\n",
       "      <td>https://en.wikipedia.org/wiki/A.I._Artificial_...</td>\n",
       "      <td>0.000001</td>\n",
       "    </tr>\n",
       "  </tbody>\n",
       "</table>\n",
       "</div>"
      ],
      "text/plain": [
       "                              Title  \\\n",
       "13375  A.I. Artificial Intelligence   \n",
       "\n",
       "                                                   Intro  \\\n",
       "13375  A.I. Artificial Intelligence, also known as A....   \n",
       "\n",
       "                                                     URL  Similarity  \n",
       "13375  https://en.wikipedia.org/wiki/A.I._Artificial_...    0.000001  "
      ]
     },
     "execution_count": 105,
     "metadata": {},
     "output_type": "execute_result"
    }
   ],
   "source": [
    "SearchEngine3()"
   ]
  },
  {
   "cell_type": "markdown",
   "metadata": {},
   "source": [
    "# You've seen our searches. Now its your turn. Choose the search engine you want and ennjoy the results..."
   ]
  },
  {
   "cell_type": "code",
   "execution_count": 109,
   "metadata": {},
   "outputs": [
    {
     "name": "stdout",
     "output_type": "stream",
     "text": [
      "Pick your Search Engine 1 , 2 or 3 ? 2\n",
      "robert sheehan\n"
     ]
    },
    {
     "data": {
      "application/vnd.plotly.v1+json": {
       "config": {
        "plotlyServerURL": "https://plot.ly"
       },
       "data": [
        {
         "cells": {
          "values": [
           [
            "A Mom for Christmas",
            "Demons Never Die",
            "The Road Within",
            "The Preppie Murder",
            "Three Summers"
           ],
           [
            "A Mom for Christmas is a 1990 American made-for-television Christmas fantasy-comedy film starring Olivia Newton-John, Juliet Sorci, Doug Sheehan and Doris Roberts, directed by George T. Miller and produced by Walt Disney Television. The film marked Newton-John's television film debut and her first film appearance in seven years since Two of a Kind (1983). It was written by Gerald Di Pego based on the book A Mom by Magic by Barbara Dillon and originally premiered on NBC on December 17, 1990.",
            "Demons Never Die (originally titled Suicide Kids) is a British 2011 slasher film starring Robert Sheehan, Jennie Jacques, Jacob Anderson, Jason Maza, Emma Rigby. Ashley Walters, Reggie Yates and Tulisa Contostavlos.",
            "The Road Within is a 2014 American film written and directed by Gren Wells in her feature directorial debut. The film is a remake of the 2010 German film, Vincent Wants to Sea. The film premiered at the  2014 Los Angeles Film Festival and was picked up by Well Go USA Entertainment and given a theatrical release in April 2015.",
            "The Preppie Murder is a television film directed by John Herzfeld, written by Herzfeld and Irv Roud, and starring William Baldwin as Robert Chambers and Lara Flynn Boyle as Jennifer Levin. The film aired on ABC in 1989. It was based on the events of a murder committed by Robert Chambers, nicknamed the Preppie Killer. The film co-stars Danny Aiello, Joanna Kerns and William Devane.",
            "Three Summers is an Australian romantic comedy film, written and directed by Ben Elton.It was filmed and is set in Western Australia, at a fictional summer music festival called 'Westival' (based on the real-life Fairbridge Festival). Over three consecutive years, two musicians (played by Rebecca Breeds and Robert Sheehan) meet and fall in love at the festival amidst a microcosm of Australian society. In addition to Breeds and Sheehan, the film has a large ensemble cast including Magda Szubanski, Michael Caton, Deborah Mailman, Jacqueline McKenzie and John Waters.The film had its world premiere at the Melbourne International Film Festival on 12 August 2017, and was released nationally in Australia on 2 November."
           ],
           [
            "https://en.wikipedia.org/wiki/A_Mom_for_Christmas",
            "https://en.wikipedia.org/wiki/Demons_Never_Die",
            "https://en.wikipedia.org/wiki/The_Road_Within",
            "https://en.wikipedia.org/wiki/The_Preppie_Murder",
            "https://en.wikipedia.org/wiki/Three_Summers"
           ],
           [
            5.377587818791637e-06,
            5.880758662738e-06,
            5.299729543497222e-06,
            5.8887010543842835e-06,
            1.5155272098031716e-05
           ]
          ]
         },
         "header": {
          "values": [
           "Title",
           "Intro",
           "URL",
           "Similarity"
          ]
         },
         "type": "table"
        }
       ],
       "layout": {
        "height": 1000,
        "template": {
         "data": {
          "bar": [
           {
            "error_x": {
             "color": "#2a3f5f"
            },
            "error_y": {
             "color": "#2a3f5f"
            },
            "marker": {
             "line": {
              "color": "#E5ECF6",
              "width": 0.5
             }
            },
            "type": "bar"
           }
          ],
          "barpolar": [
           {
            "marker": {
             "line": {
              "color": "#E5ECF6",
              "width": 0.5
             }
            },
            "type": "barpolar"
           }
          ],
          "carpet": [
           {
            "aaxis": {
             "endlinecolor": "#2a3f5f",
             "gridcolor": "white",
             "linecolor": "white",
             "minorgridcolor": "white",
             "startlinecolor": "#2a3f5f"
            },
            "baxis": {
             "endlinecolor": "#2a3f5f",
             "gridcolor": "white",
             "linecolor": "white",
             "minorgridcolor": "white",
             "startlinecolor": "#2a3f5f"
            },
            "type": "carpet"
           }
          ],
          "choropleth": [
           {
            "colorbar": {
             "outlinewidth": 0,
             "ticks": ""
            },
            "type": "choropleth"
           }
          ],
          "contour": [
           {
            "colorbar": {
             "outlinewidth": 0,
             "ticks": ""
            },
            "colorscale": [
             [
              0,
              "#0d0887"
             ],
             [
              0.1111111111111111,
              "#46039f"
             ],
             [
              0.2222222222222222,
              "#7201a8"
             ],
             [
              0.3333333333333333,
              "#9c179e"
             ],
             [
              0.4444444444444444,
              "#bd3786"
             ],
             [
              0.5555555555555556,
              "#d8576b"
             ],
             [
              0.6666666666666666,
              "#ed7953"
             ],
             [
              0.7777777777777778,
              "#fb9f3a"
             ],
             [
              0.8888888888888888,
              "#fdca26"
             ],
             [
              1,
              "#f0f921"
             ]
            ],
            "type": "contour"
           }
          ],
          "contourcarpet": [
           {
            "colorbar": {
             "outlinewidth": 0,
             "ticks": ""
            },
            "type": "contourcarpet"
           }
          ],
          "heatmap": [
           {
            "colorbar": {
             "outlinewidth": 0,
             "ticks": ""
            },
            "colorscale": [
             [
              0,
              "#0d0887"
             ],
             [
              0.1111111111111111,
              "#46039f"
             ],
             [
              0.2222222222222222,
              "#7201a8"
             ],
             [
              0.3333333333333333,
              "#9c179e"
             ],
             [
              0.4444444444444444,
              "#bd3786"
             ],
             [
              0.5555555555555556,
              "#d8576b"
             ],
             [
              0.6666666666666666,
              "#ed7953"
             ],
             [
              0.7777777777777778,
              "#fb9f3a"
             ],
             [
              0.8888888888888888,
              "#fdca26"
             ],
             [
              1,
              "#f0f921"
             ]
            ],
            "type": "heatmap"
           }
          ],
          "heatmapgl": [
           {
            "colorbar": {
             "outlinewidth": 0,
             "ticks": ""
            },
            "colorscale": [
             [
              0,
              "#0d0887"
             ],
             [
              0.1111111111111111,
              "#46039f"
             ],
             [
              0.2222222222222222,
              "#7201a8"
             ],
             [
              0.3333333333333333,
              "#9c179e"
             ],
             [
              0.4444444444444444,
              "#bd3786"
             ],
             [
              0.5555555555555556,
              "#d8576b"
             ],
             [
              0.6666666666666666,
              "#ed7953"
             ],
             [
              0.7777777777777778,
              "#fb9f3a"
             ],
             [
              0.8888888888888888,
              "#fdca26"
             ],
             [
              1,
              "#f0f921"
             ]
            ],
            "type": "heatmapgl"
           }
          ],
          "histogram": [
           {
            "marker": {
             "colorbar": {
              "outlinewidth": 0,
              "ticks": ""
             }
            },
            "type": "histogram"
           }
          ],
          "histogram2d": [
           {
            "colorbar": {
             "outlinewidth": 0,
             "ticks": ""
            },
            "colorscale": [
             [
              0,
              "#0d0887"
             ],
             [
              0.1111111111111111,
              "#46039f"
             ],
             [
              0.2222222222222222,
              "#7201a8"
             ],
             [
              0.3333333333333333,
              "#9c179e"
             ],
             [
              0.4444444444444444,
              "#bd3786"
             ],
             [
              0.5555555555555556,
              "#d8576b"
             ],
             [
              0.6666666666666666,
              "#ed7953"
             ],
             [
              0.7777777777777778,
              "#fb9f3a"
             ],
             [
              0.8888888888888888,
              "#fdca26"
             ],
             [
              1,
              "#f0f921"
             ]
            ],
            "type": "histogram2d"
           }
          ],
          "histogram2dcontour": [
           {
            "colorbar": {
             "outlinewidth": 0,
             "ticks": ""
            },
            "colorscale": [
             [
              0,
              "#0d0887"
             ],
             [
              0.1111111111111111,
              "#46039f"
             ],
             [
              0.2222222222222222,
              "#7201a8"
             ],
             [
              0.3333333333333333,
              "#9c179e"
             ],
             [
              0.4444444444444444,
              "#bd3786"
             ],
             [
              0.5555555555555556,
              "#d8576b"
             ],
             [
              0.6666666666666666,
              "#ed7953"
             ],
             [
              0.7777777777777778,
              "#fb9f3a"
             ],
             [
              0.8888888888888888,
              "#fdca26"
             ],
             [
              1,
              "#f0f921"
             ]
            ],
            "type": "histogram2dcontour"
           }
          ],
          "mesh3d": [
           {
            "colorbar": {
             "outlinewidth": 0,
             "ticks": ""
            },
            "type": "mesh3d"
           }
          ],
          "parcoords": [
           {
            "line": {
             "colorbar": {
              "outlinewidth": 0,
              "ticks": ""
             }
            },
            "type": "parcoords"
           }
          ],
          "pie": [
           {
            "automargin": true,
            "type": "pie"
           }
          ],
          "scatter": [
           {
            "marker": {
             "colorbar": {
              "outlinewidth": 0,
              "ticks": ""
             }
            },
            "type": "scatter"
           }
          ],
          "scatter3d": [
           {
            "line": {
             "colorbar": {
              "outlinewidth": 0,
              "ticks": ""
             }
            },
            "marker": {
             "colorbar": {
              "outlinewidth": 0,
              "ticks": ""
             }
            },
            "type": "scatter3d"
           }
          ],
          "scattercarpet": [
           {
            "marker": {
             "colorbar": {
              "outlinewidth": 0,
              "ticks": ""
             }
            },
            "type": "scattercarpet"
           }
          ],
          "scattergeo": [
           {
            "marker": {
             "colorbar": {
              "outlinewidth": 0,
              "ticks": ""
             }
            },
            "type": "scattergeo"
           }
          ],
          "scattergl": [
           {
            "marker": {
             "colorbar": {
              "outlinewidth": 0,
              "ticks": ""
             }
            },
            "type": "scattergl"
           }
          ],
          "scattermapbox": [
           {
            "marker": {
             "colorbar": {
              "outlinewidth": 0,
              "ticks": ""
             }
            },
            "type": "scattermapbox"
           }
          ],
          "scatterpolar": [
           {
            "marker": {
             "colorbar": {
              "outlinewidth": 0,
              "ticks": ""
             }
            },
            "type": "scatterpolar"
           }
          ],
          "scatterpolargl": [
           {
            "marker": {
             "colorbar": {
              "outlinewidth": 0,
              "ticks": ""
             }
            },
            "type": "scatterpolargl"
           }
          ],
          "scatterternary": [
           {
            "marker": {
             "colorbar": {
              "outlinewidth": 0,
              "ticks": ""
             }
            },
            "type": "scatterternary"
           }
          ],
          "surface": [
           {
            "colorbar": {
             "outlinewidth": 0,
             "ticks": ""
            },
            "colorscale": [
             [
              0,
              "#0d0887"
             ],
             [
              0.1111111111111111,
              "#46039f"
             ],
             [
              0.2222222222222222,
              "#7201a8"
             ],
             [
              0.3333333333333333,
              "#9c179e"
             ],
             [
              0.4444444444444444,
              "#bd3786"
             ],
             [
              0.5555555555555556,
              "#d8576b"
             ],
             [
              0.6666666666666666,
              "#ed7953"
             ],
             [
              0.7777777777777778,
              "#fb9f3a"
             ],
             [
              0.8888888888888888,
              "#fdca26"
             ],
             [
              1,
              "#f0f921"
             ]
            ],
            "type": "surface"
           }
          ],
          "table": [
           {
            "cells": {
             "fill": {
              "color": "#EBF0F8"
             },
             "line": {
              "color": "white"
             }
            },
            "header": {
             "fill": {
              "color": "#C8D4E3"
             },
             "line": {
              "color": "white"
             }
            },
            "type": "table"
           }
          ]
         },
         "layout": {
          "annotationdefaults": {
           "arrowcolor": "#2a3f5f",
           "arrowhead": 0,
           "arrowwidth": 1
          },
          "coloraxis": {
           "colorbar": {
            "outlinewidth": 0,
            "ticks": ""
           }
          },
          "colorscale": {
           "diverging": [
            [
             0,
             "#8e0152"
            ],
            [
             0.1,
             "#c51b7d"
            ],
            [
             0.2,
             "#de77ae"
            ],
            [
             0.3,
             "#f1b6da"
            ],
            [
             0.4,
             "#fde0ef"
            ],
            [
             0.5,
             "#f7f7f7"
            ],
            [
             0.6,
             "#e6f5d0"
            ],
            [
             0.7,
             "#b8e186"
            ],
            [
             0.8,
             "#7fbc41"
            ],
            [
             0.9,
             "#4d9221"
            ],
            [
             1,
             "#276419"
            ]
           ],
           "sequential": [
            [
             0,
             "#0d0887"
            ],
            [
             0.1111111111111111,
             "#46039f"
            ],
            [
             0.2222222222222222,
             "#7201a8"
            ],
            [
             0.3333333333333333,
             "#9c179e"
            ],
            [
             0.4444444444444444,
             "#bd3786"
            ],
            [
             0.5555555555555556,
             "#d8576b"
            ],
            [
             0.6666666666666666,
             "#ed7953"
            ],
            [
             0.7777777777777778,
             "#fb9f3a"
            ],
            [
             0.8888888888888888,
             "#fdca26"
            ],
            [
             1,
             "#f0f921"
            ]
           ],
           "sequentialminus": [
            [
             0,
             "#0d0887"
            ],
            [
             0.1111111111111111,
             "#46039f"
            ],
            [
             0.2222222222222222,
             "#7201a8"
            ],
            [
             0.3333333333333333,
             "#9c179e"
            ],
            [
             0.4444444444444444,
             "#bd3786"
            ],
            [
             0.5555555555555556,
             "#d8576b"
            ],
            [
             0.6666666666666666,
             "#ed7953"
            ],
            [
             0.7777777777777778,
             "#fb9f3a"
            ],
            [
             0.8888888888888888,
             "#fdca26"
            ],
            [
             1,
             "#f0f921"
            ]
           ]
          },
          "colorway": [
           "#636efa",
           "#EF553B",
           "#00cc96",
           "#ab63fa",
           "#FFA15A",
           "#19d3f3",
           "#FF6692",
           "#B6E880",
           "#FF97FF",
           "#FECB52"
          ],
          "font": {
           "color": "#2a3f5f"
          },
          "geo": {
           "bgcolor": "white",
           "lakecolor": "white",
           "landcolor": "#E5ECF6",
           "showlakes": true,
           "showland": true,
           "subunitcolor": "white"
          },
          "hoverlabel": {
           "align": "left"
          },
          "hovermode": "closest",
          "mapbox": {
           "style": "light"
          },
          "paper_bgcolor": "white",
          "plot_bgcolor": "#E5ECF6",
          "polar": {
           "angularaxis": {
            "gridcolor": "white",
            "linecolor": "white",
            "ticks": ""
           },
           "bgcolor": "#E5ECF6",
           "radialaxis": {
            "gridcolor": "white",
            "linecolor": "white",
            "ticks": ""
           }
          },
          "scene": {
           "xaxis": {
            "backgroundcolor": "#E5ECF6",
            "gridcolor": "white",
            "gridwidth": 2,
            "linecolor": "white",
            "showbackground": true,
            "ticks": "",
            "zerolinecolor": "white"
           },
           "yaxis": {
            "backgroundcolor": "#E5ECF6",
            "gridcolor": "white",
            "gridwidth": 2,
            "linecolor": "white",
            "showbackground": true,
            "ticks": "",
            "zerolinecolor": "white"
           },
           "zaxis": {
            "backgroundcolor": "#E5ECF6",
            "gridcolor": "white",
            "gridwidth": 2,
            "linecolor": "white",
            "showbackground": true,
            "ticks": "",
            "zerolinecolor": "white"
           }
          },
          "shapedefaults": {
           "line": {
            "color": "#2a3f5f"
           }
          },
          "ternary": {
           "aaxis": {
            "gridcolor": "white",
            "linecolor": "white",
            "ticks": ""
           },
           "baxis": {
            "gridcolor": "white",
            "linecolor": "white",
            "ticks": ""
           },
           "bgcolor": "#E5ECF6",
           "caxis": {
            "gridcolor": "white",
            "linecolor": "white",
            "ticks": ""
           }
          },
          "title": {
           "x": 0.05
          },
          "xaxis": {
           "automargin": true,
           "gridcolor": "white",
           "linecolor": "white",
           "ticks": "",
           "title": {
            "standoff": 15
           },
           "zerolinecolor": "white",
           "zerolinewidth": 2
          },
          "yaxis": {
           "automargin": true,
           "gridcolor": "white",
           "linecolor": "white",
           "ticks": "",
           "title": {
            "standoff": 15
           },
           "zerolinecolor": "white",
           "zerolinewidth": 2
          }
         }
        },
        "width": 2000
       }
      },
      "text/html": [
       "<div>\n",
       "        \n",
       "        \n",
       "            <div id=\"19c961ee-74d2-4e79-ac6b-eac4f4752ab5\" class=\"plotly-graph-div\" style=\"height:1000px; width:2000px;\"></div>\n",
       "            <script type=\"text/javascript\">\n",
       "                require([\"plotly\"], function(Plotly) {\n",
       "                    window.PLOTLYENV=window.PLOTLYENV || {};\n",
       "                    \n",
       "                if (document.getElementById(\"19c961ee-74d2-4e79-ac6b-eac4f4752ab5\")) {\n",
       "                    Plotly.newPlot(\n",
       "                        '19c961ee-74d2-4e79-ac6b-eac4f4752ab5',\n",
       "                        [{\"cells\": {\"values\": [[\"A Mom for Christmas\", \"Demons Never Die\", \"The Road Within\", \"The Preppie Murder\", \"Three Summers\"], [\"A Mom for Christmas is a 1990 American made-for-television Christmas fantasy-comedy film starring Olivia Newton-John, Juliet Sorci, Doug Sheehan and Doris Roberts, directed by George T. Miller and produced by Walt Disney Television. The film marked Newton-John's television film debut and her first film appearance in seven years since Two of a Kind (1983). It was written by Gerald Di Pego based on the book A Mom by Magic by Barbara Dillon and originally premiered on NBC on December 17, 1990.\", \"Demons Never Die (originally titled Suicide Kids) is a British 2011 slasher film starring Robert Sheehan, Jennie Jacques, Jacob Anderson, Jason Maza, Emma Rigby. Ashley Walters, Reggie Yates and Tulisa Contostavlos.\", \"The Road Within is a 2014 American film written and directed by Gren Wells in her feature directorial debut. The film is a remake of the 2010 German film, Vincent Wants to Sea. The film premiered at the  2014 Los Angeles Film Festival and was picked up by Well Go USA Entertainment and given a theatrical release in April 2015.\", \"The Preppie Murder is a television film directed by John Herzfeld, written by Herzfeld and Irv Roud, and starring William Baldwin as Robert Chambers and Lara Flynn Boyle as Jennifer Levin. The film aired on ABC in 1989. It was based on the events of a murder committed by Robert Chambers, nicknamed the Preppie Killer. The film co-stars Danny Aiello, Joanna Kerns and William Devane.\", \"Three Summers is an Australian romantic comedy film, written and directed by Ben Elton.It was filmed and is set in Western Australia, at a fictional summer music festival called 'Westival' (based on the real-life Fairbridge Festival). Over three consecutive years, two musicians (played by Rebecca Breeds and Robert Sheehan) meet and fall in love at the festival amidst a microcosm of Australian society. In addition to Breeds and Sheehan, the film has a large ensemble cast including Magda Szubanski, Michael Caton, Deborah Mailman, Jacqueline McKenzie and John Waters.The film had its world premiere at the Melbourne International Film Festival on 12 August 2017, and was released nationally in Australia on 2 November.\"], [\"https://en.wikipedia.org/wiki/A_Mom_for_Christmas\", \"https://en.wikipedia.org/wiki/Demons_Never_Die\", \"https://en.wikipedia.org/wiki/The_Road_Within\", \"https://en.wikipedia.org/wiki/The_Preppie_Murder\", \"https://en.wikipedia.org/wiki/Three_Summers\"], [5.377587818791637e-06, 5.880758662738e-06, 5.299729543497222e-06, 5.8887010543842835e-06, 1.5155272098031716e-05]]}, \"header\": {\"values\": [\"Title\", \"Intro\", \"URL\", \"Similarity\"]}, \"type\": \"table\"}],\n",
       "                        {\"height\": 1000, \"template\": {\"data\": {\"bar\": [{\"error_x\": {\"color\": \"#2a3f5f\"}, \"error_y\": {\"color\": \"#2a3f5f\"}, \"marker\": {\"line\": {\"color\": \"#E5ECF6\", \"width\": 0.5}}, \"type\": \"bar\"}], \"barpolar\": [{\"marker\": {\"line\": {\"color\": \"#E5ECF6\", \"width\": 0.5}}, \"type\": \"barpolar\"}], \"carpet\": [{\"aaxis\": {\"endlinecolor\": \"#2a3f5f\", \"gridcolor\": \"white\", \"linecolor\": \"white\", \"minorgridcolor\": \"white\", \"startlinecolor\": \"#2a3f5f\"}, \"baxis\": {\"endlinecolor\": \"#2a3f5f\", \"gridcolor\": \"white\", \"linecolor\": \"white\", \"minorgridcolor\": \"white\", \"startlinecolor\": \"#2a3f5f\"}, \"type\": \"carpet\"}], \"choropleth\": [{\"colorbar\": {\"outlinewidth\": 0, \"ticks\": \"\"}, \"type\": \"choropleth\"}], \"contour\": [{\"colorbar\": {\"outlinewidth\": 0, \"ticks\": \"\"}, \"colorscale\": [[0.0, \"#0d0887\"], [0.1111111111111111, \"#46039f\"], [0.2222222222222222, \"#7201a8\"], [0.3333333333333333, \"#9c179e\"], [0.4444444444444444, \"#bd3786\"], [0.5555555555555556, \"#d8576b\"], [0.6666666666666666, \"#ed7953\"], [0.7777777777777778, \"#fb9f3a\"], [0.8888888888888888, \"#fdca26\"], [1.0, \"#f0f921\"]], \"type\": \"contour\"}], \"contourcarpet\": [{\"colorbar\": {\"outlinewidth\": 0, \"ticks\": \"\"}, \"type\": \"contourcarpet\"}], \"heatmap\": [{\"colorbar\": {\"outlinewidth\": 0, \"ticks\": \"\"}, \"colorscale\": [[0.0, \"#0d0887\"], [0.1111111111111111, \"#46039f\"], [0.2222222222222222, \"#7201a8\"], [0.3333333333333333, \"#9c179e\"], [0.4444444444444444, \"#bd3786\"], [0.5555555555555556, \"#d8576b\"], [0.6666666666666666, \"#ed7953\"], [0.7777777777777778, \"#fb9f3a\"], [0.8888888888888888, \"#fdca26\"], [1.0, \"#f0f921\"]], \"type\": \"heatmap\"}], \"heatmapgl\": [{\"colorbar\": {\"outlinewidth\": 0, \"ticks\": \"\"}, \"colorscale\": [[0.0, \"#0d0887\"], [0.1111111111111111, \"#46039f\"], [0.2222222222222222, \"#7201a8\"], [0.3333333333333333, \"#9c179e\"], [0.4444444444444444, \"#bd3786\"], [0.5555555555555556, \"#d8576b\"], [0.6666666666666666, \"#ed7953\"], [0.7777777777777778, \"#fb9f3a\"], [0.8888888888888888, \"#fdca26\"], [1.0, \"#f0f921\"]], \"type\": \"heatmapgl\"}], \"histogram\": [{\"marker\": {\"colorbar\": {\"outlinewidth\": 0, \"ticks\": \"\"}}, \"type\": \"histogram\"}], \"histogram2d\": [{\"colorbar\": {\"outlinewidth\": 0, \"ticks\": \"\"}, \"colorscale\": [[0.0, \"#0d0887\"], [0.1111111111111111, \"#46039f\"], [0.2222222222222222, \"#7201a8\"], [0.3333333333333333, \"#9c179e\"], [0.4444444444444444, \"#bd3786\"], [0.5555555555555556, \"#d8576b\"], [0.6666666666666666, \"#ed7953\"], [0.7777777777777778, \"#fb9f3a\"], [0.8888888888888888, \"#fdca26\"], [1.0, \"#f0f921\"]], \"type\": \"histogram2d\"}], \"histogram2dcontour\": [{\"colorbar\": {\"outlinewidth\": 0, \"ticks\": \"\"}, \"colorscale\": [[0.0, \"#0d0887\"], [0.1111111111111111, \"#46039f\"], [0.2222222222222222, \"#7201a8\"], [0.3333333333333333, \"#9c179e\"], [0.4444444444444444, \"#bd3786\"], [0.5555555555555556, \"#d8576b\"], [0.6666666666666666, \"#ed7953\"], [0.7777777777777778, \"#fb9f3a\"], [0.8888888888888888, \"#fdca26\"], [1.0, \"#f0f921\"]], \"type\": \"histogram2dcontour\"}], \"mesh3d\": [{\"colorbar\": {\"outlinewidth\": 0, \"ticks\": \"\"}, \"type\": \"mesh3d\"}], \"parcoords\": [{\"line\": {\"colorbar\": {\"outlinewidth\": 0, \"ticks\": \"\"}}, \"type\": \"parcoords\"}], \"pie\": [{\"automargin\": true, \"type\": \"pie\"}], \"scatter\": [{\"marker\": {\"colorbar\": {\"outlinewidth\": 0, \"ticks\": \"\"}}, \"type\": \"scatter\"}], \"scatter3d\": [{\"line\": {\"colorbar\": {\"outlinewidth\": 0, \"ticks\": \"\"}}, \"marker\": {\"colorbar\": {\"outlinewidth\": 0, \"ticks\": \"\"}}, \"type\": \"scatter3d\"}], \"scattercarpet\": [{\"marker\": {\"colorbar\": {\"outlinewidth\": 0, \"ticks\": \"\"}}, \"type\": \"scattercarpet\"}], \"scattergeo\": [{\"marker\": {\"colorbar\": {\"outlinewidth\": 0, \"ticks\": \"\"}}, \"type\": \"scattergeo\"}], \"scattergl\": [{\"marker\": {\"colorbar\": {\"outlinewidth\": 0, \"ticks\": \"\"}}, \"type\": \"scattergl\"}], \"scattermapbox\": [{\"marker\": {\"colorbar\": {\"outlinewidth\": 0, \"ticks\": \"\"}}, \"type\": \"scattermapbox\"}], \"scatterpolar\": [{\"marker\": {\"colorbar\": {\"outlinewidth\": 0, \"ticks\": \"\"}}, \"type\": \"scatterpolar\"}], \"scatterpolargl\": [{\"marker\": {\"colorbar\": {\"outlinewidth\": 0, \"ticks\": \"\"}}, \"type\": \"scatterpolargl\"}], \"scatterternary\": [{\"marker\": {\"colorbar\": {\"outlinewidth\": 0, \"ticks\": \"\"}}, \"type\": \"scatterternary\"}], \"surface\": [{\"colorbar\": {\"outlinewidth\": 0, \"ticks\": \"\"}, \"colorscale\": [[0.0, \"#0d0887\"], [0.1111111111111111, \"#46039f\"], [0.2222222222222222, \"#7201a8\"], [0.3333333333333333, \"#9c179e\"], [0.4444444444444444, \"#bd3786\"], [0.5555555555555556, \"#d8576b\"], [0.6666666666666666, \"#ed7953\"], [0.7777777777777778, \"#fb9f3a\"], [0.8888888888888888, \"#fdca26\"], [1.0, \"#f0f921\"]], \"type\": \"surface\"}], \"table\": [{\"cells\": {\"fill\": {\"color\": \"#EBF0F8\"}, \"line\": {\"color\": \"white\"}}, \"header\": {\"fill\": {\"color\": \"#C8D4E3\"}, \"line\": {\"color\": \"white\"}}, \"type\": \"table\"}]}, \"layout\": {\"annotationdefaults\": {\"arrowcolor\": \"#2a3f5f\", \"arrowhead\": 0, \"arrowwidth\": 1}, \"coloraxis\": {\"colorbar\": {\"outlinewidth\": 0, \"ticks\": \"\"}}, \"colorscale\": {\"diverging\": [[0, \"#8e0152\"], [0.1, \"#c51b7d\"], [0.2, \"#de77ae\"], [0.3, \"#f1b6da\"], [0.4, \"#fde0ef\"], [0.5, \"#f7f7f7\"], [0.6, \"#e6f5d0\"], [0.7, \"#b8e186\"], [0.8, \"#7fbc41\"], [0.9, \"#4d9221\"], [1, \"#276419\"]], \"sequential\": [[0.0, \"#0d0887\"], [0.1111111111111111, \"#46039f\"], [0.2222222222222222, \"#7201a8\"], [0.3333333333333333, \"#9c179e\"], [0.4444444444444444, \"#bd3786\"], [0.5555555555555556, \"#d8576b\"], [0.6666666666666666, \"#ed7953\"], [0.7777777777777778, \"#fb9f3a\"], [0.8888888888888888, \"#fdca26\"], [1.0, \"#f0f921\"]], \"sequentialminus\": [[0.0, \"#0d0887\"], [0.1111111111111111, \"#46039f\"], [0.2222222222222222, \"#7201a8\"], [0.3333333333333333, \"#9c179e\"], [0.4444444444444444, \"#bd3786\"], [0.5555555555555556, \"#d8576b\"], [0.6666666666666666, \"#ed7953\"], [0.7777777777777778, \"#fb9f3a\"], [0.8888888888888888, \"#fdca26\"], [1.0, \"#f0f921\"]]}, \"colorway\": [\"#636efa\", \"#EF553B\", \"#00cc96\", \"#ab63fa\", \"#FFA15A\", \"#19d3f3\", \"#FF6692\", \"#B6E880\", \"#FF97FF\", \"#FECB52\"], \"font\": {\"color\": \"#2a3f5f\"}, \"geo\": {\"bgcolor\": \"white\", \"lakecolor\": \"white\", \"landcolor\": \"#E5ECF6\", \"showlakes\": true, \"showland\": true, \"subunitcolor\": \"white\"}, \"hoverlabel\": {\"align\": \"left\"}, \"hovermode\": \"closest\", \"mapbox\": {\"style\": \"light\"}, \"paper_bgcolor\": \"white\", \"plot_bgcolor\": \"#E5ECF6\", \"polar\": {\"angularaxis\": {\"gridcolor\": \"white\", \"linecolor\": \"white\", \"ticks\": \"\"}, \"bgcolor\": \"#E5ECF6\", \"radialaxis\": {\"gridcolor\": \"white\", \"linecolor\": \"white\", \"ticks\": \"\"}}, \"scene\": {\"xaxis\": {\"backgroundcolor\": \"#E5ECF6\", \"gridcolor\": \"white\", \"gridwidth\": 2, \"linecolor\": \"white\", \"showbackground\": true, \"ticks\": \"\", \"zerolinecolor\": \"white\"}, \"yaxis\": {\"backgroundcolor\": \"#E5ECF6\", \"gridcolor\": \"white\", \"gridwidth\": 2, \"linecolor\": \"white\", \"showbackground\": true, \"ticks\": \"\", \"zerolinecolor\": \"white\"}, \"zaxis\": {\"backgroundcolor\": \"#E5ECF6\", \"gridcolor\": \"white\", \"gridwidth\": 2, \"linecolor\": \"white\", \"showbackground\": true, \"ticks\": \"\", \"zerolinecolor\": \"white\"}}, \"shapedefaults\": {\"line\": {\"color\": \"#2a3f5f\"}}, \"ternary\": {\"aaxis\": {\"gridcolor\": \"white\", \"linecolor\": \"white\", \"ticks\": \"\"}, \"baxis\": {\"gridcolor\": \"white\", \"linecolor\": \"white\", \"ticks\": \"\"}, \"bgcolor\": \"#E5ECF6\", \"caxis\": {\"gridcolor\": \"white\", \"linecolor\": \"white\", \"ticks\": \"\"}}, \"title\": {\"x\": 0.05}, \"xaxis\": {\"automargin\": true, \"gridcolor\": \"white\", \"linecolor\": \"white\", \"ticks\": \"\", \"title\": {\"standoff\": 15}, \"zerolinecolor\": \"white\", \"zerolinewidth\": 2}, \"yaxis\": {\"automargin\": true, \"gridcolor\": \"white\", \"linecolor\": \"white\", \"ticks\": \"\", \"title\": {\"standoff\": 15}, \"zerolinecolor\": \"white\", \"zerolinewidth\": 2}}}, \"width\": 2000},\n",
       "                        {\"responsive\": true}\n",
       "                    ).then(function(){\n",
       "                            \n",
       "var gd = document.getElementById('19c961ee-74d2-4e79-ac6b-eac4f4752ab5');\n",
       "var x = new MutationObserver(function (mutations, observer) {{\n",
       "        var display = window.getComputedStyle(gd).display;\n",
       "        if (!display || display === 'none') {{\n",
       "            console.log([gd, 'removed!']);\n",
       "            Plotly.purge(gd);\n",
       "            observer.disconnect();\n",
       "        }}\n",
       "}});\n",
       "\n",
       "// Listen for the removal of the full notebook cells\n",
       "var notebookContainer = gd.closest('#notebook-container');\n",
       "if (notebookContainer) {{\n",
       "    x.observe(notebookContainer, {childList: true});\n",
       "}}\n",
       "\n",
       "// Listen for the clearing of the current output cell\n",
       "var outputEl = gd.closest('.output');\n",
       "if (outputEl) {{\n",
       "    x.observe(outputEl, {childList: true});\n",
       "}}\n",
       "\n",
       "                        })\n",
       "                };\n",
       "                });\n",
       "            </script>\n",
       "        </div>"
      ]
     },
     "metadata": {},
     "output_type": "display_data"
    }
   ],
   "source": [
    "search_engine = input(\"Pick your Search Engine 1 , 2 or 3 ? \")\n",
    "\n",
    "if search_engine == \"1\":\n",
    "    SearchEngine1()\n",
    "elif search_engine == \"2\":\n",
    "    SearchEngine2()\n",
    "elif search_engine == \"3\":\n",
    "    SearchEngine3()\n",
    "    \n",
    "else:\n",
    "    print(\"The Search Engine you chose doesn’t exist\")"
   ]
  },
  {
   "cell_type": "code",
   "execution_count": null,
   "metadata": {},
   "outputs": [],
   "source": []
  }
 ],
 "metadata": {
  "kernelspec": {
   "display_name": "Python 3",
   "language": "python",
   "name": "python3"
  },
  "language_info": {
   "codemirror_mode": {
    "name": "ipython",
    "version": 3
   },
   "file_extension": ".py",
   "mimetype": "text/x-python",
   "name": "python",
   "nbconvert_exporter": "python",
   "pygments_lexer": "ipython3",
   "version": "3.7.3"
  }
 },
 "nbformat": 4,
 "nbformat_minor": 2
}
